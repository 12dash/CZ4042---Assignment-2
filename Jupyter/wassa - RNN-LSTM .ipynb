{
 "cells": [
  {
   "cell_type": "code",
   "execution_count": 1,
   "metadata": {},
   "outputs": [],
   "source": [
    "import pandas as pd\n",
    "from tqdm import tqdm\n",
    "\n",
    "import re\n",
    "\n",
    "from nltk.corpus import stopwords\n",
    "from nltk.tokenize import word_tokenize\n",
    "\n",
    "import numpy as np\n",
    "\n",
    "from sklearn.metrics import confusion_matrix\n",
    "from sklearn.metrics import classification_report\n",
    "\n",
    "import matplotlib.pyplot as plt\n",
    "import emoji"
   ]
  },
  {
   "cell_type": "code",
   "execution_count": 2,
   "metadata": {},
   "outputs": [],
   "source": [
    "import os\n",
    "os.environ[\"CUDA_VISIBLE_DEVICES\"] = \"-1\"\n",
    "\n",
    "import tensorflow as tf"
   ]
  },
  {
   "cell_type": "code",
   "execution_count": 3,
   "metadata": {},
   "outputs": [],
   "source": [
    "base_path = '../Data/wassa_data/'"
   ]
  },
  {
   "cell_type": "code",
   "execution_count": 4,
   "metadata": {},
   "outputs": [],
   "source": [
    "classes = ['anger', 'joy', 'sadness', 'fear']\n",
    "\n",
    "class_mapping = {}\n",
    "for idx, name in enumerate(classes):\n",
    "    class_mapping[name] = idx \n",
    "no_classes = len(classes)"
   ]
  },
  {
   "cell_type": "code",
   "execution_count": 5,
   "metadata": {},
   "outputs": [],
   "source": [
    "cols = ['tweet', 'tweettype']"
   ]
  },
  {
   "cell_type": "code",
   "execution_count": 6,
   "metadata": {},
   "outputs": [],
   "source": [
    "stop = stopwords.words('english')"
   ]
  },
  {
   "cell_type": "code",
   "execution_count": 7,
   "metadata": {},
   "outputs": [],
   "source": [
    "contraction_mapping = {\"ain't\": \"is not\", \"aren't\": \"are not\",\"can't\": \"cannot\", \n",
    "                   \"can't've\": \"cannot have\", \"'cause\": \"because\", \"could've\": \"could have\", \n",
    "                   \"couldn't\": \"could not\", \"couldn't've\": \"could not have\",\"didn't\": \"did not\", \n",
    "                   \"doesn't\": \"does not\", \"don't\": \"do not\", \"hadn't\": \"had not\", \n",
    "                   \"hadn't've\": \"had not have\", \"hasn't\": \"has not\", \"haven't\": \"have not\", \n",
    "                   \"he'd\": \"he would\", \"he'd've\": \"he would have\", \"he'll\": \"he will\", \n",
    "                   \"he'll've\": \"he will have\", \"he's\": \"he is\", \"how'd\": \"how did\", \n",
    "                   \"how'd'y\": \"how do you\", \"how'll\": \"how will\", \"how's\": \"how is\", \n",
    "                   \"I'd\": \"I would\", \"I'd've\": \"I would have\", \"I'll\": \"I will\", \n",
    "                   \"I'll've\": \"I will have\",\"I'm\": \"I am\", \"I've\": \"I have\", \n",
    "                   \"i'd\": \"i would\", \"i'd've\": \"i would have\", \"i'll\": \"i will\", \n",
    "                   \"i'll've\": \"i will have\",\"i'm\": \"i am\", \"i've\": \"i have\", \n",
    "                   \"isn't\": \"is not\", \"it'd\": \"it would\", \"it'd've\": \"it would have\", \n",
    "                   \"it'll\": \"it will\", \"it'll've\": \"it will have\",\"it's\": \"it is\", \n",
    "                   \"let's\": \"let us\", \"ma'am\": \"madam\", \"mayn't\": \"may not\", \n",
    "                   \"might've\": \"might have\",\"mightn't\": \"might not\",\"mightn't've\": \"might not have\", \n",
    "                   \"must've\": \"must have\", \"mustn't\": \"must not\", \"mustn't've\": \"must not have\", \n",
    "                   \"needn't\": \"need not\", \"needn't've\": \"need not have\",\"o'clock\": \"of the clock\", \n",
    "                   \"oughtn't\": \"ought not\", \"oughtn't've\": \"ought not have\", \"shan't\": \"shall not\",\n",
    "                   \"sha'n't\": \"shall not\", \"shan't've\": \"shall not have\", \"she'd\": \"she would\", \n",
    "                   \"she'd've\": \"she would have\", \"she'll\": \"she will\", \"she'll've\": \"she will have\", \n",
    "                   \"she's\": \"she is\", \"should've\": \"should have\", \"shouldn't\": \"should not\", \n",
    "                   \"shouldn't've\": \"should not have\", \"so've\": \"so have\",\"so's\": \"so as\", \n",
    "                   \"this's\": \"this is\",\n",
    "                   \"that'd\": \"that would\", \"that'd've\": \"that would have\",\"that's\": \"that is\", \n",
    "                   \"there'd\": \"there would\", \"there'd've\": \"there would have\",\"there's\": \"there is\", \n",
    "                       \"here's\": \"here is\",\n",
    "                   \"they'd\": \"they would\", \"they'd've\": \"they would have\", \"they'll\": \"they will\", \n",
    "                   \"they'll've\": \"they will have\", \"they're\": \"they are\", \"they've\": \"they have\", \n",
    "                   \"to've\": \"to have\", \"wasn't\": \"was not\", \"we'd\": \"we would\", \n",
    "                   \"we'd've\": \"we would have\", \"we'll\": \"we will\", \"we'll've\": \"we will have\", \n",
    "                   \"we're\": \"we are\", \"we've\": \"we have\", \"weren't\": \"were not\", \n",
    "                   \"what'll\": \"what will\", \"what'll've\": \"what will have\", \"what're\": \"what are\", \n",
    "                   \"what's\": \"what is\", \"what've\": \"what have\", \"when's\": \"when is\", \n",
    "                   \"when've\": \"when have\", \"where'd\": \"where did\", \"where's\": \"where is\", \n",
    "                   \"where've\": \"where have\", \"who'll\": \"who will\", \"who'll've\": \"who will have\", \n",
    "                   \"who's\": \"who is\", \"who've\": \"who have\", \"why's\": \"why is\", \n",
    "                   \"why've\": \"why have\", \"will've\": \"will have\", \"won't\": \"will not\", \n",
    "                   \"won't've\": \"will not have\", \"would've\": \"would have\", \"wouldn't\": \"would not\", \n",
    "                   \"wouldn't've\": \"would not have\", \"y'all\": \"you all\", \"y'all'd\": \"you all would\",\n",
    "                   \"y'all'd've\": \"you all would have\",\"y'all're\": \"you all are\",\"y'all've\": \"you all have\",\n",
    "                   \"you'd\": \"you would\", \"you'd've\": \"you would have\", \"you'll\": \"you will\", \n",
    "                   \"you'll've\": \"you will have\", \"you're\": \"you are\", \"you've\": \"you have\" } "
   ]
  },
  {
   "cell_type": "code",
   "execution_count": 8,
   "metadata": {},
   "outputs": [],
   "source": [
    "import codecs\n",
    "import unidecode\n",
    "import re\n",
    "import spacy\n",
    "nlp = spacy.load('en')\n",
    "\n",
    "def spacy_cleaner(text):\n",
    "    try:\n",
    "        decoded = unidecode.unidecode(codecs.decode(text, 'unicode_escape'))\n",
    "    except:\n",
    "        decoded = unidecode.unidecode(text)\n",
    "    apostrophe_handled = re.sub(\"’\", \"'\", decoded)\n",
    "    expanded = ' '.join([contraction_mapping[t] if t in contraction_mapping else t for t in apostrophe_handled.split(\" \")])\n",
    "    parsed = nlp(expanded)\n",
    "    final_tokens = []\n",
    "    for t in parsed:\n",
    "        if t.is_punct or t.is_space or t.like_num or t.like_url or str(t).startswith('@'):\n",
    "            pass\n",
    "        else:\n",
    "            if t.lemma_ == '-PRON-':\n",
    "                final_tokens.append(str(t))\n",
    "            else:\n",
    "                sc_removed = re.sub(\"[^a-zA-Z]\", '', str(t.lemma_))\n",
    "                if len(sc_removed) > 1:\n",
    "                    final_tokens.append(sc_removed)\n",
    "    joined = ' '.join(final_tokens)\n",
    "    spell_corrected = re.sub(r'(.)\\1+', r'\\1\\1', joined)\n",
    "    return spell_corrected"
   ]
  },
  {
   "cell_type": "code",
   "execution_count": 9,
   "metadata": {},
   "outputs": [],
   "source": [
    "def clean_text(data):\n",
    "    data = (re.sub(r\"(#[\\d\\w\\.]+)\", '', data)).lower()\n",
    "    data = emoji.demojize(data)\n",
    "    data = spacy_cleaner(data)\n",
    "    return data"
   ]
  },
  {
   "cell_type": "code",
   "execution_count": 10,
   "metadata": {},
   "outputs": [],
   "source": [
    "def build_dataset(df, feature='text', target='label'):\n",
    "    dataset = (\n",
    "                tf.data.Dataset.from_tensor_slices(\n",
    "                    (\n",
    "                        tf.cast(df[feature].values, tf.string),\n",
    "                        tf.cast(df[target].values, tf.int32)\n",
    "                    )\n",
    "                )\n",
    "            )\n",
    "    return dataset"
   ]
  },
  {
   "cell_type": "code",
   "execution_count": 11,
   "metadata": {},
   "outputs": [],
   "source": [
    "def load_dataset(directory, ending, threshold = 0, testing = False):\n",
    "\n",
    "    df_list = []\n",
    "\n",
    "    for emotion in classes:\n",
    "        file_name = f'{base_path}{directory}/{emotion}{ending}'\n",
    "        df = pd.read_csv(file_name, delimiter='\\t')\n",
    "        \n",
    "        if not testing:\n",
    "            df = df[df['score'] > threshold]\n",
    "        \n",
    "        df = df[cols]\n",
    "        \n",
    "        df['tweet'] = df['tweet'].apply(lambda x: \" \".join(x for x in x.split() if x not in stop))\n",
    "        df['tweet'] = df['tweet'].apply(clean_text)        \n",
    "        df['tweettype'] = df['tweettype'].apply(lambda x : class_mapping[x])        \n",
    "\n",
    "        df_list.append(df)\n",
    "\n",
    "    df = pd.concat(df_list)\n",
    "    df = df.rename(columns = {'tweet' : 'text', 'tweettype' : 'label'})\n",
    "    print('Distribution of data: ')\n",
    "    print(df['label'].value_counts())\n",
    "    \n",
    "    labels = df['label'].values\n",
    "    \n",
    "    dataset = build_dataset(df)\n",
    "    \n",
    "    return dataset, labels"
   ]
  },
  {
   "cell_type": "code",
   "execution_count": 12,
   "metadata": {},
   "outputs": [
    {
     "name": "stdout",
     "output_type": "stream",
     "text": [
      "Distribution of data: \n",
      "3    1147\n",
      "0     857\n",
      "1     823\n",
      "2     786\n",
      "Name: label, dtype: int64\n"
     ]
    }
   ],
   "source": [
    "# Training\n",
    "threshold = 0\n",
    "\n",
    "directory = 'training'\n",
    "ending = '-ratings-0to1.train.txt'\n",
    "\n",
    "train_dataset,_ = load_dataset(directory, ending, threshold = threshold)"
   ]
  },
  {
   "cell_type": "code",
   "execution_count": 13,
   "metadata": {},
   "outputs": [
    {
     "name": "stdout",
     "output_type": "stream",
     "text": [
      "Distribution of data: \n",
      "3    110\n",
      "0     84\n",
      "1     79\n",
      "2     74\n",
      "Name: label, dtype: int64\n"
     ]
    }
   ],
   "source": [
    "# Validation\n",
    "\n",
    "directory = 'validation'\n",
    "ending = '-ratings-0to1.dev.gold.txt'\n",
    "\n",
    "val_dataset,_ = load_dataset(directory, ending)"
   ]
  },
  {
   "cell_type": "code",
   "execution_count": 14,
   "metadata": {},
   "outputs": [
    {
     "name": "stdout",
     "output_type": "stream",
     "text": [
      "Distribution of data: \n",
      "3    995\n",
      "0    760\n",
      "1    714\n",
      "2    673\n",
      "Name: label, dtype: int64\n"
     ]
    }
   ],
   "source": [
    "# Testing\n",
    "\n",
    "directory = 'testing'\n",
    "ending = '-ratings-0to1.test.target.txt'\n",
    "\n",
    "test_dataset, y_test = load_dataset(directory, ending, testing = True)"
   ]
  },
  {
   "cell_type": "code",
   "execution_count": 15,
   "metadata": {},
   "outputs": [],
   "source": [
    "BUFFER_SIZE = 10000\n",
    "BATCH_SIZE = 128"
   ]
  },
  {
   "cell_type": "code",
   "execution_count": 16,
   "metadata": {},
   "outputs": [],
   "source": [
    "train_dataset = train_dataset.shuffle(BUFFER_SIZE).batch(BATCH_SIZE).prefetch(tf.data.AUTOTUNE)\n",
    "val_dataset = val_dataset.shuffle(BUFFER_SIZE).batch(BATCH_SIZE).prefetch(tf.data.AUTOTUNE)\n",
    "test_dataset = test_dataset.batch(BATCH_SIZE).prefetch(tf.data.AUTOTUNE)"
   ]
  },
  {
   "cell_type": "code",
   "execution_count": 17,
   "metadata": {},
   "outputs": [],
   "source": [
    "VOCAB_SIZE = 1000\n",
    "encoder = tf.keras.layers.TextVectorization(max_tokens=VOCAB_SIZE)\n",
    "encoder.adapt(train_dataset.map(lambda text, label: text))"
   ]
  },
  {
   "cell_type": "code",
   "execution_count": 18,
   "metadata": {},
   "outputs": [],
   "source": [
    "model = tf.keras.Sequential([\n",
    "    encoder,\n",
    "    \n",
    "    tf.keras.layers.Embedding(input_dim=len(encoder.get_vocabulary()),\n",
    "                              output_dim=64, mask_zero=True),\n",
    "    tf.keras.layers.Bidirectional(tf.keras.layers.LSTM(64)),\n",
    "    tf.keras.layers.Dense(128, activation='relu'),\n",
    "    tf.keras.layers.Dropout(0.5), \n",
    "    tf.keras.layers.Dense(128, activation='relu'),\n",
    "    tf.keras.layers.Dense(no_classes)\n",
    "])"
   ]
  },
  {
   "cell_type": "code",
   "execution_count": 19,
   "metadata": {},
   "outputs": [],
   "source": [
    "model.compile(loss=tf.keras.losses.SparseCategoricalCrossentropy(from_logits=True),\n",
    "              optimizer=tf.keras.optimizers.Adam(1e-4),\n",
    "              metrics=['accuracy'])"
   ]
  },
  {
   "cell_type": "code",
   "execution_count": 20,
   "metadata": {},
   "outputs": [],
   "source": [
    "early_stopping = tf.keras.callbacks.EarlyStopping(monitor='val_accuracy', \n",
    "                                                  verbose=1, patience=10,\n",
    "                                                  restore_best_weights=True)"
   ]
  },
  {
   "cell_type": "code",
   "execution_count": 21,
   "metadata": {
    "scrolled": true
   },
   "outputs": [
    {
     "name": "stdout",
     "output_type": "stream",
     "text": [
      "Epoch 1/200\n",
      "29/29 [==============================] - 38s 417ms/step - loss: 1.3852 - accuracy: 0.3017 - val_loss: 1.3836 - val_accuracy: 0.3170\n",
      "Epoch 2/200\n",
      "29/29 [==============================] - 2s 57ms/step - loss: 1.3822 - accuracy: 0.3175 - val_loss: 1.3805 - val_accuracy: 0.3170\n",
      "Epoch 3/200\n",
      "29/29 [==============================] - 2s 60ms/step - loss: 1.3792 - accuracy: 0.3175 - val_loss: 1.3770 - val_accuracy: 0.3170\n",
      "Epoch 4/200\n",
      "29/29 [==============================] - 1s 38ms/step - loss: 1.3760 - accuracy: 0.3175 - val_loss: 1.3740 - val_accuracy: 0.3170\n",
      "Epoch 5/200\n",
      "29/29 [==============================] - 2s 58ms/step - loss: 1.3722 - accuracy: 0.3175 - val_loss: 1.3711 - val_accuracy: 0.3170\n",
      "Epoch 6/200\n",
      "29/29 [==============================] - 2s 57ms/step - loss: 1.3682 - accuracy: 0.3175 - val_loss: 1.3679 - val_accuracy: 0.3170\n",
      "Epoch 7/200\n",
      "29/29 [==============================] - 2s 81ms/step - loss: 1.3640 - accuracy: 0.3177 - val_loss: 1.3638 - val_accuracy: 0.3170\n",
      "Epoch 8/200\n",
      "29/29 [==============================] - 2s 59ms/step - loss: 1.3548 - accuracy: 0.3197 - val_loss: 1.3565 - val_accuracy: 0.3170\n",
      "Epoch 9/200\n",
      "29/29 [==============================] - 2s 58ms/step - loss: 1.3408 - accuracy: 0.3319 - val_loss: 1.3411 - val_accuracy: 0.3170\n",
      "Epoch 10/200\n",
      "29/29 [==============================] - 2s 79ms/step - loss: 1.3098 - accuracy: 0.3543 - val_loss: 1.3105 - val_accuracy: 0.3862\n",
      "Epoch 11/200\n",
      "29/29 [==============================] - 2s 65ms/step - loss: 1.2455 - accuracy: 0.4221 - val_loss: 1.2510 - val_accuracy: 0.4006\n",
      "Epoch 12/200\n",
      "29/29 [==============================] - 2s 56ms/step - loss: 1.1439 - accuracy: 0.4761 - val_loss: 1.1926 - val_accuracy: 0.4640\n",
      "Epoch 13/200\n",
      "29/29 [==============================] - 2s 62ms/step - loss: 1.0360 - accuracy: 0.5494 - val_loss: 1.1674 - val_accuracy: 0.5187\n",
      "Epoch 14/200\n",
      "29/29 [==============================] - 2s 59ms/step - loss: 0.9478 - accuracy: 0.6158 - val_loss: 1.1416 - val_accuracy: 0.5331\n",
      "Epoch 15/200\n",
      "29/29 [==============================] - 2s 59ms/step - loss: 0.8817 - accuracy: 0.6598 - val_loss: 1.1398 - val_accuracy: 0.5447\n",
      "Epoch 16/200\n",
      "29/29 [==============================] - 2s 59ms/step - loss: 0.8049 - accuracy: 0.7047 - val_loss: 1.1247 - val_accuracy: 0.5360\n",
      "Epoch 17/200\n",
      "29/29 [==============================] - 2s 68ms/step - loss: 0.7438 - accuracy: 0.7299 - val_loss: 1.1741 - val_accuracy: 0.5476\n",
      "Epoch 18/200\n",
      "29/29 [==============================] - 2s 76ms/step - loss: 0.6857 - accuracy: 0.7515 - val_loss: 1.1703 - val_accuracy: 0.5764\n",
      "Epoch 19/200\n",
      "29/29 [==============================] - 2s 63ms/step - loss: 0.6364 - accuracy: 0.7769 - val_loss: 1.1776 - val_accuracy: 0.5706\n",
      "Epoch 20/200\n",
      "29/29 [==============================] - 2s 67ms/step - loss: 0.5970 - accuracy: 0.7974 - val_loss: 1.2129 - val_accuracy: 0.5764\n",
      "Epoch 21/200\n",
      "29/29 [==============================] - 2s 61ms/step - loss: 0.5557 - accuracy: 0.8110 - val_loss: 1.2110 - val_accuracy: 0.5965\n",
      "Epoch 22/200\n",
      "29/29 [==============================] - 3s 88ms/step - loss: 0.5259 - accuracy: 0.8251 - val_loss: 1.2309 - val_accuracy: 0.5994\n",
      "Epoch 23/200\n",
      "29/29 [==============================] - 2s 59ms/step - loss: 0.4927 - accuracy: 0.8314 - val_loss: 1.2813 - val_accuracy: 0.6110\n",
      "Epoch 24/200\n",
      "29/29 [==============================] - 2s 59ms/step - loss: 0.4645 - accuracy: 0.8458 - val_loss: 1.3010 - val_accuracy: 0.6138\n",
      "Epoch 25/200\n",
      "29/29 [==============================] - 2s 60ms/step - loss: 0.4333 - accuracy: 0.8514 - val_loss: 1.3391 - val_accuracy: 0.6196\n",
      "Epoch 26/200\n",
      "29/29 [==============================] - 2s 85ms/step - loss: 0.4176 - accuracy: 0.8569 - val_loss: 1.4035 - val_accuracy: 0.6052\n",
      "Epoch 27/200\n",
      "29/29 [==============================] - 3s 88ms/step - loss: 0.3969 - accuracy: 0.8655 - val_loss: 1.4367 - val_accuracy: 0.6138\n",
      "Epoch 28/200\n",
      "29/29 [==============================] - 2s 57ms/step - loss: 0.3697 - accuracy: 0.8730 - val_loss: 1.4749 - val_accuracy: 0.6225\n",
      "Epoch 29/200\n",
      "29/29 [==============================] - 2s 58ms/step - loss: 0.3580 - accuracy: 0.8793 - val_loss: 1.5038 - val_accuracy: 0.6196\n",
      "Epoch 30/200\n",
      "29/29 [==============================] - 2s 64ms/step - loss: 0.3455 - accuracy: 0.8854 - val_loss: 1.5498 - val_accuracy: 0.6138\n",
      "Epoch 31/200\n",
      "29/29 [==============================] - 2s 65ms/step - loss: 0.3291 - accuracy: 0.8879 - val_loss: 1.5662 - val_accuracy: 0.6225\n",
      "Epoch 32/200\n",
      "29/29 [==============================] - 2s 64ms/step - loss: 0.3156 - accuracy: 0.8923 - val_loss: 1.6295 - val_accuracy: 0.6282\n",
      "Epoch 33/200\n",
      "29/29 [==============================] - 2s 57ms/step - loss: 0.3133 - accuracy: 0.8943 - val_loss: 1.6531 - val_accuracy: 0.6282\n",
      "Epoch 34/200\n",
      "29/29 [==============================] - 2s 71ms/step - loss: 0.2981 - accuracy: 0.9006 - val_loss: 1.6427 - val_accuracy: 0.6254\n",
      "Epoch 35/200\n",
      "29/29 [==============================] - 2s 59ms/step - loss: 0.2928 - accuracy: 0.8976 - val_loss: 1.7031 - val_accuracy: 0.6167\n",
      "Epoch 36/200\n",
      "29/29 [==============================] - 2s 60ms/step - loss: 0.2949 - accuracy: 0.8979 - val_loss: 1.6504 - val_accuracy: 0.6311\n",
      "Epoch 37/200\n",
      "29/29 [==============================] - 2s 68ms/step - loss: 0.2793 - accuracy: 0.9051 - val_loss: 1.7538 - val_accuracy: 0.6167\n",
      "Epoch 38/200\n",
      "29/29 [==============================] - 2s 69ms/step - loss: 0.2653 - accuracy: 0.9112 - val_loss: 1.7992 - val_accuracy: 0.6167\n",
      "Epoch 39/200\n",
      "29/29 [==============================] - 2s 58ms/step - loss: 0.2571 - accuracy: 0.9112 - val_loss: 1.7802 - val_accuracy: 0.6196\n",
      "Epoch 40/200\n",
      "29/29 [==============================] - 2s 62ms/step - loss: 0.2526 - accuracy: 0.9142 - val_loss: 1.8593 - val_accuracy: 0.6138\n",
      "Epoch 41/200\n",
      "29/29 [==============================] - 2s 60ms/step - loss: 0.2382 - accuracy: 0.9184 - val_loss: 1.8524 - val_accuracy: 0.6167\n",
      "Epoch 42/200\n",
      "29/29 [==============================] - 2s 79ms/step - loss: 0.2438 - accuracy: 0.9153 - val_loss: 1.9108 - val_accuracy: 0.6196\n",
      "Epoch 43/200\n",
      "29/29 [==============================] - 2s 79ms/step - loss: 0.2308 - accuracy: 0.9228 - val_loss: 1.9392 - val_accuracy: 0.6196\n",
      "Epoch 44/200\n",
      "29/29 [==============================] - 2s 79ms/step - loss: 0.2274 - accuracy: 0.9217 - val_loss: 1.9903 - val_accuracy: 0.6167\n",
      "Epoch 45/200\n",
      "29/29 [==============================] - 2s 61ms/step - loss: 0.2206 - accuracy: 0.9236 - val_loss: 2.0343 - val_accuracy: 0.6167\n",
      "Epoch 46/200\n",
      "29/29 [==============================] - 2s 61ms/step - loss: 0.2175 - accuracy: 0.9222 - val_loss: 2.1404 - val_accuracy: 0.6196\n",
      "Epoch 47/200\n",
      "29/29 [==============================] - 2s 60ms/step - loss: 0.2152 - accuracy: 0.9239 - val_loss: 2.1641 - val_accuracy: 0.6110\n",
      "Epoch 48/200\n",
      "29/29 [==============================] - 2s 56ms/step - loss: 0.2190 - accuracy: 0.9255 - val_loss: 2.2217 - val_accuracy: 0.6138\n",
      "Epoch 49/200\n",
      "29/29 [==============================] - 2s 71ms/step - loss: 0.2095 - accuracy: 0.9275 - val_loss: 2.1562 - val_accuracy: 0.6138\n",
      "Epoch 50/200\n",
      "29/29 [==============================] - 2s 60ms/step - loss: 0.2098 - accuracy: 0.9239 - val_loss: 2.1214 - val_accuracy: 0.6167\n",
      "Epoch 51/200\n",
      "29/29 [==============================] - 2s 63ms/step - loss: 0.2021 - accuracy: 0.9231 - val_loss: 2.2020 - val_accuracy: 0.6081\n",
      "Epoch 52/200\n",
      "29/29 [==============================] - 2s 63ms/step - loss: 0.1938 - accuracy: 0.9314 - val_loss: 2.2889 - val_accuracy: 0.6052\n",
      "Epoch 53/200\n",
      "29/29 [==============================] - 2s 61ms/step - loss: 0.2076 - accuracy: 0.9267 - val_loss: 2.3082 - val_accuracy: 0.6081\n",
      "Epoch 54/200\n",
      "29/29 [==============================] - 2s 58ms/step - loss: 0.1956 - accuracy: 0.9322 - val_loss: 2.2888 - val_accuracy: 0.6110\n",
      "Epoch 55/200\n",
      "29/29 [==============================] - 2s 62ms/step - loss: 0.1783 - accuracy: 0.9388 - val_loss: 2.3912 - val_accuracy: 0.6167\n",
      "Epoch 56/200\n",
      "29/29 [==============================] - 2s 64ms/step - loss: 0.1869 - accuracy: 0.9327 - val_loss: 2.4693 - val_accuracy: 0.5994\n",
      "Epoch 57/200\n",
      "29/29 [==============================] - 2s 75ms/step - loss: 0.1747 - accuracy: 0.9419 - val_loss: 2.4291 - val_accuracy: 0.6052\n",
      "Epoch 58/200\n",
      "29/29 [==============================] - 2s 61ms/step - loss: 0.1769 - accuracy: 0.9363 - val_loss: 2.4425 - val_accuracy: 0.6110\n",
      "Epoch 59/200\n",
      "29/29 [==============================] - 2s 58ms/step - loss: 0.1683 - accuracy: 0.9377 - val_loss: 2.5557 - val_accuracy: 0.5994\n",
      "Epoch 60/200\n",
      "29/29 [==============================] - 2s 60ms/step - loss: 0.1725 - accuracy: 0.9372 - val_loss: 2.5178 - val_accuracy: 0.6110\n",
      "Epoch 61/200\n",
      "29/29 [==============================] - 2s 64ms/step - loss: 0.1682 - accuracy: 0.9405 - val_loss: 2.5600 - val_accuracy: 0.6052\n",
      "Epoch 62/200\n",
      "29/29 [==============================] - 2s 85ms/step - loss: 0.1578 - accuracy: 0.9408 - val_loss: 2.5730 - val_accuracy: 0.6110\n",
      "Epoch 63/200\n",
      "29/29 [==============================] - 2s 84ms/step - loss: 0.1664 - accuracy: 0.9399 - val_loss: 2.5496 - val_accuracy: 0.6254\n",
      "Epoch 64/200\n",
      "29/29 [==============================] - 2s 82ms/step - loss: 0.1609 - accuracy: 0.9408 - val_loss: 2.5940 - val_accuracy: 0.6138\n",
      "Epoch 65/200\n",
      "29/29 [==============================] - 2s 76ms/step - loss: 0.1634 - accuracy: 0.9433 - val_loss: 2.7819 - val_accuracy: 0.6023\n",
      "Epoch 66/200\n",
      "29/29 [==============================] - 2s 61ms/step - loss: 0.1644 - accuracy: 0.9405 - val_loss: 2.7892 - val_accuracy: 0.6052\n",
      "Epoch 67/200\n",
      "29/29 [==============================] - 2s 67ms/step - loss: 0.1562 - accuracy: 0.9422 - val_loss: 2.8093 - val_accuracy: 0.6138\n",
      "Epoch 68/200\n",
      "29/29 [==============================] - 2s 78ms/step - loss: 0.1548 - accuracy: 0.9444 - val_loss: 2.7719 - val_accuracy: 0.6167\n",
      "Epoch 69/200\n",
      "29/29 [==============================] - 3s 86ms/step - loss: 0.1522 - accuracy: 0.9449 - val_loss: 2.8196 - val_accuracy: 0.6225\n",
      "Epoch 70/200\n",
      "29/29 [==============================] - 2s 60ms/step - loss: 0.1478 - accuracy: 0.9477 - val_loss: 2.8697 - val_accuracy: 0.6196\n",
      "Epoch 71/200\n",
      "29/29 [==============================] - 2s 59ms/step - loss: 0.1491 - accuracy: 0.9433 - val_loss: 2.8159 - val_accuracy: 0.6167\n",
      "Epoch 72/200\n",
      "29/29 [==============================] - 2s 60ms/step - loss: 0.1610 - accuracy: 0.9386 - val_loss: 2.8941 - val_accuracy: 0.6167\n",
      "Epoch 73/200\n",
      "29/29 [==============================] - 2s 60ms/step - loss: 0.1378 - accuracy: 0.9521 - val_loss: 2.9556 - val_accuracy: 0.6023\n",
      "Epoch 74/200\n",
      "29/29 [==============================] - 3s 88ms/step - loss: 0.1412 - accuracy: 0.9516 - val_loss: 3.0071 - val_accuracy: 0.6138\n",
      "Epoch 75/200\n",
      "29/29 [==============================] - 2s 68ms/step - loss: 0.1413 - accuracy: 0.9477 - val_loss: 3.0224 - val_accuracy: 0.6023\n",
      "Epoch 76/200\n",
      "29/29 [==============================] - 2s 62ms/step - loss: 0.1342 - accuracy: 0.9510 - val_loss: 3.0311 - val_accuracy: 0.6110\n",
      "Epoch 77/200\n",
      "29/29 [==============================] - 3s 91ms/step - loss: 0.1423 - accuracy: 0.9502 - val_loss: 3.0621 - val_accuracy: 0.6167\n",
      "Epoch 78/200\n",
      "29/29 [==============================] - 3s 88ms/step - loss: 0.1426 - accuracy: 0.9463 - val_loss: 3.1164 - val_accuracy: 0.6052\n",
      "Epoch 79/200\n",
      "29/29 [==============================] - 2s 59ms/step - loss: 0.1307 - accuracy: 0.9516 - val_loss: 3.1115 - val_accuracy: 0.6110\n",
      "Epoch 80/200\n",
      "29/29 [==============================] - 2s 62ms/step - loss: 0.1341 - accuracy: 0.9538 - val_loss: 3.1653 - val_accuracy: 0.6138\n",
      "Epoch 81/200\n",
      "29/29 [==============================] - 2s 76ms/step - loss: 0.1304 - accuracy: 0.9546 - val_loss: 3.1732 - val_accuracy: 0.6167\n",
      "Epoch 82/200\n",
      "29/29 [==============================] - 2s 60ms/step - loss: 0.1284 - accuracy: 0.9524 - val_loss: 3.2359 - val_accuracy: 0.6167\n",
      "Epoch 83/200\n",
      "29/29 [==============================] - 2s 59ms/step - loss: 0.1357 - accuracy: 0.9496 - val_loss: 3.2803 - val_accuracy: 0.6138\n",
      "Epoch 84/200\n",
      "29/29 [==============================] - 2s 75ms/step - loss: 0.1317 - accuracy: 0.9557 - val_loss: 3.2549 - val_accuracy: 0.6167\n",
      "Epoch 85/200\n",
      "29/29 [==============================] - 2s 68ms/step - loss: 0.1244 - accuracy: 0.9557 - val_loss: 3.2685 - val_accuracy: 0.6081\n",
      "Epoch 86/200\n",
      "29/29 [==============================] - 2s 60ms/step - loss: 0.1290 - accuracy: 0.9507 - val_loss: 3.3022 - val_accuracy: 0.6167\n",
      "Epoch 87/200\n",
      "29/29 [==============================] - 2s 62ms/step - loss: 0.1190 - accuracy: 0.9579 - val_loss: 3.3627 - val_accuracy: 0.6167\n",
      "Epoch 88/200\n",
      "29/29 [==============================] - 2s 77ms/step - loss: 0.1176 - accuracy: 0.9613 - val_loss: 3.3634 - val_accuracy: 0.6167\n",
      "Epoch 89/200\n",
      "29/29 [==============================] - 2s 60ms/step - loss: 0.1246 - accuracy: 0.9557 - val_loss: 3.4335 - val_accuracy: 0.6167\n",
      "Epoch 90/200\n",
      "29/29 [==============================] - 2s 62ms/step - loss: 0.1263 - accuracy: 0.9543 - val_loss: 3.4635 - val_accuracy: 0.6167\n",
      "Epoch 91/200\n",
      "29/29 [==============================] - 2s 61ms/step - loss: 0.1379 - accuracy: 0.9510 - val_loss: 3.4057 - val_accuracy: 0.6167\n",
      "Epoch 92/200\n",
      "29/29 [==============================] - 2s 65ms/step - loss: 0.1344 - accuracy: 0.9557 - val_loss: 3.4605 - val_accuracy: 0.6081\n",
      "Epoch 93/200\n",
      "29/29 [==============================] - 3s 88ms/step - loss: 0.1233 - accuracy: 0.9529 - val_loss: 3.4945 - val_accuracy: 0.6138\n",
      "Epoch 94/200\n",
      "29/29 [==============================] - 2s 69ms/step - loss: 0.1192 - accuracy: 0.9588 - val_loss: 3.5262 - val_accuracy: 0.6167\n",
      "Epoch 95/200\n",
      "29/29 [==============================] - 2s 67ms/step - loss: 0.1205 - accuracy: 0.9565 - val_loss: 3.5705 - val_accuracy: 0.6081\n",
      "Epoch 96/200\n",
      "29/29 [==============================] - 2s 60ms/step - loss: 0.1180 - accuracy: 0.9560 - val_loss: 3.5411 - val_accuracy: 0.6081\n",
      "Epoch 97/200\n",
      "29/29 [==============================] - 2s 58ms/step - loss: 0.1136 - accuracy: 0.9590 - val_loss: 3.5811 - val_accuracy: 0.6110\n",
      "Epoch 98/200\n",
      "29/29 [==============================] - 2s 61ms/step - loss: 0.1154 - accuracy: 0.9593 - val_loss: 3.6051 - val_accuracy: 0.6110\n",
      "Epoch 99/200\n",
      "29/29 [==============================] - 2s 63ms/step - loss: 0.1182 - accuracy: 0.9574 - val_loss: 3.6657 - val_accuracy: 0.5994\n",
      "Epoch 100/200\n",
      "29/29 [==============================] - 2s 57ms/step - loss: 0.1101 - accuracy: 0.9599 - val_loss: 3.7267 - val_accuracy: 0.5994\n",
      "Epoch 101/200\n",
      "29/29 [==============================] - 2s 62ms/step - loss: 0.1124 - accuracy: 0.9621 - val_loss: 3.6598 - val_accuracy: 0.6081\n",
      "Epoch 102/200\n",
      "29/29 [==============================] - 2s 61ms/step - loss: 0.1131 - accuracy: 0.9593 - val_loss: 3.7184 - val_accuracy: 0.6052\n",
      "Epoch 103/200\n",
      "29/29 [==============================] - 2s 62ms/step - loss: 0.1176 - accuracy: 0.9579 - val_loss: 3.8179 - val_accuracy: 0.5994\n",
      "Epoch 104/200\n",
      "29/29 [==============================] - 2s 60ms/step - loss: 0.1152 - accuracy: 0.9615 - val_loss: 3.7685 - val_accuracy: 0.5994\n",
      "Epoch 105/200\n",
      "29/29 [==============================] - 2s 65ms/step - loss: 0.1108 - accuracy: 0.9615 - val_loss: 3.8149 - val_accuracy: 0.5937\n",
      "Epoch 106/200\n",
      "29/29 [==============================] - 3s 87ms/step - loss: 0.1131 - accuracy: 0.9582 - val_loss: 3.7949 - val_accuracy: 0.6081\n",
      "Epoch 107/200\n",
      "29/29 [==============================] - 2s 61ms/step - loss: 0.1121 - accuracy: 0.9624 - val_loss: 3.7924 - val_accuracy: 0.6052\n",
      "Epoch 108/200\n",
      "29/29 [==============================] - 2s 63ms/step - loss: 0.1057 - accuracy: 0.9607 - val_loss: 3.8117 - val_accuracy: 0.5994\n",
      "Epoch 109/200\n",
      "29/29 [==============================] - 2s 59ms/step - loss: 0.1123 - accuracy: 0.9604 - val_loss: 3.8434 - val_accuracy: 0.6110\n",
      "Epoch 110/200\n",
      "29/29 [==============================] - 2s 74ms/step - loss: 0.1076 - accuracy: 0.9613 - val_loss: 3.9238 - val_accuracy: 0.6052\n",
      "Epoch 111/200\n",
      "29/29 [==============================] - 2s 76ms/step - loss: 0.1084 - accuracy: 0.9582 - val_loss: 3.8858 - val_accuracy: 0.5994\n",
      "Epoch 112/200\n",
      "29/29 [==============================] - 2s 65ms/step - loss: 0.1082 - accuracy: 0.9635 - val_loss: 3.9831 - val_accuracy: 0.5994\n",
      "Epoch 113/200\n",
      "29/29 [==============================] - 2s 65ms/step - loss: 0.1096 - accuracy: 0.9651 - val_loss: 3.8280 - val_accuracy: 0.6110\n",
      "Epoch 114/200\n",
      "29/29 [==============================] - 2s 66ms/step - loss: 0.1122 - accuracy: 0.9610 - val_loss: 3.9066 - val_accuracy: 0.6167\n",
      "Epoch 115/200\n"
     ]
    },
    {
     "name": "stdout",
     "output_type": "stream",
     "text": [
      "29/29 [==============================] - 2s 71ms/step - loss: 0.1060 - accuracy: 0.9607 - val_loss: 4.0046 - val_accuracy: 0.6138\n",
      "Epoch 116/200\n",
      "29/29 [==============================] - 2s 79ms/step - loss: 0.0985 - accuracy: 0.9643 - val_loss: 4.1055 - val_accuracy: 0.6052\n",
      "Epoch 117/200\n",
      "29/29 [==============================] - 2s 74ms/step - loss: 0.1027 - accuracy: 0.9615 - val_loss: 4.0746 - val_accuracy: 0.6081\n",
      "Epoch 118/200\n",
      "29/29 [==============================] - 2s 66ms/step - loss: 0.0981 - accuracy: 0.9643 - val_loss: 3.9827 - val_accuracy: 0.6110\n",
      "Epoch 119/200\n",
      "29/29 [==============================] - 2s 61ms/step - loss: 0.1040 - accuracy: 0.9626 - val_loss: 4.0905 - val_accuracy: 0.6081\n",
      "Epoch 120/200\n",
      "29/29 [==============================] - 2s 62ms/step - loss: 0.1041 - accuracy: 0.9599 - val_loss: 4.2265 - val_accuracy: 0.5965\n",
      "Epoch 121/200\n",
      "29/29 [==============================] - 2s 61ms/step - loss: 0.1087 - accuracy: 0.9607 - val_loss: 4.1273 - val_accuracy: 0.6167\n",
      "Epoch 122/200\n",
      "29/29 [==============================] - 2s 69ms/step - loss: 0.1014 - accuracy: 0.9640 - val_loss: 4.1461 - val_accuracy: 0.6081\n",
      "Epoch 123/200\n",
      "29/29 [==============================] - 2s 58ms/step - loss: 0.1021 - accuracy: 0.9618 - val_loss: 4.1445 - val_accuracy: 0.6138\n",
      "Epoch 124/200\n",
      "29/29 [==============================] - 2s 72ms/step - loss: 0.1079 - accuracy: 0.9615 - val_loss: 4.2064 - val_accuracy: 0.6081\n",
      "Epoch 125/200\n",
      "29/29 [==============================] - 2s 59ms/step - loss: 0.1036 - accuracy: 0.9610 - val_loss: 4.0281 - val_accuracy: 0.6138\n",
      "Epoch 126/200\n",
      "29/29 [==============================] - 2s 85ms/step - loss: 0.1024 - accuracy: 0.9651 - val_loss: 4.0984 - val_accuracy: 0.6138\n",
      "Epoch 127/200\n",
      "29/29 [==============================] - 2s 80ms/step - loss: 0.1032 - accuracy: 0.9607 - val_loss: 4.1346 - val_accuracy: 0.6167\n",
      "Epoch 128/200\n",
      "29/29 [==============================] - 2s 73ms/step - loss: 0.0995 - accuracy: 0.9604 - val_loss: 4.2294 - val_accuracy: 0.6110\n",
      "Epoch 129/200\n",
      "29/29 [==============================] - 2s 67ms/step - loss: 0.0987 - accuracy: 0.9618 - val_loss: 4.3403 - val_accuracy: 0.6023\n",
      "Epoch 130/200\n",
      "29/29 [==============================] - 2s 80ms/step - loss: 0.0948 - accuracy: 0.9668 - val_loss: 4.2138 - val_accuracy: 0.5965\n",
      "Epoch 131/200\n",
      "29/29 [==============================] - 2s 79ms/step - loss: 0.0946 - accuracy: 0.9651 - val_loss: 4.2749 - val_accuracy: 0.6138\n",
      "Epoch 132/200\n",
      "29/29 [==============================] - 2s 63ms/step - loss: 0.0958 - accuracy: 0.9651 - val_loss: 4.3116 - val_accuracy: 0.6052\n",
      "Epoch 133/200\n",
      "29/29 [==============================] - 2s 72ms/step - loss: 0.0963 - accuracy: 0.9629 - val_loss: 4.3314 - val_accuracy: 0.6052\n",
      "Epoch 134/200\n",
      "29/29 [==============================] - 2s 62ms/step - loss: 0.0939 - accuracy: 0.9657 - val_loss: 4.3151 - val_accuracy: 0.6081\n",
      "Epoch 135/200\n",
      "29/29 [==============================] - 2s 66ms/step - loss: 0.0951 - accuracy: 0.9646 - val_loss: 4.3428 - val_accuracy: 0.6052\n",
      "Epoch 136/200\n",
      "29/29 [==============================] - 2s 61ms/step - loss: 0.0969 - accuracy: 0.9648 - val_loss: 4.3610 - val_accuracy: 0.6110\n",
      "Epoch 137/200\n",
      "29/29 [==============================] - 2s 70ms/step - loss: 0.0939 - accuracy: 0.9648 - val_loss: 4.3584 - val_accuracy: 0.6023\n",
      "Epoch 138/200\n",
      "29/29 [==============================] - 2s 61ms/step - loss: 0.0961 - accuracy: 0.9632 - val_loss: 4.3773 - val_accuracy: 0.6052\n",
      "Epoch 139/200\n",
      "29/29 [==============================] - 2s 62ms/step - loss: 0.0902 - accuracy: 0.9651 - val_loss: 4.4626 - val_accuracy: 0.5879\n",
      "Epoch 140/200\n",
      "29/29 [==============================] - 2s 61ms/step - loss: 0.0922 - accuracy: 0.9643 - val_loss: 4.4911 - val_accuracy: 0.5994\n",
      "Epoch 141/200\n",
      "29/29 [==============================] - 2s 63ms/step - loss: 0.0881 - accuracy: 0.9682 - val_loss: 4.4486 - val_accuracy: 0.6138\n",
      "Epoch 142/200\n",
      "29/29 [==============================] - 2s 60ms/step - loss: 0.0904 - accuracy: 0.9662 - val_loss: 4.4913 - val_accuracy: 0.6138\n",
      "Epoch 143/200\n",
      "29/29 [==============================] - 2s 79ms/step - loss: 0.0845 - accuracy: 0.9707 - val_loss: 4.4841 - val_accuracy: 0.6023\n",
      "Epoch 144/200\n",
      "29/29 [==============================] - 2s 69ms/step - loss: 0.0933 - accuracy: 0.9646 - val_loss: 4.5219 - val_accuracy: 0.6023\n",
      "Epoch 145/200\n",
      "29/29 [==============================] - 2s 66ms/step - loss: 0.0869 - accuracy: 0.9654 - val_loss: 4.6300 - val_accuracy: 0.6196\n",
      "Epoch 146/200\n",
      "29/29 [==============================] - 2s 68ms/step - loss: 0.0916 - accuracy: 0.9668 - val_loss: 4.5454 - val_accuracy: 0.6023\n",
      "Epoch 147/200\n",
      "29/29 [==============================] - 2s 67ms/step - loss: 0.0928 - accuracy: 0.9668 - val_loss: 4.7009 - val_accuracy: 0.5879\n",
      "Epoch 148/200\n",
      "29/29 [==============================] - 2s 73ms/step - loss: 0.0871 - accuracy: 0.9671 - val_loss: 4.5751 - val_accuracy: 0.5994\n",
      "Epoch 149/200\n",
      "29/29 [==============================] - 2s 70ms/step - loss: 0.0903 - accuracy: 0.9635 - val_loss: 4.5848 - val_accuracy: 0.6081\n",
      "Epoch 150/200\n",
      "29/29 [==============================] - 2s 66ms/step - loss: 0.0886 - accuracy: 0.9682 - val_loss: 4.6665 - val_accuracy: 0.5908\n",
      "Epoch 151/200\n",
      "29/29 [==============================] - 2s 63ms/step - loss: 0.0859 - accuracy: 0.9662 - val_loss: 4.6660 - val_accuracy: 0.5937\n",
      "Epoch 152/200\n",
      "29/29 [==============================] - 2s 63ms/step - loss: 0.0845 - accuracy: 0.9673 - val_loss: 4.7717 - val_accuracy: 0.5965\n",
      "Epoch 153/200\n",
      "29/29 [==============================] - 2s 64ms/step - loss: 0.0824 - accuracy: 0.9679 - val_loss: 4.7562 - val_accuracy: 0.5965\n",
      "Epoch 154/200\n",
      "29/29 [==============================] - 2s 62ms/step - loss: 0.0848 - accuracy: 0.9676 - val_loss: 4.7336 - val_accuracy: 0.6023\n",
      "Epoch 155/200\n",
      "29/29 [==============================] - 2s 78ms/step - loss: 0.0853 - accuracy: 0.9668 - val_loss: 4.8167 - val_accuracy: 0.5994\n",
      "Epoch 156/200\n",
      "29/29 [==============================] - 2s 60ms/step - loss: 0.0823 - accuracy: 0.9684 - val_loss: 4.7696 - val_accuracy: 0.5965\n",
      "Epoch 157/200\n",
      "29/29 [==============================] - 2s 67ms/step - loss: 0.0840 - accuracy: 0.9687 - val_loss: 4.7525 - val_accuracy: 0.5937\n",
      "Epoch 158/200\n",
      "29/29 [==============================] - 2s 69ms/step - loss: 0.0764 - accuracy: 0.9712 - val_loss: 4.7833 - val_accuracy: 0.5994\n",
      "Epoch 159/200\n",
      "29/29 [==============================] - 2s 64ms/step - loss: 0.0842 - accuracy: 0.9707 - val_loss: 4.7852 - val_accuracy: 0.5965\n",
      "Epoch 160/200\n",
      "29/29 [==============================] - 2s 71ms/step - loss: 0.0796 - accuracy: 0.9704 - val_loss: 4.8635 - val_accuracy: 0.5908\n",
      "Epoch 161/200\n",
      "29/29 [==============================] - 3s 88ms/step - loss: 0.0845 - accuracy: 0.9673 - val_loss: 4.8227 - val_accuracy: 0.5937\n",
      "Epoch 162/200\n",
      "29/29 [==============================] - 2s 64ms/step - loss: 0.0815 - accuracy: 0.9693 - val_loss: 4.9578 - val_accuracy: 0.5994\n",
      "Epoch 163/200\n",
      "29/29 [==============================] - 2s 63ms/step - loss: 0.0797 - accuracy: 0.9682 - val_loss: 4.8973 - val_accuracy: 0.5908\n",
      "Epoch 164/200\n",
      "29/29 [==============================] - 2s 64ms/step - loss: 0.0846 - accuracy: 0.9668 - val_loss: 4.8794 - val_accuracy: 0.5965\n",
      "Epoch 165/200\n",
      "29/29 [==============================] - 2s 56ms/step - loss: 0.0793 - accuracy: 0.9704 - val_loss: 4.8543 - val_accuracy: 0.5937\n",
      "Epoch 166/200\n",
      "29/29 [==============================] - 2s 66ms/step - loss: 0.0850 - accuracy: 0.9687 - val_loss: 4.7427 - val_accuracy: 0.5850\n",
      "Epoch 167/200\n",
      "29/29 [==============================] - 2s 62ms/step - loss: 0.0859 - accuracy: 0.9671 - val_loss: 4.9488 - val_accuracy: 0.5879\n",
      "Epoch 168/200\n",
      "29/29 [==============================] - 2s 66ms/step - loss: 0.0868 - accuracy: 0.9696 - val_loss: 4.9866 - val_accuracy: 0.5850\n",
      "Epoch 169/200\n",
      "29/29 [==============================] - 2s 66ms/step - loss: 0.0886 - accuracy: 0.9679 - val_loss: 4.9647 - val_accuracy: 0.5879\n",
      "Epoch 170/200\n",
      "29/29 [==============================] - 3s 92ms/step - loss: 0.0800 - accuracy: 0.9687 - val_loss: 4.8769 - val_accuracy: 0.5908\n",
      "Epoch 171/200\n",
      "29/29 [==============================] - 3s 91ms/step - loss: 0.0839 - accuracy: 0.9682 - val_loss: 4.8510 - val_accuracy: 0.5994\n"
     ]
    },
    {
     "name": "stdout",
     "output_type": "stream",
     "text": [
      "Epoch 172/200\n",
      "29/29 [==============================] - 3s 94ms/step - loss: 0.0825 - accuracy: 0.9665 - val_loss: 4.9722 - val_accuracy: 0.5965\n",
      "Epoch 173/200\n",
      "29/29 [==============================] - 2s 60ms/step - loss: 0.0824 - accuracy: 0.9673 - val_loss: 4.9439 - val_accuracy: 0.5965\n",
      "Epoch 174/200\n",
      "29/29 [==============================] - 3s 87ms/step - loss: 0.0812 - accuracy: 0.9673 - val_loss: 4.9565 - val_accuracy: 0.5908\n",
      "Epoch 175/200\n",
      "29/29 [==============================] - 2s 70ms/step - loss: 0.0810 - accuracy: 0.9671 - val_loss: 4.9436 - val_accuracy: 0.5879\n",
      "Epoch 176/200\n",
      "29/29 [==============================] - 2s 79ms/step - loss: 0.0789 - accuracy: 0.9687 - val_loss: 5.0104 - val_accuracy: 0.5965\n",
      "Epoch 177/200\n",
      "29/29 [==============================] - 2s 81ms/step - loss: 0.0797 - accuracy: 0.9684 - val_loss: 4.8945 - val_accuracy: 0.5850\n",
      "Epoch 178/200\n",
      "29/29 [==============================] - 1s 51ms/step - loss: 0.0793 - accuracy: 0.9687 - val_loss: 4.9343 - val_accuracy: 0.5937\n",
      "Epoch 179/200\n",
      "29/29 [==============================] - 2s 85ms/step - loss: 0.0759 - accuracy: 0.9723 - val_loss: 4.9876 - val_accuracy: 0.5850\n",
      "Epoch 180/200\n",
      "29/29 [==============================] - 2s 64ms/step - loss: 0.0753 - accuracy: 0.9684 - val_loss: 5.0197 - val_accuracy: 0.5793\n",
      "Epoch 181/200\n",
      "29/29 [==============================] - 2s 59ms/step - loss: 0.0769 - accuracy: 0.9709 - val_loss: 5.0250 - val_accuracy: 0.5879\n",
      "Epoch 182/200\n",
      "29/29 [==============================] - 2s 54ms/step - loss: 0.0827 - accuracy: 0.9687 - val_loss: 5.0234 - val_accuracy: 0.5821\n",
      "Epoch 183/200\n",
      "29/29 [==============================] - 2s 61ms/step - loss: 0.0718 - accuracy: 0.9709 - val_loss: 5.0673 - val_accuracy: 0.5908\n",
      "Epoch 184/200\n",
      "29/29 [==============================] - 2s 58ms/step - loss: 0.0756 - accuracy: 0.9698 - val_loss: 5.1568 - val_accuracy: 0.5850\n",
      "Epoch 185/200\n",
      "29/29 [==============================] - 2s 67ms/step - loss: 0.0837 - accuracy: 0.9665 - val_loss: 5.2225 - val_accuracy: 0.5793\n",
      "Epoch 186/200\n",
      "29/29 [==============================] - 2s 67ms/step - loss: 0.0753 - accuracy: 0.9704 - val_loss: 5.1039 - val_accuracy: 0.5879\n",
      "Epoch 187/200\n",
      "29/29 [==============================] - 2s 76ms/step - loss: 0.0723 - accuracy: 0.9726 - val_loss: 5.1869 - val_accuracy: 0.5821\n",
      "Epoch 188/200\n",
      "29/29 [==============================] - 2s 60ms/step - loss: 0.0809 - accuracy: 0.9701 - val_loss: 5.1974 - val_accuracy: 0.5793\n",
      "Epoch 189/200\n",
      "29/29 [==============================] - 2s 64ms/step - loss: 0.0785 - accuracy: 0.9701 - val_loss: 5.2800 - val_accuracy: 0.5879\n",
      "Epoch 190/200\n",
      "29/29 [==============================] - 2s 72ms/step - loss: 0.0769 - accuracy: 0.9704 - val_loss: 5.1280 - val_accuracy: 0.5764\n",
      "Epoch 191/200\n",
      "29/29 [==============================] - 2s 68ms/step - loss: 0.0806 - accuracy: 0.9693 - val_loss: 5.2473 - val_accuracy: 0.5821\n",
      "Epoch 192/200\n",
      "29/29 [==============================] - 3s 90ms/step - loss: 0.0810 - accuracy: 0.9693 - val_loss: 5.2099 - val_accuracy: 0.5879\n",
      "Epoch 193/200\n",
      "29/29 [==============================] - 3s 92ms/step - loss: 0.0720 - accuracy: 0.9696 - val_loss: 5.1945 - val_accuracy: 0.5850\n",
      "Epoch 194/200\n",
      "29/29 [==============================] - 3s 93ms/step - loss: 0.0797 - accuracy: 0.9687 - val_loss: 5.3098 - val_accuracy: 0.5821\n",
      "Epoch 195/200\n",
      "29/29 [==============================] - 3s 89ms/step - loss: 0.0812 - accuracy: 0.9718 - val_loss: 5.2040 - val_accuracy: 0.5793\n",
      "Epoch 196/200\n",
      "29/29 [==============================] - 3s 90ms/step - loss: 0.0767 - accuracy: 0.9690 - val_loss: 5.2559 - val_accuracy: 0.5764\n",
      "Epoch 197/200\n",
      "29/29 [==============================] - 3s 91ms/step - loss: 0.0765 - accuracy: 0.9712 - val_loss: 5.2301 - val_accuracy: 0.5793\n",
      "Epoch 198/200\n",
      "29/29 [==============================] - 3s 89ms/step - loss: 0.0749 - accuracy: 0.9709 - val_loss: 5.2266 - val_accuracy: 0.5821\n",
      "Epoch 199/200\n",
      "29/29 [==============================] - 3s 90ms/step - loss: 0.0733 - accuracy: 0.9715 - val_loss: 5.3000 - val_accuracy: 0.5908\n",
      "Epoch 200/200\n",
      "29/29 [==============================] - 3s 90ms/step - loss: 0.0734 - accuracy: 0.9707 - val_loss: 5.4095 - val_accuracy: 0.5879\n"
     ]
    }
   ],
   "source": [
    "history = model.fit(train_dataset, epochs = 200,\n",
    "                    validation_data=val_dataset)"
   ]
  },
  {
   "cell_type": "markdown",
   "metadata": {},
   "source": [
    "### Printing the history parameters"
   ]
  },
  {
   "cell_type": "code",
   "execution_count": 22,
   "metadata": {},
   "outputs": [
    {
     "data": {
      "image/png": "[encoded data removed]",
      "text/plain": [
       "<Figure size 432x288 with 1 Axes>"
      ]
     },
     "metadata": {
      "needs_background": "light"
     },
     "output_type": "display_data"
    },
    {
     "data": {
      "image/png": "[encoded data removed]",
      "text/plain": [
       "<Figure size 432x288 with 1 Axes>"
      ]
     },
     "metadata": {
      "needs_background": "light"
     },
     "output_type": "display_data"
    }
   ],
   "source": [
    "plt.figure(1)\n",
    "plt.plot(history.history['loss'], label='train')\n",
    "plt.plot(history.history['val_loss'], label='val')\n",
    "plt.legend()\n",
    "plt.show()\n",
    "\n",
    "plt.figure(2)\n",
    "plt.plot(history.history['accuracy'], label='train')\n",
    "plt.plot(history.history['val_accuracy'], label='val')\n",
    "plt.legend()\n",
    "plt.show()"
   ]
  },
  {
   "cell_type": "markdown",
   "metadata": {},
   "source": [
    "## Evaluation against test"
   ]
  },
  {
   "cell_type": "code",
   "execution_count": 23,
   "metadata": {},
   "outputs": [
    {
     "name": "stdout",
     "output_type": "stream",
     "text": [
      "25/25 [==============================] - 1s 26ms/step - loss: 5.7027 - accuracy: 0.5789\n"
     ]
    },
    {
     "data": {
      "text/plain": [
       "[5.702674865722656, 0.5789306163787842]"
      ]
     },
     "execution_count": 23,
     "metadata": {},
     "output_type": "execute_result"
    }
   ],
   "source": [
    "model.evaluate(test_dataset)"
   ]
  },
  {
   "cell_type": "code",
   "execution_count": 24,
   "metadata": {},
   "outputs": [],
   "source": [
    "pred = model.predict(test_dataset)"
   ]
  },
  {
   "cell_type": "code",
   "execution_count": 25,
   "metadata": {},
   "outputs": [
    {
     "name": "stderr",
     "output_type": "stream",
     "text": [
      "100%|███████████████████████████████████████████████████████████████████████████| 3142/3142 [00:00<00:00, 67816.82it/s]\n"
     ]
    }
   ],
   "source": [
    "pred_idx = []\n",
    "target_idx = []\n",
    "\n",
    "for i in tqdm(range(len(pred))):\n",
    "    pred_idx.append(np.argmax(pred[i]))\n",
    "    target_idx.append(y_test[i])"
   ]
  },
  {
   "cell_type": "code",
   "execution_count": 26,
   "metadata": {},
   "outputs": [
    {
     "name": "stdout",
     "output_type": "stream",
     "text": [
      "              precision    recall  f1-score   support\n",
      "\n",
      "       anger       0.59      0.56      0.58       760\n",
      "         joy       0.63      0.67      0.65       714\n",
      "     sadness       0.50      0.52      0.51       673\n",
      "        fear       0.59      0.57      0.58       995\n",
      "\n",
      "    accuracy                           0.58      3142\n",
      "   macro avg       0.58      0.58      0.58      3142\n",
      "weighted avg       0.58      0.58      0.58      3142\n",
      "\n"
     ]
    }
   ],
   "source": [
    "print(classification_report(target_idx, pred_idx, target_names=classes))"
   ]
  },
  {
   "cell_type": "code",
   "execution_count": 27,
   "metadata": {},
   "outputs": [
    {
     "name": "stdout",
     "output_type": "stream",
     "text": [
      "[[427  83  92 158]\n",
      " [ 68 475  73  98]\n",
      " [109  73 348 143]\n",
      " [119 123 184 569]]\n"
     ]
    }
   ],
   "source": [
    "print(confusion_matrix(target_idx, pred_idx))"
   ]
  },
  {
   "cell_type": "code",
   "execution_count": null,
   "metadata": {},
   "outputs": [],
   "source": []
  },
  {
   "cell_type": "code",
   "execution_count": null,
   "metadata": {},
   "outputs": [],
   "source": []
  }
 ],
 "metadata": {
  "kernelspec": {
   "display_name": "Python 3",
   "language": "python",
   "name": "python3"
  },
  "language_info": {
   "codemirror_mode": {
    "name": "ipython",
    "version": 3
   },
   "file_extension": ".py",
   "mimetype": "text/x-python",
   "name": "python",
   "nbconvert_exporter": "python",
   "pygments_lexer": "ipython3",
   "version": "3.8.3"
  }
 },
 "nbformat": 4,
 "nbformat_minor": 4
}
