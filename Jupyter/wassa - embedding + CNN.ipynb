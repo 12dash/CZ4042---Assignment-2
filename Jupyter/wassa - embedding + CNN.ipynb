{
 "cells": [
  {
   "cell_type": "code",
   "execution_count": 1,
   "metadata": {},
   "outputs": [],
   "source": [
    "import re\n",
    "\n",
    "import io\n",
    "from tqdm import tqdm\n",
    "\n",
    "import pandas as pd\n",
    "import numpy as np\n",
    "\n",
    "import os\n",
    "os.environ[\"CUDA_VISIBLE_DEVICES\"] = \"-1\"\n",
    "\n",
    "import tensorflow as tf\n",
    "\n",
    "from nltk.corpus import stopwords\n",
    "from nltk.tokenize import word_tokenize\n",
    "\n",
    "import emoji\n",
    "\n",
    "from sklearn.model_selection import train_test_split\n",
    "\n",
    "import matplotlib.pyplot as plt"
   ]
  },
  {
   "cell_type": "code",
   "execution_count": 2,
   "metadata": {},
   "outputs": [],
   "source": [
    "from tensorflow.keras.layers import TextVectorization"
   ]
  },
  {
   "cell_type": "code",
   "execution_count": 3,
   "metadata": {},
   "outputs": [],
   "source": [
    "def load_vectors(fname):\n",
    "    fin = io.open(fname, 'r', encoding='utf-8', newline='\\n', errors='ignore')\n",
    "    n, d = map(int, fin.readline().split())\n",
    "    data = {}\n",
    "    for line in tqdm(fin):\n",
    "        tokens = line.rstrip().split(' ')\n",
    "        data[tokens[0]] = map(float, tokens[1:])\n",
    "    return data"
   ]
  },
  {
   "cell_type": "code",
   "execution_count": 4,
   "metadata": {},
   "outputs": [],
   "source": [
    "def load_glove(fname):\n",
    "    embeddings_index = {}\n",
    "    with open(fname, encoding=\"utf8\") as f:\n",
    "        for line in tqdm(f):\n",
    "            word, coefs = line.split(maxsplit=1)\n",
    "            coefs = np.fromstring(coefs, \"f\", sep=\" \")\n",
    "            embeddings_index[word] = coefs\n",
    "    \n",
    "    return embeddings_index"
   ]
  },
  {
   "cell_type": "code",
   "execution_count": 5,
   "metadata": {},
   "outputs": [],
   "source": [
    "parameters = {}\n",
    "parameters['embedding_name'] = './embeddings/glove.6B.100d.txt'"
   ]
  },
  {
   "cell_type": "code",
   "execution_count": 6,
   "metadata": {},
   "outputs": [
    {
     "name": "stderr",
     "output_type": "stream",
     "text": [
      "400000it [00:37, 10667.61it/s]"
     ]
    },
    {
     "name": "stdout",
     "output_type": "stream",
     "text": [
      "Number of word vectors :  400000\n"
     ]
    },
    {
     "name": "stderr",
     "output_type": "stream",
     "text": [
      "\n"
     ]
    }
   ],
   "source": [
    "embedding_index = load_glove(parameters['embedding_name'])\n",
    "print('Number of word vectors : ', len(embedding_index))"
   ]
  },
  {
   "cell_type": "markdown",
   "metadata": {},
   "source": [
    "## Reading and Pre-processing"
   ]
  },
  {
   "cell_type": "code",
   "execution_count": 7,
   "metadata": {},
   "outputs": [],
   "source": [
    "base_path = '../Data/wassa_data/'"
   ]
  },
  {
   "cell_type": "code",
   "execution_count": 8,
   "metadata": {},
   "outputs": [],
   "source": [
    "classes = ['anger', 'joy', 'sadness', 'fear']\n",
    "\n",
    "class_mapping = {}\n",
    "for idx, name in enumerate(classes):\n",
    "    class_mapping[name] = idx \n",
    "no_classes = len(classes)"
   ]
  },
  {
   "cell_type": "code",
   "execution_count": 9,
   "metadata": {},
   "outputs": [],
   "source": [
    "cols = ['tweet', 'tweettype']"
   ]
  },
  {
   "cell_type": "code",
   "execution_count": 10,
   "metadata": {},
   "outputs": [],
   "source": [
    "contraction_mapping = {\"ain't\": \"is not\", \"aren't\": \"are not\",\"can't\": \"cannot\", \n",
    "                   \"can't've\": \"cannot have\", \"'cause\": \"because\", \"could've\": \"could have\", \n",
    "                   \"couldn't\": \"could not\", \"couldn't've\": \"could not have\",\"didn't\": \"did not\", \n",
    "                   \"doesn't\": \"does not\", \"don't\": \"do not\", \"hadn't\": \"had not\", \n",
    "                   \"hadn't've\": \"had not have\", \"hasn't\": \"has not\", \"haven't\": \"have not\", \n",
    "                   \"he'd\": \"he would\", \"he'd've\": \"he would have\", \"he'll\": \"he will\", \n",
    "                   \"he'll've\": \"he will have\", \"he's\": \"he is\", \"how'd\": \"how did\", \n",
    "                   \"how'd'y\": \"how do you\", \"how'll\": \"how will\", \"how's\": \"how is\", \n",
    "                   \"I'd\": \"I would\", \"I'd've\": \"I would have\", \"I'll\": \"I will\", \n",
    "                   \"I'll've\": \"I will have\",\"I'm\": \"I am\", \"I've\": \"I have\", \n",
    "                   \"i'd\": \"i would\", \"i'd've\": \"i would have\", \"i'll\": \"i will\", \n",
    "                   \"i'll've\": \"i will have\",\"i'm\": \"i am\", \"i've\": \"i have\", \n",
    "                   \"isn't\": \"is not\", \"it'd\": \"it would\", \"it'd've\": \"it would have\", \n",
    "                   \"it'll\": \"it will\", \"it'll've\": \"it will have\",\"it's\": \"it is\", \n",
    "                   \"let's\": \"let us\", \"ma'am\": \"madam\", \"mayn't\": \"may not\", \n",
    "                   \"might've\": \"might have\",\"mightn't\": \"might not\",\"mightn't've\": \"might not have\", \n",
    "                   \"must've\": \"must have\", \"mustn't\": \"must not\", \"mustn't've\": \"must not have\", \n",
    "                   \"needn't\": \"need not\", \"needn't've\": \"need not have\",\"o'clock\": \"of the clock\", \n",
    "                   \"oughtn't\": \"ought not\", \"oughtn't've\": \"ought not have\", \"shan't\": \"shall not\",\n",
    "                   \"sha'n't\": \"shall not\", \"shan't've\": \"shall not have\", \"she'd\": \"she would\", \n",
    "                   \"she'd've\": \"she would have\", \"she'll\": \"she will\", \"she'll've\": \"she will have\", \n",
    "                   \"she's\": \"she is\", \"should've\": \"should have\", \"shouldn't\": \"should not\", \n",
    "                   \"shouldn't've\": \"should not have\", \"so've\": \"so have\",\"so's\": \"so as\", \n",
    "                   \"this's\": \"this is\",\n",
    "                   \"that'd\": \"that would\", \"that'd've\": \"that would have\",\"that's\": \"that is\", \n",
    "                   \"there'd\": \"there would\", \"there'd've\": \"there would have\",\"there's\": \"there is\", \n",
    "                       \"here's\": \"here is\",\n",
    "                   \"they'd\": \"they would\", \"they'd've\": \"they would have\", \"they'll\": \"they will\", \n",
    "                   \"they'll've\": \"they will have\", \"they're\": \"they are\", \"they've\": \"they have\", \n",
    "                   \"to've\": \"to have\", \"wasn't\": \"was not\", \"we'd\": \"we would\", \n",
    "                   \"we'd've\": \"we would have\", \"we'll\": \"we will\", \"we'll've\": \"we will have\", \n",
    "                   \"we're\": \"we are\", \"we've\": \"we have\", \"weren't\": \"were not\", \n",
    "                   \"what'll\": \"what will\", \"what'll've\": \"what will have\", \"what're\": \"what are\", \n",
    "                   \"what's\": \"what is\", \"what've\": \"what have\", \"when's\": \"when is\", \n",
    "                   \"when've\": \"when have\", \"where'd\": \"where did\", \"where's\": \"where is\", \n",
    "                   \"where've\": \"where have\", \"who'll\": \"who will\", \"who'll've\": \"who will have\", \n",
    "                   \"who's\": \"who is\", \"who've\": \"who have\", \"why's\": \"why is\", \n",
    "                   \"why've\": \"why have\", \"will've\": \"will have\", \"won't\": \"will not\", \n",
    "                   \"won't've\": \"will not have\", \"would've\": \"would have\", \"wouldn't\": \"would not\", \n",
    "                   \"wouldn't've\": \"would not have\", \"y'all\": \"you all\", \"y'all'd\": \"you all would\",\n",
    "                   \"y'all'd've\": \"you all would have\",\"y'all're\": \"you all are\",\"y'all've\": \"you all have\",\n",
    "                   \"you'd\": \"you would\", \"you'd've\": \"you would have\", \"you'll\": \"you will\", \n",
    "                   \"you'll've\": \"you will have\", \"you're\": \"you are\", \"you've\": \"you have\" } "
   ]
  },
  {
   "cell_type": "code",
   "execution_count": 11,
   "metadata": {},
   "outputs": [],
   "source": [
    "import codecs\n",
    "import unidecode\n",
    "import re\n",
    "import spacy\n",
    "nlp = spacy.load('en')\n",
    "\n",
    "def spacy_cleaner(text):\n",
    "    try:\n",
    "        decoded = unidecode.unidecode(codecs.decode(text, 'unicode_escape'))\n",
    "    except:\n",
    "        decoded = unidecode.unidecode(text)\n",
    "    apostrophe_handled = re.sub(\"’\", \"'\", decoded)\n",
    "    expanded = ' '.join([contraction_mapping[t] if t in contraction_mapping else t for t in apostrophe_handled.split(\" \")])\n",
    "    parsed = nlp(expanded)\n",
    "    final_tokens = []\n",
    "    for t in parsed:\n",
    "        if t.is_punct or t.is_space or t.like_num or t.like_url or str(t).startswith('@'):\n",
    "            pass\n",
    "        else:\n",
    "            if t.lemma_ == '-PRON-':\n",
    "                final_tokens.append(str(t))\n",
    "            else:\n",
    "                sc_removed = re.sub(\"[^a-zA-Z]\", '', str(t.lemma_))\n",
    "                if len(sc_removed) > 1:\n",
    "                    final_tokens.append(sc_removed)\n",
    "    joined = ' '.join(final_tokens)\n",
    "    spell_corrected = re.sub(r'(.)\\1+', r'\\1\\1', joined)\n",
    "    return spell_corrected"
   ]
  },
  {
   "cell_type": "code",
   "execution_count": 12,
   "metadata": {},
   "outputs": [],
   "source": [
    "def clean_text(data):\n",
    "    data = (re.sub(r\"(#[\\d\\w\\.]+)\", '', data)).lower()\n",
    "    data = emoji.demojize(data)\n",
    "    data = spacy_cleaner(data)\n",
    "    return data"
   ]
  },
  {
   "cell_type": "code",
   "execution_count": 13,
   "metadata": {},
   "outputs": [],
   "source": [
    "def build_dataset(df, feature='text', target='label'):\n",
    "    dataset = (\n",
    "                tf.data.Dataset.from_tensor_slices(\n",
    "                    (\n",
    "                        tf.cast(df[feature].values, tf.string),\n",
    "                        tf.cast(df[target].values, tf.int32)\n",
    "                    )\n",
    "                )\n",
    "            )\n",
    "    return dataset"
   ]
  },
  {
   "cell_type": "code",
   "execution_count": 14,
   "metadata": {},
   "outputs": [],
   "source": [
    "def load_dataset(directory, ending, threshold = 0, testing = False):\n",
    "\n",
    "    df_list = []\n",
    "\n",
    "    for emotion in classes:\n",
    "        file_name = f'{base_path}{directory}/{emotion}{ending}'\n",
    "        df = pd.read_csv(file_name, delimiter='\\t')\n",
    "        \n",
    "        stop = stopwords.words('english')\n",
    "        df['tweet'] = df['tweet'].apply(lambda x: \" \".join(x for x in x.split() if x not in stop))\n",
    "        \n",
    "        if not testing:\n",
    "            df = df[df['score'] > threshold]\n",
    "        \n",
    "        df = df[cols]\n",
    "        \n",
    "        df['tweet'] = df['tweet'].apply(lambda x: \" \".join(x for x in x.split() if x not in stop))\n",
    "        df['tweet'] = df['tweet'].apply(clean_text)        \n",
    "        df['tweettype'] = df['tweettype'].apply(lambda x : class_mapping[x])        \n",
    "\n",
    "        df_list.append(df)\n",
    "\n",
    "    df = pd.concat(df_list)\n",
    "    df = df.rename(columns = {'tweet' : 'text', 'tweettype' : 'label'})\n",
    "    print('Distribution of data: ')\n",
    "    print(df['label'].value_counts())\n",
    "    \n",
    "    labels = df['label'].values\n",
    "    \n",
    "    dataset = build_dataset(df)\n",
    "    \n",
    "    return dataset, labels, df"
   ]
  },
  {
   "cell_type": "code",
   "execution_count": 15,
   "metadata": {},
   "outputs": [
    {
     "name": "stdout",
     "output_type": "stream",
     "text": [
      "Distribution of data: \n",
      "3    1147\n",
      "0     857\n",
      "1     823\n",
      "2     786\n",
      "Name: label, dtype: int64\n"
     ]
    }
   ],
   "source": [
    "# Training\n",
    "threshold = 0\n",
    "\n",
    "directory = 'training'\n",
    "ending = '-ratings-0to1.train.txt'\n",
    "\n",
    "train_dataset,_, df_train = load_dataset(directory, ending, threshold = threshold)"
   ]
  },
  {
   "cell_type": "code",
   "execution_count": 16,
   "metadata": {},
   "outputs": [
    {
     "name": "stdout",
     "output_type": "stream",
     "text": [
      "Distribution of data: \n",
      "3    110\n",
      "0     84\n",
      "1     79\n",
      "2     74\n",
      "Name: label, dtype: int64\n"
     ]
    }
   ],
   "source": [
    "# Validation\n",
    "\n",
    "directory = 'validation'\n",
    "ending = '-ratings-0to1.dev.gold.txt'\n",
    "\n",
    "val_dataset,_, df_val = load_dataset(directory, ending)"
   ]
  },
  {
   "cell_type": "code",
   "execution_count": 17,
   "metadata": {},
   "outputs": [
    {
     "name": "stdout",
     "output_type": "stream",
     "text": [
      "Distribution of data: \n",
      "3    995\n",
      "0    760\n",
      "1    714\n",
      "2    673\n",
      "Name: label, dtype: int64\n"
     ]
    }
   ],
   "source": [
    "# Testing\n",
    "\n",
    "directory = 'testing'\n",
    "ending = '-ratings-0to1.test.target.txt'\n",
    "\n",
    "test_dataset, y_test, df_test = load_dataset(directory, ending, testing = True)"
   ]
  },
  {
   "cell_type": "code",
   "execution_count": 18,
   "metadata": {},
   "outputs": [],
   "source": [
    "vectorizer = TextVectorization(max_tokens=20000, output_sequence_length=200)\n",
    "vectorizer.adapt(train_dataset.map(lambda text, label: text))"
   ]
  },
  {
   "cell_type": "code",
   "execution_count": 19,
   "metadata": {},
   "outputs": [
    {
     "data": {
      "text/plain": [
       "['', '[UNK]', 'be', 'get', 'not']"
      ]
     },
     "execution_count": 19,
     "metadata": {},
     "output_type": "execute_result"
    }
   ],
   "source": [
    "vectorizer.get_vocabulary()[:5]"
   ]
  },
  {
   "cell_type": "code",
   "execution_count": 20,
   "metadata": {},
   "outputs": [],
   "source": [
    "voc = vectorizer.get_vocabulary()\n",
    "word_index = dict(zip(voc, range(len(voc))))"
   ]
  },
  {
   "cell_type": "code",
   "execution_count": 21,
   "metadata": {},
   "outputs": [
    {
     "name": "stdout",
     "output_type": "stream",
     "text": [
      "Converted 5582 words (701 misses)\n"
     ]
    }
   ],
   "source": [
    "num_tokens = len(voc) + 2\n",
    "embedding_dim = 100\n",
    "hits = 0\n",
    "misses = 0\n",
    "\n",
    "# Prepare embedding matrix\n",
    "embedding_matrix = np.zeros((num_tokens, embedding_dim))\n",
    "for word, i in word_index.items():\n",
    "    embedding_vector = embedding_index.get(word)\n",
    "    if embedding_vector is not None:\n",
    "        # Words not found in embedding index will be all-zeros.\n",
    "        # This includes the representation for \"padding\" and \"OOV\"\n",
    "        embedding_matrix[i] = embedding_vector\n",
    "        hits += 1\n",
    "    else:\n",
    "        misses += 1\n",
    "print(\"Converted %d words (%d misses)\" % (hits, misses))"
   ]
  },
  {
   "cell_type": "code",
   "execution_count": 22,
   "metadata": {},
   "outputs": [],
   "source": [
    "from tensorflow.keras.layers import Embedding\n",
    "\n",
    "embedding_layer = Embedding(\n",
    "    num_tokens,\n",
    "    embedding_dim,\n",
    "    embeddings_initializer=tf.keras.initializers.Constant(embedding_matrix),\n",
    "    trainable=False,\n",
    ")"
   ]
  },
  {
   "cell_type": "code",
   "execution_count": 23,
   "metadata": {},
   "outputs": [],
   "source": [
    "x_train = vectorizer(np.array([[s] for s in list(df_train.text)])).numpy()\n",
    "x_val = vectorizer(np.array([[s] for s in list(df_val.text)])).numpy()\n",
    "\n",
    "y_train = np.array(list(df_train.label))\n",
    "y_val = np.array(list(df_val.label))"
   ]
  },
  {
   "cell_type": "code",
   "execution_count": 24,
   "metadata": {},
   "outputs": [
    {
     "data": {
      "text/plain": [
       "array([ 114, 2720,  183, 2658,  201, 2726, 1088, 2552, 1125,    0,    0,\n",
       "          0,    0,    0,    0,    0,    0,    0,    0,    0,    0,    0,\n",
       "          0,    0,    0,    0,    0,    0,    0,    0,    0,    0,    0,\n",
       "          0,    0,    0,    0,    0,    0,    0,    0,    0,    0,    0,\n",
       "          0,    0,    0,    0,    0,    0,    0,    0,    0,    0,    0,\n",
       "          0,    0,    0,    0,    0,    0,    0,    0,    0,    0,    0,\n",
       "          0,    0,    0,    0,    0,    0,    0,    0,    0,    0,    0,\n",
       "          0,    0,    0,    0,    0,    0,    0,    0,    0,    0,    0,\n",
       "          0,    0,    0,    0,    0,    0,    0,    0,    0,    0,    0,\n",
       "          0,    0,    0,    0,    0,    0,    0,    0,    0,    0,    0,\n",
       "          0,    0,    0,    0,    0,    0,    0,    0,    0,    0,    0,\n",
       "          0,    0,    0,    0,    0,    0,    0,    0,    0,    0,    0,\n",
       "          0,    0,    0,    0,    0,    0,    0,    0,    0,    0,    0,\n",
       "          0,    0,    0,    0,    0,    0,    0,    0,    0,    0,    0,\n",
       "          0,    0,    0,    0,    0,    0,    0,    0,    0,    0,    0,\n",
       "          0,    0,    0,    0,    0,    0,    0,    0,    0,    0,    0,\n",
       "          0,    0,    0,    0,    0,    0,    0,    0,    0,    0,    0,\n",
       "          0,    0,    0,    0,    0,    0,    0,    0,    0,    0,    0,\n",
       "          0,    0], dtype=int64)"
      ]
     },
     "execution_count": 24,
     "metadata": {},
     "output_type": "execute_result"
    }
   ],
   "source": [
    "x_train[0]"
   ]
  },
  {
   "cell_type": "code",
   "execution_count": 25,
   "metadata": {},
   "outputs": [
    {
     "name": "stdout",
     "output_type": "stream",
     "text": [
      "Model: \"model\"\n",
      "_________________________________________________________________\n",
      "Layer (type)                 Output Shape              Param #   \n",
      "=================================================================\n",
      "input_1 (InputLayer)         [(None, None)]            0         \n",
      "_________________________________________________________________\n",
      "embedding (Embedding)        (None, None, 100)         628500    \n",
      "_________________________________________________________________\n",
      "conv1d (Conv1D)              (None, None, 128)         64128     \n",
      "_________________________________________________________________\n",
      "max_pooling1d (MaxPooling1D) (None, None, 128)         0         \n",
      "_________________________________________________________________\n",
      "conv1d_1 (Conv1D)            (None, None, 128)         82048     \n",
      "_________________________________________________________________\n",
      "max_pooling1d_1 (MaxPooling1 (None, None, 128)         0         \n",
      "_________________________________________________________________\n",
      "conv1d_2 (Conv1D)            (None, None, 128)         82048     \n",
      "_________________________________________________________________\n",
      "global_max_pooling1d (Global (None, 128)               0         \n",
      "_________________________________________________________________\n",
      "dense (Dense)                (None, 64)                8256      \n",
      "_________________________________________________________________\n",
      "dropout (Dropout)            (None, 64)                0         \n",
      "_________________________________________________________________\n",
      "dense_1 (Dense)              (None, 4)                 260       \n",
      "=================================================================\n",
      "Total params: 865,240\n",
      "Trainable params: 236,740\n",
      "Non-trainable params: 628,500\n",
      "_________________________________________________________________\n"
     ]
    }
   ],
   "source": [
    "from tensorflow.keras import layers\n",
    "\n",
    "int_sequences_input = tf.keras.Input(shape=(None,), dtype=\"int64\")\n",
    "embedded_sequences = embedding_layer(int_sequences_input)\n",
    "embedded_sequences.trainable = False \n",
    "\n",
    "x = layers.Conv1D(128, 5, activation=\"relu\")(embedded_sequences)\n",
    "x = layers.MaxPooling1D(5)(x)\n",
    "x = layers.Conv1D(128, 5, activation=\"relu\")(x)\n",
    "x = layers.MaxPooling1D(5)(x)\n",
    "x = layers.Conv1D(128, 5, activation=\"relu\")(x)\n",
    "x = layers.GlobalMaxPooling1D()(x)\n",
    "x = layers.Dense(64, activation=\"relu\")(x)\n",
    "x = layers.Dropout(0.5)(x)\n",
    "preds = layers.Dense(no_classes, activation=\"softmax\")(x)\n",
    "model = tf.keras.Model(int_sequences_input, preds)\n",
    "model.summary()"
   ]
  },
  {
   "cell_type": "code",
   "execution_count": 26,
   "metadata": {},
   "outputs": [
    {
     "name": "stdout",
     "output_type": "stream",
     "text": [
      "Epoch 1/50\n",
      "29/29 [==============================] - 3s 82ms/step - loss: 1.3813 - accuracy: 0.3047 - val_loss: 1.3738 - val_accuracy: 0.3170\n",
      "Epoch 2/50\n",
      "29/29 [==============================] - 2s 71ms/step - loss: 1.3721 - accuracy: 0.3175 - val_loss: 1.3705 - val_accuracy: 0.3170\n",
      "Epoch 3/50\n",
      "29/29 [==============================] - 2s 70ms/step - loss: 1.3644 - accuracy: 0.3277 - val_loss: 1.3648 - val_accuracy: 0.3170\n",
      "Epoch 4/50\n",
      "29/29 [==============================] - 2s 73ms/step - loss: 1.3536 - accuracy: 0.3338 - val_loss: 1.3568 - val_accuracy: 0.3170\n",
      "Epoch 5/50\n",
      "29/29 [==============================] - 2s 72ms/step - loss: 1.3410 - accuracy: 0.3385 - val_loss: 1.3476 - val_accuracy: 0.3343\n",
      "Epoch 6/50\n",
      "29/29 [==============================] - 2s 71ms/step - loss: 1.3245 - accuracy: 0.3626 - val_loss: 1.3337 - val_accuracy: 0.3429\n",
      "Epoch 7/50\n",
      "29/29 [==============================] - 2s 75ms/step - loss: 1.2959 - accuracy: 0.4030 - val_loss: 1.3144 - val_accuracy: 0.3804\n",
      "Epoch 8/50\n",
      "29/29 [==============================] - 2s 72ms/step - loss: 1.2646 - accuracy: 0.4321 - val_loss: 1.2931 - val_accuracy: 0.3804\n",
      "Epoch 9/50\n",
      "29/29 [==============================] - 2s 73ms/step - loss: 1.2307 - accuracy: 0.4437 - val_loss: 1.2685 - val_accuracy: 0.4236\n",
      "Epoch 10/50\n",
      "29/29 [==============================] - 2s 72ms/step - loss: 1.1793 - accuracy: 0.4805 - val_loss: 1.2486 - val_accuracy: 0.4294\n",
      "Epoch 11/50\n",
      "29/29 [==============================] - 2s 72ms/step - loss: 1.1388 - accuracy: 0.5134 - val_loss: 1.2346 - val_accuracy: 0.4179\n",
      "Epoch 12/50\n",
      "29/29 [==============================] - 2s 72ms/step - loss: 1.0952 - accuracy: 0.5334 - val_loss: 1.2163 - val_accuracy: 0.4352\n",
      "Epoch 13/50\n",
      "29/29 [==============================] - 2s 73ms/step - loss: 1.0543 - accuracy: 0.5483 - val_loss: 1.2038 - val_accuracy: 0.4467\n",
      "Epoch 14/50\n",
      "29/29 [==============================] - 2s 71ms/step - loss: 0.9980 - accuracy: 0.6045 - val_loss: 1.1857 - val_accuracy: 0.4928\n",
      "Epoch 15/50\n",
      "29/29 [==============================] - 2s 72ms/step - loss: 0.9488 - accuracy: 0.6172 - val_loss: 1.1779 - val_accuracy: 0.4928\n",
      "Epoch 16/50\n",
      "29/29 [==============================] - 2s 72ms/step - loss: 0.8974 - accuracy: 0.6532 - val_loss: 1.1672 - val_accuracy: 0.5187\n",
      "Epoch 17/50\n",
      "29/29 [==============================] - 2s 72ms/step - loss: 0.8509 - accuracy: 0.6759 - val_loss: 1.1706 - val_accuracy: 0.5159\n",
      "Epoch 18/50\n",
      "29/29 [==============================] - 2s 72ms/step - loss: 0.7955 - accuracy: 0.7133 - val_loss: 1.1761 - val_accuracy: 0.5274\n",
      "Epoch 19/50\n",
      "29/29 [==============================] - 2s 72ms/step - loss: 0.7534 - accuracy: 0.7185 - val_loss: 1.1713 - val_accuracy: 0.5101\n",
      "Epoch 20/50\n",
      "29/29 [==============================] - 2s 72ms/step - loss: 0.6929 - accuracy: 0.7598 - val_loss: 1.1766 - val_accuracy: 0.5014\n",
      "Epoch 21/50\n",
      "29/29 [==============================] - 2s 71ms/step - loss: 0.6496 - accuracy: 0.7772 - val_loss: 1.1839 - val_accuracy: 0.5072\n",
      "Epoch 22/50\n",
      "29/29 [==============================] - 2s 71ms/step - loss: 0.5977 - accuracy: 0.8038 - val_loss: 1.1992 - val_accuracy: 0.5101\n",
      "Epoch 23/50\n",
      "29/29 [==============================] - 2s 72ms/step - loss: 0.5690 - accuracy: 0.8079 - val_loss: 1.1964 - val_accuracy: 0.5187\n",
      "Epoch 24/50\n",
      "29/29 [==============================] - 2s 72ms/step - loss: 0.5228 - accuracy: 0.8240 - val_loss: 1.2107 - val_accuracy: 0.5159\n",
      "Epoch 25/50\n",
      "29/29 [==============================] - 2s 71ms/step - loss: 0.4836 - accuracy: 0.8450 - val_loss: 1.2238 - val_accuracy: 0.5014\n",
      "Epoch 26/50\n",
      "29/29 [==============================] - 2s 72ms/step - loss: 0.4418 - accuracy: 0.8710 - val_loss: 1.2634 - val_accuracy: 0.4957\n",
      "Epoch 27/50\n",
      "29/29 [==============================] - 2s 72ms/step - loss: 0.4190 - accuracy: 0.8818 - val_loss: 1.2511 - val_accuracy: 0.4870\n",
      "Epoch 28/50\n",
      "29/29 [==============================] - 2s 74ms/step - loss: 0.3785 - accuracy: 0.8987 - val_loss: 1.2807 - val_accuracy: 0.4986\n",
      "Epoch 29/50\n",
      "29/29 [==============================] - 2s 73ms/step - loss: 0.3491 - accuracy: 0.9015 - val_loss: 1.3205 - val_accuracy: 0.4957\n",
      "Epoch 30/50\n",
      "29/29 [==============================] - 2s 73ms/step - loss: 0.3243 - accuracy: 0.9098 - val_loss: 1.3144 - val_accuracy: 0.4986\n",
      "Epoch 31/50\n",
      "29/29 [==============================] - 2s 74ms/step - loss: 0.3027 - accuracy: 0.9184 - val_loss: 1.3621 - val_accuracy: 0.4870\n",
      "Epoch 32/50\n",
      "29/29 [==============================] - 2s 74ms/step - loss: 0.2809 - accuracy: 0.9253 - val_loss: 1.3623 - val_accuracy: 0.4928\n",
      "Epoch 33/50\n",
      "29/29 [==============================] - 2s 74ms/step - loss: 0.2455 - accuracy: 0.9369 - val_loss: 1.3987 - val_accuracy: 0.5187\n",
      "Epoch 34/50\n",
      "29/29 [==============================] - 2s 72ms/step - loss: 0.2450 - accuracy: 0.9355 - val_loss: 1.4157 - val_accuracy: 0.4899\n",
      "Epoch 35/50\n",
      "29/29 [==============================] - 2s 72ms/step - loss: 0.2209 - accuracy: 0.9449 - val_loss: 1.4340 - val_accuracy: 0.4813\n",
      "Epoch 36/50\n",
      "29/29 [==============================] - 2s 74ms/step - loss: 0.2157 - accuracy: 0.9477 - val_loss: 1.4550 - val_accuracy: 0.4841\n",
      "Epoch 37/50\n",
      "29/29 [==============================] - 2s 75ms/step - loss: 0.1973 - accuracy: 0.9493 - val_loss: 1.4756 - val_accuracy: 0.4957\n",
      "Epoch 38/50\n",
      "29/29 [==============================] - 2s 73ms/step - loss: 0.1798 - accuracy: 0.9538 - val_loss: 1.5169 - val_accuracy: 0.4928\n",
      "Epoch 39/50\n",
      "29/29 [==============================] - 2s 71ms/step - loss: 0.1814 - accuracy: 0.9543 - val_loss: 1.4990 - val_accuracy: 0.4899\n",
      "Epoch 40/50\n",
      "29/29 [==============================] - 2s 71ms/step - loss: 0.1677 - accuracy: 0.9588 - val_loss: 1.5370 - val_accuracy: 0.4928\n",
      "Epoch 41/50\n",
      "29/29 [==============================] - 2s 71ms/step - loss: 0.1593 - accuracy: 0.9632 - val_loss: 1.6098 - val_accuracy: 0.4986\n",
      "Epoch 42/50\n",
      "29/29 [==============================] - 2s 71ms/step - loss: 0.1444 - accuracy: 0.9657 - val_loss: 1.6118 - val_accuracy: 0.4957\n",
      "Epoch 43/50\n",
      "29/29 [==============================] - 2s 71ms/step - loss: 0.1464 - accuracy: 0.9637 - val_loss: 1.6057 - val_accuracy: 0.4986\n",
      "Epoch 44/50\n",
      "29/29 [==============================] - 2s 70ms/step - loss: 0.1410 - accuracy: 0.9651 - val_loss: 1.6149 - val_accuracy: 0.4986\n",
      "Epoch 45/50\n",
      "29/29 [==============================] - 2s 71ms/step - loss: 0.1260 - accuracy: 0.9737 - val_loss: 1.6244 - val_accuracy: 0.4928\n",
      "Epoch 46/50\n",
      "29/29 [==============================] - 2s 71ms/step - loss: 0.1268 - accuracy: 0.9673 - val_loss: 1.7359 - val_accuracy: 0.4957\n",
      "Epoch 47/50\n",
      "29/29 [==============================] - 2s 71ms/step - loss: 0.1263 - accuracy: 0.9693 - val_loss: 1.6723 - val_accuracy: 0.4899\n",
      "Epoch 48/50\n",
      "29/29 [==============================] - 2s 71ms/step - loss: 0.1154 - accuracy: 0.9745 - val_loss: 1.6944 - val_accuracy: 0.4899\n",
      "Epoch 49/50\n",
      "29/29 [==============================] - 2s 73ms/step - loss: 0.1117 - accuracy: 0.9737 - val_loss: 1.7432 - val_accuracy: 0.4726\n",
      "Epoch 50/50\n",
      "29/29 [==============================] - 2s 72ms/step - loss: 0.1126 - accuracy: 0.9718 - val_loss: 1.7188 - val_accuracy: 0.4899\n"
     ]
    }
   ],
   "source": [
    "optimizer = tf.keras.optimizers.Adam(learning_rate=1e-4)\n",
    "model.compile(loss=\"sparse_categorical_crossentropy\", optimizer=optimizer, metrics=[\"accuracy\"])\n",
    "history = model.fit(x_train, y_train, batch_size=128, epochs=50, validation_data=(x_val, y_val))"
   ]
  },
  {
   "cell_type": "code",
   "execution_count": 27,
   "metadata": {},
   "outputs": [
    {
     "data": {
      "image/png": "[encoded data removed]",
      "text/plain": [
       "<Figure size 432x288 with 1 Axes>"
      ]
     },
     "metadata": {
      "needs_background": "light"
     },
     "output_type": "display_data"
    },
    {
     "data": {
      "image/png": "[encoded data removed]",
      "text/plain": [
       "<Figure size 432x288 with 1 Axes>"
      ]
     },
     "metadata": {
      "needs_background": "light"
     },
     "output_type": "display_data"
    }
   ],
   "source": [
    "plt.figure(1)\n",
    "plt.plot(history.history['loss'], label='train')\n",
    "plt.plot(history.history['val_loss'], label='val')\n",
    "plt.legend()\n",
    "plt.show()\n",
    "\n",
    "plt.figure(2)\n",
    "plt.plot(history.history['accuracy'], label='train')\n",
    "plt.plot(history.history['val_accuracy'], label='val')\n",
    "plt.legend()\n",
    "plt.show()"
   ]
  },
  {
   "cell_type": "markdown",
   "metadata": {},
   "source": [
    "## Evaluation against test"
   ]
  },
  {
   "cell_type": "code",
   "execution_count": 28,
   "metadata": {},
   "outputs": [],
   "source": [
    "x_test = vectorizer(np.array([[s] for s in list(df_test.text)])).numpy()\n",
    "y_test = np.array(list(df_test.label))"
   ]
  },
  {
   "cell_type": "code",
   "execution_count": 29,
   "metadata": {},
   "outputs": [
    {
     "name": "stdout",
     "output_type": "stream",
     "text": [
      "99/99 [==============================] - 1s 8ms/step - loss: 1.7460 - accuracy: 0.4943\n"
     ]
    },
    {
     "data": {
      "text/plain": [
       "[1.7460308074951172, 0.4942711591720581]"
      ]
     },
     "execution_count": 29,
     "metadata": {},
     "output_type": "execute_result"
    }
   ],
   "source": [
    "model.evaluate(x_test, y_test)"
   ]
  },
  {
   "cell_type": "code",
   "execution_count": 30,
   "metadata": {},
   "outputs": [],
   "source": [
    "from sklearn.metrics import confusion_matrix\n",
    "from sklearn.metrics import classification_report"
   ]
  },
  {
   "cell_type": "code",
   "execution_count": 31,
   "metadata": {},
   "outputs": [
    {
     "name": "stderr",
     "output_type": "stream",
     "text": [
      "100%|██████████████████████████████████████████████████████████████████████████| 3142/3142 [00:00<00:00, 223114.87it/s]\n"
     ]
    }
   ],
   "source": [
    "pred = model.predict(x_test)\n",
    "\n",
    "pred_idx = []\n",
    "\n",
    "for i in tqdm(range(len(pred))):\n",
    "    pred_idx.append(np.argmax(pred[i]))"
   ]
  },
  {
   "cell_type": "code",
   "execution_count": 32,
   "metadata": {},
   "outputs": [
    {
     "name": "stdout",
     "output_type": "stream",
     "text": [
      "              precision    recall  f1-score   support\n",
      "\n",
      "       anger       0.52      0.44      0.48       760\n",
      "         joy       0.58      0.57      0.58       714\n",
      "     sadness       0.38      0.45      0.41       673\n",
      "        fear       0.51      0.51      0.51       995\n",
      "\n",
      "    accuracy                           0.49      3142\n",
      "   macro avg       0.50      0.49      0.49      3142\n",
      "weighted avg       0.50      0.49      0.50      3142\n",
      "\n"
     ]
    }
   ],
   "source": [
    "print(classification_report(y_test, pred_idx, target_names=classes))"
   ]
  },
  {
   "cell_type": "code",
   "execution_count": 33,
   "metadata": {},
   "outputs": [
    {
     "name": "stdout",
     "output_type": "stream",
     "text": [
      "[[333  74 145 208]\n",
      " [ 76 408 124 106]\n",
      " [ 98  90 301 184]\n",
      " [131 133 220 511]]\n"
     ]
    }
   ],
   "source": [
    "print(confusion_matrix(y_test, pred_idx))"
   ]
  },
  {
   "cell_type": "code",
   "execution_count": null,
   "metadata": {},
   "outputs": [],
   "source": []
  }
 ],
 "metadata": {
  "kernelspec": {
   "display_name": "Python 3",
   "language": "python",
   "name": "python3"
  },
  "language_info": {
   "codemirror_mode": {
    "name": "ipython",
    "version": 3
   },
   "file_extension": ".py",
   "mimetype": "text/x-python",
   "name": "python",
   "nbconvert_exporter": "python",
   "pygments_lexer": "ipython3",
   "version": "3.8.3"
  }
 },
 "nbformat": 4,
 "nbformat_minor": 4
}
