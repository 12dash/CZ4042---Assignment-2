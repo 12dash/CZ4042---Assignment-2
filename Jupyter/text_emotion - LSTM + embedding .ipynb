{
 "cells": [
  {
   "cell_type": "code",
   "execution_count": 1,
   "metadata": {},
   "outputs": [],
   "source": [
    "import numpy as np\n",
    "\n",
    "import tensorflow as tf\n",
    "import tensorflow_hub as hub\n",
    "\n",
    "import pandas as pd"
   ]
  },
  {
   "cell_type": "code",
   "execution_count": 2,
   "metadata": {},
   "outputs": [],
   "source": [
    "df = pd.read_csv('../Data/text_emotion.csv')"
   ]
  },
  {
   "cell_type": "code",
   "execution_count": 3,
   "metadata": {},
   "outputs": [],
   "source": [
    "from nltk.corpus import stopwords\n",
    "from nltk.tokenize import word_tokenize\n",
    "\n",
    "import re\n",
    "\n",
    "stop = stopwords.words('english')\n",
    "#df['text'] = df['content'].apply(lambda x: \" \".join(x for x in x.split() if x not in stop))"
   ]
  },
  {
   "cell_type": "code",
   "execution_count": 4,
   "metadata": {},
   "outputs": [],
   "source": [
    "def clean_text(data):\n",
    "    data=re.sub(r\"(#[\\d\\w\\.]+)\", '', data)\n",
    "    data = data.lower()\n",
    "    data=word_tokenize(data)\n",
    "    data = ' '.join(data)\n",
    "    return data"
   ]
  },
  {
   "cell_type": "code",
   "execution_count": 5,
   "metadata": {},
   "outputs": [],
   "source": [
    "df['text'] = df['content'].apply(clean_text)"
   ]
  },
  {
   "cell_type": "code",
   "execution_count": 6,
   "metadata": {},
   "outputs": [],
   "source": [
    "classes = sorted(list(set(df['sentiment'])))\n",
    "no_classes = len(classes)\n",
    "\n",
    "class_mapping = {}\n",
    "for idx, name in enumerate(classes):\n",
    "    class_mapping[name] = idx "
   ]
  },
  {
   "cell_type": "code",
   "execution_count": 7,
   "metadata": {},
   "outputs": [],
   "source": [
    "_ = df.pop('tweet_id')\n",
    "_ = df.pop('author')"
   ]
  },
  {
   "cell_type": "code",
   "execution_count": 8,
   "metadata": {},
   "outputs": [],
   "source": [
    "df['label'] = df['sentiment'].apply(lambda x : class_mapping[x])"
   ]
  },
  {
   "cell_type": "code",
   "execution_count": 9,
   "metadata": {},
   "outputs": [],
   "source": [
    "from sklearn.model_selection import train_test_split"
   ]
  },
  {
   "cell_type": "code",
   "execution_count": 10,
   "metadata": {},
   "outputs": [],
   "source": [
    "def build_dataset(df, feature='text', target='label'):\n",
    "    dataset = (\n",
    "                tf.data.Dataset.from_tensor_slices(\n",
    "                    (\n",
    "                        tf.cast(df[feature].values, tf.string),\n",
    "                        tf.cast(df[target].values, tf.int32)\n",
    "                    )\n",
    "                )\n",
    "            )\n",
    "    return dataset"
   ]
  },
  {
   "cell_type": "code",
   "execution_count": 11,
   "metadata": {},
   "outputs": [],
   "source": [
    "df_train, df_test = train_test_split(df, test_size = 0.2)\n",
    "df_train, df_val = train_test_split(df_train, test_size = 0.2)\n",
    "\n",
    "train_dataset = build_dataset(df_train)\n",
    "val_dataset = build_dataset(df_val)\n",
    "test_dataset = build_dataset(df_test)"
   ]
  },
  {
   "cell_type": "code",
   "execution_count": 12,
   "metadata": {},
   "outputs": [],
   "source": [
    "BUFFER_SIZE = 10000\n",
    "BATCH_SIZE = 128"
   ]
  },
  {
   "cell_type": "code",
   "execution_count": 13,
   "metadata": {},
   "outputs": [],
   "source": [
    "train_dataset = train_dataset.shuffle(BUFFER_SIZE).batch(BATCH_SIZE).prefetch(tf.data.AUTOTUNE)\n",
    "val_dataset = val_dataset.shuffle(BUFFER_SIZE).batch(BATCH_SIZE).prefetch(tf.data.AUTOTUNE)\n",
    "test_dataset = test_dataset.batch(BATCH_SIZE).prefetch(tf.data.AUTOTUNE)"
   ]
  },
  {
   "cell_type": "code",
   "execution_count": 14,
   "metadata": {},
   "outputs": [],
   "source": [
    "embedding = \"https://tfhub.dev/google/nnlm-en-dim50/2\"\n",
    "hub_layer = hub.KerasLayer(embedding, input_shape=[], \n",
    "                           dtype=tf.string, trainable=True)"
   ]
  },
  {
   "cell_type": "code",
   "execution_count": 15,
   "metadata": {},
   "outputs": [],
   "source": [
    "model = tf.keras.Sequential()\n",
    "model.add(hub_layer)\n",
    "model.add(tf.keras.layers.Dense(16, activation='relu'))\n",
    "model.add(tf.keras.layers.Dense(no_classes))"
   ]
  },
  {
   "cell_type": "code",
   "execution_count": 16,
   "metadata": {},
   "outputs": [
    {
     "name": "stdout",
     "output_type": "stream",
     "text": [
      "Model: \"sequential\"\n",
      "_________________________________________________________________\n",
      "Layer (type)                 Output Shape              Param #   \n",
      "=================================================================\n",
      "keras_layer (KerasLayer)     (None, 50)                48190600  \n",
      "_________________________________________________________________\n",
      "dense (Dense)                (None, 16)                816       \n",
      "_________________________________________________________________\n",
      "dense_1 (Dense)              (None, 13)                221       \n",
      "=================================================================\n",
      "Total params: 48,191,637\n",
      "Trainable params: 48,191,637\n",
      "Non-trainable params: 0\n",
      "_________________________________________________________________\n"
     ]
    }
   ],
   "source": [
    "model.summary()"
   ]
  },
  {
   "cell_type": "code",
   "execution_count": 17,
   "metadata": {},
   "outputs": [],
   "source": [
    "model.compile(loss=tf.keras.losses.SparseCategoricalCrossentropy(from_logits=True),\n",
    "              optimizer=tf.keras.optimizers.Adam(1e-4),\n",
    "              metrics=['accuracy'])"
   ]
  },
  {
   "cell_type": "code",
   "execution_count": null,
   "metadata": {},
   "outputs": [],
   "source": [
    "early_stopping = tf.keras.callbacks.EarlyStopping(monitor='val_loss', \n",
    "                                                  verbose=1,patience=10,\n",
    "                                                  mode='max', restore_best_weights=True)"
   ]
  },
  {
   "cell_type": "code",
   "execution_count": 18,
   "metadata": {},
   "outputs": [
    {
     "name": "stdout",
     "output_type": "stream",
     "text": [
      "Epoch 1/50\n",
      "200/200 [==============================] - 15s 71ms/step - loss: 2.5517 - accuracy: 0.0921 - val_loss: 2.4986 - val_accuracy: 0.1736\n",
      "Epoch 2/50\n",
      "200/200 [==============================] - 18s 91ms/step - loss: 2.4334 - accuracy: 0.2085 - val_loss: 2.3559 - val_accuracy: 0.2245\n",
      "Epoch 3/50\n",
      "200/200 [==============================] - 22s 112ms/step - loss: 2.2894 - accuracy: 0.2276 - val_loss: 2.2297 - val_accuracy: 0.2349\n",
      "Epoch 4/50\n",
      "200/200 [==============================] - 15s 77ms/step - loss: 2.1987 - accuracy: 0.2391 - val_loss: 2.1713 - val_accuracy: 0.2469\n",
      "Epoch 5/50\n",
      "200/200 [==============================] - 15s 76ms/step - loss: 2.1577 - accuracy: 0.2525 - val_loss: 2.1407 - val_accuracy: 0.2611\n",
      "Epoch 6/50\n",
      "200/200 [==============================] - 15s 74ms/step - loss: 2.1308 - accuracy: 0.2661 - val_loss: 2.1160 - val_accuracy: 0.2751\n",
      "Epoch 7/50\n",
      "200/200 [==============================] - 15s 74ms/step - loss: 2.1070 - accuracy: 0.2795 - val_loss: 2.0925 - val_accuracy: 0.2895\n",
      "Epoch 8/50\n",
      "200/200 [==============================] - 15s 74ms/step - loss: 2.0834 - accuracy: 0.2946 - val_loss: 2.0687 - val_accuracy: 0.3045\n",
      "Epoch 9/50\n",
      "200/200 [==============================] - 15s 73ms/step - loss: 2.0597 - accuracy: 0.3090 - val_loss: 2.0447 - val_accuracy: 0.3181\n",
      "Epoch 10/50\n",
      "200/200 [==============================] - 15s 77ms/step - loss: 2.0357 - accuracy: 0.3223 - val_loss: 2.0204 - val_accuracy: 0.3302\n",
      "Epoch 11/50\n",
      "200/200 [==============================] - 16s 79ms/step - loss: 2.0116 - accuracy: 0.3325 - val_loss: 1.9961 - val_accuracy: 0.3409\n",
      "Epoch 12/50\n",
      "200/200 [==============================] - 16s 79ms/step - loss: 1.9876 - accuracy: 0.3428 - val_loss: 1.9722 - val_accuracy: 0.3509\n",
      "Epoch 13/50\n",
      "200/200 [==============================] - 16s 77ms/step - loss: 1.9640 - accuracy: 0.3527 - val_loss: 1.9486 - val_accuracy: 0.3594\n",
      "Epoch 14/50\n",
      "200/200 [==============================] - 16s 78ms/step - loss: 1.9408 - accuracy: 0.3615 - val_loss: 1.9255 - val_accuracy: 0.3668\n",
      "Epoch 15/50\n",
      "200/200 [==============================] - 16s 78ms/step - loss: 1.9181 - accuracy: 0.3696 - val_loss: 1.9029 - val_accuracy: 0.3761\n",
      "Epoch 16/50\n",
      "200/200 [==============================] - 15s 76ms/step - loss: 1.8960 - accuracy: 0.3779 - val_loss: 1.8808 - val_accuracy: 0.3845\n",
      "Epoch 17/50\n",
      "200/200 [==============================] - 16s 78ms/step - loss: 1.8743 - accuracy: 0.3854 - val_loss: 1.8592 - val_accuracy: 0.3924\n",
      "Epoch 18/50\n",
      "200/200 [==============================] - 15s 77ms/step - loss: 1.8531 - accuracy: 0.3945 - val_loss: 1.8381 - val_accuracy: 0.4003\n",
      "Epoch 19/50\n",
      "200/200 [==============================] - 16s 78ms/step - loss: 1.8323 - accuracy: 0.4014 - val_loss: 1.8173 - val_accuracy: 0.4073\n",
      "Epoch 20/50\n",
      "200/200 [==============================] - 16s 78ms/step - loss: 1.8120 - accuracy: 0.4089 - val_loss: 1.7969 - val_accuracy: 0.4150\n",
      "Epoch 21/50\n",
      "200/200 [==============================] - 15s 76ms/step - loss: 1.7918 - accuracy: 0.4163 - val_loss: 1.7769 - val_accuracy: 0.4233\n",
      "Epoch 22/50\n",
      "200/200 [==============================] - 15s 76ms/step - loss: 1.7720 - accuracy: 0.4256 - val_loss: 1.7571 - val_accuracy: 0.4316\n",
      "Epoch 23/50\n",
      "200/200 [==============================] - 16s 79ms/step - loss: 1.7524 - accuracy: 0.4338 - val_loss: 1.7373 - val_accuracy: 0.4389\n",
      "Epoch 24/50\n",
      "200/200 [==============================] - 16s 78ms/step - loss: 1.7330 - accuracy: 0.4383 - val_loss: 1.7181 - val_accuracy: 0.4476\n",
      "Epoch 25/50\n",
      "200/200 [==============================] - 15s 77ms/step - loss: 1.7139 - accuracy: 0.4477 - val_loss: 1.6990 - val_accuracy: 0.4548\n",
      "Epoch 26/50\n",
      "200/200 [==============================] - 15s 76ms/step - loss: 1.6951 - accuracy: 0.4553 - val_loss: 1.6799 - val_accuracy: 0.4609\n",
      "Epoch 27/50\n",
      "200/200 [==============================] - 16s 78ms/step - loss: 1.6764 - accuracy: 0.4613 - val_loss: 1.6612 - val_accuracy: 0.4678\n",
      "Epoch 28/50\n",
      "200/200 [==============================] - 15s 77ms/step - loss: 1.6578 - accuracy: 0.4684 - val_loss: 1.6427 - val_accuracy: 0.4740\n",
      "Epoch 29/50\n",
      "200/200 [==============================] - 15s 77ms/step - loss: 1.6395 - accuracy: 0.4752 - val_loss: 1.6241 - val_accuracy: 0.4821\n",
      "Epoch 30/50\n",
      "200/200 [==============================] - 16s 78ms/step - loss: 1.6212 - accuracy: 0.4818 - val_loss: 1.6059 - val_accuracy: 0.4891\n",
      "Epoch 31/50\n",
      "200/200 [==============================] - 16s 80ms/step - loss: 1.6030 - accuracy: 0.4889 - val_loss: 1.5877 - val_accuracy: 0.4948\n",
      "Epoch 32/50\n",
      "200/200 [==============================] - 15s 77ms/step - loss: 1.5850 - accuracy: 0.4940 - val_loss: 1.5695 - val_accuracy: 0.5000\n",
      "Epoch 33/50\n",
      "200/200 [==============================] - 15s 77ms/step - loss: 1.5670 - accuracy: 0.5001 - val_loss: 1.5514 - val_accuracy: 0.5068\n",
      "Epoch 34/50\n",
      "200/200 [==============================] - 15s 77ms/step - loss: 1.5488 - accuracy: 0.5060 - val_loss: 1.5327 - val_accuracy: 0.5134\n",
      "Epoch 35/50\n",
      "200/200 [==============================] - 15s 77ms/step - loss: 1.5302 - accuracy: 0.5123 - val_loss: 1.5139 - val_accuracy: 0.5191\n",
      "Epoch 36/50\n",
      "200/200 [==============================] - 16s 78ms/step - loss: 1.5118 - accuracy: 0.5183 - val_loss: 1.4954 - val_accuracy: 0.5232\n",
      "Epoch 37/50\n",
      "200/200 [==============================] - 16s 78ms/step - loss: 1.4934 - accuracy: 0.5232 - val_loss: 1.4773 - val_accuracy: 0.5300\n",
      "Epoch 38/50\n",
      "200/200 [==============================] - 15s 77ms/step - loss: 1.4754 - accuracy: 0.5297 - val_loss: 1.4592 - val_accuracy: 0.5370\n",
      "Epoch 39/50\n",
      "200/200 [==============================] - 16s 78ms/step - loss: 1.4574 - accuracy: 0.5364 - val_loss: 1.4412 - val_accuracy: 0.5429\n",
      "Epoch 40/50\n",
      "200/200 [==============================] - 15s 77ms/step - loss: 1.4397 - accuracy: 0.5427 - val_loss: 1.4233 - val_accuracy: 0.5489\n",
      "Epoch 41/50\n",
      "200/200 [==============================] - 15s 77ms/step - loss: 1.4220 - accuracy: 0.5485 - val_loss: 1.4056 - val_accuracy: 0.5543\n",
      "Epoch 42/50\n",
      "200/200 [==============================] - 16s 78ms/step - loss: 1.4045 - accuracy: 0.5536 - val_loss: 1.3881 - val_accuracy: 0.5612\n",
      "Epoch 43/50\n",
      "200/200 [==============================] - 16s 78ms/step - loss: 1.3870 - accuracy: 0.5614 - val_loss: 1.3707 - val_accuracy: 0.5689\n",
      "Epoch 44/50\n",
      "200/200 [==============================] - 15s 77ms/step - loss: 1.3698 - accuracy: 0.5680 - val_loss: 1.3533 - val_accuracy: 0.5741\n",
      "Epoch 45/50\n",
      "200/200 [==============================] - 16s 79ms/step - loss: 1.3526 - accuracy: 0.5743 - val_loss: 1.3362 - val_accuracy: 0.5798\n",
      "Epoch 46/50\n",
      "200/200 [==============================] - 16s 78ms/step - loss: 1.3356 - accuracy: 0.5801 - val_loss: 1.3192 - val_accuracy: 0.5862\n",
      "Epoch 47/50\n",
      "200/200 [==============================] - 15s 74ms/step - loss: 1.3188 - accuracy: 0.5848 - val_loss: 1.3023 - val_accuracy: 0.5921\n",
      "Epoch 48/50\n",
      "200/200 [==============================] - 16s 80ms/step - loss: 1.3021 - accuracy: 0.5920 - val_loss: 1.2858 - val_accuracy: 0.5979\n",
      "Epoch 49/50\n",
      "200/200 [==============================] - 16s 79ms/step - loss: 1.2856 - accuracy: 0.5973 - val_loss: 1.2691 - val_accuracy: 0.6036\n",
      "Epoch 50/50\n",
      "200/200 [==============================] - 15s 76ms/step - loss: 1.2692 - accuracy: 0.6022 - val_loss: 1.2528 - val_accuracy: 0.6100\n"
     ]
    }
   ],
   "source": [
    "history = model.fit(train_dataset, epochs=50,\n",
    "                    validation_data=val_dataset,\n",
    "                    verbose=1,\n",
    "                   callbacks=[early_stopping])"
   ]
  },
  {
   "cell_type": "code",
   "execution_count": 19,
   "metadata": {},
   "outputs": [
    {
     "data": {
      "image/png": "[encoded data removed]",
      "text/plain": [
       "<Figure size 432x288 with 1 Axes>"
      ]
     },
     "metadata": {
      "needs_background": "light"
     },
     "output_type": "display_data"
    },
    {
     "data": {
      "image/png": "[encoded data removed]",
      "text/plain": [
       "<Figure size 432x288 with 1 Axes>"
      ]
     },
     "metadata": {
      "needs_background": "light"
     },
     "output_type": "display_data"
    }
   ],
   "source": [
    "import matplotlib.pyplot as plt\n",
    "\n",
    "plt.figure(1)\n",
    "plt.plot(history.history['loss'], label='train')\n",
    "plt.plot(history.history['val_loss'], label='val')\n",
    "plt.legend()\n",
    "plt.show()\n",
    "\n",
    "plt.figure(2)\n",
    "plt.plot(history.history['accuracy'], label='train')\n",
    "plt.plot(history.history['val_accuracy'], label='val')\n",
    "plt.legend()\n",
    "plt.show()"
   ]
  },
  {
   "cell_type": "code",
   "execution_count": 20,
   "metadata": {},
   "outputs": [],
   "source": [
    "from sklearn.metrics import confusion_matrix\n",
    "from sklearn.metrics import classification_report\n",
    "\n",
    "from tqdm import tqdm"
   ]
  },
  {
   "cell_type": "code",
   "execution_count": 21,
   "metadata": {},
   "outputs": [
    {
     "name": "stdout",
     "output_type": "stream",
     "text": [
      "63/63 [==============================] - 1s 8ms/step - loss: 2.0588 - accuracy: 0.3309\n"
     ]
    },
    {
     "data": {
      "text/plain": [
       "[2.0588390827178955, 0.3308750092983246]"
      ]
     },
     "execution_count": 21,
     "metadata": {},
     "output_type": "execute_result"
    }
   ],
   "source": [
    "model.evaluate(test_dataset)"
   ]
  },
  {
   "cell_type": "code",
   "execution_count": 22,
   "metadata": {},
   "outputs": [],
   "source": [
    "pred = model.predict(test_dataset)\n",
    "y_test = list(df_test.label)"
   ]
  },
  {
   "cell_type": "code",
   "execution_count": 23,
   "metadata": {},
   "outputs": [
    {
     "name": "stderr",
     "output_type": "stream",
     "text": [
      "100%|██████████████████████████████████████████████████████████████████████████| 8000/8000 [00:00<00:00, 153958.26it/s]\n"
     ]
    }
   ],
   "source": [
    "import numpy as np\n",
    "\n",
    "pred_idx = []\n",
    "target_idx = []\n",
    "\n",
    "for i in tqdm(range(len(pred))):\n",
    "    pred_idx.append(np.argmax(pred[i]))\n",
    "    target_idx.append(y_test[i])"
   ]
  },
  {
   "cell_type": "code",
   "execution_count": 24,
   "metadata": {},
   "outputs": [
    {
     "name": "stdout",
     "output_type": "stream",
     "text": [
      "              precision    recall  f1-score   support\n",
      "\n",
      "       anger       0.00      0.00      0.00        18\n",
      "     boredom       0.00      0.00      0.00        38\n",
      "       empty       0.00      0.00      0.00       175\n",
      "  enthusiasm       0.00      0.00      0.00       151\n",
      "         fun       0.27      0.03      0.05       335\n",
      "   happiness       0.32      0.42      0.36      1042\n",
      "        hate       0.44      0.06      0.10       271\n",
      "        love       0.38      0.36      0.37       765\n",
      "     neutral       0.33      0.47      0.38      1704\n",
      "      relief       0.00      0.00      0.00       304\n",
      "     sadness       0.29      0.30      0.29      1009\n",
      "    surprise       0.23      0.03      0.05       427\n",
      "       worry       0.35      0.46      0.40      1761\n",
      "\n",
      "    accuracy                           0.33      8000\n",
      "   macro avg       0.20      0.16      0.15      8000\n",
      "weighted avg       0.30      0.33      0.30      8000\n",
      "\n"
     ]
    },
    {
     "name": "stderr",
     "output_type": "stream",
     "text": [
      "C:\\Users\\soham\\AppData\\Roaming\\Python\\Python38\\site-packages\\sklearn\\metrics\\_classification.py:1245: UndefinedMetricWarning: Precision and F-score are ill-defined and being set to 0.0 in labels with no predicted samples. Use `zero_division` parameter to control this behavior.\n",
      "  _warn_prf(average, modifier, msg_start, len(result))\n",
      "C:\\Users\\soham\\AppData\\Roaming\\Python\\Python38\\site-packages\\sklearn\\metrics\\_classification.py:1245: UndefinedMetricWarning: Precision and F-score are ill-defined and being set to 0.0 in labels with no predicted samples. Use `zero_division` parameter to control this behavior.\n",
      "  _warn_prf(average, modifier, msg_start, len(result))\n",
      "C:\\Users\\soham\\AppData\\Roaming\\Python\\Python38\\site-packages\\sklearn\\metrics\\_classification.py:1245: UndefinedMetricWarning: Precision and F-score are ill-defined and being set to 0.0 in labels with no predicted samples. Use `zero_division` parameter to control this behavior.\n",
      "  _warn_prf(average, modifier, msg_start, len(result))\n"
     ]
    }
   ],
   "source": [
    "print(classification_report(target_idx, pred_idx, target_names=classes))"
   ]
  },
  {
   "cell_type": "code",
   "execution_count": 25,
   "metadata": {},
   "outputs": [
    {
     "name": "stdout",
     "output_type": "stream",
     "text": [
      "[[  0   0   0   0   0   1   1   1   5   1   3   0   6]\n",
      " [  0   0   0   0   0   2   0   0  12   0  12   0  12]\n",
      " [  0   0   0   0   2   9   1   8  83   1  19   2  50]\n",
      " [  0   0   0   0   0  24   2  13  66   1  14   0  31]\n",
      " [  0   0   0   0   9 101   0  34 103   0  19   4  65]\n",
      " [  0   0   0   0   7 433   2 134 255   1  53  10 147]\n",
      " [  0   0   0   0   2  10  15   9  53   0  71   1 110]\n",
      " [  0   0   0   0   2 218   0 277 131   0  46   4  87]\n",
      " [  0   0   0   0   5 245   6  88 793   3 148   9 407]\n",
      " [  0   0   0   0   2  80   0  20  96   0  20   2  84]\n",
      " [  0   0   0   0   0  60   2  43 219   0 299   5 381]\n",
      " [  0   0   0   0   1  74   1  29 150   0  40  13 119]\n",
      " [  0   0   0   0   3 114   4  74 456   1 295   6 808]]\n"
     ]
    }
   ],
   "source": [
    "print(confusion_matrix(target_idx, pred_idx))"
   ]
  },
  {
   "cell_type": "code",
   "execution_count": null,
   "metadata": {},
   "outputs": [],
   "source": []
  }
 ],
 "metadata": {
  "kernelspec": {
   "display_name": "Python 3",
   "language": "python",
   "name": "python3"
  },
  "language_info": {
   "codemirror_mode": {
    "name": "ipython",
    "version": 3
   },
   "file_extension": ".py",
   "mimetype": "text/x-python",
   "name": "python",
   "nbconvert_exporter": "python",
   "pygments_lexer": "ipython3",
   "version": "3.8.3"
  }
 },
 "nbformat": 4,
 "nbformat_minor": 4
}
