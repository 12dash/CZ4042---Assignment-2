{
 "cells": [
  {
   "cell_type": "code",
   "execution_count": null,
   "metadata": {
    "colab": {
     "base_uri": "https://localhost:8080/"
    },
    "id": "xdcyuvWAcVjg",
    "outputId": "462c7404-c05f-4eae-d086-c5d45ec91a4c"
   },
   "outputs": [
    {
     "name": "stdout",
     "output_type": "stream",
     "text": [
      "Requirement already satisfied: ktrain in /usr/local/lib/python3.7/dist-packages (0.28.3)\n",
      "Requirement already satisfied: sentencepiece in /usr/local/lib/python3.7/dist-packages (from ktrain) (0.1.96)\n",
      "Requirement already satisfied: syntok in /usr/local/lib/python3.7/dist-packages (from ktrain) (1.3.1)\n",
      "Requirement already satisfied: chardet in /usr/local/lib/python3.7/dist-packages (from ktrain) (3.0.4)\n",
      "Requirement already satisfied: keras-bert>=0.86.0 in /usr/local/lib/python3.7/dist-packages (from ktrain) (0.88.0)\n",
      "Requirement already satisfied: pandas>=1.0.1 in /usr/local/lib/python3.7/dist-packages (from ktrain) (1.1.5)\n",
      "Requirement already satisfied: packaging in /usr/local/lib/python3.7/dist-packages (from ktrain) (21.2)\n",
      "Requirement already satisfied: fastprogress>=0.1.21 in /usr/local/lib/python3.7/dist-packages (from ktrain) (1.0.0)\n",
      "Requirement already satisfied: seqeval==0.0.19 in /usr/local/lib/python3.7/dist-packages (from ktrain) (0.0.19)\n",
      "Requirement already satisfied: jieba in /usr/local/lib/python3.7/dist-packages (from ktrain) (0.42.1)\n",
      "Requirement already satisfied: requests in /usr/local/lib/python3.7/dist-packages (from ktrain) (2.23.0)\n",
      "Requirement already satisfied: transformers<=4.10.3,>=4.0.0 in /usr/local/lib/python3.7/dist-packages (from ktrain) (4.10.3)\n",
      "Requirement already satisfied: matplotlib>=3.0.0 in /usr/local/lib/python3.7/dist-packages (from ktrain) (3.2.2)\n",
      "Requirement already satisfied: whoosh in /usr/local/lib/python3.7/dist-packages (from ktrain) (2.7.4)\n",
      "Requirement already satisfied: scikit-learn==0.23.2 in /usr/local/lib/python3.7/dist-packages (from ktrain) (0.23.2)\n",
      "Requirement already satisfied: cchardet in /usr/local/lib/python3.7/dist-packages (from ktrain) (2.1.7)\n",
      "Requirement already satisfied: joblib in /usr/local/lib/python3.7/dist-packages (from ktrain) (1.1.0)\n",
      "Requirement already satisfied: langdetect in /usr/local/lib/python3.7/dist-packages (from ktrain) (1.0.9)\n",
      "Requirement already satisfied: threadpoolctl>=2.0.0 in /usr/local/lib/python3.7/dist-packages (from scikit-learn==0.23.2->ktrain) (3.0.0)\n",
      "Requirement already satisfied: scipy>=0.19.1 in /usr/local/lib/python3.7/dist-packages (from scikit-learn==0.23.2->ktrain) (1.4.1)\n",
      "Requirement already satisfied: numpy>=1.13.3 in /usr/local/lib/python3.7/dist-packages (from scikit-learn==0.23.2->ktrain) (1.19.5)\n",
      "Requirement already satisfied: Keras>=2.2.4 in /usr/local/lib/python3.7/dist-packages (from seqeval==0.0.19->ktrain) (2.7.0)\n",
      "Requirement already satisfied: keras-transformer>=0.39.0 in /usr/local/lib/python3.7/dist-packages (from keras-bert>=0.86.0->ktrain) (0.39.0)\n",
      "Requirement already satisfied: keras-pos-embd>=0.12.0 in /usr/local/lib/python3.7/dist-packages (from keras-transformer>=0.39.0->keras-bert>=0.86.0->ktrain) (0.12.0)\n",
      "Requirement already satisfied: keras-multi-head>=0.28.0 in /usr/local/lib/python3.7/dist-packages (from keras-transformer>=0.39.0->keras-bert>=0.86.0->ktrain) (0.28.0)\n",
      "Requirement already satisfied: keras-embed-sim>=0.9.0 in /usr/local/lib/python3.7/dist-packages (from keras-transformer>=0.39.0->keras-bert>=0.86.0->ktrain) (0.9.0)\n",
      "Requirement already satisfied: keras-layer-normalization>=0.15.0 in /usr/local/lib/python3.7/dist-packages (from keras-transformer>=0.39.0->keras-bert>=0.86.0->ktrain) (0.15.0)\n",
      "Requirement already satisfied: keras-position-wise-feed-forward>=0.7.0 in /usr/local/lib/python3.7/dist-packages (from keras-transformer>=0.39.0->keras-bert>=0.86.0->ktrain) (0.7.0)\n",
      "Requirement already satisfied: keras-self-attention>=0.50.0 in /usr/local/lib/python3.7/dist-packages (from keras-multi-head>=0.28.0->keras-transformer>=0.39.0->keras-bert>=0.86.0->ktrain) (0.50.0)\n",
      "Requirement already satisfied: kiwisolver>=1.0.1 in /usr/local/lib/python3.7/dist-packages (from matplotlib>=3.0.0->ktrain) (1.3.2)\n",
      "Requirement already satisfied: python-dateutil>=2.1 in /usr/local/lib/python3.7/dist-packages (from matplotlib>=3.0.0->ktrain) (2.8.2)\n",
      "Requirement already satisfied: pyparsing!=2.0.4,!=2.1.2,!=2.1.6,>=2.0.1 in /usr/local/lib/python3.7/dist-packages (from matplotlib>=3.0.0->ktrain) (2.4.7)\n",
      "Requirement already satisfied: cycler>=0.10 in /usr/local/lib/python3.7/dist-packages (from matplotlib>=3.0.0->ktrain) (0.11.0)\n",
      "Requirement already satisfied: pytz>=2017.2 in /usr/local/lib/python3.7/dist-packages (from pandas>=1.0.1->ktrain) (2018.9)\n",
      "Requirement already satisfied: six>=1.5 in /usr/local/lib/python3.7/dist-packages (from python-dateutil>=2.1->matplotlib>=3.0.0->ktrain) (1.15.0)\n",
      "Requirement already satisfied: pyyaml>=5.1 in /usr/local/lib/python3.7/dist-packages (from transformers<=4.10.3,>=4.0.0->ktrain) (6.0)\n",
      "Requirement already satisfied: importlib-metadata in /usr/local/lib/python3.7/dist-packages (from transformers<=4.10.3,>=4.0.0->ktrain) (4.8.2)\n",
      "Requirement already satisfied: sacremoses in /usr/local/lib/python3.7/dist-packages (from transformers<=4.10.3,>=4.0.0->ktrain) (0.0.46)\n",
      "Requirement already satisfied: huggingface-hub>=0.0.12 in /usr/local/lib/python3.7/dist-packages (from transformers<=4.10.3,>=4.0.0->ktrain) (0.1.2)\n",
      "Requirement already satisfied: tqdm>=4.27 in /usr/local/lib/python3.7/dist-packages (from transformers<=4.10.3,>=4.0.0->ktrain) (4.62.3)\n",
      "Requirement already satisfied: tokenizers<0.11,>=0.10.1 in /usr/local/lib/python3.7/dist-packages (from transformers<=4.10.3,>=4.0.0->ktrain) (0.10.3)\n",
      "Requirement already satisfied: filelock in /usr/local/lib/python3.7/dist-packages (from transformers<=4.10.3,>=4.0.0->ktrain) (3.3.2)\n",
      "Requirement already satisfied: regex!=2019.12.17 in /usr/local/lib/python3.7/dist-packages (from transformers<=4.10.3,>=4.0.0->ktrain) (2019.12.20)\n",
      "Requirement already satisfied: typing-extensions>=3.7.4.3 in /usr/local/lib/python3.7/dist-packages (from huggingface-hub>=0.0.12->transformers<=4.10.3,>=4.0.0->ktrain) (3.10.0.2)\n",
      "Requirement already satisfied: zipp>=0.5 in /usr/local/lib/python3.7/dist-packages (from importlib-metadata->transformers<=4.10.3,>=4.0.0->ktrain) (3.6.0)\n",
      "Requirement already satisfied: urllib3!=1.25.0,!=1.25.1,<1.26,>=1.21.1 in /usr/local/lib/python3.7/dist-packages (from requests->ktrain) (1.24.3)\n",
      "Requirement already satisfied: certifi>=2017.4.17 in /usr/local/lib/python3.7/dist-packages (from requests->ktrain) (2021.10.8)\n",
      "Requirement already satisfied: idna<3,>=2.5 in /usr/local/lib/python3.7/dist-packages (from requests->ktrain) (2.10)\n",
      "Requirement already satisfied: click in /usr/local/lib/python3.7/dist-packages (from sacremoses->transformers<=4.10.3,>=4.0.0->ktrain) (7.1.2)\n"
     ]
    }
   ],
   "source": [
    "!pip3 install ktrain"
   ]
  },
  {
   "cell_type": "code",
   "execution_count": null,
   "metadata": {
    "colab": {
     "base_uri": "https://localhost:8080/"
    },
    "id": "7Ia3Kin8cX9v",
    "outputId": "0a945402-e6ee-4152-d6fe-31edc719a412"
   },
   "outputs": [
    {
     "name": "stdout",
     "output_type": "stream",
     "text": [
      "Collecting https://github.com/amaiya/eli5/archive/refs/heads/tfkeras_0_10_1.zip\n",
      "  Using cached https://github.com/amaiya/eli5/archive/refs/heads/tfkeras_0_10_1.zip\n",
      "Requirement already satisfied: attrs>16.0.0 in /usr/local/lib/python3.7/dist-packages (from eli5==0.10.1) (21.2.0)\n",
      "Requirement already satisfied: jinja2 in /usr/local/lib/python3.7/dist-packages (from eli5==0.10.1) (2.11.3)\n",
      "Requirement already satisfied: numpy>=1.9.0 in /usr/local/lib/python3.7/dist-packages (from eli5==0.10.1) (1.19.5)\n",
      "Requirement already satisfied: scipy in /usr/local/lib/python3.7/dist-packages (from eli5==0.10.1) (1.4.1)\n",
      "Requirement already satisfied: six in /usr/local/lib/python3.7/dist-packages (from eli5==0.10.1) (1.15.0)\n",
      "Requirement already satisfied: scikit-learn>=0.18 in /usr/local/lib/python3.7/dist-packages (from eli5==0.10.1) (0.23.2)\n",
      "Requirement already satisfied: graphviz in /usr/local/lib/python3.7/dist-packages (from eli5==0.10.1) (0.10.1)\n",
      "Requirement already satisfied: tabulate>=0.7.7 in /usr/local/lib/python3.7/dist-packages (from eli5==0.10.1) (0.8.9)\n",
      "Requirement already satisfied: threadpoolctl>=2.0.0 in /usr/local/lib/python3.7/dist-packages (from scikit-learn>=0.18->eli5==0.10.1) (3.0.0)\n",
      "Requirement already satisfied: joblib>=0.11 in /usr/local/lib/python3.7/dist-packages (from scikit-learn>=0.18->eli5==0.10.1) (1.1.0)\n",
      "Requirement already satisfied: MarkupSafe>=0.23 in /usr/local/lib/python3.7/dist-packages (from jinja2->eli5==0.10.1) (2.0.1)\n"
     ]
    }
   ],
   "source": [
    "!pip install https://github.com/amaiya/eli5/archive/refs/heads/tfkeras_0_10_1.zip"
   ]
  },
  {
   "cell_type": "code",
   "execution_count": null,
   "metadata": {
    "colab": {
     "base_uri": "https://localhost:8080/"
    },
    "id": "UQcoaotbaAUK",
    "outputId": "d91eab8b-dcb7-4220-e8f6-2040292fb2cb"
   },
   "outputs": [
    {
     "name": "stdout",
     "output_type": "stream",
     "text": [
      "Requirement already satisfied: unidecode in /usr/local/lib/python3.7/dist-packages (1.3.2)\n"
     ]
    }
   ],
   "source": [
    "!pip install unidecode"
   ]
  },
  {
   "cell_type": "code",
   "execution_count": null,
   "metadata": {
    "id": "XsfcHmiRYtXU"
   },
   "outputs": [],
   "source": [
    "base_path = '/content/drive/My Drive/wassa/'\n"
   ]
  },
  {
   "cell_type": "code",
   "execution_count": null,
   "metadata": {
    "id": "6T5d4PwDjs_t"
   },
   "outputs": [],
   "source": [
    "from google.colab import drive\n",
    "drive.mount('/content/drive')"
   ]
  },
  {
   "cell_type": "code",
   "execution_count": null,
   "metadata": {
    "id": "efUyXrSyZLa0"
   },
   "outputs": [],
   "source": [
    "classes = ['anger', 'joy', 'sadness', 'fear']\n",
    "\n",
    "class_mapping = {}\n",
    "for idx, name in enumerate(classes):\n",
    "    class_mapping[name] = idx \n",
    "no_classes = len(classes)"
   ]
  },
  {
   "cell_type": "code",
   "execution_count": null,
   "metadata": {
    "id": "8JI3tvN-ZyLT"
   },
   "outputs": [],
   "source": [
    "cols = ['tweet', 'tweettype']"
   ]
  },
  {
   "cell_type": "code",
   "execution_count": null,
   "metadata": {
    "id": "3M3zmC_FZz9B"
   },
   "outputs": [],
   "source": [
    "contraction_mapping = {\"ain't\": \"is not\", \"aren't\": \"are not\",\"can't\": \"cannot\", \n",
    "                   \"can't've\": \"cannot have\", \"'cause\": \"because\", \"could've\": \"could have\", \n",
    "                   \"couldn't\": \"could not\", \"couldn't've\": \"could not have\",\"didn't\": \"did not\", \n",
    "                   \"doesn't\": \"does not\", \"don't\": \"do not\", \"hadn't\": \"had not\", \n",
    "                   \"hadn't've\": \"had not have\", \"hasn't\": \"has not\", \"haven't\": \"have not\", \n",
    "                   \"he'd\": \"he would\", \"he'd've\": \"he would have\", \"he'll\": \"he will\", \n",
    "                   \"he'll've\": \"he will have\", \"he's\": \"he is\", \"how'd\": \"how did\", \n",
    "                   \"how'd'y\": \"how do you\", \"how'll\": \"how will\", \"how's\": \"how is\", \n",
    "                   \"I'd\": \"I would\", \"I'd've\": \"I would have\", \"I'll\": \"I will\", \n",
    "                   \"I'll've\": \"I will have\",\"I'm\": \"I am\", \"I've\": \"I have\", \n",
    "                   \"i'd\": \"i would\", \"i'd've\": \"i would have\", \"i'll\": \"i will\", \n",
    "                   \"i'll've\": \"i will have\",\"i'm\": \"i am\", \"i've\": \"i have\", \n",
    "                   \"isn't\": \"is not\", \"it'd\": \"it would\", \"it'd've\": \"it would have\", \n",
    "                   \"it'll\": \"it will\", \"it'll've\": \"it will have\",\"it's\": \"it is\", \n",
    "                   \"let's\": \"let us\", \"ma'am\": \"madam\", \"mayn't\": \"may not\", \n",
    "                   \"might've\": \"might have\",\"mightn't\": \"might not\",\"mightn't've\": \"might not have\", \n",
    "                   \"must've\": \"must have\", \"mustn't\": \"must not\", \"mustn't've\": \"must not have\", \n",
    "                   \"needn't\": \"need not\", \"needn't've\": \"need not have\",\"o'clock\": \"of the clock\", \n",
    "                   \"oughtn't\": \"ought not\", \"oughtn't've\": \"ought not have\", \"shan't\": \"shall not\",\n",
    "                   \"sha'n't\": \"shall not\", \"shan't've\": \"shall not have\", \"she'd\": \"she would\", \n",
    "                   \"she'd've\": \"she would have\", \"she'll\": \"she will\", \"she'll've\": \"she will have\", \n",
    "                   \"she's\": \"she is\", \"should've\": \"should have\", \"shouldn't\": \"should not\", \n",
    "                   \"shouldn't've\": \"should not have\", \"so've\": \"so have\",\"so's\": \"so as\", \n",
    "                   \"this's\": \"this is\",\n",
    "                   \"that'd\": \"that would\", \"that'd've\": \"that would have\",\"that's\": \"that is\", \n",
    "                   \"there'd\": \"there would\", \"there'd've\": \"there would have\",\"there's\": \"there is\", \n",
    "                       \"here's\": \"here is\",\n",
    "                   \"they'd\": \"they would\", \"they'd've\": \"they would have\", \"they'll\": \"they will\", \n",
    "                   \"they'll've\": \"they will have\", \"they're\": \"they are\", \"they've\": \"they have\", \n",
    "                   \"to've\": \"to have\", \"wasn't\": \"was not\", \"we'd\": \"we would\", \n",
    "                   \"we'd've\": \"we would have\", \"we'll\": \"we will\", \"we'll've\": \"we will have\", \n",
    "                   \"we're\": \"we are\", \"we've\": \"we have\", \"weren't\": \"were not\", \n",
    "                   \"what'll\": \"what will\", \"what'll've\": \"what will have\", \"what're\": \"what are\", \n",
    "                   \"what's\": \"what is\", \"what've\": \"what have\", \"when's\": \"when is\", \n",
    "                   \"when've\": \"when have\", \"where'd\": \"where did\", \"where's\": \"where is\", \n",
    "                   \"where've\": \"where have\", \"who'll\": \"who will\", \"who'll've\": \"who will have\", \n",
    "                   \"who's\": \"who is\", \"who've\": \"who have\", \"why's\": \"why is\", \n",
    "                   \"why've\": \"why have\", \"will've\": \"will have\", \"won't\": \"will not\", \n",
    "                   \"won't've\": \"will not have\", \"would've\": \"would have\", \"wouldn't\": \"would not\", \n",
    "                   \"wouldn't've\": \"would not have\", \"y'all\": \"you all\", \"y'all'd\": \"you all would\",\n",
    "                   \"y'all'd've\": \"you all would have\",\"y'all're\": \"you all are\",\"y'all've\": \"you all have\",\n",
    "                   \"you'd\": \"you would\", \"you'd've\": \"you would have\", \"you'll\": \"you will\", \n",
    "                   \"you'll've\": \"you will have\", \"you're\": \"you are\", \"you've\": \"you have\" }"
   ]
  },
  {
   "cell_type": "code",
   "execution_count": null,
   "metadata": {
    "id": "GeMifS1cZ2fA"
   },
   "outputs": [],
   "source": [
    "import codecs\n",
    "import unidecode\n",
    "import re\n",
    "import spacy\n",
    "nlp = spacy.load('en')\n",
    "\n",
    "def spacy_cleaner(text):\n",
    "    try:\n",
    "        decoded = unidecode.unidecode(codecs.decode(text, 'unicode_escape'))\n",
    "    except:\n",
    "        decoded = unidecode.unidecode(text)\n",
    "    apostrophe_handled = re.sub(\"’\", \"'\", decoded)\n",
    "    expanded = ' '.join([contraction_mapping[t] if t in contraction_mapping else t for t in apostrophe_handled.split(\" \")])\n",
    "    parsed = nlp(expanded)\n",
    "    final_tokens = []\n",
    "    for t in parsed:\n",
    "        if t.is_punct or t.is_space or t.like_num or t.like_url or str(t).startswith('@'):\n",
    "            pass\n",
    "        else:\n",
    "            if t.lemma_ == '-PRON-':\n",
    "                final_tokens.append(str(t))\n",
    "            else:\n",
    "                sc_removed = re.sub(\"[^a-zA-Z]\", '', str(t.lemma_))\n",
    "                if len(sc_removed) > 1:\n",
    "                    final_tokens.append(sc_removed)\n",
    "    joined = ' '.join(final_tokens)\n",
    "    spell_corrected = re.sub(r'(.)\\1+', r'\\1\\1', joined)\n",
    "    return spell_corrected"
   ]
  },
  {
   "cell_type": "code",
   "execution_count": null,
   "metadata": {
    "id": "7IeAEw4vZ47k"
   },
   "outputs": [],
   "source": [
    "def clean_text(data):\n",
    "    data = (re.sub(r\"(#[\\d\\w\\.]+)\", '', data)).lower()\n",
    "    data = emoji.demojize(data)\n",
    "    data = spacy_cleaner(data)\n",
    "    return data"
   ]
  },
  {
   "cell_type": "code",
   "execution_count": null,
   "metadata": {
    "id": "VZcyG4qPaF7w"
   },
   "outputs": [],
   "source": [
    "def build_dataset(df, feature='text', target='label'):\n",
    "    dataset = (\n",
    "                tf.data.Dataset.from_tensor_slices(\n",
    "                    (\n",
    "                        tf.cast(df[feature].values, tf.string),\n",
    "                        tf.cast(df[target].values, tf.int32)\n",
    "                    )\n",
    "                )\n",
    "            )\n",
    "    return dataset"
   ]
  },
  {
   "cell_type": "code",
   "execution_count": null,
   "metadata": {
    "id": "DvuxahhWaHaO"
   },
   "outputs": [],
   "source": [
    "def load_dataset(directory, ending, threshold = 0, testing = False):\n",
    "\n",
    "    df_list = []\n",
    "\n",
    "    for emotion in classes:\n",
    "        file_name = f'{base_path}{directory}/{emotion}{ending}'\n",
    "        df = pd.read_csv(file_name, delimiter='\\t')\n",
    "        \n",
    "        stop = stopwords.words('english')\n",
    "        df['tweet'] = df['tweet'].apply(lambda x: \" \".join(x for x in x.split() if x not in stop))\n",
    "        \n",
    "        if not testing:\n",
    "            df = df[df['score'] > threshold]\n",
    "        \n",
    "        df = df[cols]\n",
    "        \n",
    "        df['tweet'] = df['tweet'].apply(lambda x: \" \".join(x for x in x.split() if x not in stop))\n",
    "        df['tweet'] = df['tweet'].apply(clean_text)        \n",
    "        df['tweettype'] = df['tweettype'].apply(lambda x : class_mapping[x])        \n",
    "\n",
    "        df_list.append(df)\n",
    "\n",
    "    df = pd.concat(df_list)\n",
    "    df = df.rename(columns = {'tweet' : 'text', 'tweettype' : 'label'})\n",
    "    print('Distribution of data: ')\n",
    "    print(df['label'].value_counts())\n",
    "    \n",
    "    labels = df['label'].values\n",
    "    \n",
    "    dataset = build_dataset(df)\n",
    "    \n",
    "    return dataset, labels, df"
   ]
  },
  {
   "cell_type": "code",
   "execution_count": null,
   "metadata": {
    "colab": {
     "base_uri": "https://localhost:8080/"
    },
    "id": "QmWRATPSajGn",
    "outputId": "7dd15803-a433-40e6-e336-b207332b2a02"
   },
   "outputs": [
    {
     "name": "stdout",
     "output_type": "stream",
     "text": [
      "[nltk_data] Downloading package stopwords to /root/nltk_data...\n",
      "[nltk_data]   Package stopwords is already up-to-date!\n"
     ]
    },
    {
     "data": {
      "text/plain": [
       "True"
      ]
     },
     "execution_count": 12,
     "metadata": {},
     "output_type": "execute_result"
    }
   ],
   "source": [
    "import nltk\n",
    "nltk.download('stopwords')"
   ]
  },
  {
   "cell_type": "code",
   "execution_count": null,
   "metadata": {
    "colab": {
     "base_uri": "https://localhost:8080/"
    },
    "id": "bqeRVVWCarUP",
    "outputId": "6f3d4873-de43-4e1c-b0a3-1c0999964053"
   },
   "outputs": [
    {
     "name": "stdout",
     "output_type": "stream",
     "text": [
      "Requirement already satisfied: emoji in /usr/local/lib/python3.7/dist-packages (1.6.1)\n"
     ]
    }
   ],
   "source": [
    "!pip install emoji"
   ]
  },
  {
   "cell_type": "code",
   "execution_count": null,
   "metadata": {
    "colab": {
     "base_uri": "https://localhost:8080/"
    },
    "id": "BvFlBOttaJRu",
    "outputId": "9e9a255f-5eb7-46f9-ebd3-a528307fba16"
   },
   "outputs": [
    {
     "name": "stdout",
     "output_type": "stream",
     "text": [
      "Distribution of data: \n",
      "3    1147\n",
      "0     857\n",
      "1     823\n",
      "2     786\n",
      "Name: label, dtype: int64\n"
     ]
    }
   ],
   "source": [
    "import pandas as pd\n",
    "from nltk.corpus import stopwords\n",
    "import emoji\n",
    "import tensorflow as tf\n",
    "\n",
    "# Training\n",
    "threshold = 0\n",
    "\n",
    "directory = 'training'\n",
    "ending = '-ratings-0to1.train.txt'\n",
    "\n",
    "train_dataset,_, df_train = load_dataset(directory, ending, threshold = threshold)"
   ]
  },
  {
   "cell_type": "code",
   "execution_count": null,
   "metadata": {
    "colab": {
     "base_uri": "https://localhost:8080/",
     "height": 424
    },
    "id": "7rzkZy5qbF8t",
    "outputId": "377d7591-5ce9-4aeb-e708-1c7e7a9c4554"
   },
   "outputs": [
    {
     "data": {
      "text/html": [
       "<div>\n",
       "<style scoped>\n",
       "    .dataframe tbody tr th:only-of-type {\n",
       "        vertical-align: middle;\n",
       "    }\n",
       "\n",
       "    .dataframe tbody tr th {\n",
       "        vertical-align: top;\n",
       "    }\n",
       "\n",
       "    .dataframe thead th {\n",
       "        text-align: right;\n",
       "    }\n",
       "</style>\n",
       "<table border=\"1\" class=\"dataframe\">\n",
       "  <thead>\n",
       "    <tr style=\"text-align: right;\">\n",
       "      <th></th>\n",
       "      <th>text</th>\n",
       "      <th>label</th>\n",
       "    </tr>\n",
       "  </thead>\n",
       "  <tbody>\n",
       "    <tr>\n",
       "      <th>0</th>\n",
       "      <td>how fuk who heck move fridge knock landlord door</td>\n",
       "      <td>0</td>\n",
       "    </tr>\n",
       "    <tr>\n",
       "      <th>1</th>\n",
       "      <td>so indian uber driver call someone word if mov...</td>\n",
       "      <td>0</td>\n",
       "    </tr>\n",
       "    <tr>\n",
       "      <th>2</th>\n",
       "      <td>ask parcel deliver pick store address</td>\n",
       "      <td>0</td>\n",
       "    </tr>\n",
       "    <tr>\n",
       "      <th>3</th>\n",
       "      <td>ef whichever butt wipe pull fire alarm davis b...</td>\n",
       "      <td>0</td>\n",
       "    </tr>\n",
       "    <tr>\n",
       "      <th>4</th>\n",
       "      <td>do not join put phone you talk rude take money...</td>\n",
       "      <td>0</td>\n",
       "    </tr>\n",
       "    <tr>\n",
       "      <th>...</th>\n",
       "      <td>...</td>\n",
       "      <td>...</td>\n",
       "    </tr>\n",
       "    <tr>\n",
       "      <th>1142</th>\n",
       "      <td>pull make car facesavoringfoodsweatdroplet</td>\n",
       "      <td>3</td>\n",
       "    </tr>\n",
       "    <tr>\n",
       "      <th>1143</th>\n",
       "      <td>awe be not sweetheart he be adorable smilingfa...</td>\n",
       "      <td>3</td>\n",
       "    </tr>\n",
       "    <tr>\n",
       "      <th>1144</th>\n",
       "      <td>steak pie supper</td>\n",
       "      <td>3</td>\n",
       "    </tr>\n",
       "    <tr>\n",
       "      <th>1145</th>\n",
       "      <td>awe thank much love twohearts</td>\n",
       "      <td>3</td>\n",
       "    </tr>\n",
       "    <tr>\n",
       "      <th>1146</th>\n",
       "      <td>omg kiss her see no evilmonkey</td>\n",
       "      <td>3</td>\n",
       "    </tr>\n",
       "  </tbody>\n",
       "</table>\n",
       "<p>3613 rows × 2 columns</p>\n",
       "</div>"
      ],
      "text/plain": [
       "                                                   text  label\n",
       "0      how fuk who heck move fridge knock landlord door      0\n",
       "1     so indian uber driver call someone word if mov...      0\n",
       "2                 ask parcel deliver pick store address      0\n",
       "3     ef whichever butt wipe pull fire alarm davis b...      0\n",
       "4     do not join put phone you talk rude take money...      0\n",
       "...                                                 ...    ...\n",
       "1142         pull make car facesavoringfoodsweatdroplet      3\n",
       "1143  awe be not sweetheart he be adorable smilingfa...      3\n",
       "1144                                   steak pie supper      3\n",
       "1145                      awe thank much love twohearts      3\n",
       "1146                     omg kiss her see no evilmonkey      3\n",
       "\n",
       "[3613 rows x 2 columns]"
      ]
     },
     "execution_count": 15,
     "metadata": {},
     "output_type": "execute_result"
    }
   ],
   "source": [
    "df_train"
   ]
  },
  {
   "cell_type": "code",
   "execution_count": null,
   "metadata": {
    "colab": {
     "base_uri": "https://localhost:8080/"
    },
    "id": "v_oG9x33aL6u",
    "outputId": "dc428a24-8ae3-4754-fdad-3defec08cca3"
   },
   "outputs": [
    {
     "name": "stdout",
     "output_type": "stream",
     "text": [
      "Distribution of data: \n",
      "3    110\n",
      "0     84\n",
      "1     79\n",
      "2     74\n",
      "Name: label, dtype: int64\n"
     ]
    }
   ],
   "source": [
    "# Validation\n",
    "\n",
    "directory = 'validation'\n",
    "ending = '-ratings-0to1.dev.gold.txt'\n",
    "\n",
    "val_dataset,_, df_val = load_dataset(directory, ending)"
   ]
  },
  {
   "cell_type": "code",
   "execution_count": null,
   "metadata": {
    "colab": {
     "base_uri": "https://localhost:8080/"
    },
    "id": "dNM14NdRa-Oc",
    "outputId": "75297182-9edc-4435-ba6f-c67a721aa432"
   },
   "outputs": [
    {
     "name": "stdout",
     "output_type": "stream",
     "text": [
      "Distribution of data: \n",
      "3    995\n",
      "0    760\n",
      "1    714\n",
      "2    673\n",
      "Name: label, dtype: int64\n"
     ]
    }
   ],
   "source": [
    "# Testing\n",
    "\n",
    "directory = 'testing'\n",
    "ending = '-ratings-0to1.test.target.txt'\n",
    "\n",
    "test_dataset, y_test, df_test = load_dataset(directory, ending, testing = True)"
   ]
  },
  {
   "cell_type": "code",
   "execution_count": null,
   "metadata": {
    "colab": {
     "base_uri": "https://localhost:8080/",
     "height": 484
    },
    "id": "Pko38gojbP8f",
    "outputId": "4dfb6d5c-0256-4e93-97b9-2e2be7a41d59"
   },
   "outputs": [
    {
     "name": "stdout",
     "output_type": "stream",
     "text": [
      "size of training set: 3613\n",
      "size of validation set: 347\n",
      "3    1257\n",
      "0     941\n",
      "1     902\n",
      "2     860\n",
      "Name: label, dtype: int64\n"
     ]
    },
    {
     "data": {
      "text/html": [
       "<div>\n",
       "<style scoped>\n",
       "    .dataframe tbody tr th:only-of-type {\n",
       "        vertical-align: middle;\n",
       "    }\n",
       "\n",
       "    .dataframe tbody tr th {\n",
       "        vertical-align: top;\n",
       "    }\n",
       "\n",
       "    .dataframe thead th {\n",
       "        text-align: right;\n",
       "    }\n",
       "</style>\n",
       "<table border=\"1\" class=\"dataframe\">\n",
       "  <thead>\n",
       "    <tr style=\"text-align: right;\">\n",
       "      <th></th>\n",
       "      <th>text</th>\n",
       "      <th>label</th>\n",
       "    </tr>\n",
       "  </thead>\n",
       "  <tbody>\n",
       "    <tr>\n",
       "      <th>0</th>\n",
       "      <td>how fuk who heck move fridge knock landlord door</td>\n",
       "      <td>0</td>\n",
       "    </tr>\n",
       "    <tr>\n",
       "      <th>1</th>\n",
       "      <td>so indian uber driver call someone word if mov...</td>\n",
       "      <td>0</td>\n",
       "    </tr>\n",
       "    <tr>\n",
       "      <th>2</th>\n",
       "      <td>ask parcel deliver pick store address</td>\n",
       "      <td>0</td>\n",
       "    </tr>\n",
       "    <tr>\n",
       "      <th>3</th>\n",
       "      <td>ef whichever butt wipe pull fire alarm davis b...</td>\n",
       "      <td>0</td>\n",
       "    </tr>\n",
       "    <tr>\n",
       "      <th>4</th>\n",
       "      <td>do not join put phone you talk rude take money...</td>\n",
       "      <td>0</td>\n",
       "    </tr>\n",
       "    <tr>\n",
       "      <th>5</th>\n",
       "      <td>my blood boiling</td>\n",
       "      <td>0</td>\n",
       "    </tr>\n",
       "    <tr>\n",
       "      <th>6</th>\n",
       "      <td>when still get whole season wentworth watch st...</td>\n",
       "      <td>0</td>\n",
       "    </tr>\n",
       "    <tr>\n",
       "      <th>7</th>\n",
       "      <td>tracking show equipment deliver be not why ser...</td>\n",
       "      <td>0</td>\n",
       "    </tr>\n",
       "    <tr>\n",
       "      <th>8</th>\n",
       "      <td>legit furious him people fucking idiot</td>\n",
       "      <td>0</td>\n",
       "    </tr>\n",
       "    <tr>\n",
       "      <th>9</th>\n",
       "      <td>how suppose work that wtf dude thank piss off</td>\n",
       "      <td>0</td>\n",
       "    </tr>\n",
       "  </tbody>\n",
       "</table>\n",
       "</div>"
      ],
      "text/plain": [
       "                                                text  label\n",
       "0   how fuk who heck move fridge knock landlord door      0\n",
       "1  so indian uber driver call someone word if mov...      0\n",
       "2              ask parcel deliver pick store address      0\n",
       "3  ef whichever butt wipe pull fire alarm davis b...      0\n",
       "4  do not join put phone you talk rude take money...      0\n",
       "5                                   my blood boiling      0\n",
       "6  when still get whole season wentworth watch st...      0\n",
       "7  tracking show equipment deliver be not why ser...      0\n",
       "8             legit furious him people fucking idiot      0\n",
       "9      how suppose work that wtf dude thank piss off      0"
      ]
     },
     "execution_count": 81,
     "metadata": {},
     "output_type": "execute_result"
    }
   ],
   "source": [
    "X_train = df_train.text.tolist()\n",
    "X_test = df_val.text.tolist()\n",
    "\n",
    "y_train = df_train.label.tolist()\n",
    "y_test = df_val.label.tolist()\n",
    "\n",
    "data = df_train.append(df_val, ignore_index=True)\n",
    "\n",
    "print('size of training set: %s' % (len(df_train['text'])))\n",
    "print('size of validation set: %s' % (len(df_val['text'])))\n",
    "print(data.label.value_counts())\n",
    "\n",
    "data.head(10)"
   ]
  },
  {
   "cell_type": "code",
   "execution_count": null,
   "metadata": {
    "colab": {
     "base_uri": "https://localhost:8080/",
     "height": 156
    },
    "id": "iN07L__nbsSV",
    "outputId": "2b3c3509-e235-42fd-da36-f6a25b36d03a"
   },
   "outputs": [
    {
     "name": "stdout",
     "output_type": "stream",
     "text": [
      "preprocessing train...\n",
      "language: en\n"
     ]
    },
    {
     "data": {
      "text/html": [
       "done."
      ],
      "text/plain": [
       "<IPython.core.display.HTML object>"
      ]
     },
     "metadata": {},
     "output_type": "display_data"
    },
    {
     "name": "stdout",
     "output_type": "stream",
     "text": [
      "Is Multi-Label? False\n",
      "preprocessing test...\n",
      "language: en\n"
     ]
    },
    {
     "data": {
      "text/html": [
       "done."
      ],
      "text/plain": [
       "<IPython.core.display.HTML object>"
      ]
     },
     "metadata": {},
     "output_type": "display_data"
    },
    {
     "name": "stdout",
     "output_type": "stream",
     "text": [
      "task: text classification\n"
     ]
    }
   ],
   "source": [
    "import ktrain\n",
    "from ktrain import text\n",
    "\n",
    "class_names=[0,1,2,3]\n",
    "\n",
    "(x_train,  y_train), (x_test, y_test), preproc = text.texts_from_array(x_train=X_train, y_train=y_train,\n",
    "                                                                       x_test=X_test, y_test=y_test,\n",
    "                                                                       class_names=class_names,\n",
    "                                                                       preprocess_mode='bert',\n",
    "                                                                       lang='en',\n",
    "                                                                       maxlen=350, \n",
    "                                                                       max_features=35000)"
   ]
  },
  {
   "cell_type": "code",
   "execution_count": null,
   "metadata": {
    "colab": {
     "base_uri": "https://localhost:8080/"
    },
    "id": "K6uI6QnIcSF8",
    "outputId": "3de2fa07-6b1e-4900-f238-21e845c39f35"
   },
   "outputs": [
    {
     "name": "stdout",
     "output_type": "stream",
     "text": [
      "Is Multi-Label? False\n",
      "maxlen is 350\n",
      "done.\n"
     ]
    }
   ],
   "source": [
    "model = text.text_classifier('bert', train_data=(x_train, y_train), preproc=preproc)"
   ]
  },
  {
   "cell_type": "code",
   "execution_count": null,
   "metadata": {
    "id": "Xq92CipkdFSY"
   },
   "outputs": [],
   "source": [
    "learner = ktrain.get_learner(model, train_data=(x_train, y_train), \n",
    "                             val_data=(x_test, y_test),\n",
    "                             batch_size=6)\n"
   ]
  },
  {
   "cell_type": "code",
   "execution_count": null,
   "metadata": {
    "colab": {
     "base_uri": "https://localhost:8080/",
     "height": 528
    },
    "id": "PdT9Lu6Vcabs",
    "outputId": "f2e02681-019b-47ef-e9fe-3126a07d698d"
   },
   "outputs": [
    {
     "name": "stdout",
     "output_type": "stream",
     "text": [
      "simulating training for different learning rates... this may take a few moments...\n"
     ]
    },
    {
     "name": "stderr",
     "output_type": "stream",
     "text": [
      "/usr/local/lib/python3.7/dist-packages/keras/engine/functional.py:1410: CustomMaskWarning: Custom mask layers require a config and must override get_config. When loading, the custom mask layer must be passed to the custom_objects argument.\n",
      "  layer_config = serialize_layer_fn(layer)\n"
     ]
    },
    {
     "name": "stdout",
     "output_type": "stream",
     "text": [
      "Epoch 1/1024\n",
      "603/603 [==============================] - 629s 998ms/step - loss: 1.4505 - accuracy: 0.3086\n",
      "Epoch 2/1024\n",
      "603/603 [==============================] - 603s 999ms/step - loss: 1.8384 - accuracy: 0.3443\n",
      "Epoch 3/1024\n",
      "603/603 [==============================] - 40s 65ms/step - loss: 8.3571 - accuracy: 0.2375\n",
      "\n",
      "\n",
      "done.\n",
      "Visually inspect loss plot and select learning rate associated with falling loss\n"
     ]
    },
    {
     "data": {
      "image/png": "[encoded data removed]",
      "text/plain": [
       "<Figure size 432x288 with 1 Axes>"
      ]
     },
     "metadata": {
      "needs_background": "light"
     },
     "output_type": "display_data"
    }
   ],
   "source": [
    "learner.lr_find(show_plot=True)"
   ]
  },
  {
   "cell_type": "code",
   "execution_count": null,
   "metadata": {
    "colab": {
     "base_uri": "https://localhost:8080/"
    },
    "id": "NpgqILBHKFps",
    "outputId": "0f5d23c1-a09c-49fa-f18b-c8f1ee1d96da"
   },
   "outputs": [
    {
     "name": "stdout",
     "output_type": "stream",
     "text": [
      "early_stopping automatically enabled at patience=5\n",
      "reduce_on_plateau automatically enabled at patience=2\n",
      "\n",
      "\n",
      "begin training using triangular learning rate policy with max lr of 0.001...\n",
      "Epoch 1/1024\n",
      " 13/603 [..............................] - ETA: 9:49 - loss: 1.3916 - accuracy: 0.3205"
     ]
    }
   ],
   "source": [
    "learner.autofit(2e-5, monitor='val_accuracy')"
   ]
  },
  {
   "cell_type": "code",
   "execution_count": null,
   "metadata": {
    "colab": {
     "base_uri": "https://localhost:8080/"
    },
    "id": "qzKXRogVdKGL",
    "outputId": "8a438d56-d1d0-4d10-aa94-4d84baa14889"
   },
   "outputs": [
    {
     "name": "stdout",
     "output_type": "stream",
     "text": [
      "              precision    recall  f1-score   support\n",
      "\n",
      "           0       0.00      0.00      0.00        84\n",
      "           1       0.00      0.00      0.00        79\n",
      "           2       0.00      0.00      0.00        74\n",
      "           3       0.32      1.00      0.48       110\n",
      "\n",
      "    accuracy                           0.32       347\n",
      "   macro avg       0.08      0.25      0.12       347\n",
      "weighted avg       0.10      0.32      0.15       347\n",
      "\n"
     ]
    },
    {
     "name": "stderr",
     "output_type": "stream",
     "text": [
      "/usr/local/lib/python3.7/dist-packages/sklearn/metrics/_classification.py:1221: UndefinedMetricWarning: Precision and F-score are ill-defined and being set to 0.0 in labels with no predicted samples. Use `zero_division` parameter to control this behavior.\n",
      "  _warn_prf(average, modifier, msg_start, len(result))\n"
     ]
    },
    {
     "data": {
      "text/plain": [
       "array([[  0,   0,   0,  84],\n",
       "       [  0,   0,   0,  79],\n",
       "       [  0,   0,   0,  74],\n",
       "       [  0,   0,   0, 110]])"
      ]
     },
     "execution_count": 79,
     "metadata": {},
     "output_type": "execute_result"
    }
   ],
   "source": [
    "learner.validate(val_data=(x_test, y_test), class_names=class_names)"
   ]
  },
  {
   "cell_type": "code",
   "execution_count": null,
   "metadata": {
    "colab": {
     "base_uri": "https://localhost:8080/",
     "height": 416
    },
    "id": "I89p6etBEdNx",
    "outputId": "b8c89196-4583-4e98-d211-2737952d6f59"
   },
   "outputs": [
    {
     "name": "stdout",
     "output_type": "stream",
     "text": [
      "preprocessing train...\n",
      "language: en\n"
     ]
    },
    {
     "data": {
      "text/html": [
       "done."
      ],
      "text/plain": [
       "<IPython.core.display.HTML object>"
      ]
     },
     "metadata": {},
     "output_type": "display_data"
    },
    {
     "name": "stdout",
     "output_type": "stream",
     "text": [
      "Is Multi-Label? False\n",
      "preprocessing test...\n",
      "language: en\n"
     ]
    },
    {
     "data": {
      "text/html": [
       "done."
      ],
      "text/plain": [
       "<IPython.core.display.HTML object>"
      ]
     },
     "metadata": {},
     "output_type": "display_data"
    },
    {
     "name": "stdout",
     "output_type": "stream",
     "text": [
      "task: text classification\n",
      "              precision    recall  f1-score   support\n",
      "\n",
      "           0       0.71      0.66      0.68       760\n",
      "           1       0.79      0.74      0.76       714\n",
      "           2       0.60      0.66      0.63       673\n",
      "           3       0.65      0.67      0.66       995\n",
      "\n",
      "    accuracy                           0.68      3142\n",
      "   macro avg       0.69      0.68      0.68      3142\n",
      "weighted avg       0.69      0.68      0.68      3142\n",
      "\n"
     ]
    },
    {
     "data": {
      "text/plain": [
       "array([[502,  34,  88, 136],\n",
       "       [ 39, 525,  48, 102],\n",
       "       [ 62,  40, 447, 124],\n",
       "       [103,  67, 157, 668]])"
      ]
     },
     "execution_count": 30,
     "metadata": {},
     "output_type": "execute_result"
    }
   ],
   "source": [
    "#on purely test data\n",
    "X_test = df_test.text.tolist()\n",
    "y_test = df_test.label.tolist()\n",
    "\n",
    "(x_train,  y_train), (x_test, y_test), preproc = text.texts_from_array(x_train=X_train, y_train=y_train,\n",
    "                                                                       x_test=X_test, y_test=y_test,\n",
    "                                                                       class_names=class_names,\n",
    "                                                                       preprocess_mode='bert',\n",
    "                                                                       lang='en',\n",
    "                                                                       maxlen=350, \n",
    "                                                                       max_features=35000)\n",
    "\n",
    "learner.validate(val_data=(x_test, y_test), class_names=class_names)"
   ]
  },
  {
   "cell_type": "code",
   "execution_count": null,
   "metadata": {
    "colab": {
     "base_uri": "https://localhost:8080/",
     "height": 294
    },
    "id": "2k_wZk-UqCYj",
    "outputId": "0d1d2a6e-935a-48e0-c513-e81785dc930f"
   },
   "outputs": [
    {
     "data": {
      "image/png": "[encoded data removed]",
      "text/plain": [
       "<Figure size 432x288 with 1 Axes>"
      ]
     },
     "metadata": {
      "needs_background": "light"
     },
     "output_type": "display_data"
    }
   ],
   "source": [
    "learner.plot()"
   ]
  },
  {
   "cell_type": "markdown",
   "metadata": {
    "id": "s8fOi3gI552H"
   },
   "source": [
    "FAST TEXT"
   ]
  },
  {
   "cell_type": "code",
   "execution_count": null,
   "metadata": {
    "colab": {
     "base_uri": "https://localhost:8080/",
     "height": 484
    },
    "id": "fevt2568F-HO",
    "outputId": "a9c48b60-ecff-4407-d9f9-a5360b57c1fc"
   },
   "outputs": [
    {
     "name": "stdout",
     "output_type": "stream",
     "text": [
      "size of training set: 3613\n",
      "size of validation set: 347\n",
      "3    1257\n",
      "0     941\n",
      "1     902\n",
      "2     860\n",
      "Name: label, dtype: int64\n"
     ]
    },
    {
     "data": {
      "text/html": [
       "<div>\n",
       "<style scoped>\n",
       "    .dataframe tbody tr th:only-of-type {\n",
       "        vertical-align: middle;\n",
       "    }\n",
       "\n",
       "    .dataframe tbody tr th {\n",
       "        vertical-align: top;\n",
       "    }\n",
       "\n",
       "    .dataframe thead th {\n",
       "        text-align: right;\n",
       "    }\n",
       "</style>\n",
       "<table border=\"1\" class=\"dataframe\">\n",
       "  <thead>\n",
       "    <tr style=\"text-align: right;\">\n",
       "      <th></th>\n",
       "      <th>text</th>\n",
       "      <th>label</th>\n",
       "    </tr>\n",
       "  </thead>\n",
       "  <tbody>\n",
       "    <tr>\n",
       "      <th>0</th>\n",
       "      <td>how fuk who heck move fridge knock landlord door</td>\n",
       "      <td>0</td>\n",
       "    </tr>\n",
       "    <tr>\n",
       "      <th>1</th>\n",
       "      <td>so indian uber driver call someone word if mov...</td>\n",
       "      <td>0</td>\n",
       "    </tr>\n",
       "    <tr>\n",
       "      <th>2</th>\n",
       "      <td>ask parcel deliver pick store address</td>\n",
       "      <td>0</td>\n",
       "    </tr>\n",
       "    <tr>\n",
       "      <th>3</th>\n",
       "      <td>ef whichever butt wipe pull fire alarm davis b...</td>\n",
       "      <td>0</td>\n",
       "    </tr>\n",
       "    <tr>\n",
       "      <th>4</th>\n",
       "      <td>do not join put phone you talk rude take money...</td>\n",
       "      <td>0</td>\n",
       "    </tr>\n",
       "    <tr>\n",
       "      <th>5</th>\n",
       "      <td>my blood boiling</td>\n",
       "      <td>0</td>\n",
       "    </tr>\n",
       "    <tr>\n",
       "      <th>6</th>\n",
       "      <td>when still get whole season wentworth watch st...</td>\n",
       "      <td>0</td>\n",
       "    </tr>\n",
       "    <tr>\n",
       "      <th>7</th>\n",
       "      <td>tracking show equipment deliver be not why ser...</td>\n",
       "      <td>0</td>\n",
       "    </tr>\n",
       "    <tr>\n",
       "      <th>8</th>\n",
       "      <td>legit furious him people fucking idiot</td>\n",
       "      <td>0</td>\n",
       "    </tr>\n",
       "    <tr>\n",
       "      <th>9</th>\n",
       "      <td>how suppose work that wtf dude thank piss off</td>\n",
       "      <td>0</td>\n",
       "    </tr>\n",
       "  </tbody>\n",
       "</table>\n",
       "</div>"
      ],
      "text/plain": [
       "                                                text  label\n",
       "0   how fuk who heck move fridge knock landlord door      0\n",
       "1  so indian uber driver call someone word if mov...      0\n",
       "2              ask parcel deliver pick store address      0\n",
       "3  ef whichever butt wipe pull fire alarm davis b...      0\n",
       "4  do not join put phone you talk rude take money...      0\n",
       "5                                   my blood boiling      0\n",
       "6  when still get whole season wentworth watch st...      0\n",
       "7  tracking show equipment deliver be not why ser...      0\n",
       "8             legit furious him people fucking idiot      0\n",
       "9      how suppose work that wtf dude thank piss off      0"
      ]
     },
     "execution_count": 63,
     "metadata": {},
     "output_type": "execute_result"
    }
   ],
   "source": [
    "X_train = df_train.text.tolist()\n",
    "X_test = df_val.text.tolist()\n",
    "\n",
    "y_train = df_train.label.tolist()\n",
    "y_test = df_val.label.tolist()\n",
    "\n",
    "data = df_train.append(df_val, ignore_index=True)\n",
    "\n",
    "print('size of training set: %s' % (len(df_train['text'])))\n",
    "print('size of validation set: %s' % (len(df_val['text'])))\n",
    "print(data.label.value_counts())\n",
    "\n",
    "data.head(10)"
   ]
  },
  {
   "cell_type": "code",
   "execution_count": null,
   "metadata": {
    "colab": {
     "base_uri": "https://localhost:8080/"
    },
    "id": "9lnzvqUV1xuZ",
    "outputId": "b1108d54-b9f0-4f86-9d2d-5eff887bd9dc"
   },
   "outputs": [
    {
     "name": "stdout",
     "output_type": "stream",
     "text": [
      "language: en\n",
      "Word Counts: 6275\n",
      "Nrows: 3613\n",
      "3613 train sequences\n",
      "train sequence lengths:\n",
      "\tmean : 9\n",
      "\t95percentile : 15\n",
      "\t99percentile : 18\n",
      "x_train shape: (3613,350)\n",
      "y_train shape: (3613, 4)\n",
      "Is Multi-Label? False\n",
      "347 test sequences\n",
      "test sequence lengths:\n",
      "\tmean : 8\n",
      "\t95percentile : 13\n",
      "\t99percentile : 17\n",
      "x_test shape: (347,350)\n",
      "y_test shape: (347, 4)\n",
      "task: text classification\n"
     ]
    }
   ],
   "source": [
    "import ktrain\n",
    "from ktrain import text\n",
    "\n",
    "class_names=[0,1,2,3]\n",
    "\n",
    "(x_train,  y_train), (x_test, y_test), preproc = text.texts_from_array(x_train=X_train, y_train=y_train,\n",
    "                                                                       x_test=X_test, y_test=y_test,\n",
    "                                                                       class_names=class_names,\n",
    "                                                                       lang='en',\n",
    "                                                                       maxlen=350, \n",
    "                                                                       max_features=35000)"
   ]
  },
  {
   "cell_type": "code",
   "execution_count": null,
   "metadata": {
    "colab": {
     "base_uri": "https://localhost:8080/"
    },
    "id": "D20Z-1rq6ORr",
    "outputId": "0d162ce0-096e-48b9-a379-ebbc926e5198"
   },
   "outputs": [
    {
     "name": "stdout",
     "output_type": "stream",
     "text": [
      "Is Multi-Label? False\n",
      "compiling word ID features...\n",
      "maxlen is 350\n",
      "done.\n"
     ]
    }
   ],
   "source": [
    "# define model a fastText-like architecture using ktrain\n",
    "model = text.text_classifier('fasttext', train_data=(x_train, y_train), preproc=preproc)"
   ]
  },
  {
   "cell_type": "code",
   "execution_count": null,
   "metadata": {
    "id": "RfbwoM3M6TnI"
   },
   "outputs": [],
   "source": [
    "# wrap model and data in Learner object\n",
    "learner = ktrain.get_learner(model, train_data=(x_train, y_train), \n",
    "                             val_data=(x_test, y_test),\n",
    "                             batch_size=6)"
   ]
  },
  {
   "cell_type": "code",
   "execution_count": null,
   "metadata": {
    "colab": {
     "base_uri": "https://localhost:8080/",
     "height": 473
    },
    "id": "in4nQCmLJftv",
    "outputId": "316bb989-757f-44c0-a06c-a15c4ebe5dad"
   },
   "outputs": [
    {
     "name": "stdout",
     "output_type": "stream",
     "text": [
      "simulating training for different learning rates... this may take a few moments...\n",
      "Epoch 1/1024\n",
      "603/603 [==============================] - 6s 9ms/step - loss: 1.8150 - accuracy: 0.2447\n",
      "Epoch 2/1024\n",
      "603/603 [==============================] - 6s 9ms/step - loss: 1.6469 - accuracy: 0.2804\n",
      "Epoch 3/1024\n",
      "603/603 [==============================] - 4s 7ms/step - loss: 329.1958 - accuracy: 0.2918\n",
      "\n",
      "\n",
      "done.\n",
      "Visually inspect loss plot and select learning rate associated with falling loss\n"
     ]
    },
    {
     "data": {
      "image/png": "[encoded data removed]",
      "text/plain": [
       "<Figure size 432x288 with 1 Axes>"
      ]
     },
     "metadata": {
      "needs_background": "light"
     },
     "output_type": "display_data"
    }
   ],
   "source": [
    "learner.lr_find(show_plot=True)"
   ]
  },
  {
   "cell_type": "code",
   "execution_count": null,
   "metadata": {
    "colab": {
     "base_uri": "https://localhost:8080/"
    },
    "id": "33InTmnc6mB9",
    "outputId": "7af33fec-cc83-45f1-8d65-510cf2cd297a"
   },
   "outputs": [
    {
     "name": "stdout",
     "output_type": "stream",
     "text": [
      "early_stopping automatically enabled at patience=5\n",
      "reduce_on_plateau automatically enabled at patience=2\n",
      "\n",
      "\n",
      "begin training using triangular learning rate policy with max lr of 0.007...\n",
      "Epoch 1/1024\n",
      "603/603 [==============================] - 7s 11ms/step - loss: 1.4721 - accuracy: 0.3191 - val_loss: 1.3085 - val_accuracy: 0.4323\n",
      "Epoch 2/1024\n",
      "603/603 [==============================] - 6s 11ms/step - loss: 1.2229 - accuracy: 0.4559 - val_loss: 1.1137 - val_accuracy: 0.5389\n",
      "Epoch 3/1024\n",
      "603/603 [==============================] - 6s 10ms/step - loss: 1.0602 - accuracy: 0.5544 - val_loss: 1.0512 - val_accuracy: 0.5994\n",
      "Epoch 4/1024\n",
      "603/603 [==============================] - 6s 11ms/step - loss: 0.9490 - accuracy: 0.6183 - val_loss: 0.9681 - val_accuracy: 0.6455\n",
      "Epoch 5/1024\n",
      "603/603 [==============================] - 6s 10ms/step - loss: 0.8492 - accuracy: 0.6809 - val_loss: 0.8817 - val_accuracy: 0.6772\n",
      "Epoch 6/1024\n",
      "603/603 [==============================] - 6s 11ms/step - loss: 0.7345 - accuracy: 0.7191 - val_loss: 0.9084 - val_accuracy: 0.6369\n",
      "Epoch 7/1024\n",
      "601/603 [============================>.] - ETA: 0s - loss: 0.6963 - accuracy: 0.7407\n",
      "Epoch 00007: Reducing Max LR on Plateau: new max lr will be 0.0035 (if not early_stopping).\n",
      "603/603 [==============================] - 6s 11ms/step - loss: 0.6963 - accuracy: 0.7409 - val_loss: 0.9079 - val_accuracy: 0.6571\n",
      "Epoch 8/1024\n",
      "603/603 [==============================] - 6s 10ms/step - loss: 0.6087 - accuracy: 0.7744 - val_loss: 0.9111 - val_accuracy: 0.6542\n",
      "Epoch 9/1024\n",
      "602/603 [============================>.] - ETA: 0s - loss: 0.5641 - accuracy: 0.7918\n",
      "Epoch 00009: Reducing Max LR on Plateau: new max lr will be 0.00175 (if not early_stopping).\n",
      "603/603 [==============================] - 7s 11ms/step - loss: 0.5644 - accuracy: 0.7916 - val_loss: 0.9229 - val_accuracy: 0.6657\n",
      "Epoch 10/1024\n",
      "603/603 [==============================] - 6s 10ms/step - loss: 0.5119 - accuracy: 0.8215 - val_loss: 0.9576 - val_accuracy: 0.6801\n",
      "Epoch 11/1024\n",
      "603/603 [==============================] - 6s 10ms/step - loss: 0.4513 - accuracy: 0.8386 - val_loss: 0.9626 - val_accuracy: 0.6772\n",
      "Epoch 12/1024\n",
      "598/603 [============================>.] - ETA: 0s - loss: 0.4315 - accuracy: 0.8551\n",
      "Epoch 00012: Reducing Max LR on Plateau: new max lr will be 0.000875 (if not early_stopping).\n",
      "603/603 [==============================] - 6s 11ms/step - loss: 0.4324 - accuracy: 0.8550 - val_loss: 1.0005 - val_accuracy: 0.6657\n",
      "Epoch 13/1024\n",
      "603/603 [==============================] - 6s 10ms/step - loss: 0.4165 - accuracy: 0.8547 - val_loss: 0.9928 - val_accuracy: 0.6599\n",
      "Epoch 14/1024\n",
      "603/603 [==============================] - ETA: 0s - loss: 0.4028 - accuracy: 0.8633\n",
      "Epoch 00014: Reducing Max LR on Plateau: new max lr will be 0.0004375 (if not early_stopping).\n",
      "603/603 [==============================] - 6s 11ms/step - loss: 0.4028 - accuracy: 0.8633 - val_loss: 0.9919 - val_accuracy: 0.6657\n",
      "Epoch 15/1024\n",
      "599/603 [============================>.] - ETA: 0s - loss: 0.3859 - accuracy: 0.8659Restoring model weights from the end of the best epoch: 10.\n",
      "603/603 [==============================] - 6s 11ms/step - loss: 0.3850 - accuracy: 0.8663 - val_loss: 0.9966 - val_accuracy: 0.6715\n",
      "Epoch 00015: early stopping\n",
      "Weights from best epoch have been loaded into model.\n"
     ]
    },
    {
     "data": {
      "text/plain": [
       "<keras.callbacks.History at 0x7fceb75140d0>"
      ]
     },
     "execution_count": 68,
     "metadata": {},
     "output_type": "execute_result"
    }
   ],
   "source": [
    "#learner.fit_onecycle(2e-5, 5)\n",
    "learner.autofit(7e-3, monitor='val_accuracy')"
   ]
  },
  {
   "cell_type": "code",
   "execution_count": null,
   "metadata": {
    "colab": {
     "base_uri": "https://localhost:8080/"
    },
    "id": "6R74hoqd6meR",
    "outputId": "ae37ab5c-3527-42bc-cb46-caf3f055d20c"
   },
   "outputs": [
    {
     "name": "stdout",
     "output_type": "stream",
     "text": [
      "              precision    recall  f1-score   support\n",
      "\n",
      "           0       0.68      0.62      0.65        84\n",
      "           1       0.80      0.71      0.75        79\n",
      "           2       0.60      0.66      0.63        74\n",
      "           3       0.66      0.72      0.69       110\n",
      "\n",
      "    accuracy                           0.68       347\n",
      "   macro avg       0.69      0.68      0.68       347\n",
      "weighted avg       0.69      0.68      0.68       347\n",
      "\n"
     ]
    },
    {
     "data": {
      "text/plain": [
       "array([[52,  4, 13, 15],\n",
       "       [ 8, 56,  4, 11],\n",
       "       [ 4,  6, 49, 15],\n",
       "       [12,  4, 15, 79]])"
      ]
     },
     "execution_count": 69,
     "metadata": {},
     "output_type": "execute_result"
    }
   ],
   "source": [
    "learner.validate(val_data=(x_test, y_test), class_names=class_names)"
   ]
  },
  {
   "cell_type": "code",
   "execution_count": null,
   "metadata": {
    "colab": {
     "base_uri": "https://localhost:8080/",
     "height": 294
    },
    "id": "bv47KxDn6oBF",
    "outputId": "eceb4292-72b6-439c-b38f-fc16c665dee1"
   },
   "outputs": [
    {
     "data": {
      "image/png": "[encoded data removed]",
      "text/plain": [
       "<Figure size 432x288 with 1 Axes>"
      ]
     },
     "metadata": {
      "needs_background": "light"
     },
     "output_type": "display_data"
    }
   ],
   "source": [
    "learner.plot()"
   ]
  },
  {
   "cell_type": "code",
   "execution_count": null,
   "metadata": {
    "colab": {
     "base_uri": "https://localhost:8080/"
    },
    "id": "Ol0-VUQnGnHC",
    "outputId": "c2f837d3-293a-4236-aa45-6f7b71120714"
   },
   "outputs": [
    {
     "name": "stdout",
     "output_type": "stream",
     "text": [
      "language: en\n",
      "Word Counts: 6275\n",
      "Nrows: 3613\n",
      "3613 train sequences\n",
      "train sequence lengths:\n",
      "\tmean : 9\n",
      "\t95percentile : 15\n",
      "\t99percentile : 18\n",
      "x_train shape: (3613,350)\n",
      "y_train shape: (3613, 4)\n",
      "Is Multi-Label? False\n",
      "3142 test sequences\n",
      "test sequence lengths:\n",
      "\tmean : 8\n",
      "\t95percentile : 14\n",
      "\t99percentile : 17\n",
      "x_test shape: (3142,350)\n",
      "y_test shape: (3142, 4)\n",
      "task: text classification\n",
      "              precision    recall  f1-score   support\n",
      "\n",
      "           0       0.66      0.63      0.64       760\n",
      "           1       0.80      0.65      0.72       714\n",
      "           2       0.58      0.62      0.60       673\n",
      "           3       0.63      0.70      0.67       995\n",
      "\n",
      "    accuracy                           0.66      3142\n",
      "   macro avg       0.67      0.65      0.66      3142\n",
      "weighted avg       0.66      0.66      0.66      3142\n",
      "\n"
     ]
    },
    {
     "data": {
      "text/plain": [
       "array([[479,  36,  91, 154],\n",
       "       [ 64, 465,  77, 108],\n",
       "       [ 81,  32, 419, 141],\n",
       "       [103,  50, 141, 701]])"
      ]
     },
     "execution_count": 71,
     "metadata": {},
     "output_type": "execute_result"
    }
   ],
   "source": [
    "#on purely test data\n",
    "X_test = df_test.text.tolist()\n",
    "y_test = df_test.label.tolist()\n",
    "\n",
    "(x_train,  y_train), (x_test, y_test), preproc = text.texts_from_array(x_train=X_train, y_train=y_train,\n",
    "                                                                       x_test=X_test, y_test=y_test,\n",
    "                                                                       class_names=class_names,\n",
    "                                                                       lang='en',\n",
    "                                                                       maxlen=350, \n",
    "                                                                       max_features=35000)\n",
    "\n",
    "learner.validate(val_data=(x_test, y_test), class_names=class_names)"
   ]
  },
  {
   "cell_type": "markdown",
   "metadata": {
    "id": "bpEtuFzPGeS5"
   },
   "source": [
    "**NBSVM**"
   ]
  },
  {
   "cell_type": "code",
   "execution_count": null,
   "metadata": {
    "colab": {
     "base_uri": "https://localhost:8080/",
     "height": 484
    },
    "id": "vmVw2hQw6pgN",
    "outputId": "c6f1da9f-c503-4701-84c6-a2612316e0b3"
   },
   "outputs": [
    {
     "name": "stdout",
     "output_type": "stream",
     "text": [
      "size of training set: 3613\n",
      "size of validation set: 347\n",
      "3    1257\n",
      "0     941\n",
      "1     902\n",
      "2     860\n",
      "Name: label, dtype: int64\n"
     ]
    },
    {
     "data": {
      "text/html": [
       "<div>\n",
       "<style scoped>\n",
       "    .dataframe tbody tr th:only-of-type {\n",
       "        vertical-align: middle;\n",
       "    }\n",
       "\n",
       "    .dataframe tbody tr th {\n",
       "        vertical-align: top;\n",
       "    }\n",
       "\n",
       "    .dataframe thead th {\n",
       "        text-align: right;\n",
       "    }\n",
       "</style>\n",
       "<table border=\"1\" class=\"dataframe\">\n",
       "  <thead>\n",
       "    <tr style=\"text-align: right;\">\n",
       "      <th></th>\n",
       "      <th>text</th>\n",
       "      <th>label</th>\n",
       "    </tr>\n",
       "  </thead>\n",
       "  <tbody>\n",
       "    <tr>\n",
       "      <th>0</th>\n",
       "      <td>how fuk who heck move fridge knock landlord door</td>\n",
       "      <td>0</td>\n",
       "    </tr>\n",
       "    <tr>\n",
       "      <th>1</th>\n",
       "      <td>so indian uber driver call someone word if mov...</td>\n",
       "      <td>0</td>\n",
       "    </tr>\n",
       "    <tr>\n",
       "      <th>2</th>\n",
       "      <td>ask parcel deliver pick store address</td>\n",
       "      <td>0</td>\n",
       "    </tr>\n",
       "    <tr>\n",
       "      <th>3</th>\n",
       "      <td>ef whichever butt wipe pull fire alarm davis b...</td>\n",
       "      <td>0</td>\n",
       "    </tr>\n",
       "    <tr>\n",
       "      <th>4</th>\n",
       "      <td>do not join put phone you talk rude take money...</td>\n",
       "      <td>0</td>\n",
       "    </tr>\n",
       "    <tr>\n",
       "      <th>5</th>\n",
       "      <td>my blood boiling</td>\n",
       "      <td>0</td>\n",
       "    </tr>\n",
       "    <tr>\n",
       "      <th>6</th>\n",
       "      <td>when still get whole season wentworth watch st...</td>\n",
       "      <td>0</td>\n",
       "    </tr>\n",
       "    <tr>\n",
       "      <th>7</th>\n",
       "      <td>tracking show equipment deliver be not why ser...</td>\n",
       "      <td>0</td>\n",
       "    </tr>\n",
       "    <tr>\n",
       "      <th>8</th>\n",
       "      <td>legit furious him people fucking idiot</td>\n",
       "      <td>0</td>\n",
       "    </tr>\n",
       "    <tr>\n",
       "      <th>9</th>\n",
       "      <td>how suppose work that wtf dude thank piss off</td>\n",
       "      <td>0</td>\n",
       "    </tr>\n",
       "  </tbody>\n",
       "</table>\n",
       "</div>"
      ],
      "text/plain": [
       "                                                text  label\n",
       "0   how fuk who heck move fridge knock landlord door      0\n",
       "1  so indian uber driver call someone word if mov...      0\n",
       "2              ask parcel deliver pick store address      0\n",
       "3  ef whichever butt wipe pull fire alarm davis b...      0\n",
       "4  do not join put phone you talk rude take money...      0\n",
       "5                                   my blood boiling      0\n",
       "6  when still get whole season wentworth watch st...      0\n",
       "7  tracking show equipment deliver be not why ser...      0\n",
       "8             legit furious him people fucking idiot      0\n",
       "9      how suppose work that wtf dude thank piss off      0"
      ]
     },
     "execution_count": 52,
     "metadata": {},
     "output_type": "execute_result"
    }
   ],
   "source": [
    "X_train = df_train.text.tolist()\n",
    "X_test = df_val.text.tolist()\n",
    "\n",
    "y_train = df_train.label.tolist()\n",
    "y_test = df_val.label.tolist()\n",
    "\n",
    "data = df_train.append(df_val, ignore_index=True)\n",
    "\n",
    "print('size of training set: %s' % (len(df_train['text'])))\n",
    "print('size of validation set: %s' % (len(df_val['text'])))\n",
    "print(data.label.value_counts())\n",
    "\n",
    "data.head(10)"
   ]
  },
  {
   "cell_type": "code",
   "execution_count": null,
   "metadata": {
    "colab": {
     "base_uri": "https://localhost:8080/"
    },
    "id": "tyZbJkQeGiCF",
    "outputId": "f8a5a421-8e76-4720-c3bf-99e6accbabf7"
   },
   "outputs": [
    {
     "name": "stdout",
     "output_type": "stream",
     "text": [
      "language: en\n",
      "Word Counts: 6275\n",
      "Nrows: 3613\n",
      "3613 train sequences\n",
      "train sequence lengths:\n",
      "\tmean : 9\n",
      "\t95percentile : 15\n",
      "\t99percentile : 18\n",
      "Adding 3-gram features\n",
      "max_features changed to 75808 with addition of ngrams\n",
      "Average train sequence length with ngrams: 22\n",
      "train (w/ngrams) sequence lengths:\n",
      "\tmean : 23\n",
      "\t95percentile : 42\n",
      "\t99percentile : 51\n",
      "x_train shape: (3613,350)\n",
      "y_train shape: (3613, 4)\n",
      "Is Multi-Label? False\n",
      "347 test sequences\n",
      "test sequence lengths:\n",
      "\tmean : 8\n",
      "\t95percentile : 13\n",
      "\t99percentile : 17\n",
      "Average test sequence length with ngrams: 9\n",
      "test (w/ngrams) sequence lengths:\n",
      "\tmean : 9\n",
      "\t95percentile : 18\n",
      "\t99percentile : 26\n",
      "x_test shape: (347,350)\n",
      "y_test shape: (347, 4)\n",
      "task: text classification\n"
     ]
    }
   ],
   "source": [
    "import ktrain\n",
    "from ktrain import text\n",
    "\n",
    "class_names=[0,1,2,3]\n",
    "\n",
    "(x_train,  y_train), (x_test, y_test), preproc = text.texts_from_array(x_train=X_train, y_train=y_train,\n",
    "                                                                       x_test=X_test, y_test=y_test,\n",
    "                                                                       class_names=class_names,\n",
    "                                                                       preprocess_mode='standard',\n",
    "                                                                       lang='en',\n",
    "                                                                       maxlen=350, \n",
    "                                                                       val_pct=0.1,\n",
    "                                                                       ngram_range=3,\n",
    "                                                                       max_features=35000)"
   ]
  },
  {
   "cell_type": "code",
   "execution_count": null,
   "metadata": {
    "colab": {
     "base_uri": "https://localhost:8080/"
    },
    "id": "q_s2K8-tGkKv",
    "outputId": "43fdd5e5-30e5-4676-dc23-9452937d7c36"
   },
   "outputs": [
    {
     "name": "stdout",
     "output_type": "stream",
     "text": [
      "Is Multi-Label? False\n",
      "compiling word ID features...\n",
      "maxlen is 350\n",
      "building document-term matrix... this may take a few moments...\n",
      "rows: 1-3613\n",
      "computing log-count ratios...\n",
      "done.\n"
     ]
    }
   ],
   "source": [
    "# define model a fastText-like architecture using ktrain\n",
    "model = text.text_classifier('nbsvm', train_data=(x_train, y_train) , preproc=preproc)\n",
    "\n",
    "learner = ktrain.get_learner(model, train_data=(x_train, y_train), \n",
    "                             val_data=(x_test, y_test),\n",
    "                             batch_size=6)"
   ]
  },
  {
   "cell_type": "code",
   "execution_count": null,
   "metadata": {
    "colab": {
     "base_uri": "https://localhost:8080/",
     "height": 476
    },
    "id": "3yZ6driBGxka",
    "outputId": "58cd1ea9-5681-42b0-e82e-425ffc2e52b6"
   },
   "outputs": [
    {
     "name": "stdout",
     "output_type": "stream",
     "text": [
      "simulating training for different learning rates... this may take a few moments...\n",
      "Epoch 1/1024\n",
      "603/603 [==============================] - 4s 6ms/step - loss: 1.3856 - accuracy: 0.4210\n",
      "Epoch 2/1024\n",
      "603/603 [==============================] - 4s 6ms/step - loss: 1.2434 - accuracy: 0.7182\n",
      "Epoch 3/1024\n",
      "603/603 [==============================] - 3s 6ms/step - loss: 2.3221 - accuracy: 0.8527\n",
      "\n",
      "\n",
      "done.\n",
      "Visually inspect loss plot and select learning rate associated with falling loss\n"
     ]
    },
    {
     "data": {
      "image/png": "[encoded data removed]",
      "text/plain": [
       "<Figure size 432x288 with 1 Axes>"
      ]
     },
     "metadata": {
      "needs_background": "light"
     },
     "output_type": "display_data"
    }
   ],
   "source": [
    "learner.lr_find(show_plot=True)"
   ]
  },
  {
   "cell_type": "code",
   "execution_count": null,
   "metadata": {
    "colab": {
     "base_uri": "https://localhost:8080/"
    },
    "id": "PiCP4k9-ID_3",
    "outputId": "f934ead4-7ec3-4416-b6b2-e3c3a77034cb"
   },
   "outputs": [
    {
     "name": "stdout",
     "output_type": "stream",
     "text": [
      "early_stopping automatically enabled at patience=5\n",
      "reduce_on_plateau automatically enabled at patience=2\n",
      "\n",
      "\n",
      "begin training using triangular learning rate policy with max lr of 0.007...\n",
      "Epoch 1/1024\n",
      "603/603 [==============================] - 5s 8ms/step - loss: 0.3360 - accuracy: 0.9820 - val_loss: 13.0535 - val_accuracy: 0.5879\n",
      "Epoch 2/1024\n",
      "603/603 [==============================] - 5s 7ms/step - loss: 0.3262 - accuracy: 0.9820 - val_loss: 13.0493 - val_accuracy: 0.5879\n",
      "Epoch 3/1024\n",
      "598/603 [============================>.] - ETA: 0s - loss: 0.3192 - accuracy: 0.9822\n",
      "Epoch 00003: Reducing Max LR on Plateau: new max lr will be 0.0035 (if not early_stopping).\n",
      "603/603 [==============================] - 4s 7ms/step - loss: 0.3170 - accuracy: 0.9823 - val_loss: 13.0444 - val_accuracy: 0.5879\n",
      "Epoch 4/1024\n",
      "603/603 [==============================] - 4s 7ms/step - loss: 0.3057 - accuracy: 0.9823 - val_loss: 13.0434 - val_accuracy: 0.5879\n",
      "Epoch 5/1024\n",
      "601/603 [============================>.] - ETA: 0s - loss: 0.3015 - accuracy: 0.9820\n",
      "Epoch 00005: Reducing Max LR on Plateau: new max lr will be 0.00175 (if not early_stopping).\n",
      "603/603 [==============================] - 5s 8ms/step - loss: 0.3010 - accuracy: 0.9820 - val_loss: 13.0419 - val_accuracy: 0.5879\n",
      "Epoch 6/1024\n",
      "600/603 [============================>.] - ETA: 0s - loss: 0.2979 - accuracy: 0.9822Restoring model weights from the end of the best epoch: 1.\n",
      "603/603 [==============================] - 5s 7ms/step - loss: 0.2968 - accuracy: 0.9823 - val_loss: 13.0416 - val_accuracy: 0.5879\n",
      "Epoch 00006: early stopping\n",
      "Weights from best epoch have been loaded into model.\n"
     ]
    },
    {
     "data": {
      "text/plain": [
       "<keras.callbacks.History at 0x7fceb7d98c90>"
      ]
     },
     "execution_count": 58,
     "metadata": {},
     "output_type": "execute_result"
    }
   ],
   "source": [
    "learner.autofit(7e-3, monitor='val_accuracy')"
   ]
  },
  {
   "cell_type": "code",
   "execution_count": null,
   "metadata": {
    "colab": {
     "base_uri": "https://localhost:8080/"
    },
    "id": "khHGW8dfIju-",
    "outputId": "b9769c4e-70cc-4099-cb46-0a906348a7d3"
   },
   "outputs": [
    {
     "name": "stdout",
     "output_type": "stream",
     "text": [
      "              precision    recall  f1-score   support\n",
      "\n",
      "           0       0.57      0.61      0.59        84\n",
      "           1       0.69      0.63      0.66        79\n",
      "           2       0.45      0.62      0.52        74\n",
      "           3       0.70      0.52      0.59       110\n",
      "\n",
      "    accuracy                           0.59       347\n",
      "   macro avg       0.60      0.59      0.59       347\n",
      "weighted avg       0.61      0.59      0.59       347\n",
      "\n"
     ]
    },
    {
     "data": {
      "text/plain": [
       "array([[51,  6, 18,  9],\n",
       "       [ 5, 50, 18,  6],\n",
       "       [12,  6, 46, 10],\n",
       "       [22, 10, 21, 57]])"
      ]
     },
     "execution_count": 60,
     "metadata": {},
     "output_type": "execute_result"
    }
   ],
   "source": [
    "learner.validate(val_data=(x_test, y_test), class_names=class_names)"
   ]
  },
  {
   "cell_type": "code",
   "execution_count": null,
   "metadata": {
    "colab": {
     "base_uri": "https://localhost:8080/"
    },
    "id": "W5VOchVZJGZB",
    "outputId": "a12d1818-fb53-47f1-d04d-aa7d8ddf0514"
   },
   "outputs": [
    {
     "name": "stdout",
     "output_type": "stream",
     "text": [
      "language: en\n",
      "Word Counts: 6275\n",
      "Nrows: 3613\n",
      "3613 train sequences\n",
      "train sequence lengths:\n",
      "\tmean : 9\n",
      "\t95percentile : 15\n",
      "\t99percentile : 18\n",
      "x_train shape: (3613,350)\n",
      "y_train shape: (3613, 4)\n",
      "Is Multi-Label? False\n",
      "3142 test sequences\n",
      "test sequence lengths:\n",
      "\tmean : 8\n",
      "\t95percentile : 14\n",
      "\t99percentile : 17\n",
      "x_test shape: (3142,350)\n",
      "y_test shape: (3142, 4)\n",
      "task: text classification\n",
      "              precision    recall  f1-score   support\n",
      "\n",
      "           0       0.59      0.62      0.61       760\n",
      "           1       0.67      0.63      0.65       714\n",
      "           2       0.50      0.64      0.56       673\n",
      "           3       0.66      0.53      0.59       995\n",
      "\n",
      "    accuracy                           0.60      3142\n",
      "   macro avg       0.60      0.61      0.60      3142\n",
      "weighted avg       0.61      0.60      0.60      3142\n",
      "\n"
     ]
    },
    {
     "data": {
      "text/plain": [
       "array([[474,  60, 115, 111],\n",
       "       [ 71, 453, 110,  80],\n",
       "       [109,  55, 432,  77],\n",
       "       [151, 111, 208, 525]])"
      ]
     },
     "execution_count": 61,
     "metadata": {},
     "output_type": "execute_result"
    }
   ],
   "source": [
    "#on purely test data\n",
    "X_test = df_test.text.tolist()\n",
    "y_test = df_test.label.tolist()\n",
    "\n",
    "(x_train,  y_train), (x_test, y_test), preproc = text.texts_from_array(x_train=X_train, y_train=y_train,\n",
    "                                                                       x_test=X_test, y_test=y_test,\n",
    "                                                                       class_names=class_names,\n",
    "                                                                       lang='en',\n",
    "                                                                       maxlen=350, \n",
    "                                                                       max_features=35000)\n",
    "\n",
    "learner.validate(val_data=(x_test, y_test), class_names=class_names)"
   ]
  },
  {
   "cell_type": "code",
   "execution_count": null,
   "metadata": {
    "colab": {
     "base_uri": "https://localhost:8080/"
    },
    "id": "lpdcSfQoJTK8",
    "outputId": "74f3b542-c1a9-4216-cd2f-d237ce6bf1b6"
   },
   "outputs": [
    {
     "name": "stdout",
     "output_type": "stream",
     "text": [
      "----------\n",
      "id:4 | loss:16.12 | true:0 | pred:2)\n",
      "\n",
      "sometimes get mad something try ruin somebody life like lose job like get federal\n"
     ]
    }
   ],
   "source": [
    "learner.view_top_losses(n=1, preproc=preproc)"
   ]
  },
  {
   "cell_type": "code",
   "execution_count": null,
   "metadata": {
    "id": "KKkvKSwhJW4c"
   },
   "outputs": [],
   "source": []
  }
 ],
 "metadata": {
  "accelerator": "GPU",
  "colab": {
   "name": "WASSA.ipynb",
   "provenance": []
  },
  "kernelspec": {
   "display_name": "Python 3",
   "language": "python",
   "name": "python3"
  },
  "language_info": {
   "codemirror_mode": {
    "name": "ipython",
    "version": 3
   },
   "file_extension": ".py",
   "mimetype": "text/x-python",
   "name": "python",
   "nbconvert_exporter": "python",
   "pygments_lexer": "ipython3",
   "version": "3.8.3"
  }
 },
 "nbformat": 4,
 "nbformat_minor": 1
}
