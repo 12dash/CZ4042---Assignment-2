{
  "nbformat": 4,
  "nbformat_minor": 0,
  "metadata": {
    "accelerator": "GPU",
    "colab": {
      "name": "WASSA.ipynb",
      "provenance": []
    },
    "kernelspec": {
      "display_name": "Python 3",
      "name": "python3"
    },
    "language_info": {
      "name": "python"
    }
  },
  "cells": [
    {
      "cell_type": "markdown",
      "metadata": {
        "id": "U-4v9mBl3qqz"
      },
      "source": [
        "#Installing Pre-requisites"
      ]
    },
    {
      "cell_type": "code",
      "metadata": {
        "colab": {
          "base_uri": "https://localhost:8080/"
        },
        "id": "xdcyuvWAcVjg",
        "outputId": "73737ae5-8ba8-413a-cb67-c75704ef5015"
      },
      "source": [
        "!pip3 install ktrain"
      ],
      "execution_count": 4,
      "outputs": [
        {
          "output_type": "stream",
          "name": "stdout",
          "text": [
            "Collecting ktrain\n",
            "  Downloading ktrain-0.28.3.tar.gz (25.3 MB)\n",
            "\u001b[K     |████████████████████████████████| 25.3 MB 85 kB/s \n",
            "\u001b[?25hCollecting scikit-learn==0.23.2\n",
            "  Downloading scikit_learn-0.23.2-cp37-cp37m-manylinux1_x86_64.whl (6.8 MB)\n",
            "\u001b[K     |████████████████████████████████| 6.8 MB 29.7 MB/s \n",
            "\u001b[?25hRequirement already satisfied: matplotlib>=3.0.0 in /usr/local/lib/python3.7/dist-packages (from ktrain) (3.2.2)\n",
            "Requirement already satisfied: pandas>=1.0.1 in /usr/local/lib/python3.7/dist-packages (from ktrain) (1.1.5)\n",
            "Requirement already satisfied: fastprogress>=0.1.21 in /usr/local/lib/python3.7/dist-packages (from ktrain) (1.0.0)\n",
            "Requirement already satisfied: requests in /usr/local/lib/python3.7/dist-packages (from ktrain) (2.23.0)\n",
            "Requirement already satisfied: joblib in /usr/local/lib/python3.7/dist-packages (from ktrain) (1.1.0)\n",
            "Requirement already satisfied: packaging in /usr/local/lib/python3.7/dist-packages (from ktrain) (21.2)\n",
            "Collecting langdetect\n",
            "  Downloading langdetect-1.0.9.tar.gz (981 kB)\n",
            "\u001b[K     |████████████████████████████████| 981 kB 42.8 MB/s \n",
            "\u001b[?25hRequirement already satisfied: jieba in /usr/local/lib/python3.7/dist-packages (from ktrain) (0.42.1)\n",
            "Collecting cchardet\n",
            "  Downloading cchardet-2.1.7-cp37-cp37m-manylinux2010_x86_64.whl (263 kB)\n",
            "\u001b[K     |████████████████████████████████| 263 kB 36.4 MB/s \n",
            "\u001b[?25hRequirement already satisfied: chardet in /usr/local/lib/python3.7/dist-packages (from ktrain) (3.0.4)\n",
            "Collecting syntok\n",
            "  Downloading syntok-1.3.1.tar.gz (23 kB)\n",
            "Collecting seqeval==0.0.19\n",
            "  Downloading seqeval-0.0.19.tar.gz (30 kB)\n",
            "Collecting transformers<=4.10.3,>=4.0.0\n",
            "  Downloading transformers-4.10.3-py3-none-any.whl (2.8 MB)\n",
            "\u001b[K     |████████████████████████████████| 2.8 MB 45.7 MB/s \n",
            "\u001b[?25hCollecting sentencepiece\n",
            "  Downloading sentencepiece-0.1.96-cp37-cp37m-manylinux_2_17_x86_64.manylinux2014_x86_64.whl (1.2 MB)\n",
            "\u001b[K     |████████████████████████████████| 1.2 MB 46.5 MB/s \n",
            "\u001b[?25hCollecting keras_bert>=0.86.0\n",
            "  Downloading keras-bert-0.88.0.tar.gz (26 kB)\n",
            "Collecting whoosh\n",
            "  Downloading Whoosh-2.7.4-py2.py3-none-any.whl (468 kB)\n",
            "\u001b[K     |████████████████████████████████| 468 kB 33.3 MB/s \n",
            "\u001b[?25hRequirement already satisfied: scipy>=0.19.1 in /usr/local/lib/python3.7/dist-packages (from scikit-learn==0.23.2->ktrain) (1.4.1)\n",
            "Requirement already satisfied: numpy>=1.13.3 in /usr/local/lib/python3.7/dist-packages (from scikit-learn==0.23.2->ktrain) (1.19.5)\n",
            "Collecting threadpoolctl>=2.0.0\n",
            "  Downloading threadpoolctl-3.0.0-py3-none-any.whl (14 kB)\n",
            "Requirement already satisfied: Keras>=2.2.4 in /usr/local/lib/python3.7/dist-packages (from seqeval==0.0.19->ktrain) (2.7.0)\n",
            "Collecting keras-transformer>=0.39.0\n",
            "  Downloading keras-transformer-0.39.0.tar.gz (11 kB)\n",
            "Collecting keras-pos-embd>=0.12.0\n",
            "  Downloading keras-pos-embd-0.12.0.tar.gz (6.0 kB)\n",
            "Collecting keras-multi-head>=0.28.0\n",
            "  Downloading keras-multi-head-0.28.0.tar.gz (14 kB)\n",
            "Collecting keras-layer-normalization>=0.15.0\n",
            "  Downloading keras-layer-normalization-0.15.0.tar.gz (4.2 kB)\n",
            "Collecting keras-position-wise-feed-forward>=0.7.0\n",
            "  Downloading keras-position-wise-feed-forward-0.7.0.tar.gz (4.5 kB)\n",
            "Collecting keras-embed-sim>=0.9.0\n",
            "  Downloading keras-embed-sim-0.9.0.tar.gz (4.1 kB)\n",
            "Collecting keras-self-attention>=0.50.0\n",
            "  Downloading keras-self-attention-0.50.0.tar.gz (12 kB)\n",
            "Requirement already satisfied: kiwisolver>=1.0.1 in /usr/local/lib/python3.7/dist-packages (from matplotlib>=3.0.0->ktrain) (1.3.2)\n",
            "Requirement already satisfied: cycler>=0.10 in /usr/local/lib/python3.7/dist-packages (from matplotlib>=3.0.0->ktrain) (0.11.0)\n",
            "Requirement already satisfied: pyparsing!=2.0.4,!=2.1.2,!=2.1.6,>=2.0.1 in /usr/local/lib/python3.7/dist-packages (from matplotlib>=3.0.0->ktrain) (2.4.7)\n",
            "Requirement already satisfied: python-dateutil>=2.1 in /usr/local/lib/python3.7/dist-packages (from matplotlib>=3.0.0->ktrain) (2.8.2)\n",
            "Requirement already satisfied: pytz>=2017.2 in /usr/local/lib/python3.7/dist-packages (from pandas>=1.0.1->ktrain) (2018.9)\n",
            "Requirement already satisfied: six>=1.5 in /usr/local/lib/python3.7/dist-packages (from python-dateutil>=2.1->matplotlib>=3.0.0->ktrain) (1.15.0)\n",
            "Collecting sacremoses\n",
            "  Downloading sacremoses-0.0.46-py3-none-any.whl (895 kB)\n",
            "\u001b[K     |████████████████████████████████| 895 kB 40.8 MB/s \n",
            "\u001b[?25hCollecting pyyaml>=5.1\n",
            "  Downloading PyYAML-6.0-cp37-cp37m-manylinux_2_5_x86_64.manylinux1_x86_64.manylinux_2_12_x86_64.manylinux2010_x86_64.whl (596 kB)\n",
            "\u001b[K     |████████████████████████████████| 596 kB 34.7 MB/s \n",
            "\u001b[?25hRequirement already satisfied: filelock in /usr/local/lib/python3.7/dist-packages (from transformers<=4.10.3,>=4.0.0->ktrain) (3.3.2)\n",
            "Requirement already satisfied: tqdm>=4.27 in /usr/local/lib/python3.7/dist-packages (from transformers<=4.10.3,>=4.0.0->ktrain) (4.62.3)\n",
            "Requirement already satisfied: importlib-metadata in /usr/local/lib/python3.7/dist-packages (from transformers<=4.10.3,>=4.0.0->ktrain) (4.8.2)\n",
            "Requirement already satisfied: regex!=2019.12.17 in /usr/local/lib/python3.7/dist-packages (from transformers<=4.10.3,>=4.0.0->ktrain) (2019.12.20)\n",
            "Collecting tokenizers<0.11,>=0.10.1\n",
            "  Downloading tokenizers-0.10.3-cp37-cp37m-manylinux_2_5_x86_64.manylinux1_x86_64.manylinux_2_12_x86_64.manylinux2010_x86_64.whl (3.3 MB)\n",
            "\u001b[K     |████████████████████████████████| 3.3 MB 14.1 MB/s \n",
            "\u001b[?25hCollecting huggingface-hub>=0.0.12\n",
            "  Downloading huggingface_hub-0.1.2-py3-none-any.whl (59 kB)\n",
            "\u001b[K     |████████████████████████████████| 59 kB 5.8 MB/s \n",
            "\u001b[?25hRequirement already satisfied: typing-extensions>=3.7.4.3 in /usr/local/lib/python3.7/dist-packages (from huggingface-hub>=0.0.12->transformers<=4.10.3,>=4.0.0->ktrain) (3.10.0.2)\n",
            "Requirement already satisfied: zipp>=0.5 in /usr/local/lib/python3.7/dist-packages (from importlib-metadata->transformers<=4.10.3,>=4.0.0->ktrain) (3.6.0)\n",
            "Requirement already satisfied: certifi>=2017.4.17 in /usr/local/lib/python3.7/dist-packages (from requests->ktrain) (2021.10.8)\n",
            "Requirement already satisfied: urllib3!=1.25.0,!=1.25.1,<1.26,>=1.21.1 in /usr/local/lib/python3.7/dist-packages (from requests->ktrain) (1.24.3)\n",
            "Requirement already satisfied: idna<3,>=2.5 in /usr/local/lib/python3.7/dist-packages (from requests->ktrain) (2.10)\n",
            "Requirement already satisfied: click in /usr/local/lib/python3.7/dist-packages (from sacremoses->transformers<=4.10.3,>=4.0.0->ktrain) (7.1.2)\n",
            "Building wheels for collected packages: ktrain, seqeval, keras-bert, keras-transformer, keras-embed-sim, keras-layer-normalization, keras-multi-head, keras-pos-embd, keras-position-wise-feed-forward, keras-self-attention, langdetect, syntok\n",
            "  Building wheel for ktrain (setup.py) ... \u001b[?25l\u001b[?25hdone\n",
            "  Created wheel for ktrain: filename=ktrain-0.28.3-py3-none-any.whl size=25292659 sha256=f1785577a63d8f790367b9c0aaf0959ad6dea360e65ec15b7a7e35550873cadb\n",
            "  Stored in directory: /root/.cache/pip/wheels/6a/7e/c3/f46cdfc2b81c54424923b1405d7e670c35cacc11ada9a47b1c\n",
            "  Building wheel for seqeval (setup.py) ... \u001b[?25l\u001b[?25hdone\n",
            "  Created wheel for seqeval: filename=seqeval-0.0.19-py3-none-any.whl size=9929 sha256=1d55e036d3bd2a879096c1417fe62bbe8deec23857b53f6f22ee0a6b7d962fe4\n",
            "  Stored in directory: /root/.cache/pip/wheels/f5/ac/f1/4e13d7aff05c722d142b7d20a88ad63f9aab11b895411241a4\n",
            "  Building wheel for keras-bert (setup.py) ... \u001b[?25l\u001b[?25hdone\n",
            "  Created wheel for keras-bert: filename=keras_bert-0.88.0-py3-none-any.whl size=34204 sha256=e6ebe6d40d4462490fc666a140665cffad7000cfbd017a3524cef1c655163828\n",
            "  Stored in directory: /root/.cache/pip/wheels/a2/90/cd/c038f2366929a3a5e3414a303b673e10235e802d871d29a835\n",
            "  Building wheel for keras-transformer (setup.py) ... \u001b[?25l\u001b[?25hdone\n",
            "  Created wheel for keras-transformer: filename=keras_transformer-0.39.0-py3-none-any.whl size=12842 sha256=ccfa551e6d5bbf9234b38904c10814f62a0496f926f6edb4d1f6d72357b1e933\n",
            "  Stored in directory: /root/.cache/pip/wheels/bc/01/e0/5a1a14bed6726f2ed73f7917d2d2c2d4081d2c88426dea07ce\n",
            "  Building wheel for keras-embed-sim (setup.py) ... \u001b[?25l\u001b[?25hdone\n",
            "  Created wheel for keras-embed-sim: filename=keras_embed_sim-0.9.0-py3-none-any.whl size=4504 sha256=818a4c00493f02afa37e8b1e21bdcfa2dd55d4e90c66c43e24eeef14c88dc80e\n",
            "  Stored in directory: /root/.cache/pip/wheels/a8/1e/d2/9bc15513dd2f8b9de3e628b3aa9d2de49e721deef6bbd1497e\n",
            "  Building wheel for keras-layer-normalization (setup.py) ... \u001b[?25l\u001b[?25hdone\n",
            "  Created wheel for keras-layer-normalization: filename=keras_layer_normalization-0.15.0-py3-none-any.whl size=5224 sha256=d89962ff45aba53c46995e19abce644b055607447c5730f3c40ea9ddbb8f97c1\n",
            "  Stored in directory: /root/.cache/pip/wheels/4d/be/fe/55422f77ac11fe6ddcb471198038de8a26b5a4dd1557883c1e\n",
            "  Building wheel for keras-multi-head (setup.py) ... \u001b[?25l\u001b[?25hdone\n",
            "  Created wheel for keras-multi-head: filename=keras_multi_head-0.28.0-py3-none-any.whl size=15559 sha256=b0a8d9d3cb47dce42642597aa680f0e390e65a78f3f765e3cadcda6f5cf7d571\n",
            "  Stored in directory: /root/.cache/pip/wheels/79/4a/ea/9503ab5a02201dfb8635ba2cc8f30844661623c684a5b44472\n",
            "  Building wheel for keras-pos-embd (setup.py) ... \u001b[?25l\u001b[?25hdone\n",
            "  Created wheel for keras-pos-embd: filename=keras_pos_embd-0.12.0-py3-none-any.whl size=7469 sha256=e30de51674f2ff5d0da33e6ded75071479252b00acc9c49af9e4959abcbe7a31\n",
            "  Stored in directory: /root/.cache/pip/wheels/77/99/fd/dd98f4876c3ebbef7aab0dbfbd37bca41d7db37d3a28b2cb09\n",
            "  Building wheel for keras-position-wise-feed-forward (setup.py) ... \u001b[?25l\u001b[?25hdone\n",
            "  Created wheel for keras-position-wise-feed-forward: filename=keras_position_wise_feed_forward-0.7.0-py3-none-any.whl size=5541 sha256=d684a5fe790edf53aa23d17a0e78e287168db93e31f0e9a65e002b5a1059664f\n",
            "  Stored in directory: /root/.cache/pip/wheels/2d/12/02/1ad455c4f181cda1a4e60c5445855853d5c2ea91f942586a04\n",
            "  Building wheel for keras-self-attention (setup.py) ... \u001b[?25l\u001b[?25hdone\n",
            "  Created wheel for keras-self-attention: filename=keras_self_attention-0.50.0-py3-none-any.whl size=19414 sha256=62e05dbea5be3e306ae489c79e91a57eed6f484a53c76ad3a4cb5108575051af\n",
            "  Stored in directory: /root/.cache/pip/wheels/92/7a/a3/231bef5803298e7ec1815215bc0613239cb1e9c03c57b13c14\n",
            "  Building wheel for langdetect (setup.py) ... \u001b[?25l\u001b[?25hdone\n",
            "  Created wheel for langdetect: filename=langdetect-1.0.9-py3-none-any.whl size=993242 sha256=efe8c0abc317962b88e91bbb9b0673f2779eb20216f807ba0124338e13c7894d\n",
            "  Stored in directory: /root/.cache/pip/wheels/c5/96/8a/f90c59ed25d75e50a8c10a1b1c2d4c402e4dacfa87f3aff36a\n",
            "  Building wheel for syntok (setup.py) ... \u001b[?25l\u001b[?25hdone\n",
            "  Created wheel for syntok: filename=syntok-1.3.1-py3-none-any.whl size=20917 sha256=052f3669e51d8f2257f5ea0b15a6b812e3b55e9a7fef8f55a3613f09312ac740\n",
            "  Stored in directory: /root/.cache/pip/wheels/5e/c2/33/e5d7d8f2f8b0c391d76bf82b844c3151bf23a84d75d02b185f\n",
            "Successfully built ktrain seqeval keras-bert keras-transformer keras-embed-sim keras-layer-normalization keras-multi-head keras-pos-embd keras-position-wise-feed-forward keras-self-attention langdetect syntok\n",
            "Installing collected packages: keras-self-attention, pyyaml, keras-position-wise-feed-forward, keras-pos-embd, keras-multi-head, keras-layer-normalization, keras-embed-sim, tokenizers, threadpoolctl, sacremoses, keras-transformer, huggingface-hub, whoosh, transformers, syntok, seqeval, sentencepiece, scikit-learn, langdetect, keras-bert, cchardet, ktrain\n",
            "  Attempting uninstall: pyyaml\n",
            "    Found existing installation: PyYAML 3.13\n",
            "    Uninstalling PyYAML-3.13:\n",
            "      Successfully uninstalled PyYAML-3.13\n",
            "  Attempting uninstall: scikit-learn\n",
            "    Found existing installation: scikit-learn 0.22.2.post1\n",
            "    Uninstalling scikit-learn-0.22.2.post1:\n",
            "      Successfully uninstalled scikit-learn-0.22.2.post1\n",
            "Successfully installed cchardet-2.1.7 huggingface-hub-0.1.2 keras-bert-0.88.0 keras-embed-sim-0.9.0 keras-layer-normalization-0.15.0 keras-multi-head-0.28.0 keras-pos-embd-0.12.0 keras-position-wise-feed-forward-0.7.0 keras-self-attention-0.50.0 keras-transformer-0.39.0 ktrain-0.28.3 langdetect-1.0.9 pyyaml-6.0 sacremoses-0.0.46 scikit-learn-0.23.2 sentencepiece-0.1.96 seqeval-0.0.19 syntok-1.3.1 threadpoolctl-3.0.0 tokenizers-0.10.3 transformers-4.10.3 whoosh-2.7.4\n"
          ]
        }
      ]
    },
    {
      "cell_type": "code",
      "metadata": {
        "colab": {
          "base_uri": "https://localhost:8080/"
        },
        "id": "7Ia3Kin8cX9v",
        "outputId": "e96d27e4-a3e6-481a-e58e-3935c7da5ab6"
      },
      "source": [
        "!pip install https://github.com/amaiya/eli5/archive/refs/heads/tfkeras_0_10_1.zip"
      ],
      "execution_count": 5,
      "outputs": [
        {
          "output_type": "stream",
          "name": "stdout",
          "text": [
            "Collecting https://github.com/amaiya/eli5/archive/refs/heads/tfkeras_0_10_1.zip\n",
            "  Downloading https://github.com/amaiya/eli5/archive/refs/heads/tfkeras_0_10_1.zip\n",
            "\u001b[K     | 6.9 MB 1.4 MB/s\n",
            "\u001b[?25hRequirement already satisfied: attrs>16.0.0 in /usr/local/lib/python3.7/dist-packages (from eli5==0.10.1) (21.2.0)\n",
            "Requirement already satisfied: jinja2 in /usr/local/lib/python3.7/dist-packages (from eli5==0.10.1) (2.11.3)\n",
            "Requirement already satisfied: numpy>=1.9.0 in /usr/local/lib/python3.7/dist-packages (from eli5==0.10.1) (1.19.5)\n",
            "Requirement already satisfied: scipy in /usr/local/lib/python3.7/dist-packages (from eli5==0.10.1) (1.4.1)\n",
            "Requirement already satisfied: six in /usr/local/lib/python3.7/dist-packages (from eli5==0.10.1) (1.15.0)\n",
            "Requirement already satisfied: scikit-learn>=0.18 in /usr/local/lib/python3.7/dist-packages (from eli5==0.10.1) (0.23.2)\n",
            "Requirement already satisfied: graphviz in /usr/local/lib/python3.7/dist-packages (from eli5==0.10.1) (0.10.1)\n",
            "Requirement already satisfied: tabulate>=0.7.7 in /usr/local/lib/python3.7/dist-packages (from eli5==0.10.1) (0.8.9)\n",
            "Requirement already satisfied: threadpoolctl>=2.0.0 in /usr/local/lib/python3.7/dist-packages (from scikit-learn>=0.18->eli5==0.10.1) (3.0.0)\n",
            "Requirement already satisfied: joblib>=0.11 in /usr/local/lib/python3.7/dist-packages (from scikit-learn>=0.18->eli5==0.10.1) (1.1.0)\n",
            "Requirement already satisfied: MarkupSafe>=0.23 in /usr/local/lib/python3.7/dist-packages (from jinja2->eli5==0.10.1) (2.0.1)\n",
            "Building wheels for collected packages: eli5\n",
            "  Building wheel for eli5 (setup.py) ... \u001b[?25l\u001b[?25hdone\n",
            "  Created wheel for eli5: filename=eli5-0.10.1-py2.py3-none-any.whl size=106851 sha256=1a25e476a2914c3f423a7d1f947e955a6b371fcc0a5604dbba84b8844719e295\n",
            "  Stored in directory: /tmp/pip-ephem-wheel-cache-4n4ppch8/wheels/98/78/95/e0150d3f11d151c61c32b9d291a8c1fbb207461362987f027b\n",
            "Successfully built eli5\n",
            "Installing collected packages: eli5\n",
            "Successfully installed eli5-0.10.1\n"
          ]
        }
      ]
    },
    {
      "cell_type": "code",
      "metadata": {
        "colab": {
          "base_uri": "https://localhost:8080/"
        },
        "id": "UQcoaotbaAUK",
        "outputId": "08f839fa-2329-4bc0-b4db-96816146b9ba"
      },
      "source": [
        "!pip install unidecode"
      ],
      "execution_count": 6,
      "outputs": [
        {
          "output_type": "stream",
          "name": "stdout",
          "text": [
            "Collecting unidecode\n",
            "  Downloading Unidecode-1.3.2-py3-none-any.whl (235 kB)\n",
            "\u001b[?25l\r\u001b[K     |█▍                              | 10 kB 19.4 MB/s eta 0:00:01\r\u001b[K     |██▉                             | 20 kB 24.0 MB/s eta 0:00:01\r\u001b[K     |████▏                           | 30 kB 15.0 MB/s eta 0:00:01\r\u001b[K     |█████▋                          | 40 kB 11.2 MB/s eta 0:00:01\r\u001b[K     |███████                         | 51 kB 5.4 MB/s eta 0:00:01\r\u001b[K     |████████▍                       | 61 kB 5.6 MB/s eta 0:00:01\r\u001b[K     |█████████▊                      | 71 kB 5.2 MB/s eta 0:00:01\r\u001b[K     |███████████▏                    | 81 kB 5.9 MB/s eta 0:00:01\r\u001b[K     |████████████▌                   | 92 kB 5.9 MB/s eta 0:00:01\r\u001b[K     |██████████████                  | 102 kB 5.1 MB/s eta 0:00:01\r\u001b[K     |███████████████▎                | 112 kB 5.1 MB/s eta 0:00:01\r\u001b[K     |████████████████▊               | 122 kB 5.1 MB/s eta 0:00:01\r\u001b[K     |██████████████████              | 133 kB 5.1 MB/s eta 0:00:01\r\u001b[K     |███████████████████▌            | 143 kB 5.1 MB/s eta 0:00:01\r\u001b[K     |████████████████████▉           | 153 kB 5.1 MB/s eta 0:00:01\r\u001b[K     |██████████████████████▎         | 163 kB 5.1 MB/s eta 0:00:01\r\u001b[K     |███████████████████████▋        | 174 kB 5.1 MB/s eta 0:00:01\r\u001b[K     |█████████████████████████       | 184 kB 5.1 MB/s eta 0:00:01\r\u001b[K     |██████████████████████████▍     | 194 kB 5.1 MB/s eta 0:00:01\r\u001b[K     |███████████████████████████▉    | 204 kB 5.1 MB/s eta 0:00:01\r\u001b[K     |█████████████████████████████▏  | 215 kB 5.1 MB/s eta 0:00:01\r\u001b[K     |██████████████████████████████▋ | 225 kB 5.1 MB/s eta 0:00:01\r\u001b[K     |████████████████████████████████| 235 kB 5.1 MB/s eta 0:00:01\r\u001b[K     |████████████████████████████████| 235 kB 5.1 MB/s \n",
            "\u001b[?25hInstalling collected packages: unidecode\n",
            "Successfully installed unidecode-1.3.2\n"
          ]
        }
      ]
    },
    {
      "cell_type": "code",
      "metadata": {
        "id": "XsfcHmiRYtXU"
      },
      "source": [
        "base_path = '/content/drive/My Drive/wassa_data/'\n"
      ],
      "execution_count": 16,
      "outputs": []
    },
    {
      "cell_type": "code",
      "metadata": {
        "id": "6T5d4PwDjs_t",
        "colab": {
          "base_uri": "https://localhost:8080/"
        },
        "outputId": "e6dba066-29fe-4645-8173-0f9258b6a44b"
      },
      "source": [
        "from google.colab import drive\n",
        "drive.mount('/content/drive')"
      ],
      "execution_count": 1,
      "outputs": [
        {
          "output_type": "stream",
          "name": "stdout",
          "text": [
            "Mounted at /content/drive\n"
          ]
        }
      ]
    },
    {
      "cell_type": "code",
      "metadata": {
        "id": "efUyXrSyZLa0"
      },
      "source": [
        "classes = ['anger', 'joy', 'sadness', 'fear']\n",
        "\n",
        "class_mapping = {}\n",
        "for idx, name in enumerate(classes):\n",
        "    class_mapping[name] = idx \n",
        "no_classes = len(classes)"
      ],
      "execution_count": 3,
      "outputs": []
    },
    {
      "cell_type": "code",
      "metadata": {
        "id": "8JI3tvN-ZyLT"
      },
      "source": [
        "cols = ['tweet', 'tweettype']"
      ],
      "execution_count": 7,
      "outputs": []
    },
    {
      "cell_type": "code",
      "metadata": {
        "id": "3M3zmC_FZz9B"
      },
      "source": [
        "contraction_mapping = {\"ain't\": \"is not\", \"aren't\": \"are not\",\"can't\": \"cannot\", \n",
        "                   \"can't've\": \"cannot have\", \"'cause\": \"because\", \"could've\": \"could have\", \n",
        "                   \"couldn't\": \"could not\", \"couldn't've\": \"could not have\",\"didn't\": \"did not\", \n",
        "                   \"doesn't\": \"does not\", \"don't\": \"do not\", \"hadn't\": \"had not\", \n",
        "                   \"hadn't've\": \"had not have\", \"hasn't\": \"has not\", \"haven't\": \"have not\", \n",
        "                   \"he'd\": \"he would\", \"he'd've\": \"he would have\", \"he'll\": \"he will\", \n",
        "                   \"he'll've\": \"he will have\", \"he's\": \"he is\", \"how'd\": \"how did\", \n",
        "                   \"how'd'y\": \"how do you\", \"how'll\": \"how will\", \"how's\": \"how is\", \n",
        "                   \"I'd\": \"I would\", \"I'd've\": \"I would have\", \"I'll\": \"I will\", \n",
        "                   \"I'll've\": \"I will have\",\"I'm\": \"I am\", \"I've\": \"I have\", \n",
        "                   \"i'd\": \"i would\", \"i'd've\": \"i would have\", \"i'll\": \"i will\", \n",
        "                   \"i'll've\": \"i will have\",\"i'm\": \"i am\", \"i've\": \"i have\", \n",
        "                   \"isn't\": \"is not\", \"it'd\": \"it would\", \"it'd've\": \"it would have\", \n",
        "                   \"it'll\": \"it will\", \"it'll've\": \"it will have\",\"it's\": \"it is\", \n",
        "                   \"let's\": \"let us\", \"ma'am\": \"madam\", \"mayn't\": \"may not\", \n",
        "                   \"might've\": \"might have\",\"mightn't\": \"might not\",\"mightn't've\": \"might not have\", \n",
        "                   \"must've\": \"must have\", \"mustn't\": \"must not\", \"mustn't've\": \"must not have\", \n",
        "                   \"needn't\": \"need not\", \"needn't've\": \"need not have\",\"o'clock\": \"of the clock\", \n",
        "                   \"oughtn't\": \"ought not\", \"oughtn't've\": \"ought not have\", \"shan't\": \"shall not\",\n",
        "                   \"sha'n't\": \"shall not\", \"shan't've\": \"shall not have\", \"she'd\": \"she would\", \n",
        "                   \"she'd've\": \"she would have\", \"she'll\": \"she will\", \"she'll've\": \"she will have\", \n",
        "                   \"she's\": \"she is\", \"should've\": \"should have\", \"shouldn't\": \"should not\", \n",
        "                   \"shouldn't've\": \"should not have\", \"so've\": \"so have\",\"so's\": \"so as\", \n",
        "                   \"this's\": \"this is\",\n",
        "                   \"that'd\": \"that would\", \"that'd've\": \"that would have\",\"that's\": \"that is\", \n",
        "                   \"there'd\": \"there would\", \"there'd've\": \"there would have\",\"there's\": \"there is\", \n",
        "                       \"here's\": \"here is\",\n",
        "                   \"they'd\": \"they would\", \"they'd've\": \"they would have\", \"they'll\": \"they will\", \n",
        "                   \"they'll've\": \"they will have\", \"they're\": \"they are\", \"they've\": \"they have\", \n",
        "                   \"to've\": \"to have\", \"wasn't\": \"was not\", \"we'd\": \"we would\", \n",
        "                   \"we'd've\": \"we would have\", \"we'll\": \"we will\", \"we'll've\": \"we will have\", \n",
        "                   \"we're\": \"we are\", \"we've\": \"we have\", \"weren't\": \"were not\", \n",
        "                   \"what'll\": \"what will\", \"what'll've\": \"what will have\", \"what're\": \"what are\", \n",
        "                   \"what's\": \"what is\", \"what've\": \"what have\", \"when's\": \"when is\", \n",
        "                   \"when've\": \"when have\", \"where'd\": \"where did\", \"where's\": \"where is\", \n",
        "                   \"where've\": \"where have\", \"who'll\": \"who will\", \"who'll've\": \"who will have\", \n",
        "                   \"who's\": \"who is\", \"who've\": \"who have\", \"why's\": \"why is\", \n",
        "                   \"why've\": \"why have\", \"will've\": \"will have\", \"won't\": \"will not\", \n",
        "                   \"won't've\": \"will not have\", \"would've\": \"would have\", \"wouldn't\": \"would not\", \n",
        "                   \"wouldn't've\": \"would not have\", \"y'all\": \"you all\", \"y'all'd\": \"you all would\",\n",
        "                   \"y'all'd've\": \"you all would have\",\"y'all're\": \"you all are\",\"y'all've\": \"you all have\",\n",
        "                   \"you'd\": \"you would\", \"you'd've\": \"you would have\", \"you'll\": \"you will\", \n",
        "                   \"you'll've\": \"you will have\", \"you're\": \"you are\", \"you've\": \"you have\" }"
      ],
      "execution_count": 8,
      "outputs": []
    },
    {
      "cell_type": "code",
      "metadata": {
        "id": "GeMifS1cZ2fA"
      },
      "source": [
        "import codecs\n",
        "import unidecode\n",
        "import re\n",
        "import spacy\n",
        "nlp = spacy.load('en')\n",
        "\n",
        "def spacy_cleaner(text):\n",
        "    try:\n",
        "        decoded = unidecode.unidecode(codecs.decode(text, 'unicode_escape'))\n",
        "    except:\n",
        "        decoded = unidecode.unidecode(text)\n",
        "    apostrophe_handled = re.sub(\"’\", \"'\", decoded)\n",
        "    expanded = ' '.join([contraction_mapping[t] if t in contraction_mapping else t for t in apostrophe_handled.split(\" \")])\n",
        "    parsed = nlp(expanded)\n",
        "    final_tokens = []\n",
        "    for t in parsed:\n",
        "        if t.is_punct or t.is_space or t.like_num or t.like_url or str(t).startswith('@'):\n",
        "            pass\n",
        "        else:\n",
        "            if t.lemma_ == '-PRON-':\n",
        "                final_tokens.append(str(t))\n",
        "            else:\n",
        "                sc_removed = re.sub(\"[^a-zA-Z]\", '', str(t.lemma_))\n",
        "                if len(sc_removed) > 1:\n",
        "                    final_tokens.append(sc_removed)\n",
        "    joined = ' '.join(final_tokens)\n",
        "    spell_corrected = re.sub(r'(.)\\1+', r'\\1\\1', joined)\n",
        "    return spell_corrected"
      ],
      "execution_count": 9,
      "outputs": []
    },
    {
      "cell_type": "code",
      "metadata": {
        "id": "7IeAEw4vZ47k"
      },
      "source": [
        "def clean_text(data):\n",
        "    data = (re.sub(r\"(#[\\d\\w\\.]+)\", '', data)).lower()\n",
        "    data = emoji.demojize(data)\n",
        "    data = spacy_cleaner(data)\n",
        "    return data"
      ],
      "execution_count": 10,
      "outputs": []
    },
    {
      "cell_type": "code",
      "metadata": {
        "id": "VZcyG4qPaF7w"
      },
      "source": [
        "def build_dataset(df, feature='text', target='label'):\n",
        "    dataset = (\n",
        "                tf.data.Dataset.from_tensor_slices(\n",
        "                    (\n",
        "                        tf.cast(df[feature].values, tf.string),\n",
        "                        tf.cast(df[target].values, tf.int32)\n",
        "                    )\n",
        "                )\n",
        "            )\n",
        "    return dataset"
      ],
      "execution_count": 11,
      "outputs": []
    },
    {
      "cell_type": "code",
      "metadata": {
        "id": "DvuxahhWaHaO"
      },
      "source": [
        "def load_dataset(directory, ending, threshold = 0, testing = False):\n",
        "\n",
        "    df_list = []\n",
        "\n",
        "    for emotion in classes:\n",
        "        file_name = f'{base_path}{directory}/{emotion}{ending}'\n",
        "        df = pd.read_csv(file_name, delimiter='\\t')\n",
        "        \n",
        "        stop = stopwords.words('english')\n",
        "        df['tweet'] = df['tweet'].apply(lambda x: \" \".join(x for x in x.split() if x not in stop))\n",
        "        \n",
        "        if not testing:\n",
        "            df = df[df['score'] > threshold]\n",
        "        \n",
        "        df = df[cols]\n",
        "        \n",
        "        df['tweet'] = df['tweet'].apply(lambda x: \" \".join(x for x in x.split() if x not in stop))\n",
        "        df['tweet'] = df['tweet'].apply(clean_text)        \n",
        "        df['tweettype'] = df['tweettype'].apply(lambda x : class_mapping[x])        \n",
        "\n",
        "        df_list.append(df)\n",
        "\n",
        "    df = pd.concat(df_list)\n",
        "    df = df.rename(columns = {'tweet' : 'text', 'tweettype' : 'label'})\n",
        "    print('Distribution of data: ')\n",
        "    print(df['label'].value_counts())\n",
        "    \n",
        "    labels = df['label'].values\n",
        "    \n",
        "    dataset = build_dataset(df)\n",
        "    \n",
        "    return dataset, labels, df"
      ],
      "execution_count": 12,
      "outputs": []
    },
    {
      "cell_type": "code",
      "metadata": {
        "colab": {
          "base_uri": "https://localhost:8080/"
        },
        "id": "QmWRATPSajGn",
        "outputId": "9c156d27-2466-46b8-88c3-dd8507be7903"
      },
      "source": [
        "import nltk\n",
        "nltk.download('stopwords')"
      ],
      "execution_count": 13,
      "outputs": [
        {
          "output_type": "stream",
          "name": "stdout",
          "text": [
            "[nltk_data] Downloading package stopwords to /root/nltk_data...\n",
            "[nltk_data]   Unzipping corpora/stopwords.zip.\n"
          ]
        },
        {
          "output_type": "execute_result",
          "data": {
            "text/plain": [
              "True"
            ]
          },
          "metadata": {},
          "execution_count": 13
        }
      ]
    },
    {
      "cell_type": "code",
      "metadata": {
        "colab": {
          "base_uri": "https://localhost:8080/"
        },
        "id": "bqeRVVWCarUP",
        "outputId": "1418ec39-4e46-4130-b8b1-1a586b998a2f"
      },
      "source": [
        "!pip install emoji"
      ],
      "execution_count": 14,
      "outputs": [
        {
          "output_type": "stream",
          "name": "stdout",
          "text": [
            "Collecting emoji\n",
            "  Downloading emoji-1.6.1.tar.gz (170 kB)\n",
            "\u001b[?25l\r\u001b[K     |██                              | 10 kB 28.6 MB/s eta 0:00:01\r\u001b[K     |███▉                            | 20 kB 17.8 MB/s eta 0:00:01\r\u001b[K     |█████▉                          | 30 kB 11.4 MB/s eta 0:00:01\r\u001b[K     |███████▊                        | 40 kB 9.0 MB/s eta 0:00:01\r\u001b[K     |█████████▋                      | 51 kB 5.2 MB/s eta 0:00:01\r\u001b[K     |███████████▋                    | 61 kB 5.7 MB/s eta 0:00:01\r\u001b[K     |█████████████▌                  | 71 kB 5.3 MB/s eta 0:00:01\r\u001b[K     |███████████████▍                | 81 kB 5.9 MB/s eta 0:00:01\r\u001b[K     |█████████████████▍              | 92 kB 4.7 MB/s eta 0:00:01\r\u001b[K     |███████████████████▎            | 102 kB 4.9 MB/s eta 0:00:01\r\u001b[K     |█████████████████████▏          | 112 kB 4.9 MB/s eta 0:00:01\r\u001b[K     |███████████████████████▏        | 122 kB 4.9 MB/s eta 0:00:01\r\u001b[K     |█████████████████████████       | 133 kB 4.9 MB/s eta 0:00:01\r\u001b[K     |███████████████████████████     | 143 kB 4.9 MB/s eta 0:00:01\r\u001b[K     |█████████████████████████████   | 153 kB 4.9 MB/s eta 0:00:01\r\u001b[K     |██████████████████████████████▉ | 163 kB 4.9 MB/s eta 0:00:01\r\u001b[K     |████████████████████████████████| 170 kB 4.9 MB/s \n",
            "\u001b[?25hBuilding wheels for collected packages: emoji\n",
            "  Building wheel for emoji (setup.py) ... \u001b[?25l\u001b[?25hdone\n",
            "  Created wheel for emoji: filename=emoji-1.6.1-py3-none-any.whl size=169314 sha256=1135b868085ca388d5977e9ae23f9ddc5b388bf0b837e9e737005e69d1b0398e\n",
            "  Stored in directory: /root/.cache/pip/wheels/ea/5f/d3/03d313ddb3c2a1a427bb4690f1621eea60fe6f2a30cc95940f\n",
            "Successfully built emoji\n",
            "Installing collected packages: emoji\n",
            "Successfully installed emoji-1.6.1\n"
          ]
        }
      ]
    },
    {
      "cell_type": "code",
      "metadata": {
        "colab": {
          "base_uri": "https://localhost:8080/"
        },
        "id": "O24BZIeneDub",
        "outputId": "99b364db-3cff-4bf3-d526-c3aa3f100a22"
      },
      "source": [
        "import pandas as pd\n",
        "from nltk.corpus import stopwords\n",
        "import emoji\n",
        "import tensorflow as tf\n",
        "\n",
        "# Training\n",
        "threshold = 0\n",
        "\n",
        "directory = 'training'\n",
        "ending = '-ratings-0to1.train.txt'\n",
        "\n",
        "train_dataset,_, df_train = load_dataset(directory, ending, threshold = threshold)"
      ],
      "execution_count": 19,
      "outputs": [
        {
          "output_type": "stream",
          "name": "stdout",
          "text": [
            "Distribution of data: \n",
            "3    1147\n",
            "0     857\n",
            "1     823\n",
            "2     786\n",
            "Name: label, dtype: int64\n"
          ]
        }
      ]
    },
    {
      "cell_type": "code",
      "metadata": {
        "colab": {
          "base_uri": "https://localhost:8080/",
          "height": 424
        },
        "id": "7rzkZy5qbF8t",
        "outputId": "b8a812b4-e710-4750-dce5-48df3469cb74"
      },
      "source": [
        "df_train"
      ],
      "execution_count": 20,
      "outputs": [
        {
          "output_type": "execute_result",
          "data": {
            "text/html": [
              "<div>\n",
              "<style scoped>\n",
              "    .dataframe tbody tr th:only-of-type {\n",
              "        vertical-align: middle;\n",
              "    }\n",
              "\n",
              "    .dataframe tbody tr th {\n",
              "        vertical-align: top;\n",
              "    }\n",
              "\n",
              "    .dataframe thead th {\n",
              "        text-align: right;\n",
              "    }\n",
              "</style>\n",
              "<table border=\"1\" class=\"dataframe\">\n",
              "  <thead>\n",
              "    <tr style=\"text-align: right;\">\n",
              "      <th></th>\n",
              "      <th>text</th>\n",
              "      <th>label</th>\n",
              "    </tr>\n",
              "  </thead>\n",
              "  <tbody>\n",
              "    <tr>\n",
              "      <th>0</th>\n",
              "      <td>how fuk who heck move fridge knock landlord door</td>\n",
              "      <td>0</td>\n",
              "    </tr>\n",
              "    <tr>\n",
              "      <th>1</th>\n",
              "      <td>so indian uber driver call someone word if mov...</td>\n",
              "      <td>0</td>\n",
              "    </tr>\n",
              "    <tr>\n",
              "      <th>2</th>\n",
              "      <td>ask parcel deliver pick store address</td>\n",
              "      <td>0</td>\n",
              "    </tr>\n",
              "    <tr>\n",
              "      <th>3</th>\n",
              "      <td>ef whichever butt wipe pull fire alarm davis b...</td>\n",
              "      <td>0</td>\n",
              "    </tr>\n",
              "    <tr>\n",
              "      <th>4</th>\n",
              "      <td>do not join put phone you talk rude take money...</td>\n",
              "      <td>0</td>\n",
              "    </tr>\n",
              "    <tr>\n",
              "      <th>...</th>\n",
              "      <td>...</td>\n",
              "      <td>...</td>\n",
              "    </tr>\n",
              "    <tr>\n",
              "      <th>1142</th>\n",
              "      <td>pull make car facesavoringfoodsweatdroplet</td>\n",
              "      <td>3</td>\n",
              "    </tr>\n",
              "    <tr>\n",
              "      <th>1143</th>\n",
              "      <td>awe be not sweetheart he be adorable smilingfa...</td>\n",
              "      <td>3</td>\n",
              "    </tr>\n",
              "    <tr>\n",
              "      <th>1144</th>\n",
              "      <td>steak pie supper</td>\n",
              "      <td>3</td>\n",
              "    </tr>\n",
              "    <tr>\n",
              "      <th>1145</th>\n",
              "      <td>awe thank much love twohearts</td>\n",
              "      <td>3</td>\n",
              "    </tr>\n",
              "    <tr>\n",
              "      <th>1146</th>\n",
              "      <td>omg kiss her see no evilmonkey</td>\n",
              "      <td>3</td>\n",
              "    </tr>\n",
              "  </tbody>\n",
              "</table>\n",
              "<p>3613 rows × 2 columns</p>\n",
              "</div>"
            ],
            "text/plain": [
              "                                                   text  label\n",
              "0      how fuk who heck move fridge knock landlord door      0\n",
              "1     so indian uber driver call someone word if mov...      0\n",
              "2                 ask parcel deliver pick store address      0\n",
              "3     ef whichever butt wipe pull fire alarm davis b...      0\n",
              "4     do not join put phone you talk rude take money...      0\n",
              "...                                                 ...    ...\n",
              "1142         pull make car facesavoringfoodsweatdroplet      3\n",
              "1143  awe be not sweetheart he be adorable smilingfa...      3\n",
              "1144                                   steak pie supper      3\n",
              "1145                      awe thank much love twohearts      3\n",
              "1146                     omg kiss her see no evilmonkey      3\n",
              "\n",
              "[3613 rows x 2 columns]"
            ]
          },
          "metadata": {},
          "execution_count": 20
        }
      ]
    },
    {
      "cell_type": "code",
      "metadata": {
        "colab": {
          "base_uri": "https://localhost:8080/"
        },
        "id": "v_oG9x33aL6u",
        "outputId": "5e7e8a40-e6bc-4727-e39e-6c2d55ec306f"
      },
      "source": [
        "# Validation\n",
        "\n",
        "directory = 'validation'\n",
        "ending = '-ratings-0to1.dev.gold.txt'\n",
        "\n",
        "val_dataset,_, df_val = load_dataset(directory, ending)"
      ],
      "execution_count": 21,
      "outputs": [
        {
          "output_type": "stream",
          "name": "stdout",
          "text": [
            "Distribution of data: \n",
            "3    110\n",
            "0     84\n",
            "1     79\n",
            "2     74\n",
            "Name: label, dtype: int64\n"
          ]
        }
      ]
    },
    {
      "cell_type": "code",
      "metadata": {
        "colab": {
          "base_uri": "https://localhost:8080/"
        },
        "id": "dNM14NdRa-Oc",
        "outputId": "458d5a98-bad9-4f72-8b16-55a24e9cc9c3"
      },
      "source": [
        "# Testing\n",
        "\n",
        "directory = 'testing'\n",
        "ending = '-ratings-0to1.test.target.txt'\n",
        "\n",
        "test_dataset, y_test, df_test = load_dataset(directory, ending, testing = True)"
      ],
      "execution_count": 22,
      "outputs": [
        {
          "output_type": "stream",
          "name": "stdout",
          "text": [
            "Distribution of data: \n",
            "3    995\n",
            "0    760\n",
            "1    714\n",
            "2    673\n",
            "Name: label, dtype: int64\n"
          ]
        }
      ]
    },
    {
      "cell_type": "code",
      "metadata": {
        "colab": {
          "base_uri": "https://localhost:8080/",
          "height": 484
        },
        "id": "Pko38gojbP8f",
        "outputId": "4073a334-c868-456d-8ec2-2bd28039524a"
      },
      "source": [
        "X_train = df_train.text.tolist()\n",
        "X_test = df_val.text.tolist()\n",
        "\n",
        "y_train = df_train.label.tolist()\n",
        "y_test = df_val.label.tolist()\n",
        "\n",
        "data = df_train.append(df_val, ignore_index=True)\n",
        "\n",
        "print('size of training set: %s' % (len(df_train['text'])))\n",
        "print('size of validation set: %s' % (len(df_val['text'])))\n",
        "print(data.label.value_counts())\n",
        "\n",
        "data.head(10)"
      ],
      "execution_count": 23,
      "outputs": [
        {
          "output_type": "stream",
          "name": "stdout",
          "text": [
            "size of training set: 3613\n",
            "size of validation set: 347\n",
            "3    1257\n",
            "0     941\n",
            "1     902\n",
            "2     860\n",
            "Name: label, dtype: int64\n"
          ]
        },
        {
          "output_type": "execute_result",
          "data": {
            "text/html": [
              "<div>\n",
              "<style scoped>\n",
              "    .dataframe tbody tr th:only-of-type {\n",
              "        vertical-align: middle;\n",
              "    }\n",
              "\n",
              "    .dataframe tbody tr th {\n",
              "        vertical-align: top;\n",
              "    }\n",
              "\n",
              "    .dataframe thead th {\n",
              "        text-align: right;\n",
              "    }\n",
              "</style>\n",
              "<table border=\"1\" class=\"dataframe\">\n",
              "  <thead>\n",
              "    <tr style=\"text-align: right;\">\n",
              "      <th></th>\n",
              "      <th>text</th>\n",
              "      <th>label</th>\n",
              "    </tr>\n",
              "  </thead>\n",
              "  <tbody>\n",
              "    <tr>\n",
              "      <th>0</th>\n",
              "      <td>how fuk who heck move fridge knock landlord door</td>\n",
              "      <td>0</td>\n",
              "    </tr>\n",
              "    <tr>\n",
              "      <th>1</th>\n",
              "      <td>so indian uber driver call someone word if mov...</td>\n",
              "      <td>0</td>\n",
              "    </tr>\n",
              "    <tr>\n",
              "      <th>2</th>\n",
              "      <td>ask parcel deliver pick store address</td>\n",
              "      <td>0</td>\n",
              "    </tr>\n",
              "    <tr>\n",
              "      <th>3</th>\n",
              "      <td>ef whichever butt wipe pull fire alarm davis b...</td>\n",
              "      <td>0</td>\n",
              "    </tr>\n",
              "    <tr>\n",
              "      <th>4</th>\n",
              "      <td>do not join put phone you talk rude take money...</td>\n",
              "      <td>0</td>\n",
              "    </tr>\n",
              "    <tr>\n",
              "      <th>5</th>\n",
              "      <td>my blood boiling</td>\n",
              "      <td>0</td>\n",
              "    </tr>\n",
              "    <tr>\n",
              "      <th>6</th>\n",
              "      <td>when still get whole season wentworth watch st...</td>\n",
              "      <td>0</td>\n",
              "    </tr>\n",
              "    <tr>\n",
              "      <th>7</th>\n",
              "      <td>tracking show equipment deliver be not why ser...</td>\n",
              "      <td>0</td>\n",
              "    </tr>\n",
              "    <tr>\n",
              "      <th>8</th>\n",
              "      <td>legit furious him people fucking idiot</td>\n",
              "      <td>0</td>\n",
              "    </tr>\n",
              "    <tr>\n",
              "      <th>9</th>\n",
              "      <td>how suppose work that wtf dude thank piss off</td>\n",
              "      <td>0</td>\n",
              "    </tr>\n",
              "  </tbody>\n",
              "</table>\n",
              "</div>"
            ],
            "text/plain": [
              "                                                text  label\n",
              "0   how fuk who heck move fridge knock landlord door      0\n",
              "1  so indian uber driver call someone word if mov...      0\n",
              "2              ask parcel deliver pick store address      0\n",
              "3  ef whichever butt wipe pull fire alarm davis b...      0\n",
              "4  do not join put phone you talk rude take money...      0\n",
              "5                                   my blood boiling      0\n",
              "6  when still get whole season wentworth watch st...      0\n",
              "7  tracking show equipment deliver be not why ser...      0\n",
              "8             legit furious him people fucking idiot      0\n",
              "9      how suppose work that wtf dude thank piss off      0"
            ]
          },
          "metadata": {},
          "execution_count": 23
        }
      ]
    },
    {
      "cell_type": "code",
      "metadata": {
        "colab": {
          "base_uri": "https://localhost:8080/",
          "height": 294
        },
        "id": "iN07L__nbsSV",
        "outputId": "7f322c1b-ee9a-4b6b-8138-763d86b8f3d0"
      },
      "source": [
        "import ktrain\n",
        "from ktrain import text\n",
        "\n",
        "class_names=[0,1,2,3]\n",
        "\n",
        "(x_train,  y_train), (x_test, y_test), preproc = text.texts_from_array(x_train=X_train, y_train=y_train,\n",
        "                                                                       x_test=X_test, y_test=y_test,\n",
        "                                                                       class_names=class_names,\n",
        "                                                                       preprocess_mode='bert',\n",
        "                                                                       lang='en',\n",
        "                                                                       maxlen=350, \n",
        "                                                                       max_features=35000)"
      ],
      "execution_count": 24,
      "outputs": [
        {
          "output_type": "stream",
          "name": "stdout",
          "text": [
            "downloading pretrained BERT model (uncased_L-12_H-768_A-12.zip)...\n",
            "[██████████████████████████████████████████████████]\n",
            "extracting pretrained BERT model...\n",
            "done.\n",
            "\n",
            "cleanup downloaded zip...\n",
            "done.\n",
            "\n",
            "preprocessing train...\n",
            "language: en\n"
          ]
        },
        {
          "output_type": "display_data",
          "data": {
            "text/html": [
              "done."
            ],
            "text/plain": [
              "<IPython.core.display.HTML object>"
            ]
          },
          "metadata": {}
        },
        {
          "output_type": "stream",
          "name": "stdout",
          "text": [
            "Is Multi-Label? False\n",
            "preprocessing test...\n",
            "language: en\n"
          ]
        },
        {
          "output_type": "display_data",
          "data": {
            "text/html": [
              "done."
            ],
            "text/plain": [
              "<IPython.core.display.HTML object>"
            ]
          },
          "metadata": {}
        },
        {
          "output_type": "stream",
          "name": "stdout",
          "text": [
            "task: text classification\n"
          ]
        }
      ]
    },
    {
      "cell_type": "code",
      "metadata": {
        "colab": {
          "base_uri": "https://localhost:8080/"
        },
        "id": "K6uI6QnIcSF8",
        "outputId": "b8a3f427-7346-43ef-88ad-f0b4e1cb0e00"
      },
      "source": [
        "model = text.text_classifier('bert', train_data=(x_train, y_train), preproc=preproc)"
      ],
      "execution_count": 25,
      "outputs": [
        {
          "output_type": "stream",
          "name": "stdout",
          "text": [
            "Is Multi-Label? False\n",
            "maxlen is 350\n",
            "done.\n"
          ]
        }
      ]
    },
    {
      "cell_type": "code",
      "metadata": {
        "id": "Xq92CipkdFSY"
      },
      "source": [
        "learner = ktrain.get_learner(model, train_data=(x_train, y_train), \n",
        "                             val_data=(x_test, y_test),\n",
        "                             batch_size=6)\n"
      ],
      "execution_count": 26,
      "outputs": []
    },
    {
      "cell_type": "code",
      "metadata": {
        "colab": {
          "base_uri": "https://localhost:8080/",
          "height": 528
        },
        "id": "PdT9Lu6Vcabs",
        "outputId": "5e691e21-8180-4922-e6b2-a8cae76abdf4"
      },
      "source": [
        "learner.lr_find(show_plot=True)"
      ],
      "execution_count": 27,
      "outputs": [
        {
          "output_type": "stream",
          "name": "stdout",
          "text": [
            "simulating training for different learning rates... this may take a few moments...\n"
          ]
        },
        {
          "output_type": "stream",
          "name": "stderr",
          "text": [
            "/usr/local/lib/python3.7/dist-packages/keras/engine/functional.py:1410: CustomMaskWarning: Custom mask layers require a config and must override get_config. When loading, the custom mask layer must be passed to the custom_objects argument.\n",
            "  layer_config = serialize_layer_fn(layer)\n"
          ]
        },
        {
          "output_type": "stream",
          "name": "stdout",
          "text": [
            "Epoch 1/1024\n",
            "603/603 [==============================] - 636s 1s/step - loss: 1.4208 - accuracy: 0.3177\n",
            "Epoch 2/1024\n",
            "603/603 [==============================] - 604s 1s/step - loss: 1.5031 - accuracy: 0.3474\n",
            "Epoch 3/1024\n",
            "603/603 [==============================] - 120s 198ms/step - loss: 9.7142 - accuracy: 0.2611\n",
            "\n",
            "\n",
            "done.\n",
            "Visually inspect loss plot and select learning rate associated with falling loss\n"
          ]
        },
        {
          "output_type": "display_data",
          "data": {
            "image/png": "[encoded data removed]",
            "text/plain": [
              "<Figure size 432x288 with 1 Axes>"
            ]
          },
          "metadata": {
            "needs_background": "light"
          }
        }
      ]
    },
    {
      "cell_type": "code",
      "metadata": {
        "colab": {
          "base_uri": "https://localhost:8080/"
        },
        "id": "NpgqILBHKFps",
        "outputId": "eb123633-a588-40b1-d817-0aa890e02601"
      },
      "source": [
        "learner.autofit(2e-5, monitor='val_accuracy')"
      ],
      "execution_count": 28,
      "outputs": [
        {
          "output_type": "stream",
          "name": "stdout",
          "text": [
            "early_stopping automatically enabled at patience=5\n",
            "reduce_on_plateau automatically enabled at patience=2\n",
            "\n",
            "\n",
            "begin training using triangular learning rate policy with max lr of 2e-05...\n",
            "Epoch 1/1024\n",
            "603/603 [==============================] - 659s 1s/step - loss: 1.1514 - accuracy: 0.4664 - val_loss: 0.8658 - val_accuracy: 0.6686\n",
            "Epoch 2/1024\n",
            "603/603 [==============================] - 624s 1s/step - loss: 0.6261 - accuracy: 0.7672 - val_loss: 0.7884 - val_accuracy: 0.7147\n",
            "Epoch 3/1024\n",
            "603/603 [==============================] - 624s 1s/step - loss: 0.3374 - accuracy: 0.8854 - val_loss: 1.0009 - val_accuracy: 0.7147\n",
            "Epoch 4/1024\n",
            "603/603 [==============================] - ETA: 0s - loss: 0.1764 - accuracy: 0.9427\n",
            "Epoch 00004: Reducing Max LR on Plateau: new max lr will be 1e-05 (if not early_stopping).\n",
            "603/603 [==============================] - 624s 1s/step - loss: 0.1764 - accuracy: 0.9427 - val_loss: 1.0921 - val_accuracy: 0.7118\n",
            "Epoch 5/1024\n",
            "603/603 [==============================] - 624s 1s/step - loss: 0.0952 - accuracy: 0.9684 - val_loss: 1.2653 - val_accuracy: 0.7176\n",
            "Epoch 6/1024\n",
            "603/603 [==============================] - 625s 1s/step - loss: 0.0727 - accuracy: 0.9734 - val_loss: 1.3301 - val_accuracy: 0.7262\n",
            "Epoch 7/1024\n",
            "603/603 [==============================] - 624s 1s/step - loss: 0.0586 - accuracy: 0.9762 - val_loss: 1.4453 - val_accuracy: 0.7118\n",
            "Epoch 8/1024\n",
            "603/603 [==============================] - ETA: 0s - loss: 0.0530 - accuracy: 0.9787\n",
            "Epoch 00008: Reducing Max LR on Plateau: new max lr will be 5e-06 (if not early_stopping).\n",
            "603/603 [==============================] - 624s 1s/step - loss: 0.0530 - accuracy: 0.9787 - val_loss: 1.4430 - val_accuracy: 0.7176\n",
            "Epoch 9/1024\n",
            "603/603 [==============================] - 624s 1s/step - loss: 0.0418 - accuracy: 0.9795 - val_loss: 1.4983 - val_accuracy: 0.7291\n",
            "Epoch 10/1024\n",
            "603/603 [==============================] - 624s 1s/step - loss: 0.0403 - accuracy: 0.9803 - val_loss: 1.5896 - val_accuracy: 0.7118\n",
            "Epoch 11/1024\n",
            "603/603 [==============================] - ETA: 0s - loss: 0.0360 - accuracy: 0.9831\n",
            "Epoch 00011: Reducing Max LR on Plateau: new max lr will be 2.5e-06 (if not early_stopping).\n",
            "603/603 [==============================] - 624s 1s/step - loss: 0.0360 - accuracy: 0.9831 - val_loss: 1.6107 - val_accuracy: 0.7118\n",
            "Epoch 12/1024\n",
            "603/603 [==============================] - 624s 1s/step - loss: 0.0346 - accuracy: 0.9842 - val_loss: 1.6478 - val_accuracy: 0.7176\n",
            "Epoch 13/1024\n",
            "603/603 [==============================] - ETA: 0s - loss: 0.0324 - accuracy: 0.9815\n",
            "Epoch 00013: Reducing Max LR on Plateau: new max lr will be 1.25e-06 (if not early_stopping).\n",
            "603/603 [==============================] - 624s 1s/step - loss: 0.0324 - accuracy: 0.9815 - val_loss: 1.6627 - val_accuracy: 0.7262\n",
            "Epoch 14/1024\n",
            "603/603 [==============================] - ETA: 0s - loss: 0.0316 - accuracy: 0.9812Restoring model weights from the end of the best epoch: 9.\n",
            "603/603 [==============================] - 624s 1s/step - loss: 0.0316 - accuracy: 0.9812 - val_loss: 1.6797 - val_accuracy: 0.7147\n",
            "Epoch 00014: early stopping\n",
            "Weights from best epoch have been loaded into model.\n"
          ]
        },
        {
          "output_type": "execute_result",
          "data": {
            "text/plain": [
              "<keras.callbacks.History at 0x7f457772e590>"
            ]
          },
          "metadata": {},
          "execution_count": 28
        }
      ]
    },
    {
      "cell_type": "code",
      "metadata": {
        "id": "qzKXRogVdKGL",
        "colab": {
          "base_uri": "https://localhost:8080/"
        },
        "outputId": "1852c68f-c2f4-4ef6-e516-afafd893c8ab"
      },
      "source": [
        "learner.validate(val_data=(x_test, y_test), class_names=class_names)"
      ],
      "execution_count": 29,
      "outputs": [
        {
          "output_type": "stream",
          "name": "stdout",
          "text": [
            "              precision    recall  f1-score   support\n",
            "\n",
            "           0       0.78      0.67      0.72        84\n",
            "           1       0.84      0.77      0.80        79\n",
            "           2       0.64      0.74      0.69        74\n",
            "           3       0.70      0.74      0.72       110\n",
            "\n",
            "    accuracy                           0.73       347\n",
            "   macro avg       0.74      0.73      0.73       347\n",
            "weighted avg       0.74      0.73      0.73       347\n",
            "\n"
          ]
        },
        {
          "output_type": "execute_result",
          "data": {
            "text/plain": [
              "array([[56,  3, 10, 15],\n",
              "       [ 3, 61,  6,  9],\n",
              "       [ 2,  6, 55, 11],\n",
              "       [11,  3, 15, 81]])"
            ]
          },
          "metadata": {},
          "execution_count": 29
        }
      ]
    },
    {
      "cell_type": "code",
      "metadata": {
        "colab": {
          "base_uri": "https://localhost:8080/",
          "height": 416
        },
        "id": "I89p6etBEdNx",
        "outputId": "58202a0b-5cd0-4b4b-8284-fe4ff50c864d"
      },
      "source": [
        "#on purely test data\n",
        "X_test = df_test.text.tolist()\n",
        "y_test = df_test.label.tolist()\n",
        "\n",
        "(x_train,  y_train), (x_test, y_test), preproc = text.texts_from_array(x_train=X_train, y_train=y_train,\n",
        "                                                                       x_test=X_test, y_test=y_test,\n",
        "                                                                       class_names=class_names,\n",
        "                                                                       preprocess_mode='bert',\n",
        "                                                                       lang='en',\n",
        "                                                                       maxlen=350, \n",
        "                                                                       max_features=35000)\n",
        "\n",
        "learner.validate(val_data=(x_test, y_test), class_names=class_names)"
      ],
      "execution_count": 30,
      "outputs": [
        {
          "output_type": "stream",
          "name": "stdout",
          "text": [
            "preprocessing train...\n",
            "language: en\n"
          ]
        },
        {
          "output_type": "display_data",
          "data": {
            "text/html": [
              "done."
            ],
            "text/plain": [
              "<IPython.core.display.HTML object>"
            ]
          },
          "metadata": {}
        },
        {
          "output_type": "stream",
          "name": "stdout",
          "text": [
            "Is Multi-Label? False\n",
            "preprocessing test...\n",
            "language: en\n"
          ]
        },
        {
          "output_type": "display_data",
          "data": {
            "text/html": [
              "done."
            ],
            "text/plain": [
              "<IPython.core.display.HTML object>"
            ]
          },
          "metadata": {}
        },
        {
          "output_type": "stream",
          "name": "stdout",
          "text": [
            "task: text classification\n",
            "              precision    recall  f1-score   support\n",
            "\n",
            "           0       0.76      0.61      0.68       760\n",
            "           1       0.81      0.72      0.76       714\n",
            "           2       0.59      0.68      0.63       673\n",
            "           3       0.63      0.71      0.67       995\n",
            "\n",
            "    accuracy                           0.68      3142\n",
            "   macro avg       0.70      0.68      0.69      3142\n",
            "weighted avg       0.69      0.68      0.68      3142\n",
            "\n"
          ]
        },
        {
          "output_type": "execute_result",
          "data": {
            "text/plain": [
              "array([[466,  28, 100, 166],\n",
              "       [ 29, 512,  57, 116],\n",
              "       [ 52,  32, 458, 131],\n",
              "       [ 69,  58, 159, 709]])"
            ]
          },
          "metadata": {},
          "execution_count": 30
        }
      ]
    },
    {
      "cell_type": "code",
      "metadata": {
        "id": "2k_wZk-UqCYj",
        "colab": {
          "base_uri": "https://localhost:8080/",
          "height": 294
        },
        "outputId": "9e6067b4-c1bc-4aaa-bfe9-f9630d6a6cff"
      },
      "source": [
        "learner.plot()"
      ],
      "execution_count": 31,
      "outputs": [
        {
          "output_type": "display_data",
          "data": {
            "image/png": "[encoded data removed]",
            "text/plain": [
              "<Figure size 432x288 with 1 Axes>"
            ]
          },
          "metadata": {
            "needs_background": "light"
          }
        }
      ]
    },
    {
      "cell_type": "markdown",
      "metadata": {
        "id": "s8fOi3gI552H"
      },
      "source": [
        "# FAST TEXT"
      ]
    },
    {
      "cell_type": "code",
      "metadata": {
        "colab": {
          "base_uri": "https://localhost:8080/",
          "height": 484
        },
        "id": "fevt2568F-HO",
        "outputId": "a9c48b60-ecff-4407-d9f9-a5360b57c1fc"
      },
      "source": [
        "X_train = df_train.text.tolist()\n",
        "X_test = df_val.text.tolist()\n",
        "\n",
        "y_train = df_train.label.tolist()\n",
        "y_test = df_val.label.tolist()\n",
        "\n",
        "data = df_train.append(df_val, ignore_index=True)\n",
        "\n",
        "print('size of training set: %s' % (len(df_train['text'])))\n",
        "print('size of validation set: %s' % (len(df_val['text'])))\n",
        "print(data.label.value_counts())\n",
        "\n",
        "data.head(10)"
      ],
      "execution_count": null,
      "outputs": [
        {
          "output_type": "stream",
          "name": "stdout",
          "text": [
            "size of training set: 3613\n",
            "size of validation set: 347\n",
            "3    1257\n",
            "0     941\n",
            "1     902\n",
            "2     860\n",
            "Name: label, dtype: int64\n"
          ]
        },
        {
          "output_type": "execute_result",
          "data": {
            "text/html": [
              "<div>\n",
              "<style scoped>\n",
              "    .dataframe tbody tr th:only-of-type {\n",
              "        vertical-align: middle;\n",
              "    }\n",
              "\n",
              "    .dataframe tbody tr th {\n",
              "        vertical-align: top;\n",
              "    }\n",
              "\n",
              "    .dataframe thead th {\n",
              "        text-align: right;\n",
              "    }\n",
              "</style>\n",
              "<table border=\"1\" class=\"dataframe\">\n",
              "  <thead>\n",
              "    <tr style=\"text-align: right;\">\n",
              "      <th></th>\n",
              "      <th>text</th>\n",
              "      <th>label</th>\n",
              "    </tr>\n",
              "  </thead>\n",
              "  <tbody>\n",
              "    <tr>\n",
              "      <th>0</th>\n",
              "      <td>how fuk who heck move fridge knock landlord door</td>\n",
              "      <td>0</td>\n",
              "    </tr>\n",
              "    <tr>\n",
              "      <th>1</th>\n",
              "      <td>so indian uber driver call someone word if mov...</td>\n",
              "      <td>0</td>\n",
              "    </tr>\n",
              "    <tr>\n",
              "      <th>2</th>\n",
              "      <td>ask parcel deliver pick store address</td>\n",
              "      <td>0</td>\n",
              "    </tr>\n",
              "    <tr>\n",
              "      <th>3</th>\n",
              "      <td>ef whichever butt wipe pull fire alarm davis b...</td>\n",
              "      <td>0</td>\n",
              "    </tr>\n",
              "    <tr>\n",
              "      <th>4</th>\n",
              "      <td>do not join put phone you talk rude take money...</td>\n",
              "      <td>0</td>\n",
              "    </tr>\n",
              "    <tr>\n",
              "      <th>5</th>\n",
              "      <td>my blood boiling</td>\n",
              "      <td>0</td>\n",
              "    </tr>\n",
              "    <tr>\n",
              "      <th>6</th>\n",
              "      <td>when still get whole season wentworth watch st...</td>\n",
              "      <td>0</td>\n",
              "    </tr>\n",
              "    <tr>\n",
              "      <th>7</th>\n",
              "      <td>tracking show equipment deliver be not why ser...</td>\n",
              "      <td>0</td>\n",
              "    </tr>\n",
              "    <tr>\n",
              "      <th>8</th>\n",
              "      <td>legit furious him people fucking idiot</td>\n",
              "      <td>0</td>\n",
              "    </tr>\n",
              "    <tr>\n",
              "      <th>9</th>\n",
              "      <td>how suppose work that wtf dude thank piss off</td>\n",
              "      <td>0</td>\n",
              "    </tr>\n",
              "  </tbody>\n",
              "</table>\n",
              "</div>"
            ],
            "text/plain": [
              "                                                text  label\n",
              "0   how fuk who heck move fridge knock landlord door      0\n",
              "1  so indian uber driver call someone word if mov...      0\n",
              "2              ask parcel deliver pick store address      0\n",
              "3  ef whichever butt wipe pull fire alarm davis b...      0\n",
              "4  do not join put phone you talk rude take money...      0\n",
              "5                                   my blood boiling      0\n",
              "6  when still get whole season wentworth watch st...      0\n",
              "7  tracking show equipment deliver be not why ser...      0\n",
              "8             legit furious him people fucking idiot      0\n",
              "9      how suppose work that wtf dude thank piss off      0"
            ]
          },
          "metadata": {},
          "execution_count": 63
        }
      ]
    },
    {
      "cell_type": "code",
      "metadata": {
        "id": "9lnzvqUV1xuZ",
        "colab": {
          "base_uri": "https://localhost:8080/"
        },
        "outputId": "b1108d54-b9f0-4f86-9d2d-5eff887bd9dc"
      },
      "source": [
        "import ktrain\n",
        "from ktrain import text\n",
        "\n",
        "class_names=[0,1,2,3]\n",
        "\n",
        "(x_train,  y_train), (x_test, y_test), preproc = text.texts_from_array(x_train=X_train, y_train=y_train,\n",
        "                                                                       x_test=X_test, y_test=y_test,\n",
        "                                                                       class_names=class_names,\n",
        "                                                                       lang='en',\n",
        "                                                                       maxlen=350, \n",
        "                                                                       max_features=35000)"
      ],
      "execution_count": null,
      "outputs": [
        {
          "output_type": "stream",
          "name": "stdout",
          "text": [
            "language: en\n",
            "Word Counts: 6275\n",
            "Nrows: 3613\n",
            "3613 train sequences\n",
            "train sequence lengths:\n",
            "\tmean : 9\n",
            "\t95percentile : 15\n",
            "\t99percentile : 18\n",
            "x_train shape: (3613,350)\n",
            "y_train shape: (3613, 4)\n",
            "Is Multi-Label? False\n",
            "347 test sequences\n",
            "test sequence lengths:\n",
            "\tmean : 8\n",
            "\t95percentile : 13\n",
            "\t99percentile : 17\n",
            "x_test shape: (347,350)\n",
            "y_test shape: (347, 4)\n",
            "task: text classification\n"
          ]
        }
      ]
    },
    {
      "cell_type": "code",
      "metadata": {
        "colab": {
          "base_uri": "https://localhost:8080/"
        },
        "id": "D20Z-1rq6ORr",
        "outputId": "0d162ce0-096e-48b9-a379-ebbc926e5198"
      },
      "source": [
        "# define model a fastText-like architecture using ktrain\n",
        "model = text.text_classifier('fasttext', train_data=(x_train, y_train), preproc=preproc)"
      ],
      "execution_count": null,
      "outputs": [
        {
          "output_type": "stream",
          "name": "stdout",
          "text": [
            "Is Multi-Label? False\n",
            "compiling word ID features...\n",
            "maxlen is 350\n",
            "done.\n"
          ]
        }
      ]
    },
    {
      "cell_type": "code",
      "metadata": {
        "id": "RfbwoM3M6TnI"
      },
      "source": [
        "# wrap model and data in Learner object\n",
        "learner = ktrain.get_learner(model, train_data=(x_train, y_train), \n",
        "                             val_data=(x_test, y_test),\n",
        "                             batch_size=6)"
      ],
      "execution_count": null,
      "outputs": []
    },
    {
      "cell_type": "code",
      "metadata": {
        "colab": {
          "base_uri": "https://localhost:8080/",
          "height": 473
        },
        "id": "in4nQCmLJftv",
        "outputId": "316bb989-757f-44c0-a06c-a15c4ebe5dad"
      },
      "source": [
        "learner.lr_find(show_plot=True)"
      ],
      "execution_count": null,
      "outputs": [
        {
          "output_type": "stream",
          "name": "stdout",
          "text": [
            "simulating training for different learning rates... this may take a few moments...\n",
            "Epoch 1/1024\n",
            "603/603 [==============================] - 6s 9ms/step - loss: 1.8150 - accuracy: 0.2447\n",
            "Epoch 2/1024\n",
            "603/603 [==============================] - 6s 9ms/step - loss: 1.6469 - accuracy: 0.2804\n",
            "Epoch 3/1024\n",
            "603/603 [==============================] - 4s 7ms/step - loss: 329.1958 - accuracy: 0.2918\n",
            "\n",
            "\n",
            "done.\n",
            "Visually inspect loss plot and select learning rate associated with falling loss\n"
          ]
        },
        {
          "output_type": "display_data",
          "data": {
            "image/png": "[encoded data removed]",
            "text/plain": [
              "<Figure size 432x288 with 1 Axes>"
            ]
          },
          "metadata": {
            "needs_background": "light"
          }
        }
      ]
    },
    {
      "cell_type": "code",
      "metadata": {
        "colab": {
          "base_uri": "https://localhost:8080/"
        },
        "id": "33InTmnc6mB9",
        "outputId": "7af33fec-cc83-45f1-8d65-510cf2cd297a"
      },
      "source": [
        "#learner.fit_onecycle(2e-5, 5)\n",
        "learner.autofit(7e-3, monitor='val_accuracy')"
      ],
      "execution_count": null,
      "outputs": [
        {
          "output_type": "stream",
          "name": "stdout",
          "text": [
            "early_stopping automatically enabled at patience=5\n",
            "reduce_on_plateau automatically enabled at patience=2\n",
            "\n",
            "\n",
            "begin training using triangular learning rate policy with max lr of 0.007...\n",
            "Epoch 1/1024\n",
            "603/603 [==============================] - 7s 11ms/step - loss: 1.4721 - accuracy: 0.3191 - val_loss: 1.3085 - val_accuracy: 0.4323\n",
            "Epoch 2/1024\n",
            "603/603 [==============================] - 6s 11ms/step - loss: 1.2229 - accuracy: 0.4559 - val_loss: 1.1137 - val_accuracy: 0.5389\n",
            "Epoch 3/1024\n",
            "603/603 [==============================] - 6s 10ms/step - loss: 1.0602 - accuracy: 0.5544 - val_loss: 1.0512 - val_accuracy: 0.5994\n",
            "Epoch 4/1024\n",
            "603/603 [==============================] - 6s 11ms/step - loss: 0.9490 - accuracy: 0.6183 - val_loss: 0.9681 - val_accuracy: 0.6455\n",
            "Epoch 5/1024\n",
            "603/603 [==============================] - 6s 10ms/step - loss: 0.8492 - accuracy: 0.6809 - val_loss: 0.8817 - val_accuracy: 0.6772\n",
            "Epoch 6/1024\n",
            "603/603 [==============================] - 6s 11ms/step - loss: 0.7345 - accuracy: 0.7191 - val_loss: 0.9084 - val_accuracy: 0.6369\n",
            "Epoch 7/1024\n",
            "601/603 [============================>.] - ETA: 0s - loss: 0.6963 - accuracy: 0.7407\n",
            "Epoch 00007: Reducing Max LR on Plateau: new max lr will be 0.0035 (if not early_stopping).\n",
            "603/603 [==============================] - 6s 11ms/step - loss: 0.6963 - accuracy: 0.7409 - val_loss: 0.9079 - val_accuracy: 0.6571\n",
            "Epoch 8/1024\n",
            "603/603 [==============================] - 6s 10ms/step - loss: 0.6087 - accuracy: 0.7744 - val_loss: 0.9111 - val_accuracy: 0.6542\n",
            "Epoch 9/1024\n",
            "602/603 [============================>.] - ETA: 0s - loss: 0.5641 - accuracy: 0.7918\n",
            "Epoch 00009: Reducing Max LR on Plateau: new max lr will be 0.00175 (if not early_stopping).\n",
            "603/603 [==============================] - 7s 11ms/step - loss: 0.5644 - accuracy: 0.7916 - val_loss: 0.9229 - val_accuracy: 0.6657\n",
            "Epoch 10/1024\n",
            "603/603 [==============================] - 6s 10ms/step - loss: 0.5119 - accuracy: 0.8215 - val_loss: 0.9576 - val_accuracy: 0.6801\n",
            "Epoch 11/1024\n",
            "603/603 [==============================] - 6s 10ms/step - loss: 0.4513 - accuracy: 0.8386 - val_loss: 0.9626 - val_accuracy: 0.6772\n",
            "Epoch 12/1024\n",
            "598/603 [============================>.] - ETA: 0s - loss: 0.4315 - accuracy: 0.8551\n",
            "Epoch 00012: Reducing Max LR on Plateau: new max lr will be 0.000875 (if not early_stopping).\n",
            "603/603 [==============================] - 6s 11ms/step - loss: 0.4324 - accuracy: 0.8550 - val_loss: 1.0005 - val_accuracy: 0.6657\n",
            "Epoch 13/1024\n",
            "603/603 [==============================] - 6s 10ms/step - loss: 0.4165 - accuracy: 0.8547 - val_loss: 0.9928 - val_accuracy: 0.6599\n",
            "Epoch 14/1024\n",
            "603/603 [==============================] - ETA: 0s - loss: 0.4028 - accuracy: 0.8633\n",
            "Epoch 00014: Reducing Max LR on Plateau: new max lr will be 0.0004375 (if not early_stopping).\n",
            "603/603 [==============================] - 6s 11ms/step - loss: 0.4028 - accuracy: 0.8633 - val_loss: 0.9919 - val_accuracy: 0.6657\n",
            "Epoch 15/1024\n",
            "599/603 [============================>.] - ETA: 0s - loss: 0.3859 - accuracy: 0.8659Restoring model weights from the end of the best epoch: 10.\n",
            "603/603 [==============================] - 6s 11ms/step - loss: 0.3850 - accuracy: 0.8663 - val_loss: 0.9966 - val_accuracy: 0.6715\n",
            "Epoch 00015: early stopping\n",
            "Weights from best epoch have been loaded into model.\n"
          ]
        },
        {
          "output_type": "execute_result",
          "data": {
            "text/plain": [
              "<keras.callbacks.History at 0x7fceb75140d0>"
            ]
          },
          "metadata": {},
          "execution_count": 68
        }
      ]
    },
    {
      "cell_type": "code",
      "metadata": {
        "colab": {
          "base_uri": "https://localhost:8080/"
        },
        "id": "6R74hoqd6meR",
        "outputId": "ae37ab5c-3527-42bc-cb46-caf3f055d20c"
      },
      "source": [
        "learner.validate(val_data=(x_test, y_test), class_names=class_names)"
      ],
      "execution_count": null,
      "outputs": [
        {
          "output_type": "stream",
          "name": "stdout",
          "text": [
            "              precision    recall  f1-score   support\n",
            "\n",
            "           0       0.68      0.62      0.65        84\n",
            "           1       0.80      0.71      0.75        79\n",
            "           2       0.60      0.66      0.63        74\n",
            "           3       0.66      0.72      0.69       110\n",
            "\n",
            "    accuracy                           0.68       347\n",
            "   macro avg       0.69      0.68      0.68       347\n",
            "weighted avg       0.69      0.68      0.68       347\n",
            "\n"
          ]
        },
        {
          "output_type": "execute_result",
          "data": {
            "text/plain": [
              "array([[52,  4, 13, 15],\n",
              "       [ 8, 56,  4, 11],\n",
              "       [ 4,  6, 49, 15],\n",
              "       [12,  4, 15, 79]])"
            ]
          },
          "metadata": {},
          "execution_count": 69
        }
      ]
    },
    {
      "cell_type": "code",
      "metadata": {
        "colab": {
          "base_uri": "https://localhost:8080/",
          "height": 294
        },
        "id": "bv47KxDn6oBF",
        "outputId": "eceb4292-72b6-439c-b38f-fc16c665dee1"
      },
      "source": [
        "learner.plot()"
      ],
      "execution_count": null,
      "outputs": [
        {
          "output_type": "display_data",
          "data": {
            "image/png": "[encoded data removed]",
            "text/plain": [
              "<Figure size 432x288 with 1 Axes>"
            ]
          },
          "metadata": {
            "needs_background": "light"
          }
        }
      ]
    },
    {
      "cell_type": "code",
      "metadata": {
        "colab": {
          "base_uri": "https://localhost:8080/"
        },
        "id": "Ol0-VUQnGnHC",
        "outputId": "c2f837d3-293a-4236-aa45-6f7b71120714"
      },
      "source": [
        "#on purely test data\n",
        "X_test = df_test.text.tolist()\n",
        "y_test = df_test.label.tolist()\n",
        "\n",
        "(x_train,  y_train), (x_test, y_test), preproc = text.texts_from_array(x_train=X_train, y_train=y_train,\n",
        "                                                                       x_test=X_test, y_test=y_test,\n",
        "                                                                       class_names=class_names,\n",
        "                                                                       lang='en',\n",
        "                                                                       maxlen=350, \n",
        "                                                                       max_features=35000)\n",
        "\n",
        "learner.validate(val_data=(x_test, y_test), class_names=class_names)"
      ],
      "execution_count": null,
      "outputs": [
        {
          "output_type": "stream",
          "name": "stdout",
          "text": [
            "language: en\n",
            "Word Counts: 6275\n",
            "Nrows: 3613\n",
            "3613 train sequences\n",
            "train sequence lengths:\n",
            "\tmean : 9\n",
            "\t95percentile : 15\n",
            "\t99percentile : 18\n",
            "x_train shape: (3613,350)\n",
            "y_train shape: (3613, 4)\n",
            "Is Multi-Label? False\n",
            "3142 test sequences\n",
            "test sequence lengths:\n",
            "\tmean : 8\n",
            "\t95percentile : 14\n",
            "\t99percentile : 17\n",
            "x_test shape: (3142,350)\n",
            "y_test shape: (3142, 4)\n",
            "task: text classification\n",
            "              precision    recall  f1-score   support\n",
            "\n",
            "           0       0.66      0.63      0.64       760\n",
            "           1       0.80      0.65      0.72       714\n",
            "           2       0.58      0.62      0.60       673\n",
            "           3       0.63      0.70      0.67       995\n",
            "\n",
            "    accuracy                           0.66      3142\n",
            "   macro avg       0.67      0.65      0.66      3142\n",
            "weighted avg       0.66      0.66      0.66      3142\n",
            "\n"
          ]
        },
        {
          "output_type": "execute_result",
          "data": {
            "text/plain": [
              "array([[479,  36,  91, 154],\n",
              "       [ 64, 465,  77, 108],\n",
              "       [ 81,  32, 419, 141],\n",
              "       [103,  50, 141, 701]])"
            ]
          },
          "metadata": {},
          "execution_count": 71
        }
      ]
    },
    {
      "cell_type": "markdown",
      "metadata": {
        "id": "bpEtuFzPGeS5"
      },
      "source": [
        "#NBSVM"
      ]
    },
    {
      "cell_type": "code",
      "metadata": {
        "colab": {
          "base_uri": "https://localhost:8080/",
          "height": 484
        },
        "id": "vmVw2hQw6pgN",
        "outputId": "c6f1da9f-c503-4701-84c6-a2612316e0b3"
      },
      "source": [
        "X_train = df_train.text.tolist()\n",
        "X_test = df_val.text.tolist()\n",
        "\n",
        "y_train = df_train.label.tolist()\n",
        "y_test = df_val.label.tolist()\n",
        "\n",
        "data = df_train.append(df_val, ignore_index=True)\n",
        "\n",
        "print('size of training set: %s' % (len(df_train['text'])))\n",
        "print('size of validation set: %s' % (len(df_val['text'])))\n",
        "print(data.label.value_counts())\n",
        "\n",
        "data.head(10)"
      ],
      "execution_count": null,
      "outputs": [
        {
          "output_type": "stream",
          "name": "stdout",
          "text": [
            "size of training set: 3613\n",
            "size of validation set: 347\n",
            "3    1257\n",
            "0     941\n",
            "1     902\n",
            "2     860\n",
            "Name: label, dtype: int64\n"
          ]
        },
        {
          "output_type": "execute_result",
          "data": {
            "text/html": [
              "<div>\n",
              "<style scoped>\n",
              "    .dataframe tbody tr th:only-of-type {\n",
              "        vertical-align: middle;\n",
              "    }\n",
              "\n",
              "    .dataframe tbody tr th {\n",
              "        vertical-align: top;\n",
              "    }\n",
              "\n",
              "    .dataframe thead th {\n",
              "        text-align: right;\n",
              "    }\n",
              "</style>\n",
              "<table border=\"1\" class=\"dataframe\">\n",
              "  <thead>\n",
              "    <tr style=\"text-align: right;\">\n",
              "      <th></th>\n",
              "      <th>text</th>\n",
              "      <th>label</th>\n",
              "    </tr>\n",
              "  </thead>\n",
              "  <tbody>\n",
              "    <tr>\n",
              "      <th>0</th>\n",
              "      <td>how fuk who heck move fridge knock landlord door</td>\n",
              "      <td>0</td>\n",
              "    </tr>\n",
              "    <tr>\n",
              "      <th>1</th>\n",
              "      <td>so indian uber driver call someone word if mov...</td>\n",
              "      <td>0</td>\n",
              "    </tr>\n",
              "    <tr>\n",
              "      <th>2</th>\n",
              "      <td>ask parcel deliver pick store address</td>\n",
              "      <td>0</td>\n",
              "    </tr>\n",
              "    <tr>\n",
              "      <th>3</th>\n",
              "      <td>ef whichever butt wipe pull fire alarm davis b...</td>\n",
              "      <td>0</td>\n",
              "    </tr>\n",
              "    <tr>\n",
              "      <th>4</th>\n",
              "      <td>do not join put phone you talk rude take money...</td>\n",
              "      <td>0</td>\n",
              "    </tr>\n",
              "    <tr>\n",
              "      <th>5</th>\n",
              "      <td>my blood boiling</td>\n",
              "      <td>0</td>\n",
              "    </tr>\n",
              "    <tr>\n",
              "      <th>6</th>\n",
              "      <td>when still get whole season wentworth watch st...</td>\n",
              "      <td>0</td>\n",
              "    </tr>\n",
              "    <tr>\n",
              "      <th>7</th>\n",
              "      <td>tracking show equipment deliver be not why ser...</td>\n",
              "      <td>0</td>\n",
              "    </tr>\n",
              "    <tr>\n",
              "      <th>8</th>\n",
              "      <td>legit furious him people fucking idiot</td>\n",
              "      <td>0</td>\n",
              "    </tr>\n",
              "    <tr>\n",
              "      <th>9</th>\n",
              "      <td>how suppose work that wtf dude thank piss off</td>\n",
              "      <td>0</td>\n",
              "    </tr>\n",
              "  </tbody>\n",
              "</table>\n",
              "</div>"
            ],
            "text/plain": [
              "                                                text  label\n",
              "0   how fuk who heck move fridge knock landlord door      0\n",
              "1  so indian uber driver call someone word if mov...      0\n",
              "2              ask parcel deliver pick store address      0\n",
              "3  ef whichever butt wipe pull fire alarm davis b...      0\n",
              "4  do not join put phone you talk rude take money...      0\n",
              "5                                   my blood boiling      0\n",
              "6  when still get whole season wentworth watch st...      0\n",
              "7  tracking show equipment deliver be not why ser...      0\n",
              "8             legit furious him people fucking idiot      0\n",
              "9      how suppose work that wtf dude thank piss off      0"
            ]
          },
          "metadata": {},
          "execution_count": 52
        }
      ]
    },
    {
      "cell_type": "code",
      "metadata": {
        "colab": {
          "base_uri": "https://localhost:8080/"
        },
        "id": "tyZbJkQeGiCF",
        "outputId": "f8a5a421-8e76-4720-c3bf-99e6accbabf7"
      },
      "source": [
        "import ktrain\n",
        "from ktrain import text\n",
        "\n",
        "class_names=[0,1,2,3]\n",
        "\n",
        "(x_train,  y_train), (x_test, y_test), preproc = text.texts_from_array(x_train=X_train, y_train=y_train,\n",
        "                                                                       x_test=X_test, y_test=y_test,\n",
        "                                                                       class_names=class_names,\n",
        "                                                                       preprocess_mode='standard',\n",
        "                                                                       lang='en',\n",
        "                                                                       maxlen=350, \n",
        "                                                                       val_pct=0.1,\n",
        "                                                                       ngram_range=3,\n",
        "                                                                       max_features=35000)"
      ],
      "execution_count": null,
      "outputs": [
        {
          "output_type": "stream",
          "name": "stdout",
          "text": [
            "language: en\n",
            "Word Counts: 6275\n",
            "Nrows: 3613\n",
            "3613 train sequences\n",
            "train sequence lengths:\n",
            "\tmean : 9\n",
            "\t95percentile : 15\n",
            "\t99percentile : 18\n",
            "Adding 3-gram features\n",
            "max_features changed to 75808 with addition of ngrams\n",
            "Average train sequence length with ngrams: 22\n",
            "train (w/ngrams) sequence lengths:\n",
            "\tmean : 23\n",
            "\t95percentile : 42\n",
            "\t99percentile : 51\n",
            "x_train shape: (3613,350)\n",
            "y_train shape: (3613, 4)\n",
            "Is Multi-Label? False\n",
            "347 test sequences\n",
            "test sequence lengths:\n",
            "\tmean : 8\n",
            "\t95percentile : 13\n",
            "\t99percentile : 17\n",
            "Average test sequence length with ngrams: 9\n",
            "test (w/ngrams) sequence lengths:\n",
            "\tmean : 9\n",
            "\t95percentile : 18\n",
            "\t99percentile : 26\n",
            "x_test shape: (347,350)\n",
            "y_test shape: (347, 4)\n",
            "task: text classification\n"
          ]
        }
      ]
    },
    {
      "cell_type": "code",
      "metadata": {
        "colab": {
          "base_uri": "https://localhost:8080/"
        },
        "id": "q_s2K8-tGkKv",
        "outputId": "43fdd5e5-30e5-4676-dc23-9452937d7c36"
      },
      "source": [
        "# define model a fastText-like architecture using ktrain\n",
        "model = text.text_classifier('nbsvm', train_data=(x_train, y_train) , preproc=preproc)\n",
        "\n",
        "learner = ktrain.get_learner(model, train_data=(x_train, y_train), \n",
        "                             val_data=(x_test, y_test),\n",
        "                             batch_size=6)"
      ],
      "execution_count": null,
      "outputs": [
        {
          "output_type": "stream",
          "name": "stdout",
          "text": [
            "Is Multi-Label? False\n",
            "compiling word ID features...\n",
            "maxlen is 350\n",
            "building document-term matrix... this may take a few moments...\n",
            "rows: 1-3613\n",
            "computing log-count ratios...\n",
            "done.\n"
          ]
        }
      ]
    },
    {
      "cell_type": "code",
      "metadata": {
        "colab": {
          "base_uri": "https://localhost:8080/",
          "height": 476
        },
        "id": "3yZ6driBGxka",
        "outputId": "58cd1ea9-5681-42b0-e82e-425ffc2e52b6"
      },
      "source": [
        "learner.lr_find(show_plot=True)"
      ],
      "execution_count": null,
      "outputs": [
        {
          "output_type": "stream",
          "name": "stdout",
          "text": [
            "simulating training for different learning rates... this may take a few moments...\n",
            "Epoch 1/1024\n",
            "603/603 [==============================] - 4s 6ms/step - loss: 1.3856 - accuracy: 0.4210\n",
            "Epoch 2/1024\n",
            "603/603 [==============================] - 4s 6ms/step - loss: 1.2434 - accuracy: 0.7182\n",
            "Epoch 3/1024\n",
            "603/603 [==============================] - 3s 6ms/step - loss: 2.3221 - accuracy: 0.8527\n",
            "\n",
            "\n",
            "done.\n",
            "Visually inspect loss plot and select learning rate associated with falling loss\n"
          ]
        },
        {
          "output_type": "display_data",
          "data": {
            "image/png": "[encoded data removed]",
            "text/plain": [
              "<Figure size 432x288 with 1 Axes>"
            ]
          },
          "metadata": {
            "needs_background": "light"
          }
        }
      ]
    },
    {
      "cell_type": "code",
      "metadata": {
        "colab": {
          "base_uri": "https://localhost:8080/"
        },
        "id": "PiCP4k9-ID_3",
        "outputId": "f934ead4-7ec3-4416-b6b2-e3c3a77034cb"
      },
      "source": [
        "learner.autofit(7e-3, monitor='val_accuracy')"
      ],
      "execution_count": null,
      "outputs": [
        {
          "output_type": "stream",
          "name": "stdout",
          "text": [
            "early_stopping automatically enabled at patience=5\n",
            "reduce_on_plateau automatically enabled at patience=2\n",
            "\n",
            "\n",
            "begin training using triangular learning rate policy with max lr of 0.007...\n",
            "Epoch 1/1024\n",
            "603/603 [==============================] - 5s 8ms/step - loss: 0.3360 - accuracy: 0.9820 - val_loss: 13.0535 - val_accuracy: 0.5879\n",
            "Epoch 2/1024\n",
            "603/603 [==============================] - 5s 7ms/step - loss: 0.3262 - accuracy: 0.9820 - val_loss: 13.0493 - val_accuracy: 0.5879\n",
            "Epoch 3/1024\n",
            "598/603 [============================>.] - ETA: 0s - loss: 0.3192 - accuracy: 0.9822\n",
            "Epoch 00003: Reducing Max LR on Plateau: new max lr will be 0.0035 (if not early_stopping).\n",
            "603/603 [==============================] - 4s 7ms/step - loss: 0.3170 - accuracy: 0.9823 - val_loss: 13.0444 - val_accuracy: 0.5879\n",
            "Epoch 4/1024\n",
            "603/603 [==============================] - 4s 7ms/step - loss: 0.3057 - accuracy: 0.9823 - val_loss: 13.0434 - val_accuracy: 0.5879\n",
            "Epoch 5/1024\n",
            "601/603 [============================>.] - ETA: 0s - loss: 0.3015 - accuracy: 0.9820\n",
            "Epoch 00005: Reducing Max LR on Plateau: new max lr will be 0.00175 (if not early_stopping).\n",
            "603/603 [==============================] - 5s 8ms/step - loss: 0.3010 - accuracy: 0.9820 - val_loss: 13.0419 - val_accuracy: 0.5879\n",
            "Epoch 6/1024\n",
            "600/603 [============================>.] - ETA: 0s - loss: 0.2979 - accuracy: 0.9822Restoring model weights from the end of the best epoch: 1.\n",
            "603/603 [==============================] - 5s 7ms/step - loss: 0.2968 - accuracy: 0.9823 - val_loss: 13.0416 - val_accuracy: 0.5879\n",
            "Epoch 00006: early stopping\n",
            "Weights from best epoch have been loaded into model.\n"
          ]
        },
        {
          "output_type": "execute_result",
          "data": {
            "text/plain": [
              "<keras.callbacks.History at 0x7fceb7d98c90>"
            ]
          },
          "metadata": {},
          "execution_count": 58
        }
      ]
    },
    {
      "cell_type": "code",
      "metadata": {
        "colab": {
          "base_uri": "https://localhost:8080/"
        },
        "id": "khHGW8dfIju-",
        "outputId": "b9769c4e-70cc-4099-cb46-0a906348a7d3"
      },
      "source": [
        "learner.validate(val_data=(x_test, y_test), class_names=class_names)"
      ],
      "execution_count": null,
      "outputs": [
        {
          "output_type": "stream",
          "name": "stdout",
          "text": [
            "              precision    recall  f1-score   support\n",
            "\n",
            "           0       0.57      0.61      0.59        84\n",
            "           1       0.69      0.63      0.66        79\n",
            "           2       0.45      0.62      0.52        74\n",
            "           3       0.70      0.52      0.59       110\n",
            "\n",
            "    accuracy                           0.59       347\n",
            "   macro avg       0.60      0.59      0.59       347\n",
            "weighted avg       0.61      0.59      0.59       347\n",
            "\n"
          ]
        },
        {
          "output_type": "execute_result",
          "data": {
            "text/plain": [
              "array([[51,  6, 18,  9],\n",
              "       [ 5, 50, 18,  6],\n",
              "       [12,  6, 46, 10],\n",
              "       [22, 10, 21, 57]])"
            ]
          },
          "metadata": {},
          "execution_count": 60
        }
      ]
    },
    {
      "cell_type": "code",
      "metadata": {
        "colab": {
          "base_uri": "https://localhost:8080/"
        },
        "id": "W5VOchVZJGZB",
        "outputId": "a12d1818-fb53-47f1-d04d-aa7d8ddf0514"
      },
      "source": [
        "#on purely test data\n",
        "X_test = df_test.text.tolist()\n",
        "y_test = df_test.label.tolist()\n",
        "\n",
        "(x_train,  y_train), (x_test, y_test), preproc = text.texts_from_array(x_train=X_train, y_train=y_train,\n",
        "                                                                       x_test=X_test, y_test=y_test,\n",
        "                                                                       class_names=class_names,\n",
        "                                                                       lang='en',\n",
        "                                                                       maxlen=350, \n",
        "                                                                       max_features=35000)\n",
        "\n",
        "learner.validate(val_data=(x_test, y_test), class_names=class_names)"
      ],
      "execution_count": null,
      "outputs": [
        {
          "output_type": "stream",
          "name": "stdout",
          "text": [
            "language: en\n",
            "Word Counts: 6275\n",
            "Nrows: 3613\n",
            "3613 train sequences\n",
            "train sequence lengths:\n",
            "\tmean : 9\n",
            "\t95percentile : 15\n",
            "\t99percentile : 18\n",
            "x_train shape: (3613,350)\n",
            "y_train shape: (3613, 4)\n",
            "Is Multi-Label? False\n",
            "3142 test sequences\n",
            "test sequence lengths:\n",
            "\tmean : 8\n",
            "\t95percentile : 14\n",
            "\t99percentile : 17\n",
            "x_test shape: (3142,350)\n",
            "y_test shape: (3142, 4)\n",
            "task: text classification\n",
            "              precision    recall  f1-score   support\n",
            "\n",
            "           0       0.59      0.62      0.61       760\n",
            "           1       0.67      0.63      0.65       714\n",
            "           2       0.50      0.64      0.56       673\n",
            "           3       0.66      0.53      0.59       995\n",
            "\n",
            "    accuracy                           0.60      3142\n",
            "   macro avg       0.60      0.61      0.60      3142\n",
            "weighted avg       0.61      0.60      0.60      3142\n",
            "\n"
          ]
        },
        {
          "output_type": "execute_result",
          "data": {
            "text/plain": [
              "array([[474,  60, 115, 111],\n",
              "       [ 71, 453, 110,  80],\n",
              "       [109,  55, 432,  77],\n",
              "       [151, 111, 208, 525]])"
            ]
          },
          "metadata": {},
          "execution_count": 61
        }
      ]
    },
    {
      "cell_type": "code",
      "metadata": {
        "colab": {
          "base_uri": "https://localhost:8080/"
        },
        "id": "lpdcSfQoJTK8",
        "outputId": "74f3b542-c1a9-4216-cd2f-d237ce6bf1b6"
      },
      "source": [
        "learner.view_top_losses(n=1, preproc=preproc)"
      ],
      "execution_count": null,
      "outputs": [
        {
          "output_type": "stream",
          "name": "stdout",
          "text": [
            "----------\n",
            "id:4 | loss:16.12 | true:0 | pred:2)\n",
            "\n",
            "sometimes get mad something try ruin somebody life like lose job like get federal\n"
          ]
        }
      ]
    },
    {
      "cell_type": "code",
      "metadata": {
        "id": "KKkvKSwhJW4c"
      },
      "source": [
        ""
      ],
      "execution_count": null,
      "outputs": []
    }
  ]
}