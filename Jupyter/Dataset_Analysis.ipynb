{
  "nbformat": 4,
  "nbformat_minor": 0,
  "metadata": {
    "accelerator": "GPU",
    "colab": {
      "name": "Dataset Analysis.ipynb",
      "provenance": [],
      "collapsed_sections": []
    },
    "kernelspec": {
      "display_name": "Python 3",
      "language": "python",
      "name": "python3"
    },
    "language_info": {
      "codemirror_mode": {
        "name": "ipython",
        "version": 3
      },
      "file_extension": ".py",
      "mimetype": "text/x-python",
      "name": "python",
      "nbconvert_exporter": "python",
      "pygments_lexer": "ipython3",
      "version": "3.8.3"
    }
  },
  "cells": [
    {
      "cell_type": "code",
      "metadata": {
        "colab": {
          "base_uri": "https://localhost:8080/"
        },
        "id": "s5o2ZtJjtOu8",
        "outputId": "6b0662ce-d457-40fc-a1c0-9dc6aaa5201e"
      },
      "source": [
        "!pip3 install ktrain"
      ],
      "execution_count": 1,
      "outputs": [
        {
          "output_type": "stream",
          "name": "stdout",
          "text": [
            "Collecting ktrain\n",
            "  Downloading ktrain-0.28.3.tar.gz (25.3 MB)\n",
            "\u001b[K     |████████████████████████████████| 25.3 MB 84 kB/s \n",
            "\u001b[?25hCollecting scikit-learn==0.23.2\n",
            "  Downloading scikit_learn-0.23.2-cp37-cp37m-manylinux1_x86_64.whl (6.8 MB)\n",
            "\u001b[K     |████████████████████████████████| 6.8 MB 22.0 MB/s \n",
            "\u001b[?25hRequirement already satisfied: matplotlib>=3.0.0 in /usr/local/lib/python3.7/dist-packages (from ktrain) (3.2.2)\n",
            "Requirement already satisfied: pandas>=1.0.1 in /usr/local/lib/python3.7/dist-packages (from ktrain) (1.1.5)\n",
            "Requirement already satisfied: fastprogress>=0.1.21 in /usr/local/lib/python3.7/dist-packages (from ktrain) (1.0.0)\n",
            "Requirement already satisfied: requests in /usr/local/lib/python3.7/dist-packages (from ktrain) (2.23.0)\n",
            "Requirement already satisfied: joblib in /usr/local/lib/python3.7/dist-packages (from ktrain) (1.1.0)\n",
            "Requirement already satisfied: packaging in /usr/local/lib/python3.7/dist-packages (from ktrain) (21.2)\n",
            "Collecting langdetect\n",
            "  Downloading langdetect-1.0.9.tar.gz (981 kB)\n",
            "\u001b[K     |████████████████████████████████| 981 kB 65.8 MB/s \n",
            "\u001b[?25hRequirement already satisfied: jieba in /usr/local/lib/python3.7/dist-packages (from ktrain) (0.42.1)\n",
            "Collecting cchardet\n",
            "  Downloading cchardet-2.1.7-cp37-cp37m-manylinux2010_x86_64.whl (263 kB)\n",
            "\u001b[K     |████████████████████████████████| 263 kB 37.3 MB/s \n",
            "\u001b[?25hRequirement already satisfied: chardet in /usr/local/lib/python3.7/dist-packages (from ktrain) (3.0.4)\n",
            "Collecting syntok\n",
            "  Downloading syntok-1.3.1.tar.gz (23 kB)\n",
            "Collecting seqeval==0.0.19\n",
            "  Downloading seqeval-0.0.19.tar.gz (30 kB)\n",
            "Collecting transformers<=4.10.3,>=4.0.0\n",
            "  Downloading transformers-4.10.3-py3-none-any.whl (2.8 MB)\n",
            "\u001b[K     |████████████████████████████████| 2.8 MB 42.6 MB/s \n",
            "\u001b[?25hCollecting sentencepiece\n",
            "  Downloading sentencepiece-0.1.96-cp37-cp37m-manylinux_2_17_x86_64.manylinux2014_x86_64.whl (1.2 MB)\n",
            "\u001b[K     |████████████████████████████████| 1.2 MB 43.7 MB/s \n",
            "\u001b[?25hCollecting keras_bert>=0.86.0\n",
            "  Downloading keras-bert-0.88.0.tar.gz (26 kB)\n",
            "Collecting whoosh\n",
            "  Downloading Whoosh-2.7.4-py2.py3-none-any.whl (468 kB)\n",
            "\u001b[K     |████████████████████████████████| 468 kB 49.6 MB/s \n",
            "\u001b[?25hRequirement already satisfied: numpy>=1.13.3 in /usr/local/lib/python3.7/dist-packages (from scikit-learn==0.23.2->ktrain) (1.19.5)\n",
            "Requirement already satisfied: scipy>=0.19.1 in /usr/local/lib/python3.7/dist-packages (from scikit-learn==0.23.2->ktrain) (1.4.1)\n",
            "Collecting threadpoolctl>=2.0.0\n",
            "  Downloading threadpoolctl-3.0.0-py3-none-any.whl (14 kB)\n",
            "Requirement already satisfied: Keras>=2.2.4 in /usr/local/lib/python3.7/dist-packages (from seqeval==0.0.19->ktrain) (2.7.0)\n",
            "Collecting keras-transformer>=0.39.0\n",
            "  Downloading keras-transformer-0.39.0.tar.gz (11 kB)\n",
            "Collecting keras-pos-embd>=0.12.0\n",
            "  Downloading keras-pos-embd-0.12.0.tar.gz (6.0 kB)\n",
            "Collecting keras-multi-head>=0.28.0\n",
            "  Downloading keras-multi-head-0.28.0.tar.gz (14 kB)\n",
            "Collecting keras-layer-normalization>=0.15.0\n",
            "  Downloading keras-layer-normalization-0.15.0.tar.gz (4.2 kB)\n",
            "Collecting keras-position-wise-feed-forward>=0.7.0\n",
            "  Downloading keras-position-wise-feed-forward-0.7.0.tar.gz (4.5 kB)\n",
            "Collecting keras-embed-sim>=0.9.0\n",
            "  Downloading keras-embed-sim-0.9.0.tar.gz (4.1 kB)\n",
            "Collecting keras-self-attention>=0.50.0\n",
            "  Downloading keras-self-attention-0.50.0.tar.gz (12 kB)\n",
            "Requirement already satisfied: kiwisolver>=1.0.1 in /usr/local/lib/python3.7/dist-packages (from matplotlib>=3.0.0->ktrain) (1.3.2)\n",
            "Requirement already satisfied: pyparsing!=2.0.4,!=2.1.2,!=2.1.6,>=2.0.1 in /usr/local/lib/python3.7/dist-packages (from matplotlib>=3.0.0->ktrain) (2.4.7)\n",
            "Requirement already satisfied: python-dateutil>=2.1 in /usr/local/lib/python3.7/dist-packages (from matplotlib>=3.0.0->ktrain) (2.8.2)\n",
            "Requirement already satisfied: cycler>=0.10 in /usr/local/lib/python3.7/dist-packages (from matplotlib>=3.0.0->ktrain) (0.11.0)\n",
            "Requirement already satisfied: pytz>=2017.2 in /usr/local/lib/python3.7/dist-packages (from pandas>=1.0.1->ktrain) (2018.9)\n",
            "Requirement already satisfied: six>=1.5 in /usr/local/lib/python3.7/dist-packages (from python-dateutil>=2.1->matplotlib>=3.0.0->ktrain) (1.15.0)\n",
            "Requirement already satisfied: importlib-metadata in /usr/local/lib/python3.7/dist-packages (from transformers<=4.10.3,>=4.0.0->ktrain) (4.8.2)\n",
            "Collecting tokenizers<0.11,>=0.10.1\n",
            "  Downloading tokenizers-0.10.3-cp37-cp37m-manylinux_2_5_x86_64.manylinux1_x86_64.manylinux_2_12_x86_64.manylinux2010_x86_64.whl (3.3 MB)\n",
            "\u001b[K     |████████████████████████████████| 3.3 MB 59.1 MB/s \n",
            "\u001b[?25hRequirement already satisfied: tqdm>=4.27 in /usr/local/lib/python3.7/dist-packages (from transformers<=4.10.3,>=4.0.0->ktrain) (4.62.3)\n",
            "Requirement already satisfied: regex!=2019.12.17 in /usr/local/lib/python3.7/dist-packages (from transformers<=4.10.3,>=4.0.0->ktrain) (2019.12.20)\n",
            "Requirement already satisfied: filelock in /usr/local/lib/python3.7/dist-packages (from transformers<=4.10.3,>=4.0.0->ktrain) (3.3.2)\n",
            "Collecting sacremoses\n",
            "  Downloading sacremoses-0.0.46-py3-none-any.whl (895 kB)\n",
            "\u001b[K     |████████████████████████████████| 895 kB 51.9 MB/s \n",
            "\u001b[?25hCollecting pyyaml>=5.1\n",
            "  Downloading PyYAML-6.0-cp37-cp37m-manylinux_2_5_x86_64.manylinux1_x86_64.manylinux_2_12_x86_64.manylinux2010_x86_64.whl (596 kB)\n",
            "\u001b[K     |████████████████████████████████| 596 kB 66.0 MB/s \n",
            "\u001b[?25hCollecting huggingface-hub>=0.0.12\n",
            "  Downloading huggingface_hub-0.1.2-py3-none-any.whl (59 kB)\n",
            "\u001b[K     |████████████████████████████████| 59 kB 5.5 MB/s \n",
            "\u001b[?25hRequirement already satisfied: typing-extensions>=3.7.4.3 in /usr/local/lib/python3.7/dist-packages (from huggingface-hub>=0.0.12->transformers<=4.10.3,>=4.0.0->ktrain) (3.10.0.2)\n",
            "Requirement already satisfied: zipp>=0.5 in /usr/local/lib/python3.7/dist-packages (from importlib-metadata->transformers<=4.10.3,>=4.0.0->ktrain) (3.6.0)\n",
            "Requirement already satisfied: certifi>=2017.4.17 in /usr/local/lib/python3.7/dist-packages (from requests->ktrain) (2021.10.8)\n",
            "Requirement already satisfied: idna<3,>=2.5 in /usr/local/lib/python3.7/dist-packages (from requests->ktrain) (2.10)\n",
            "Requirement already satisfied: urllib3!=1.25.0,!=1.25.1,<1.26,>=1.21.1 in /usr/local/lib/python3.7/dist-packages (from requests->ktrain) (1.24.3)\n",
            "Requirement already satisfied: click in /usr/local/lib/python3.7/dist-packages (from sacremoses->transformers<=4.10.3,>=4.0.0->ktrain) (7.1.2)\n",
            "Building wheels for collected packages: ktrain, seqeval, keras-bert, keras-transformer, keras-embed-sim, keras-layer-normalization, keras-multi-head, keras-pos-embd, keras-position-wise-feed-forward, keras-self-attention, langdetect, syntok\n",
            "  Building wheel for ktrain (setup.py) ... \u001b[?25l\u001b[?25hdone\n",
            "  Created wheel for ktrain: filename=ktrain-0.28.3-py3-none-any.whl size=25292659 sha256=3d1fcd545e9716e32608561ce1b620e611a2b6068745a8cf5a0010a576db20ab\n",
            "  Stored in directory: /root/.cache/pip/wheels/6a/7e/c3/f46cdfc2b81c54424923b1405d7e670c35cacc11ada9a47b1c\n",
            "  Building wheel for seqeval (setup.py) ... \u001b[?25l\u001b[?25hdone\n",
            "  Created wheel for seqeval: filename=seqeval-0.0.19-py3-none-any.whl size=9929 sha256=f24b637788701e80e2bae34a12699913d23d591e2446896c2a4f4955ea8f33f6\n",
            "  Stored in directory: /root/.cache/pip/wheels/f5/ac/f1/4e13d7aff05c722d142b7d20a88ad63f9aab11b895411241a4\n",
            "  Building wheel for keras-bert (setup.py) ... \u001b[?25l\u001b[?25hdone\n",
            "  Created wheel for keras-bert: filename=keras_bert-0.88.0-py3-none-any.whl size=34204 sha256=156e5e2842e1c4ac394c7c66bf0f193cf215dd3f01b505bf37e7b1ae76a9c7a2\n",
            "  Stored in directory: /root/.cache/pip/wheels/a2/90/cd/c038f2366929a3a5e3414a303b673e10235e802d871d29a835\n",
            "  Building wheel for keras-transformer (setup.py) ... \u001b[?25l\u001b[?25hdone\n",
            "  Created wheel for keras-transformer: filename=keras_transformer-0.39.0-py3-none-any.whl size=12842 sha256=ba885b66cd75462bde55e570520db0ecd5a3a781b3bd11bf3cfe566241c64c7e\n",
            "  Stored in directory: /root/.cache/pip/wheels/bc/01/e0/5a1a14bed6726f2ed73f7917d2d2c2d4081d2c88426dea07ce\n",
            "  Building wheel for keras-embed-sim (setup.py) ... \u001b[?25l\u001b[?25hdone\n",
            "  Created wheel for keras-embed-sim: filename=keras_embed_sim-0.9.0-py3-none-any.whl size=4504 sha256=c1ff44e377cb0edc24d7bd685c9cb68837cd9b77a3d03a4f8a20c894080944e7\n",
            "  Stored in directory: /root/.cache/pip/wheels/a8/1e/d2/9bc15513dd2f8b9de3e628b3aa9d2de49e721deef6bbd1497e\n",
            "  Building wheel for keras-layer-normalization (setup.py) ... \u001b[?25l\u001b[?25hdone\n",
            "  Created wheel for keras-layer-normalization: filename=keras_layer_normalization-0.15.0-py3-none-any.whl size=5224 sha256=145cc58cc216cd63826ba75d05549f3a23051177ae1b39b583b32e35be042980\n",
            "  Stored in directory: /root/.cache/pip/wheels/4d/be/fe/55422f77ac11fe6ddcb471198038de8a26b5a4dd1557883c1e\n",
            "  Building wheel for keras-multi-head (setup.py) ... \u001b[?25l\u001b[?25hdone\n",
            "  Created wheel for keras-multi-head: filename=keras_multi_head-0.28.0-py3-none-any.whl size=15559 sha256=2aa02dc63d57610161555a1b259078e1d25c12a8d62da6efc66fd4b62e87ce07\n",
            "  Stored in directory: /root/.cache/pip/wheels/79/4a/ea/9503ab5a02201dfb8635ba2cc8f30844661623c684a5b44472\n",
            "  Building wheel for keras-pos-embd (setup.py) ... \u001b[?25l\u001b[?25hdone\n",
            "  Created wheel for keras-pos-embd: filename=keras_pos_embd-0.12.0-py3-none-any.whl size=7469 sha256=921b9705bc1a069bfc87f5c942e88fd9a7dd6d2f6709841f3f33c131ae5192be\n",
            "  Stored in directory: /root/.cache/pip/wheels/77/99/fd/dd98f4876c3ebbef7aab0dbfbd37bca41d7db37d3a28b2cb09\n",
            "  Building wheel for keras-position-wise-feed-forward (setup.py) ... \u001b[?25l\u001b[?25hdone\n",
            "  Created wheel for keras-position-wise-feed-forward: filename=keras_position_wise_feed_forward-0.7.0-py3-none-any.whl size=5541 sha256=e59dcc4bbc764251423674794d7acb72345293b72e4be804768de50f95e54bda\n",
            "  Stored in directory: /root/.cache/pip/wheels/2d/12/02/1ad455c4f181cda1a4e60c5445855853d5c2ea91f942586a04\n",
            "  Building wheel for keras-self-attention (setup.py) ... \u001b[?25l\u001b[?25hdone\n",
            "  Created wheel for keras-self-attention: filename=keras_self_attention-0.50.0-py3-none-any.whl size=19414 sha256=727d069c4064de73ba7b41217bcc3330576ec9126334fd2cd7d249a608ac270e\n",
            "  Stored in directory: /root/.cache/pip/wheels/92/7a/a3/231bef5803298e7ec1815215bc0613239cb1e9c03c57b13c14\n",
            "  Building wheel for langdetect (setup.py) ... \u001b[?25l\u001b[?25hdone\n",
            "  Created wheel for langdetect: filename=langdetect-1.0.9-py3-none-any.whl size=993242 sha256=0c7716986198ca74cbe1c7f415372727551f2119457475e7679bae8c23028eb8\n",
            "  Stored in directory: /root/.cache/pip/wheels/c5/96/8a/f90c59ed25d75e50a8c10a1b1c2d4c402e4dacfa87f3aff36a\n",
            "  Building wheel for syntok (setup.py) ... \u001b[?25l\u001b[?25hdone\n",
            "  Created wheel for syntok: filename=syntok-1.3.1-py3-none-any.whl size=20917 sha256=9003f8d5e8d464fb20291c2737e1eeb777b52f2dc0be91dffa1fbb1fc84398d0\n",
            "  Stored in directory: /root/.cache/pip/wheels/5e/c2/33/e5d7d8f2f8b0c391d76bf82b844c3151bf23a84d75d02b185f\n",
            "Successfully built ktrain seqeval keras-bert keras-transformer keras-embed-sim keras-layer-normalization keras-multi-head keras-pos-embd keras-position-wise-feed-forward keras-self-attention langdetect syntok\n",
            "Installing collected packages: keras-self-attention, pyyaml, keras-position-wise-feed-forward, keras-pos-embd, keras-multi-head, keras-layer-normalization, keras-embed-sim, tokenizers, threadpoolctl, sacremoses, keras-transformer, huggingface-hub, whoosh, transformers, syntok, seqeval, sentencepiece, scikit-learn, langdetect, keras-bert, cchardet, ktrain\n",
            "  Attempting uninstall: pyyaml\n",
            "    Found existing installation: PyYAML 3.13\n",
            "    Uninstalling PyYAML-3.13:\n",
            "      Successfully uninstalled PyYAML-3.13\n",
            "  Attempting uninstall: scikit-learn\n",
            "    Found existing installation: scikit-learn 0.22.2.post1\n",
            "    Uninstalling scikit-learn-0.22.2.post1:\n",
            "      Successfully uninstalled scikit-learn-0.22.2.post1\n",
            "Successfully installed cchardet-2.1.7 huggingface-hub-0.1.2 keras-bert-0.88.0 keras-embed-sim-0.9.0 keras-layer-normalization-0.15.0 keras-multi-head-0.28.0 keras-pos-embd-0.12.0 keras-position-wise-feed-forward-0.7.0 keras-self-attention-0.50.0 keras-transformer-0.39.0 ktrain-0.28.3 langdetect-1.0.9 pyyaml-6.0 sacremoses-0.0.46 scikit-learn-0.23.2 sentencepiece-0.1.96 seqeval-0.0.19 syntok-1.3.1 threadpoolctl-3.0.0 tokenizers-0.10.3 transformers-4.10.3 whoosh-2.7.4\n"
          ]
        }
      ]
    },
    {
      "cell_type": "code",
      "metadata": {
        "colab": {
          "base_uri": "https://localhost:8080/"
        },
        "id": "vKQvxLvqARGx",
        "outputId": "92f6da57-efbf-462a-e8df-6b9f5239b59c"
      },
      "source": [
        "!pip install https://github.com/amaiya/eli5/archive/refs/heads/tfkeras_0_10_1.zip"
      ],
      "execution_count": 2,
      "outputs": [
        {
          "output_type": "stream",
          "name": "stdout",
          "text": [
            "Collecting https://github.com/amaiya/eli5/archive/refs/heads/tfkeras_0_10_1.zip\n",
            "  Downloading https://github.com/amaiya/eli5/archive/refs/heads/tfkeras_0_10_1.zip\n",
            "\u001b[K     / 6.9 MB 619 kB/s\n",
            "\u001b[?25hRequirement already satisfied: attrs>16.0.0 in /usr/local/lib/python3.7/dist-packages (from eli5==0.10.1) (21.2.0)\n",
            "Requirement already satisfied: jinja2 in /usr/local/lib/python3.7/dist-packages (from eli5==0.10.1) (2.11.3)\n",
            "Requirement already satisfied: numpy>=1.9.0 in /usr/local/lib/python3.7/dist-packages (from eli5==0.10.1) (1.19.5)\n",
            "Requirement already satisfied: scipy in /usr/local/lib/python3.7/dist-packages (from eli5==0.10.1) (1.4.1)\n",
            "Requirement already satisfied: six in /usr/local/lib/python3.7/dist-packages (from eli5==0.10.1) (1.15.0)\n",
            "Requirement already satisfied: scikit-learn>=0.18 in /usr/local/lib/python3.7/dist-packages (from eli5==0.10.1) (0.23.2)\n",
            "Requirement already satisfied: graphviz in /usr/local/lib/python3.7/dist-packages (from eli5==0.10.1) (0.10.1)\n",
            "Requirement already satisfied: tabulate>=0.7.7 in /usr/local/lib/python3.7/dist-packages (from eli5==0.10.1) (0.8.9)\n",
            "Requirement already satisfied: joblib>=0.11 in /usr/local/lib/python3.7/dist-packages (from scikit-learn>=0.18->eli5==0.10.1) (1.1.0)\n",
            "Requirement already satisfied: threadpoolctl>=2.0.0 in /usr/local/lib/python3.7/dist-packages (from scikit-learn>=0.18->eli5==0.10.1) (3.0.0)\n",
            "Requirement already satisfied: MarkupSafe>=0.23 in /usr/local/lib/python3.7/dist-packages (from jinja2->eli5==0.10.1) (2.0.1)\n",
            "Building wheels for collected packages: eli5\n",
            "  Building wheel for eli5 (setup.py) ... \u001b[?25l\u001b[?25hdone\n",
            "  Created wheel for eli5: filename=eli5-0.10.1-py2.py3-none-any.whl size=106851 sha256=bdb339aa1756d2b9715b12d756febf820c921abd3e77f17a9856ea1b718e06d6\n",
            "  Stored in directory: /tmp/pip-ephem-wheel-cache-21lr3w7q/wheels/98/78/95/e0150d3f11d151c61c32b9d291a8c1fbb207461362987f027b\n",
            "Successfully built eli5\n",
            "Installing collected packages: eli5\n",
            "Successfully installed eli5-0.10.1\n"
          ]
        }
      ]
    },
    {
      "cell_type": "code",
      "metadata": {
        "colab": {
          "base_uri": "https://localhost:8080/"
        },
        "id": "s5gxEW23DKfk",
        "outputId": "b147e5ad-a4cf-479a-b332-9f602435dd50"
      },
      "source": [
        "!pip install unidecode"
      ],
      "execution_count": 3,
      "outputs": [
        {
          "output_type": "stream",
          "name": "stdout",
          "text": [
            "Collecting unidecode\n",
            "  Downloading Unidecode-1.3.2-py3-none-any.whl (235 kB)\n",
            "\u001b[?25l\r\u001b[K     |█▍                              | 10 kB 21.7 MB/s eta 0:00:01\r\u001b[K     |██▉                             | 20 kB 26.7 MB/s eta 0:00:01\r\u001b[K     |████▏                           | 30 kB 21.1 MB/s eta 0:00:01\r\u001b[K     |█████▋                          | 40 kB 17.2 MB/s eta 0:00:01\r\u001b[K     |███████                         | 51 kB 8.0 MB/s eta 0:00:01\r\u001b[K     |████████▍                       | 61 kB 7.7 MB/s eta 0:00:01\r\u001b[K     |█████████▊                      | 71 kB 8.0 MB/s eta 0:00:01\r\u001b[K     |███████████▏                    | 81 kB 8.8 MB/s eta 0:00:01\r\u001b[K     |████████████▌                   | 92 kB 9.5 MB/s eta 0:00:01\r\u001b[K     |██████████████                  | 102 kB 7.4 MB/s eta 0:00:01\r\u001b[K     |███████████████▎                | 112 kB 7.4 MB/s eta 0:00:01\r\u001b[K     |████████████████▊               | 122 kB 7.4 MB/s eta 0:00:01\r\u001b[K     |██████████████████              | 133 kB 7.4 MB/s eta 0:00:01\r\u001b[K     |███████████████████▌            | 143 kB 7.4 MB/s eta 0:00:01\r\u001b[K     |████████████████████▉           | 153 kB 7.4 MB/s eta 0:00:01\r\u001b[K     |██████████████████████▎         | 163 kB 7.4 MB/s eta 0:00:01\r\u001b[K     |███████████████████████▋        | 174 kB 7.4 MB/s eta 0:00:01\r\u001b[K     |█████████████████████████       | 184 kB 7.4 MB/s eta 0:00:01\r\u001b[K     |██████████████████████████▍     | 194 kB 7.4 MB/s eta 0:00:01\r\u001b[K     |███████████████████████████▉    | 204 kB 7.4 MB/s eta 0:00:01\r\u001b[K     |█████████████████████████████▏  | 215 kB 7.4 MB/s eta 0:00:01\r\u001b[K     |██████████████████████████████▋ | 225 kB 7.4 MB/s eta 0:00:01\r\u001b[K     |████████████████████████████████| 235 kB 7.4 MB/s eta 0:00:01\r\u001b[K     |████████████████████████████████| 235 kB 7.4 MB/s \n",
            "\u001b[?25hInstalling collected packages: unidecode\n",
            "Successfully installed unidecode-1.3.2\n"
          ]
        }
      ]
    },
    {
      "cell_type": "code",
      "metadata": {
        "colab": {
          "base_uri": "https://localhost:8080/",
          "height": 206
        },
        "id": "Do_mJ7MZwm4e",
        "outputId": "b4c1649f-37bd-4d62-e3be-98f5affb962b"
      },
      "source": [
        "import pandas as pd\n",
        "df = pd.read_csv('text_emotion.csv')\n",
        "df.head()"
      ],
      "execution_count": 4,
      "outputs": [
        {
          "output_type": "execute_result",
          "data": {
            "text/html": [
              "<div>\n",
              "<style scoped>\n",
              "    .dataframe tbody tr th:only-of-type {\n",
              "        vertical-align: middle;\n",
              "    }\n",
              "\n",
              "    .dataframe tbody tr th {\n",
              "        vertical-align: top;\n",
              "    }\n",
              "\n",
              "    .dataframe thead th {\n",
              "        text-align: right;\n",
              "    }\n",
              "</style>\n",
              "<table border=\"1\" class=\"dataframe\">\n",
              "  <thead>\n",
              "    <tr style=\"text-align: right;\">\n",
              "      <th></th>\n",
              "      <th>tweet_id</th>\n",
              "      <th>sentiment</th>\n",
              "      <th>author</th>\n",
              "      <th>content</th>\n",
              "    </tr>\n",
              "  </thead>\n",
              "  <tbody>\n",
              "    <tr>\n",
              "      <th>0</th>\n",
              "      <td>1956967341</td>\n",
              "      <td>empty</td>\n",
              "      <td>xoshayzers</td>\n",
              "      <td>@tiffanylue i know  i was listenin to bad habi...</td>\n",
              "    </tr>\n",
              "    <tr>\n",
              "      <th>1</th>\n",
              "      <td>1956967666</td>\n",
              "      <td>sadness</td>\n",
              "      <td>wannamama</td>\n",
              "      <td>Layin n bed with a headache  ughhhh...waitin o...</td>\n",
              "    </tr>\n",
              "    <tr>\n",
              "      <th>2</th>\n",
              "      <td>1956967696</td>\n",
              "      <td>sadness</td>\n",
              "      <td>coolfunky</td>\n",
              "      <td>Funeral ceremony...gloomy friday...</td>\n",
              "    </tr>\n",
              "    <tr>\n",
              "      <th>3</th>\n",
              "      <td>1956967789</td>\n",
              "      <td>enthusiasm</td>\n",
              "      <td>czareaquino</td>\n",
              "      <td>wants to hang out with friends SOON!</td>\n",
              "    </tr>\n",
              "    <tr>\n",
              "      <th>4</th>\n",
              "      <td>1956968416</td>\n",
              "      <td>neutral</td>\n",
              "      <td>xkilljoyx</td>\n",
              "      <td>@dannycastillo We want to trade with someone w...</td>\n",
              "    </tr>\n",
              "  </tbody>\n",
              "</table>\n",
              "</div>"
            ],
            "text/plain": [
              "     tweet_id  ...                                            content\n",
              "0  1956967341  ...  @tiffanylue i know  i was listenin to bad habi...\n",
              "1  1956967666  ...  Layin n bed with a headache  ughhhh...waitin o...\n",
              "2  1956967696  ...                Funeral ceremony...gloomy friday...\n",
              "3  1956967789  ...               wants to hang out with friends SOON!\n",
              "4  1956968416  ...  @dannycastillo We want to trade with someone w...\n",
              "\n",
              "[5 rows x 4 columns]"
            ]
          },
          "metadata": {},
          "execution_count": 4
        }
      ]
    },
    {
      "cell_type": "code",
      "metadata": {
        "colab": {
          "base_uri": "https://localhost:8080/"
        },
        "id": "KJLvcmgACjrZ",
        "outputId": "969a4ff6-3675-4011-dc43-fa8d0d5848d9"
      },
      "source": [
        "df.info()"
      ],
      "execution_count": 5,
      "outputs": [
        {
          "output_type": "stream",
          "name": "stdout",
          "text": [
            "<class 'pandas.core.frame.DataFrame'>\n",
            "RangeIndex: 40000 entries, 0 to 39999\n",
            "Data columns (total 4 columns):\n",
            " #   Column     Non-Null Count  Dtype \n",
            "---  ------     --------------  ----- \n",
            " 0   tweet_id   40000 non-null  int64 \n",
            " 1   sentiment  40000 non-null  object\n",
            " 2   author     40000 non-null  object\n",
            " 3   content    40000 non-null  object\n",
            "dtypes: int64(1), object(3)\n",
            "memory usage: 1.2+ MB\n"
          ]
        }
      ]
    },
    {
      "cell_type": "code",
      "metadata": {
        "colab": {
          "base_uri": "https://localhost:8080/"
        },
        "id": "GmX9wWFIBJPL",
        "outputId": "e1ae0ec6-e561-4a8a-ca9f-a349e7e30007"
      },
      "source": [
        "df['length'] = [len(x.split(\" \")) for x in df.content]\n",
        "max(df.length)"
      ],
      "execution_count": 6,
      "outputs": [
        {
          "output_type": "execute_result",
          "data": {
            "text/plain": [
              "101"
            ]
          },
          "metadata": {},
          "execution_count": 6
        }
      ]
    },
    {
      "cell_type": "code",
      "metadata": {
        "colab": {
          "base_uri": "https://localhost:8080/",
          "height": 424
        },
        "id": "F4-YPiWtCpN8",
        "outputId": "3dd7aac2-3a94-4a16-a8fb-975ae2544de5"
      },
      "source": [
        "df"
      ],
      "execution_count": 7,
      "outputs": [
        {
          "output_type": "execute_result",
          "data": {
            "text/html": [
              "<div>\n",
              "<style scoped>\n",
              "    .dataframe tbody tr th:only-of-type {\n",
              "        vertical-align: middle;\n",
              "    }\n",
              "\n",
              "    .dataframe tbody tr th {\n",
              "        vertical-align: top;\n",
              "    }\n",
              "\n",
              "    .dataframe thead th {\n",
              "        text-align: right;\n",
              "    }\n",
              "</style>\n",
              "<table border=\"1\" class=\"dataframe\">\n",
              "  <thead>\n",
              "    <tr style=\"text-align: right;\">\n",
              "      <th></th>\n",
              "      <th>tweet_id</th>\n",
              "      <th>sentiment</th>\n",
              "      <th>author</th>\n",
              "      <th>content</th>\n",
              "      <th>length</th>\n",
              "    </tr>\n",
              "  </thead>\n",
              "  <tbody>\n",
              "    <tr>\n",
              "      <th>0</th>\n",
              "      <td>1956967341</td>\n",
              "      <td>empty</td>\n",
              "      <td>xoshayzers</td>\n",
              "      <td>@tiffanylue i know  i was listenin to bad habi...</td>\n",
              "      <td>19</td>\n",
              "    </tr>\n",
              "    <tr>\n",
              "      <th>1</th>\n",
              "      <td>1956967666</td>\n",
              "      <td>sadness</td>\n",
              "      <td>wannamama</td>\n",
              "      <td>Layin n bed with a headache  ughhhh...waitin o...</td>\n",
              "      <td>11</td>\n",
              "    </tr>\n",
              "    <tr>\n",
              "      <th>2</th>\n",
              "      <td>1956967696</td>\n",
              "      <td>sadness</td>\n",
              "      <td>coolfunky</td>\n",
              "      <td>Funeral ceremony...gloomy friday...</td>\n",
              "      <td>3</td>\n",
              "    </tr>\n",
              "    <tr>\n",
              "      <th>3</th>\n",
              "      <td>1956967789</td>\n",
              "      <td>enthusiasm</td>\n",
              "      <td>czareaquino</td>\n",
              "      <td>wants to hang out with friends SOON!</td>\n",
              "      <td>7</td>\n",
              "    </tr>\n",
              "    <tr>\n",
              "      <th>4</th>\n",
              "      <td>1956968416</td>\n",
              "      <td>neutral</td>\n",
              "      <td>xkilljoyx</td>\n",
              "      <td>@dannycastillo We want to trade with someone w...</td>\n",
              "      <td>15</td>\n",
              "    </tr>\n",
              "    <tr>\n",
              "      <th>...</th>\n",
              "      <td>...</td>\n",
              "      <td>...</td>\n",
              "      <td>...</td>\n",
              "      <td>...</td>\n",
              "      <td>...</td>\n",
              "    </tr>\n",
              "    <tr>\n",
              "      <th>39995</th>\n",
              "      <td>1753918954</td>\n",
              "      <td>neutral</td>\n",
              "      <td>showMe_Heaven</td>\n",
              "      <td>@JohnLloydTaylor</td>\n",
              "      <td>1</td>\n",
              "    </tr>\n",
              "    <tr>\n",
              "      <th>39996</th>\n",
              "      <td>1753919001</td>\n",
              "      <td>love</td>\n",
              "      <td>drapeaux</td>\n",
              "      <td>Happy Mothers Day  All my love</td>\n",
              "      <td>7</td>\n",
              "    </tr>\n",
              "    <tr>\n",
              "      <th>39997</th>\n",
              "      <td>1753919005</td>\n",
              "      <td>love</td>\n",
              "      <td>JenniRox</td>\n",
              "      <td>Happy Mother's Day to all the mommies out ther...</td>\n",
              "      <td>25</td>\n",
              "    </tr>\n",
              "    <tr>\n",
              "      <th>39998</th>\n",
              "      <td>1753919043</td>\n",
              "      <td>happiness</td>\n",
              "      <td>ipdaman1</td>\n",
              "      <td>@niariley WASSUP BEAUTIFUL!!! FOLLOW ME!!  PEE...</td>\n",
              "      <td>20</td>\n",
              "    </tr>\n",
              "    <tr>\n",
              "      <th>39999</th>\n",
              "      <td>1753919049</td>\n",
              "      <td>love</td>\n",
              "      <td>Alpharalpha</td>\n",
              "      <td>@mopedronin bullet train from tokyo    the gf ...</td>\n",
              "      <td>25</td>\n",
              "    </tr>\n",
              "  </tbody>\n",
              "</table>\n",
              "<p>40000 rows × 5 columns</p>\n",
              "</div>"
            ],
            "text/plain": [
              "         tweet_id  ... length\n",
              "0      1956967341  ...     19\n",
              "1      1956967666  ...     11\n",
              "2      1956967696  ...      3\n",
              "3      1956967789  ...      7\n",
              "4      1956968416  ...     15\n",
              "...           ...  ...    ...\n",
              "39995  1753918954  ...      1\n",
              "39996  1753919001  ...      7\n",
              "39997  1753919005  ...     25\n",
              "39998  1753919043  ...     20\n",
              "39999  1753919049  ...     25\n",
              "\n",
              "[40000 rows x 5 columns]"
            ]
          },
          "metadata": {},
          "execution_count": 7
        }
      ]
    },
    {
      "cell_type": "code",
      "metadata": {
        "colab": {
          "base_uri": "https://localhost:8080/"
        },
        "id": "Mb9m8benCuYd",
        "outputId": "5cc2885b-b6ba-49d4-f93b-16b8619d4b29"
      },
      "source": [
        "df.sentiment.value_counts()"
      ],
      "execution_count": 8,
      "outputs": [
        {
          "output_type": "execute_result",
          "data": {
            "text/plain": [
              "neutral       8638\n",
              "worry         8459\n",
              "happiness     5209\n",
              "sadness       5165\n",
              "love          3842\n",
              "surprise      2187\n",
              "fun           1776\n",
              "relief        1526\n",
              "hate          1323\n",
              "empty          827\n",
              "enthusiasm     759\n",
              "boredom        179\n",
              "anger          110\n",
              "Name: sentiment, dtype: int64"
            ]
          },
          "metadata": {},
          "execution_count": 8
        }
      ]
    },
    {
      "cell_type": "code",
      "metadata": {
        "colab": {
          "base_uri": "https://localhost:8080/",
          "height": 345
        },
        "id": "CjHq69jMml2C",
        "outputId": "a994c2a8-f665-4f4e-fcca-89ee9c9f7fb6"
      },
      "source": [
        "target = df.groupby('sentiment')['sentiment'].count()\n",
        "target.plot.bar()"
      ],
      "execution_count": 9,
      "outputs": [
        {
          "output_type": "execute_result",
          "data": {
            "text/plain": [
              "<matplotlib.axes._subplots.AxesSubplot at 0x7f4965ac2fd0>"
            ]
          },
          "metadata": {},
          "execution_count": 9
        },
        {
          "output_type": "display_data",
          "data": {
            "image/png": "[encoded data removed]",
            "text/plain": [
              "<Figure size 432x288 with 1 Axes>"
            ]
          },
          "metadata": {
            "needs_background": "light"
          }
        }
      ]
    },
    {
      "cell_type": "code",
      "metadata": {
        "id": "Lb23zJxLG57H"
      },
      "source": [
        "# for_sampling_enthu = df[(df.sentiment == 'enthusiasm')]\n",
        "# for_sampling_enthu = for_sampling_enthu.sample(n=110, random_state=1)\n",
        "\n",
        "# for_sampling_boredom = df[(df.sentiment == 'boredom')]\n",
        "# for_sampling_boredom = for_sampling_boredom.sample(n=110, random_state=1)\n",
        "\n",
        "# for_sampling_anger = df[(df.sentiment == 'anger')]\n",
        "# for_sampling_anger = for_sampling_anger.sample(n=110, random_state=1)\n",
        "\n",
        "# df = for_sampling_enthu.append(for_sampling_boredom, ignore_index=True)\n",
        "# df = df.append(for_sampling_anger, ignore_index=True)"
      ],
      "execution_count": 10,
      "outputs": []
    },
    {
      "cell_type": "markdown",
      "metadata": {
        "id": "heibgh2Onhcp"
      },
      "source": [
        "# Data Cleaning"
      ]
    },
    {
      "cell_type": "code",
      "metadata": {
        "colab": {
          "base_uri": "https://localhost:8080/",
          "height": 206
        },
        "id": "40PvZXlNG6Qs",
        "outputId": "dd4ce91d-6a81-4c84-aeb5-998a1a40f9e3"
      },
      "source": [
        "df.head()"
      ],
      "execution_count": 11,
      "outputs": [
        {
          "output_type": "execute_result",
          "data": {
            "text/html": [
              "<div>\n",
              "<style scoped>\n",
              "    .dataframe tbody tr th:only-of-type {\n",
              "        vertical-align: middle;\n",
              "    }\n",
              "\n",
              "    .dataframe tbody tr th {\n",
              "        vertical-align: top;\n",
              "    }\n",
              "\n",
              "    .dataframe thead th {\n",
              "        text-align: right;\n",
              "    }\n",
              "</style>\n",
              "<table border=\"1\" class=\"dataframe\">\n",
              "  <thead>\n",
              "    <tr style=\"text-align: right;\">\n",
              "      <th></th>\n",
              "      <th>tweet_id</th>\n",
              "      <th>sentiment</th>\n",
              "      <th>author</th>\n",
              "      <th>content</th>\n",
              "      <th>length</th>\n",
              "    </tr>\n",
              "  </thead>\n",
              "  <tbody>\n",
              "    <tr>\n",
              "      <th>0</th>\n",
              "      <td>1956967341</td>\n",
              "      <td>empty</td>\n",
              "      <td>xoshayzers</td>\n",
              "      <td>@tiffanylue i know  i was listenin to bad habi...</td>\n",
              "      <td>19</td>\n",
              "    </tr>\n",
              "    <tr>\n",
              "      <th>1</th>\n",
              "      <td>1956967666</td>\n",
              "      <td>sadness</td>\n",
              "      <td>wannamama</td>\n",
              "      <td>Layin n bed with a headache  ughhhh...waitin o...</td>\n",
              "      <td>11</td>\n",
              "    </tr>\n",
              "    <tr>\n",
              "      <th>2</th>\n",
              "      <td>1956967696</td>\n",
              "      <td>sadness</td>\n",
              "      <td>coolfunky</td>\n",
              "      <td>Funeral ceremony...gloomy friday...</td>\n",
              "      <td>3</td>\n",
              "    </tr>\n",
              "    <tr>\n",
              "      <th>3</th>\n",
              "      <td>1956967789</td>\n",
              "      <td>enthusiasm</td>\n",
              "      <td>czareaquino</td>\n",
              "      <td>wants to hang out with friends SOON!</td>\n",
              "      <td>7</td>\n",
              "    </tr>\n",
              "    <tr>\n",
              "      <th>4</th>\n",
              "      <td>1956968416</td>\n",
              "      <td>neutral</td>\n",
              "      <td>xkilljoyx</td>\n",
              "      <td>@dannycastillo We want to trade with someone w...</td>\n",
              "      <td>15</td>\n",
              "    </tr>\n",
              "  </tbody>\n",
              "</table>\n",
              "</div>"
            ],
            "text/plain": [
              "     tweet_id  ... length\n",
              "0  1956967341  ...     19\n",
              "1  1956967666  ...     11\n",
              "2  1956967696  ...      3\n",
              "3  1956967789  ...      7\n",
              "4  1956968416  ...     15\n",
              "\n",
              "[5 rows x 5 columns]"
            ]
          },
          "metadata": {},
          "execution_count": 11
        }
      ]
    },
    {
      "cell_type": "markdown",
      "metadata": {
        "id": "0REn6Mrtj-IW"
      },
      "source": [
        "Decoding: unicode_escape for extra “\\” before unicode character, then unidecode\n",
        "Apostrophe handled: there are two characters people use for contraction. “’”(apostrophe) and “‘“(single quote). If these two symbols are both used for contraction, it will be difficult to detect and properly map the right expanded form. So any “’”(apostrophe) is changed to “‘“(single quote)\n",
        "Contraction check: check if there’s any contracted form, and replace it with its original form\n",
        "\n",
        "Parsing: done with Spacy\n",
        "\n",
        "Filtering punctuation, white space, numbers, URL using Spacy methods while keeping the text content of hashtag intact\n",
        "\n",
        "Removed @mention\n",
        "\n",
        "Lemmatize: lemmatized each token using Spacy method ‘.lemma_’. Pronouns are kept as they are since Spacy lemmatizer transforms every pronoun to “-PRON-”\n",
        "Special character removal\n",
        "\n",
        "Single syllable token removal\n",
        "\n",
        "Spell correction: it is a simple spell correction dealing with repeated characters such as “sooooo goooood”. If the same character is repeated more than two times, it shortens the repetition to two. For example “sooooo goooood” will be transformed as “soo good”. This is not a perfect solution since even after correction, in case of “soo”, it is not a correct spelling. But at least it will help to reduce feature space by making “sooo”, “soooo”, “sooooo” to the same word “soo”"
      ]
    },
    {
      "cell_type": "code",
      "metadata": {
        "id": "7EnFNjZ-DBUR"
      },
      "source": [
        "contraction_mapping = {\"ain't\": \"is not\", \"aren't\": \"are not\",\"can't\": \"cannot\", \n",
        "                   \"can't've\": \"cannot have\", \"'cause\": \"because\", \"could've\": \"could have\", \n",
        "                   \"couldn't\": \"could not\", \"couldn't've\": \"could not have\",\"didn't\": \"did not\", \n",
        "                   \"doesn't\": \"does not\", \"don't\": \"do not\", \"hadn't\": \"had not\", \n",
        "                   \"hadn't've\": \"had not have\", \"hasn't\": \"has not\", \"haven't\": \"have not\", \n",
        "                   \"he'd\": \"he would\", \"he'd've\": \"he would have\", \"he'll\": \"he will\", \n",
        "                   \"he'll've\": \"he will have\", \"he's\": \"he is\", \"how'd\": \"how did\", \n",
        "                   \"how'd'y\": \"how do you\", \"how'll\": \"how will\", \"how's\": \"how is\", \n",
        "                   \"I'd\": \"I would\", \"I'd've\": \"I would have\", \"I'll\": \"I will\", \n",
        "                   \"I'll've\": \"I will have\",\"I'm\": \"I am\", \"I've\": \"I have\", \n",
        "                   \"i'd\": \"i would\", \"i'd've\": \"i would have\", \"i'll\": \"i will\", \n",
        "                   \"i'll've\": \"i will have\",\"i'm\": \"i am\", \"i've\": \"i have\", \n",
        "                   \"isn't\": \"is not\", \"it'd\": \"it would\", \"it'd've\": \"it would have\", \n",
        "                   \"it'll\": \"it will\", \"it'll've\": \"it will have\",\"it's\": \"it is\", \n",
        "                   \"let's\": \"let us\", \"ma'am\": \"madam\", \"mayn't\": \"may not\", \n",
        "                   \"might've\": \"might have\",\"mightn't\": \"might not\",\"mightn't've\": \"might not have\", \n",
        "                   \"must've\": \"must have\", \"mustn't\": \"must not\", \"mustn't've\": \"must not have\", \n",
        "                   \"needn't\": \"need not\", \"needn't've\": \"need not have\",\"o'clock\": \"of the clock\", \n",
        "                   \"oughtn't\": \"ought not\", \"oughtn't've\": \"ought not have\", \"shan't\": \"shall not\",\n",
        "                   \"sha'n't\": \"shall not\", \"shan't've\": \"shall not have\", \"she'd\": \"she would\", \n",
        "                   \"she'd've\": \"she would have\", \"she'll\": \"she will\", \"she'll've\": \"she will have\", \n",
        "                   \"she's\": \"she is\", \"should've\": \"should have\", \"shouldn't\": \"should not\", \n",
        "                   \"shouldn't've\": \"should not have\", \"so've\": \"so have\",\"so's\": \"so as\", \n",
        "                   \"this's\": \"this is\",\n",
        "                   \"that'd\": \"that would\", \"that'd've\": \"that would have\",\"that's\": \"that is\", \n",
        "                   \"there'd\": \"there would\", \"there'd've\": \"there would have\",\"there's\": \"there is\", \n",
        "                       \"here's\": \"here is\",\n",
        "                   \"they'd\": \"they would\", \"they'd've\": \"they would have\", \"they'll\": \"they will\", \n",
        "                   \"they'll've\": \"they will have\", \"they're\": \"they are\", \"they've\": \"they have\", \n",
        "                   \"to've\": \"to have\", \"wasn't\": \"was not\", \"we'd\": \"we would\", \n",
        "                   \"we'd've\": \"we would have\", \"we'll\": \"we will\", \"we'll've\": \"we will have\", \n",
        "                   \"we're\": \"we are\", \"we've\": \"we have\", \"weren't\": \"were not\", \n",
        "                   \"what'll\": \"what will\", \"what'll've\": \"what will have\", \"what're\": \"what are\", \n",
        "                   \"what's\": \"what is\", \"what've\": \"what have\", \"when's\": \"when is\", \n",
        "                   \"when've\": \"when have\", \"where'd\": \"where did\", \"where's\": \"where is\", \n",
        "                   \"where've\": \"where have\", \"who'll\": \"who will\", \"who'll've\": \"who will have\", \n",
        "                   \"who's\": \"who is\", \"who've\": \"who have\", \"why's\": \"why is\", \n",
        "                   \"why've\": \"why have\", \"will've\": \"will have\", \"won't\": \"will not\", \n",
        "                   \"won't've\": \"will not have\", \"would've\": \"would have\", \"wouldn't\": \"would not\", \n",
        "                   \"wouldn't've\": \"would not have\", \"y'all\": \"you all\", \"y'all'd\": \"you all would\",\n",
        "                   \"y'all'd've\": \"you all would have\",\"y'all're\": \"you all are\",\"y'all've\": \"you all have\",\n",
        "                   \"you'd\": \"you would\", \"you'd've\": \"you would have\", \"you'll\": \"you will\", \n",
        "                   \"you'll've\": \"you will have\", \"you're\": \"you are\", \"you've\": \"you have\" } "
      ],
      "execution_count": 12,
      "outputs": []
    },
    {
      "cell_type": "code",
      "metadata": {
        "id": "3G6u2cuZDF9Y"
      },
      "source": [
        "import codecs\n",
        "import unidecode\n",
        "import re\n",
        "import spacy\n",
        "nlp = spacy.load('en')\n",
        "\n",
        "def spacy_cleaner(text):\n",
        "    try:\n",
        "        decoded = unidecode.unidecode(codecs.decode(text, 'unicode_escape'))\n",
        "    except:\n",
        "        decoded = unidecode.unidecode(text)\n",
        "    apostrophe_handled = re.sub(\"’\", \"'\", decoded)\n",
        "    expanded = ' '.join([contraction_mapping[t] if t in contraction_mapping else t for t in apostrophe_handled.split(\" \")])\n",
        "    parsed = nlp(expanded)\n",
        "    final_tokens = []\n",
        "    for t in parsed:\n",
        "        if t.is_punct or t.is_space or t.like_num or t.like_url or str(t).startswith('@'):\n",
        "            pass\n",
        "        else:\n",
        "            if t.lemma_ == '-PRON-':\n",
        "                final_tokens.append(str(t))\n",
        "            else:\n",
        "                sc_removed = re.sub(\"[^a-zA-Z]\", '', str(t.lemma_))\n",
        "                if len(sc_removed) > 1:\n",
        "                    final_tokens.append(sc_removed)\n",
        "    joined = ' '.join(final_tokens)\n",
        "    spell_corrected = re.sub(r'(.)\\1+', r'\\1\\1', joined)\n",
        "    return spell_corrected"
      ],
      "execution_count": 13,
      "outputs": []
    },
    {
      "cell_type": "code",
      "metadata": {
        "colab": {
          "base_uri": "https://localhost:8080/"
        },
        "id": "pJ8Y4GgyDP00",
        "outputId": "1774a7b1-f9be-4203-ef8e-0086dc8f3f75"
      },
      "source": [
        "pd.set_option('display.max_colwidth', -1)\n",
        "df.content[:10]"
      ],
      "execution_count": 14,
      "outputs": [
        {
          "output_type": "stream",
          "name": "stderr",
          "text": [
            "/usr/local/lib/python3.7/dist-packages/ipykernel_launcher.py:1: FutureWarning: Passing a negative integer is deprecated in version 1.0 and will not be supported in future version. Instead, use None to not limit the column width.\n",
            "  \"\"\"Entry point for launching an IPython kernel.\n"
          ]
        },
        {
          "output_type": "execute_result",
          "data": {
            "text/plain": [
              "0    @tiffanylue i know  i was listenin to bad habit earlier and i started freakin at his part =[                                        \n",
              "1    Layin n bed with a headache  ughhhh...waitin on your call...                                                                        \n",
              "2    Funeral ceremony...gloomy friday...                                                                                                 \n",
              "3    wants to hang out with friends SOON!                                                                                                \n",
              "4    @dannycastillo We want to trade with someone who has Houston tickets, but no one will.                                              \n",
              "5    Re-pinging @ghostridah14: why didn't you go to prom? BC my bf didn't like my friends                                                \n",
              "6    I should be sleep, but im not! thinking about an old friend who I want. but he's married now. damn, &amp; he wants me 2! scandalous!\n",
              "7    Hmmm. http://www.djhero.com/ is down                                                                                                \n",
              "8    @charviray Charlene my love. I miss you                                                                                             \n",
              "9    @kelcouch I'm sorry  at least it's Friday?                                                                                          \n",
              "Name: content, dtype: object"
            ]
          },
          "metadata": {},
          "execution_count": 14
        }
      ]
    },
    {
      "cell_type": "code",
      "metadata": {
        "colab": {
          "base_uri": "https://localhost:8080/"
        },
        "id": "yNldl6HCDY7m",
        "outputId": "832fe9cc-85cf-492a-94e9-e53c7b89cb4c"
      },
      "source": [
        "[spacy_cleaner(t) for t in df.content[:10]]"
      ],
      "execution_count": 15,
      "outputs": [
        {
          "output_type": "execute_result",
          "data": {
            "text/plain": [
              "['know be listenin to bad habit earlier and start freakin at his part',\n",
              " 'layin bed with headache ughh waitin on your call',\n",
              " 'funeral ceremony gloomy friday',\n",
              " 'want to hang out with friend soon',\n",
              " 'We want to trade with someone who have Houston ticket but no will',\n",
              " 'Re ping why do not you go to prom BC my bf do not like my friend',\n",
              " 'I should be sleep but i be not think about an old friend who I want but he be married now damn amp he want me scandalous',\n",
              " 'Hmm be down',\n",
              " 'Charlene my love I miss you',\n",
              " 'I be sorry at least it be Friday']"
            ]
          },
          "metadata": {},
          "execution_count": 15
        }
      ]
    },
    {
      "cell_type": "code",
      "metadata": {
        "colab": {
          "base_uri": "https://localhost:8080/"
        },
        "id": "aDAFyd56Dw2g",
        "outputId": "b624068b-b3f9-4a6d-ee54-5d8942719d34"
      },
      "source": [
        "df['clean_text'] = [spacy_cleaner(t) for t in df.content] #not using the clean_text col for now"
      ],
      "execution_count": 16,
      "outputs": [
        {
          "output_type": "stream",
          "name": "stderr",
          "text": [
            "/usr/local/lib/python3.7/dist-packages/ipykernel_launcher.py:9: DeprecationWarning: invalid escape sequence '\\ '\n",
            "  if __name__ == '__main__':\n",
            "/usr/local/lib/python3.7/dist-packages/ipykernel_launcher.py:9: DeprecationWarning: invalid escape sequence '\\l'\n",
            "  if __name__ == '__main__':\n",
            "/usr/local/lib/python3.7/dist-packages/ipykernel_launcher.py:9: DeprecationWarning: invalid escape sequence '\\|'\n",
            "  if __name__ == '__main__':\n",
            "/usr/local/lib/python3.7/dist-packages/ipykernel_launcher.py:9: DeprecationWarning: invalid escape sequence '\\m'\n",
            "  if __name__ == '__main__':\n",
            "/usr/local/lib/python3.7/dist-packages/ipykernel_launcher.py:9: DeprecationWarning: invalid escape sequence '\\/'\n",
            "  if __name__ == '__main__':\n",
            "/usr/local/lib/python3.7/dist-packages/ipykernel_launcher.py:9: DeprecationWarning: invalid escape sequence '\\o'\n",
            "  if __name__ == '__main__':\n",
            "/usr/local/lib/python3.7/dist-packages/ipykernel_launcher.py:9: DeprecationWarning: invalid escape sequence '\\y'\n",
            "  if __name__ == '__main__':\n"
          ]
        }
      ]
    },
    {
      "cell_type": "code",
      "metadata": {
        "colab": {
          "base_uri": "https://localhost:8080/"
        },
        "id": "fyoBztedjgEs",
        "outputId": "86692fd5-6a58-4809-c20e-4fe4d458b9c9"
      },
      "source": [
        "#What are the symbols mean\n",
        "for i,t in enumerate(df.content):\n",
        "    if '\\l' in t:\n",
        "        print(i,t)\n",
        "    elif '\\|' in t:\n",
        "        print(i,t)\n",
        "    elif '\\m' in t:\n",
        "        print(i,t)\n",
        "    elif '\\/' in t:\n",
        "        print(i,t)\n",
        "    elif '\\o' in t:\n",
        "        print(i,t)\n",
        "    elif '\\y' in t:\n",
        "        print(i,t)       "
      ],
      "execution_count": 17,
      "outputs": [
        {
          "output_type": "stream",
          "name": "stdout",
          "text": [
            "11407 bored, no one is on \\line to talk to\n",
            "17507 mad the rain got me...now i cant go see jaiden   *|)|/-\\|\\|/-\\*\n",
            "18968 GRRRR!!! It's BACK!!!!! And what I mean is my headache  But on the *       *        bright side....it's only on one side!!!! /\\/\\/\\/\\/\\\n",
            "19250 joooooooooooooo!!!!!!!!!!!! studying!!!  to be readdy to go to the party!!!   If they let me go!!  jajaja I think yeaahh!!! \\m/!!\n",
            "30308 is hungryyyyyyy!! going to eat traditional indian food...the pakistani way. woowoo!  hahaha! &gt;[_()\\/3\n",
            "32895 o/*\\o (high five) to all of our fans! It's finally here! I'll write up a fancy news post shortly, wanted to get the mod itself out ASAP\n",
            "33341 @AspaPhoto Ahhhh \\you are soo smart  Thanks for this schooling of thoughts\n",
            "33399 @AspaPhoto Ahhhh \\you are soo smart  Thanks for this schooling of thoughts  Have you taught before?\n",
            "37526 word to yer mother!!   \\m/\n",
            "37567 epic day/night. disappointing loss #canucks but watching star trek made it so much better  live long &amp; prosper friends. night \\\\//-_-\\\\//\n"
          ]
        }
      ]
    },
    {
      "cell_type": "code",
      "metadata": {
        "colab": {
          "base_uri": "https://localhost:8080/",
          "height": 36
        },
        "id": "wr25juk6kuT7",
        "outputId": "28875e9b-2e5c-451e-da29-127e95b49cc1"
      },
      "source": [
        "df.content[17507]"
      ],
      "execution_count": 18,
      "outputs": [
        {
          "output_type": "execute_result",
          "data": {
            "application/vnd.google.colaboratory.intrinsic+json": {
              "type": "string"
            },
            "text/plain": [
              "'mad the rain got me...now i cant go see jaiden   *|)|/-\\\\|\\\\|/-\\\\*'"
            ]
          },
          "metadata": {},
          "execution_count": 18
        }
      ]
    },
    {
      "cell_type": "code",
      "metadata": {
        "colab": {
          "base_uri": "https://localhost:8080/",
          "height": 70
        },
        "id": "PPBNQMbUk1-v",
        "outputId": "12c6ac93-7fd0-4d29-bd64-501445b46f7a"
      },
      "source": [
        "spacy_cleaner(df.content[17507])"
      ],
      "execution_count": 19,
      "outputs": [
        {
          "output_type": "stream",
          "name": "stderr",
          "text": [
            "/usr/local/lib/python3.7/dist-packages/ipykernel_launcher.py:9: DeprecationWarning: invalid escape sequence '\\|'\n",
            "  if __name__ == '__main__':\n"
          ]
        },
        {
          "output_type": "execute_result",
          "data": {
            "application/vnd.google.colaboratory.intrinsic+json": {
              "type": "string"
            },
            "text/plain": [
              "'mad the rain get me now can not go see jaiden'"
            ]
          },
          "metadata": {},
          "execution_count": 19
        }
      ]
    },
    {
      "cell_type": "code",
      "metadata": {
        "colab": {
          "base_uri": "https://localhost:8080/",
          "height": 476
        },
        "id": "uN1wLPU2kOps",
        "outputId": "60704b7d-1a86-411f-d16d-ac3a731626a4"
      },
      "source": [
        "#df=df.drop(['cleaned_text'], axis=1)\n",
        "df"
      ],
      "execution_count": 20,
      "outputs": [
        {
          "output_type": "execute_result",
          "data": {
            "text/html": [
              "<div>\n",
              "<style scoped>\n",
              "    .dataframe tbody tr th:only-of-type {\n",
              "        vertical-align: middle;\n",
              "    }\n",
              "\n",
              "    .dataframe tbody tr th {\n",
              "        vertical-align: top;\n",
              "    }\n",
              "\n",
              "    .dataframe thead th {\n",
              "        text-align: right;\n",
              "    }\n",
              "</style>\n",
              "<table border=\"1\" class=\"dataframe\">\n",
              "  <thead>\n",
              "    <tr style=\"text-align: right;\">\n",
              "      <th></th>\n",
              "      <th>tweet_id</th>\n",
              "      <th>sentiment</th>\n",
              "      <th>author</th>\n",
              "      <th>content</th>\n",
              "      <th>length</th>\n",
              "      <th>clean_text</th>\n",
              "    </tr>\n",
              "  </thead>\n",
              "  <tbody>\n",
              "    <tr>\n",
              "      <th>0</th>\n",
              "      <td>1956967341</td>\n",
              "      <td>empty</td>\n",
              "      <td>xoshayzers</td>\n",
              "      <td>@tiffanylue i know  i was listenin to bad habit earlier and i started freakin at his part =[</td>\n",
              "      <td>19</td>\n",
              "      <td>know be listenin to bad habit earlier and start freakin at his part</td>\n",
              "    </tr>\n",
              "    <tr>\n",
              "      <th>1</th>\n",
              "      <td>1956967666</td>\n",
              "      <td>sadness</td>\n",
              "      <td>wannamama</td>\n",
              "      <td>Layin n bed with a headache  ughhhh...waitin on your call...</td>\n",
              "      <td>11</td>\n",
              "      <td>layin bed with headache ughh waitin on your call</td>\n",
              "    </tr>\n",
              "    <tr>\n",
              "      <th>2</th>\n",
              "      <td>1956967696</td>\n",
              "      <td>sadness</td>\n",
              "      <td>coolfunky</td>\n",
              "      <td>Funeral ceremony...gloomy friday...</td>\n",
              "      <td>3</td>\n",
              "      <td>funeral ceremony gloomy friday</td>\n",
              "    </tr>\n",
              "    <tr>\n",
              "      <th>3</th>\n",
              "      <td>1956967789</td>\n",
              "      <td>enthusiasm</td>\n",
              "      <td>czareaquino</td>\n",
              "      <td>wants to hang out with friends SOON!</td>\n",
              "      <td>7</td>\n",
              "      <td>want to hang out with friend soon</td>\n",
              "    </tr>\n",
              "    <tr>\n",
              "      <th>4</th>\n",
              "      <td>1956968416</td>\n",
              "      <td>neutral</td>\n",
              "      <td>xkilljoyx</td>\n",
              "      <td>@dannycastillo We want to trade with someone who has Houston tickets, but no one will.</td>\n",
              "      <td>15</td>\n",
              "      <td>We want to trade with someone who have Houston ticket but no will</td>\n",
              "    </tr>\n",
              "    <tr>\n",
              "      <th>...</th>\n",
              "      <td>...</td>\n",
              "      <td>...</td>\n",
              "      <td>...</td>\n",
              "      <td>...</td>\n",
              "      <td>...</td>\n",
              "      <td>...</td>\n",
              "    </tr>\n",
              "    <tr>\n",
              "      <th>39995</th>\n",
              "      <td>1753918954</td>\n",
              "      <td>neutral</td>\n",
              "      <td>showMe_Heaven</td>\n",
              "      <td>@JohnLloydTaylor</td>\n",
              "      <td>1</td>\n",
              "      <td></td>\n",
              "    </tr>\n",
              "    <tr>\n",
              "      <th>39996</th>\n",
              "      <td>1753919001</td>\n",
              "      <td>love</td>\n",
              "      <td>drapeaux</td>\n",
              "      <td>Happy Mothers Day  All my love</td>\n",
              "      <td>7</td>\n",
              "      <td>Happy Mothers Day all my love</td>\n",
              "    </tr>\n",
              "    <tr>\n",
              "      <th>39997</th>\n",
              "      <td>1753919005</td>\n",
              "      <td>love</td>\n",
              "      <td>JenniRox</td>\n",
              "      <td>Happy Mother's Day to all the mommies out there, be you woman or man as long as you're 'momma' to someone this is your day!</td>\n",
              "      <td>25</td>\n",
              "      <td>Happy Mother Day to all the mommy out there be you woman or man as long as you be momma to someone this be your day</td>\n",
              "    </tr>\n",
              "    <tr>\n",
              "      <th>39998</th>\n",
              "      <td>1753919043</td>\n",
              "      <td>happiness</td>\n",
              "      <td>ipdaman1</td>\n",
              "      <td>@niariley WASSUP BEAUTIFUL!!! FOLLOW ME!!  PEEP OUT MY NEW HIT SINGLES WWW.MYSPACE.COM/IPSOHOT I DEF. WAT U IN THE VIDEO!!</td>\n",
              "      <td>20</td>\n",
              "      <td>WASSUP BEAUTIFUL follow me PEEP out my new hit single WWMYSPACECOM IPSOHOT I def WAT in the video</td>\n",
              "    </tr>\n",
              "    <tr>\n",
              "      <th>39999</th>\n",
              "      <td>1753919049</td>\n",
              "      <td>love</td>\n",
              "      <td>Alpharalpha</td>\n",
              "      <td>@mopedronin bullet train from tokyo    the gf and i have been visiting japan since thursday  vacation/sightseeing    gaijin godzilla</td>\n",
              "      <td>25</td>\n",
              "      <td>bullet train from tokyo the gf and have be visit japan since thursday vacation sightseeing gaijin godzilla</td>\n",
              "    </tr>\n",
              "  </tbody>\n",
              "</table>\n",
              "<p>40000 rows × 6 columns</p>\n",
              "</div>"
            ],
            "text/plain": [
              "         tweet_id  ...                                                                                                           clean_text\n",
              "0      1956967341  ...  know be listenin to bad habit earlier and start freakin at his part                                                \n",
              "1      1956967666  ...  layin bed with headache ughh waitin on your call                                                                   \n",
              "2      1956967696  ...  funeral ceremony gloomy friday                                                                                     \n",
              "3      1956967789  ...  want to hang out with friend soon                                                                                  \n",
              "4      1956968416  ...  We want to trade with someone who have Houston ticket but no will                                                  \n",
              "...           ...  ...                                                                ...                                                  \n",
              "39995  1753918954  ...                                                                                                                     \n",
              "39996  1753919001  ...  Happy Mothers Day all my love                                                                                      \n",
              "39997  1753919005  ...  Happy Mother Day to all the mommy out there be you woman or man as long as you be momma to someone this be your day\n",
              "39998  1753919043  ...  WASSUP BEAUTIFUL follow me PEEP out my new hit single WWMYSPACECOM IPSOHOT I def WAT in the video                  \n",
              "39999  1753919049  ...  bullet train from tokyo the gf and have be visit japan since thursday vacation sightseeing gaijin godzilla         \n",
              "\n",
              "[40000 rows x 6 columns]"
            ]
          },
          "metadata": {},
          "execution_count": 20
        }
      ]
    },
    {
      "cell_type": "code",
      "metadata": {
        "colab": {
          "base_uri": "https://localhost:8080/",
          "height": 476
        },
        "id": "vEfjsurkpdBt",
        "outputId": "af03f1b5-e287-486d-ce77-8668badf4670"
      },
      "source": [
        "import numpy as np\n",
        "df['clean_text'].replace('', np.nan, inplace=True)\n",
        "df = df.dropna().reset_index(drop=True)\n",
        "df"
      ],
      "execution_count": 21,
      "outputs": [
        {
          "output_type": "execute_result",
          "data": {
            "text/html": [
              "<div>\n",
              "<style scoped>\n",
              "    .dataframe tbody tr th:only-of-type {\n",
              "        vertical-align: middle;\n",
              "    }\n",
              "\n",
              "    .dataframe tbody tr th {\n",
              "        vertical-align: top;\n",
              "    }\n",
              "\n",
              "    .dataframe thead th {\n",
              "        text-align: right;\n",
              "    }\n",
              "</style>\n",
              "<table border=\"1\" class=\"dataframe\">\n",
              "  <thead>\n",
              "    <tr style=\"text-align: right;\">\n",
              "      <th></th>\n",
              "      <th>tweet_id</th>\n",
              "      <th>sentiment</th>\n",
              "      <th>author</th>\n",
              "      <th>content</th>\n",
              "      <th>length</th>\n",
              "      <th>clean_text</th>\n",
              "    </tr>\n",
              "  </thead>\n",
              "  <tbody>\n",
              "    <tr>\n",
              "      <th>0</th>\n",
              "      <td>1956967341</td>\n",
              "      <td>empty</td>\n",
              "      <td>xoshayzers</td>\n",
              "      <td>@tiffanylue i know  i was listenin to bad habit earlier and i started freakin at his part =[</td>\n",
              "      <td>19</td>\n",
              "      <td>know be listenin to bad habit earlier and start freakin at his part</td>\n",
              "    </tr>\n",
              "    <tr>\n",
              "      <th>1</th>\n",
              "      <td>1956967666</td>\n",
              "      <td>sadness</td>\n",
              "      <td>wannamama</td>\n",
              "      <td>Layin n bed with a headache  ughhhh...waitin on your call...</td>\n",
              "      <td>11</td>\n",
              "      <td>layin bed with headache ughh waitin on your call</td>\n",
              "    </tr>\n",
              "    <tr>\n",
              "      <th>2</th>\n",
              "      <td>1956967696</td>\n",
              "      <td>sadness</td>\n",
              "      <td>coolfunky</td>\n",
              "      <td>Funeral ceremony...gloomy friday...</td>\n",
              "      <td>3</td>\n",
              "      <td>funeral ceremony gloomy friday</td>\n",
              "    </tr>\n",
              "    <tr>\n",
              "      <th>3</th>\n",
              "      <td>1956967789</td>\n",
              "      <td>enthusiasm</td>\n",
              "      <td>czareaquino</td>\n",
              "      <td>wants to hang out with friends SOON!</td>\n",
              "      <td>7</td>\n",
              "      <td>want to hang out with friend soon</td>\n",
              "    </tr>\n",
              "    <tr>\n",
              "      <th>4</th>\n",
              "      <td>1956968416</td>\n",
              "      <td>neutral</td>\n",
              "      <td>xkilljoyx</td>\n",
              "      <td>@dannycastillo We want to trade with someone who has Houston tickets, but no one will.</td>\n",
              "      <td>15</td>\n",
              "      <td>We want to trade with someone who have Houston ticket but no will</td>\n",
              "    </tr>\n",
              "    <tr>\n",
              "      <th>...</th>\n",
              "      <td>...</td>\n",
              "      <td>...</td>\n",
              "      <td>...</td>\n",
              "      <td>...</td>\n",
              "      <td>...</td>\n",
              "      <td>...</td>\n",
              "    </tr>\n",
              "    <tr>\n",
              "      <th>39896</th>\n",
              "      <td>1753918900</td>\n",
              "      <td>happiness</td>\n",
              "      <td>courtside101</td>\n",
              "      <td>Succesfully following Tayla!!</td>\n",
              "      <td>3</td>\n",
              "      <td>succesfully follow Tayla</td>\n",
              "    </tr>\n",
              "    <tr>\n",
              "      <th>39897</th>\n",
              "      <td>1753919001</td>\n",
              "      <td>love</td>\n",
              "      <td>drapeaux</td>\n",
              "      <td>Happy Mothers Day  All my love</td>\n",
              "      <td>7</td>\n",
              "      <td>Happy Mothers Day all my love</td>\n",
              "    </tr>\n",
              "    <tr>\n",
              "      <th>39898</th>\n",
              "      <td>1753919005</td>\n",
              "      <td>love</td>\n",
              "      <td>JenniRox</td>\n",
              "      <td>Happy Mother's Day to all the mommies out there, be you woman or man as long as you're 'momma' to someone this is your day!</td>\n",
              "      <td>25</td>\n",
              "      <td>Happy Mother Day to all the mommy out there be you woman or man as long as you be momma to someone this be your day</td>\n",
              "    </tr>\n",
              "    <tr>\n",
              "      <th>39899</th>\n",
              "      <td>1753919043</td>\n",
              "      <td>happiness</td>\n",
              "      <td>ipdaman1</td>\n",
              "      <td>@niariley WASSUP BEAUTIFUL!!! FOLLOW ME!!  PEEP OUT MY NEW HIT SINGLES WWW.MYSPACE.COM/IPSOHOT I DEF. WAT U IN THE VIDEO!!</td>\n",
              "      <td>20</td>\n",
              "      <td>WASSUP BEAUTIFUL follow me PEEP out my new hit single WWMYSPACECOM IPSOHOT I def WAT in the video</td>\n",
              "    </tr>\n",
              "    <tr>\n",
              "      <th>39900</th>\n",
              "      <td>1753919049</td>\n",
              "      <td>love</td>\n",
              "      <td>Alpharalpha</td>\n",
              "      <td>@mopedronin bullet train from tokyo    the gf and i have been visiting japan since thursday  vacation/sightseeing    gaijin godzilla</td>\n",
              "      <td>25</td>\n",
              "      <td>bullet train from tokyo the gf and have be visit japan since thursday vacation sightseeing gaijin godzilla</td>\n",
              "    </tr>\n",
              "  </tbody>\n",
              "</table>\n",
              "<p>39901 rows × 6 columns</p>\n",
              "</div>"
            ],
            "text/plain": [
              "         tweet_id  ...                                                                                                           clean_text\n",
              "0      1956967341  ...  know be listenin to bad habit earlier and start freakin at his part                                                \n",
              "1      1956967666  ...  layin bed with headache ughh waitin on your call                                                                   \n",
              "2      1956967696  ...  funeral ceremony gloomy friday                                                                                     \n",
              "3      1956967789  ...  want to hang out with friend soon                                                                                  \n",
              "4      1956968416  ...  We want to trade with someone who have Houston ticket but no will                                                  \n",
              "...           ...  ...                                                                ...                                                  \n",
              "39896  1753918900  ...  succesfully follow Tayla                                                                                           \n",
              "39897  1753919001  ...  Happy Mothers Day all my love                                                                                      \n",
              "39898  1753919005  ...  Happy Mother Day to all the mommy out there be you woman or man as long as you be momma to someone this be your day\n",
              "39899  1753919043  ...  WASSUP BEAUTIFUL follow me PEEP out my new hit single WWMYSPACECOM IPSOHOT I def WAT in the video                  \n",
              "39900  1753919049  ...  bullet train from tokyo the gf and have be visit japan since thursday vacation sightseeing gaijin godzilla         \n",
              "\n",
              "[39901 rows x 6 columns]"
            ]
          },
          "metadata": {},
          "execution_count": 21
        }
      ]
    },
    {
      "cell_type": "code",
      "metadata": {
        "id": "8ZfenGt2xARJ"
      },
      "source": [
        "df_after_cleaning = df"
      ],
      "execution_count": 22,
      "outputs": []
    },
    {
      "cell_type": "markdown",
      "metadata": {
        "id": "8NoDtf9Rt3ma"
      },
      "source": [
        "# BERT and KTRAIN"
      ]
    },
    {
      "cell_type": "code",
      "metadata": {
        "id": "J4Ydfrf-zE_Y"
      },
      "source": [
        "df = df_after_cleaning"
      ],
      "execution_count": 23,
      "outputs": []
    },
    {
      "cell_type": "code",
      "metadata": {
        "id": "Jy8ypK_-Jjs-"
      },
      "source": [
        "# df = df[(df.sentiment != 'neutral')&\n",
        "# (df.sentiment !='worry')&    \n",
        "# (df.sentiment !='happiness')&  \n",
        "# (df.sentiment !='sadness')&\n",
        "# (df.sentiment !='love')&\n",
        "# (df.sentiment !='surprise')&\n",
        "# (df.sentiment !='fun')&\n",
        "# (df.sentiment !='relief')&\n",
        "# (df.sentiment !='hate')&\n",
        "# (df.sentiment !='empty') &\n",
        "# 'enthusiasm', \n",
        "# 'boredom', \n",
        "# 'anger'\n",
        "#  ]\n",
        "\n",
        "# df = df[(df.sentiment != 'neutral')&\n",
        "# (df.sentiment !='worry')&    \n",
        "# (df.sentiment !='happiness')&  \n",
        "# (df.sentiment !='sadness')&\n",
        "# (df.sentiment !='love')&\n",
        "# (df.sentiment !='surprise')&\n",
        "# (df.sentiment !='empty')\n",
        "#  ]"
      ],
      "execution_count": 24,
      "outputs": []
    },
    {
      "cell_type": "code",
      "metadata": {
        "colab": {
          "base_uri": "https://localhost:8080/",
          "height": 206
        },
        "id": "h62lvPVuJnBY",
        "outputId": "9b8cee2e-ca4c-4187-b7ad-c78a40cf786b"
      },
      "source": [
        "import pandas as pd\n",
        "from sklearn.model_selection import train_test_split\n",
        "\n",
        "# train, test = train_test_split(df, test_size=0.2)\n",
        "# train.head(10)\n",
        "\n",
        "random_seed = 12342\n",
        "train, test = train_test_split(df, shuffle=True, test_size = 0.2, \n",
        "                               random_state=random_seed, stratify=df['sentiment'])\n",
        "\n",
        "train.head()"
      ],
      "execution_count": 25,
      "outputs": [
        {
          "output_type": "execute_result",
          "data": {
            "text/html": [
              "<div>\n",
              "<style scoped>\n",
              "    .dataframe tbody tr th:only-of-type {\n",
              "        vertical-align: middle;\n",
              "    }\n",
              "\n",
              "    .dataframe tbody tr th {\n",
              "        vertical-align: top;\n",
              "    }\n",
              "\n",
              "    .dataframe thead th {\n",
              "        text-align: right;\n",
              "    }\n",
              "</style>\n",
              "<table border=\"1\" class=\"dataframe\">\n",
              "  <thead>\n",
              "    <tr style=\"text-align: right;\">\n",
              "      <th></th>\n",
              "      <th>tweet_id</th>\n",
              "      <th>sentiment</th>\n",
              "      <th>author</th>\n",
              "      <th>content</th>\n",
              "      <th>length</th>\n",
              "      <th>clean_text</th>\n",
              "    </tr>\n",
              "  </thead>\n",
              "  <tbody>\n",
              "    <tr>\n",
              "      <th>24053</th>\n",
              "      <td>1694768529</td>\n",
              "      <td>happiness</td>\n",
              "      <td>joeljansson</td>\n",
              "      <td>Soon my new job starts  I'm so happy!</td>\n",
              "      <td>9</td>\n",
              "      <td>soon my new job start I be so happy</td>\n",
              "    </tr>\n",
              "    <tr>\n",
              "      <th>16918</th>\n",
              "      <td>1965492434</td>\n",
              "      <td>worry</td>\n",
              "      <td>carlystienstra</td>\n",
              "      <td>@Victoriouz tres rude VICTOR!  :\\</td>\n",
              "      <td>6</td>\n",
              "      <td>tre rude VICTOR</td>\n",
              "    </tr>\n",
              "    <tr>\n",
              "      <th>16661</th>\n",
              "      <td>1965427203</td>\n",
              "      <td>worry</td>\n",
              "      <td>N0R3</td>\n",
              "      <td>ugh! looks like it can rain any min now</td>\n",
              "      <td>9</td>\n",
              "      <td>ugh look like it can rain any min now</td>\n",
              "    </tr>\n",
              "    <tr>\n",
              "      <th>8786</th>\n",
              "      <td>1962309978</td>\n",
              "      <td>sadness</td>\n",
              "      <td>simplyJenGrier</td>\n",
              "      <td>I need to stop being sick.</td>\n",
              "      <td>6</td>\n",
              "      <td>I need to stop be sick</td>\n",
              "    </tr>\n",
              "    <tr>\n",
              "      <th>22916</th>\n",
              "      <td>1694531535</td>\n",
              "      <td>surprise</td>\n",
              "      <td>varunshridhar</td>\n",
              "      <td>@kadambariyer wow, I see a Mr.B obsession in you!!</td>\n",
              "      <td>9</td>\n",
              "      <td>wow I see Mr obsession in you</td>\n",
              "    </tr>\n",
              "  </tbody>\n",
              "</table>\n",
              "</div>"
            ],
            "text/plain": [
              "         tweet_id  sentiment  ... length                             clean_text\n",
              "24053  1694768529  happiness  ...  9      soon my new job start I be so happy  \n",
              "16918  1965492434  worry      ...  6      tre rude VICTOR                      \n",
              "16661  1965427203  worry      ...  9      ugh look like it can rain any min now\n",
              "8786   1962309978  sadness    ...  6      I need to stop be sick               \n",
              "22916  1694531535  surprise   ...  9      wow I see Mr obsession in you        \n",
              "\n",
              "[5 rows x 6 columns]"
            ]
          },
          "metadata": {},
          "execution_count": 25
        }
      ]
    },
    {
      "cell_type": "code",
      "metadata": {
        "colab": {
          "base_uri": "https://localhost:8080/"
        },
        "id": "l7VnQKft7yiD",
        "outputId": "1c4153f0-740b-4990-8b15-50ea38464632"
      },
      "source": [
        "df.sentiment.value_counts()"
      ],
      "execution_count": 26,
      "outputs": [
        {
          "output_type": "execute_result",
          "data": {
            "text/plain": [
              "neutral       8566\n",
              "worry         8454\n",
              "happiness     5208\n",
              "sadness       5162\n",
              "love          3841\n",
              "surprise      2185\n",
              "fun           1776\n",
              "relief        1526\n",
              "hate          1323\n",
              "empty         812 \n",
              "enthusiasm    759 \n",
              "boredom       179 \n",
              "anger         110 \n",
              "Name: sentiment, dtype: int64"
            ]
          },
          "metadata": {},
          "execution_count": 26
        }
      ]
    },
    {
      "cell_type": "code",
      "metadata": {
        "colab": {
          "base_uri": "https://localhost:8080/",
          "height": 674
        },
        "id": "UtC4Q8WcJbb5",
        "outputId": "c4e5c629-b621-40e0-8458-13a0b1c4d9ce"
      },
      "source": [
        "# X_train = train.content.tolist()\n",
        "# X_test = test.content.tolist()\n",
        "\n",
        "# y_train = train.sentiment.tolist()\n",
        "# y_test = test.sentiment.tolist()\n",
        "\n",
        "# data = train.append(test, ignore_index=True)\n",
        "\n",
        "# print('size of training set: %s' % (len(train['content'])))\n",
        "# print('size of validation set: %s' % (len(test['content'])))\n",
        "# print(data.sentiment.value_counts())\n",
        "\n",
        "# data.head(10)\n",
        "\n",
        "X_train = train.clean_text.tolist()\n",
        "X_test = test.clean_text.tolist()\n",
        "\n",
        "y_train = train.sentiment.tolist()\n",
        "y_test = test.sentiment.tolist()\n",
        "\n",
        "data = train.append(test, ignore_index=True)\n",
        "\n",
        "print('size of training set: %s' % (len(train['clean_text'])))\n",
        "print('size of validation set: %s' % (len(test['clean_text'])))\n",
        "print(data.sentiment.value_counts())\n",
        "\n",
        "data.head(10)"
      ],
      "execution_count": 27,
      "outputs": [
        {
          "output_type": "stream",
          "name": "stdout",
          "text": [
            "size of training set: 31920\n",
            "size of validation set: 7981\n",
            "neutral       8566\n",
            "worry         8454\n",
            "happiness     5208\n",
            "sadness       5162\n",
            "love          3841\n",
            "surprise      2185\n",
            "fun           1776\n",
            "relief        1526\n",
            "hate          1323\n",
            "empty         812 \n",
            "enthusiasm    759 \n",
            "boredom       179 \n",
            "anger         110 \n",
            "Name: sentiment, dtype: int64\n"
          ]
        },
        {
          "output_type": "execute_result",
          "data": {
            "text/html": [
              "<div>\n",
              "<style scoped>\n",
              "    .dataframe tbody tr th:only-of-type {\n",
              "        vertical-align: middle;\n",
              "    }\n",
              "\n",
              "    .dataframe tbody tr th {\n",
              "        vertical-align: top;\n",
              "    }\n",
              "\n",
              "    .dataframe thead th {\n",
              "        text-align: right;\n",
              "    }\n",
              "</style>\n",
              "<table border=\"1\" class=\"dataframe\">\n",
              "  <thead>\n",
              "    <tr style=\"text-align: right;\">\n",
              "      <th></th>\n",
              "      <th>tweet_id</th>\n",
              "      <th>sentiment</th>\n",
              "      <th>author</th>\n",
              "      <th>content</th>\n",
              "      <th>length</th>\n",
              "      <th>clean_text</th>\n",
              "    </tr>\n",
              "  </thead>\n",
              "  <tbody>\n",
              "    <tr>\n",
              "      <th>0</th>\n",
              "      <td>1694768529</td>\n",
              "      <td>happiness</td>\n",
              "      <td>joeljansson</td>\n",
              "      <td>Soon my new job starts  I'm so happy!</td>\n",
              "      <td>9</td>\n",
              "      <td>soon my new job start I be so happy</td>\n",
              "    </tr>\n",
              "    <tr>\n",
              "      <th>1</th>\n",
              "      <td>1965492434</td>\n",
              "      <td>worry</td>\n",
              "      <td>carlystienstra</td>\n",
              "      <td>@Victoriouz tres rude VICTOR!  :\\</td>\n",
              "      <td>6</td>\n",
              "      <td>tre rude VICTOR</td>\n",
              "    </tr>\n",
              "    <tr>\n",
              "      <th>2</th>\n",
              "      <td>1965427203</td>\n",
              "      <td>worry</td>\n",
              "      <td>N0R3</td>\n",
              "      <td>ugh! looks like it can rain any min now</td>\n",
              "      <td>9</td>\n",
              "      <td>ugh look like it can rain any min now</td>\n",
              "    </tr>\n",
              "    <tr>\n",
              "      <th>3</th>\n",
              "      <td>1962309978</td>\n",
              "      <td>sadness</td>\n",
              "      <td>simplyJenGrier</td>\n",
              "      <td>I need to stop being sick.</td>\n",
              "      <td>6</td>\n",
              "      <td>I need to stop be sick</td>\n",
              "    </tr>\n",
              "    <tr>\n",
              "      <th>4</th>\n",
              "      <td>1694531535</td>\n",
              "      <td>surprise</td>\n",
              "      <td>varunshridhar</td>\n",
              "      <td>@kadambariyer wow, I see a Mr.B obsession in you!!</td>\n",
              "      <td>9</td>\n",
              "      <td>wow I see Mr obsession in you</td>\n",
              "    </tr>\n",
              "    <tr>\n",
              "      <th>5</th>\n",
              "      <td>1752562354</td>\n",
              "      <td>surprise</td>\n",
              "      <td>A1ix</td>\n",
              "      <td>omg patron is 1ofmy FAVS  @NOEL4PRESIDENT im so jealous icant do 10 but i can do 5 so make it 15  so serious im in alabama visitin fam</td>\n",
              "      <td>30</td>\n",
              "      <td>omg patron be ofmy FAVS i be so jealous icant do but can do so make it so serious i be in alabama visitin fam</td>\n",
              "    </tr>\n",
              "    <tr>\n",
              "      <th>6</th>\n",
              "      <td>1963542484</td>\n",
              "      <td>worry</td>\n",
              "      <td>kaitlin12345</td>\n",
              "      <td>Good! luck you! I want new shoes  Ly x</td>\n",
              "      <td>10</td>\n",
              "      <td>good luck you I want new shoe Ly</td>\n",
              "    </tr>\n",
              "    <tr>\n",
              "      <th>7</th>\n",
              "      <td>1695882955</td>\n",
              "      <td>happiness</td>\n",
              "      <td>Av1vM</td>\n",
              "      <td>@DarenYeow Oh wow they are really good  I think Im going to use one of them lol.</td>\n",
              "      <td>18</td>\n",
              "      <td>oh wow they be really good I think I be go to use of them lol</td>\n",
              "    </tr>\n",
              "    <tr>\n",
              "      <th>8</th>\n",
              "      <td>1957122083</td>\n",
              "      <td>worry</td>\n",
              "      <td>joyofzen</td>\n",
              "      <td>@GQbound I didn't end up really eating  had more snacks. sigh</td>\n",
              "      <td>12</td>\n",
              "      <td>I do not end up really eat have more snack sigh</td>\n",
              "    </tr>\n",
              "    <tr>\n",
              "      <th>9</th>\n",
              "      <td>1965994033</td>\n",
              "      <td>empty</td>\n",
              "      <td>babyperraton</td>\n",
              "      <td>Glenna is bored but glad that it is a beautiful day. Macy went swimming and Kris played golf while I sat at home waiting for them</td>\n",
              "      <td>26</td>\n",
              "      <td>Glenna be bored but glad that it be beautiful day Macy go swim and Kris play golf while I sit at home wait for them</td>\n",
              "    </tr>\n",
              "  </tbody>\n",
              "</table>\n",
              "</div>"
            ],
            "text/plain": [
              "     tweet_id  ...                                                                                                           clean_text\n",
              "0  1694768529  ...  soon my new job start I be so happy                                                                                \n",
              "1  1965492434  ...  tre rude VICTOR                                                                                                    \n",
              "2  1965427203  ...  ugh look like it can rain any min now                                                                              \n",
              "3  1962309978  ...  I need to stop be sick                                                                                             \n",
              "4  1694531535  ...  wow I see Mr obsession in you                                                                                      \n",
              "5  1752562354  ...  omg patron be ofmy FAVS i be so jealous icant do but can do so make it so serious i be in alabama visitin fam      \n",
              "6  1963542484  ...  good luck you I want new shoe Ly                                                                                   \n",
              "7  1695882955  ...  oh wow they be really good I think I be go to use of them lol                                                      \n",
              "8  1957122083  ...  I do not end up really eat have more snack sigh                                                                    \n",
              "9  1965994033  ...  Glenna be bored but glad that it be beautiful day Macy go swim and Kris play golf while I sit at home wait for them\n",
              "\n",
              "[10 rows x 6 columns]"
            ]
          },
          "metadata": {},
          "execution_count": 27
        }
      ]
    },
    {
      "cell_type": "code",
      "metadata": {
        "id": "8j7MGksyKOdW"
      },
      "source": [
        "class_names=['neutral',\n",
        "'worry',       \n",
        "'happiness',    \n",
        "'sadness',\n",
        "'love', \n",
        "'surprise',\n",
        "'fun', \n",
        "'relief',\n",
        "'hate',  \n",
        "'empty',\n",
        "'enthusiasm', \n",
        "'boredom', \n",
        "'anger']\n",
        "\n",
        "encoding = {\n",
        "'neutral':0,\n",
        "'worry':1,       \n",
        "'happiness':2,    \n",
        "'sadness':3,\n",
        "'love':4, \n",
        "'surprise':5,\n",
        "'fun':6, \n",
        "'relief':7,\n",
        "'hate':8,  \n",
        "'empty':9,\n",
        "'enthusiasm':10, \n",
        "'boredom':11, \n",
        "'anger':12\n",
        "}\n",
        "\n",
        "# class_names=[\n",
        "# 'fun', \n",
        "# 'relief', \n",
        "# 'hate',\n",
        "# 'anger',\n",
        "# 'boredom',\n",
        "# 'enthusiasm']\n",
        "\n",
        "# encoding = {\n",
        "# 'fun':0, \n",
        "# 'relief':1, \n",
        "# 'hate':2,\n",
        "# 'anger':3,\n",
        "# 'boredom':4,\n",
        "# 'enthusiasm':5\n",
        "# }\n",
        "\n",
        "# Integer values for each class\n",
        "y_train = [encoding[x] for x in y_train]\n",
        "y_test = [encoding[x] for x in y_test]"
      ],
      "execution_count": 28,
      "outputs": []
    },
    {
      "cell_type": "code",
      "metadata": {
        "colab": {
          "base_uri": "https://localhost:8080/",
          "height": 294
        },
        "id": "L-j-LYKjEFWN",
        "outputId": "c297973e-d630-47fa-883a-57ac1cac70b3"
      },
      "source": [
        "import ktrain\n",
        "from ktrain import text\n",
        "\n",
        "(x_train,  y_train), (x_test, y_test), preproc = text.texts_from_array(x_train=X_train, y_train=y_train,\n",
        "                                                                       x_test=X_test, y_test=y_test,\n",
        "                                                                       class_names=class_names,\n",
        "                                                                       preprocess_mode='bert',\n",
        "                                                                       lang='en',\n",
        "                                                                       maxlen=350, \n",
        "                                                                       max_features=35000)"
      ],
      "execution_count": null,
      "outputs": [
        {
          "name": "stdout",
          "output_type": "stream",
          "text": [
            "downloading pretrained BERT model (uncased_L-12_H-768_A-12.zip)...\n",
            "[██████████████████████████████████████████████████]\n",
            "extracting pretrained BERT model...\n",
            "done.\n",
            "\n",
            "cleanup downloaded zip...\n",
            "done.\n",
            "\n",
            "preprocessing train...\n",
            "language: en\n"
          ]
        },
        {
          "data": {
            "text/html": [
              "done."
            ],
            "text/plain": [
              "<IPython.core.display.HTML object>"
            ]
          },
          "metadata": {},
          "output_type": "display_data"
        },
        {
          "name": "stdout",
          "output_type": "stream",
          "text": [
            "Is Multi-Label? False\n",
            "preprocessing test...\n",
            "language: en\n"
          ]
        },
        {
          "data": {
            "text/html": [
              "done."
            ],
            "text/plain": [
              "<IPython.core.display.HTML object>"
            ]
          },
          "metadata": {},
          "output_type": "display_data"
        },
        {
          "name": "stdout",
          "output_type": "stream",
          "text": [
            "task: text classification\n"
          ]
        }
      ]
    },
    {
      "cell_type": "code",
      "metadata": {
        "colab": {
          "base_uri": "https://localhost:8080/"
        },
        "id": "lkons8kQGU3q",
        "outputId": "62aa3416-ad11-4bea-df02-3c963f98883a"
      },
      "source": [
        "model = text.text_classifier('bert', train_data=(x_train, y_train), preproc=preproc)"
      ],
      "execution_count": null,
      "outputs": [
        {
          "name": "stdout",
          "output_type": "stream",
          "text": [
            "Is Multi-Label? False\n",
            "maxlen is 350\n",
            "done.\n"
          ]
        }
      ]
    },
    {
      "cell_type": "code",
      "metadata": {
        "id": "yZ3GC5Mq4ti6"
      },
      "source": [
        "learner = ktrain.get_learner(model, train_data=(x_train, y_train), \n",
        "                             val_data=(x_test, y_test),\n",
        "                             batch_size=6)\n",
        "\n",
        "# # find good learning rate\n",
        "# learner.lr_find()             # briefly simulate training to find good learning rate\n",
        "# learner.lr_plot()             # visually identify best learning rate "
      ],
      "execution_count": null,
      "outputs": []
    },
    {
      "cell_type": "code",
      "metadata": {
        "colab": {
          "base_uri": "https://localhost:8080/"
        },
        "id": "_wWybq0p-WDs",
        "outputId": "b0313f9d-554d-49a1-c43f-fbc1218af110"
      },
      "source": [
        "learner.fit_onecycle(2e-5, 3)"
      ],
      "execution_count": null,
      "outputs": [
        {
          "name": "stdout",
          "output_type": "stream",
          "text": [
            "\n",
            "\n",
            "begin training using onecycle policy with max lr of 2e-05...\n",
            "Epoch 1/3\n",
            "4208/5320 [======================>.......] - ETA: 18:11 - loss: 1.9287 - accuracy: 0.3380"
          ]
        }
      ]
    },
    {
      "cell_type": "code",
      "metadata": {
        "colab": {
          "base_uri": "https://localhost:8080/"
        },
        "id": "LjFJtld7-Y9m",
        "outputId": "98940078-dd28-400d-eb67-f8f02c162322"
      },
      "source": [
        "learner.validate(val_data=(x_test, y_test), class_names=class_names)"
      ],
      "execution_count": null,
      "outputs": [
        {
          "name": "stdout",
          "output_type": "stream",
          "text": [
            "              precision    recall  f1-score   support\n",
            "\n",
            "     neutral       0.42      0.56      0.48      1713\n",
            "       worry       0.38      0.61      0.47      1691\n",
            "   happiness       0.36      0.53      0.43      1042\n",
            "     sadness       0.45      0.24      0.31      1033\n",
            "        love       0.48      0.42      0.45       768\n",
            "    surprise       0.32      0.01      0.03       437\n",
            "         fun       0.43      0.01      0.02       355\n",
            "      relief       0.23      0.02      0.04       305\n",
            "        hate       0.40      0.20      0.27       265\n",
            "       empty       0.00      0.00      0.00       162\n",
            "  enthusiasm       0.00      0.00      0.00       152\n",
            "     boredom       0.00      0.00      0.00        36\n",
            "       anger       0.00      0.00      0.00        22\n",
            "\n",
            "    accuracy                           0.40      7981\n",
            "   macro avg       0.27      0.20      0.19      7981\n",
            "weighted avg       0.38      0.40      0.35      7981\n",
            "\n"
          ]
        },
        {
          "name": "stderr",
          "output_type": "stream",
          "text": [
            "/usr/local/lib/python3.7/dist-packages/sklearn/metrics/_classification.py:1221: UndefinedMetricWarning: Precision and F-score are ill-defined and being set to 0.0 in labels with no predicted samples. Use `zero_division` parameter to control this behavior.\n",
            "  _warn_prf(average, modifier, msg_start, len(result))\n"
          ]
        },
        {
          "data": {
            "text/plain": [
              "array([[ 963,  423,  204,   38,   63,    3,    0,    5,   14,    0,    0,\n",
              "           0,    0],\n",
              "       [ 310, 1031,  125,  151,   41,    2,    2,    3,   26,    0,    0,\n",
              "           0,    0],\n",
              "       [ 234,   96,  555,   17,  131,    2,    1,    5,    1,    0,    0,\n",
              "           0,    0],\n",
              "       [ 146,  527,   62,  243,   32,    1,    0,    2,   20,    0,    0,\n",
              "           0,    0],\n",
              "       [ 125,   69,  205,   32,  326,    2,    1,    3,    5,    0,    0,\n",
              "           0,    0],\n",
              "       [ 117,  179,   84,   17,   27,    6,    0,    3,    4,    0,    0,\n",
              "           0,    0],\n",
              "       [  99,   50,  164,    6,   29,    2,    3,    1,    1,    0,    0,\n",
              "           0,    0],\n",
              "       [ 104,   69,   95,    9,   20,    0,    0,    7,    1,    0,    0,\n",
              "           0,    0],\n",
              "       [  33,  155,    8,   16,    0,    0,    0,    0,   53,    0,    0,\n",
              "           0,    0],\n",
              "       [  59,   77,   10,    5,    5,    1,    0,    1,    4,    0,    0,\n",
              "           0,    0],\n",
              "       [  71,   32,   38,    3,    8,    0,    0,    0,    0,    0,    0,\n",
              "           0,    0],\n",
              "       [   8,   19,    3,    3,    1,    0,    0,    0,    2,    0,    0,\n",
              "           0,    0],\n",
              "       [   5,   16,    0,    0,    0,    0,    0,    1,    0,    0,    0,\n",
              "           0,    0]])"
            ]
          },
          "execution_count": 43,
          "metadata": {},
          "output_type": "execute_result"
        }
      ]
    },
    {
      "cell_type": "code",
      "metadata": {
        "colab": {
          "base_uri": "https://localhost:8080/"
        },
        "id": "2rCRXkmNLK0F",
        "outputId": "7f7bf6c8-d4fd-4701-9f0c-67d81103ac9e"
      },
      "source": [
        "predictor = ktrain.get_predictor(learner.model, preproc)\n",
        "predictor.get_classes()"
      ],
      "execution_count": null,
      "outputs": [
        {
          "data": {
            "text/plain": [
              "['fun', 'relief', 'hate']"
            ]
          },
          "execution_count": 57,
          "metadata": {},
          "output_type": "execute_result"
        }
      ]
    },
    {
      "cell_type": "code",
      "metadata": {
        "colab": {
          "base_uri": "https://localhost:8080/"
        },
        "id": "jg83LH6IMPDA",
        "outputId": "d35a1606-bf9e-4710-d0e9-20ad99f34e34"
      },
      "source": [
        "import time \n",
        "\n",
        "message = \"happily married\"\n",
        "\n",
        "start_time = time.time() \n",
        "prediction = predictor.predict(message)\n",
        "\n",
        "print('predicted: {} ({:.2f})'.format(prediction, (time.time() - start_time)))"
      ],
      "execution_count": null,
      "outputs": [
        {
          "name": "stdout",
          "output_type": "stream",
          "text": [
            "predicted: relief (0.17)\n"
          ]
        }
      ]
    },
    {
      "cell_type": "code",
      "metadata": {
        "colab": {
          "base_uri": "https://localhost:8080/"
        },
        "id": "at3hMj----gI",
        "outputId": "b7d1400e-f4de-4bc3-cfdf-6f15c09a75d7"
      },
      "source": [
        "# the one we got most wrong\n",
        "learner.view_top_losses(n=1, preproc=preproc)"
      ],
      "execution_count": null,
      "outputs": [
        {
          "name": "stdout",
          "output_type": "stream",
          "text": [
            "----------\n",
            "id:119 | loss:5.31 | true:anger | pred:fun)\n",
            "\n",
            "[CLS] have kick ##ass day full of sea ##world re ##tar ##d year old guy and men origin win day [SEP]\n"
          ]
        }
      ]
    },
    {
      "cell_type": "code",
      "metadata": {
        "colab": {
          "base_uri": "https://localhost:8080/",
          "height": 169
        },
        "id": "Kk1-8Vr0_E28",
        "outputId": "2aa6954d-389f-4500-f0f3-39f5307304dd"
      },
      "source": [
        "predictor.explain('I love team pineapples')"
      ],
      "execution_count": null,
      "outputs": [
        {
          "data": {
            "text/html": [
              "\n",
              "    <style>\n",
              "    table.eli5-weights tr:hover {\n",
              "        filter: brightness(85%);\n",
              "    }\n",
              "</style>\n",
              "\n",
              "\n",
              "\n",
              "    \n",
              "\n",
              "    \n",
              "\n",
              "    \n",
              "\n",
              "    \n",
              "\n",
              "    \n",
              "\n",
              "    \n",
              "\n",
              "\n",
              "    \n",
              "\n",
              "    \n",
              "\n",
              "    \n",
              "\n",
              "    \n",
              "        \n",
              "\n",
              "    \n",
              "\n",
              "        \n",
              "\n",
              "        \n",
              "    \n",
              "        \n",
              "        \n",
              "    \n",
              "        <p style=\"margin-bottom: 0.5em; margin-top: 0em\">\n",
              "            <b>\n",
              "    \n",
              "        y=fun\n",
              "    \n",
              "</b>\n",
              "\n",
              "    \n",
              "    (probability <b>0.733</b>, score <b>0.904</b>)\n",
              "\n",
              "top features\n",
              "        </p>\n",
              "    \n",
              "    <table class=\"eli5-weights\"\n",
              "           style=\"border-collapse: collapse; border: none; margin-top: 0em; table-layout: auto; margin-bottom: 2em;\">\n",
              "        <thead>\n",
              "        <tr style=\"border: none;\">\n",
              "            \n",
              "                <th style=\"padding: 0 1em 0 0.5em; text-align: right; border: none;\" title=\"Feature contribution already accounts for the feature value (for linear models, contribution = weight * feature value), and the sum of feature contributions is equal to the score or, for some classifiers, to the probability. Feature values are shown if &quot;show_feature_values&quot; is True.\">\n",
              "                    Contribution<sup>?</sup>\n",
              "                </th>\n",
              "            \n",
              "            <th style=\"padding: 0 0.5em 0 0.5em; text-align: left; border: none;\">Feature</th>\n",
              "            \n",
              "        </tr>\n",
              "        </thead>\n",
              "        <tbody>\n",
              "        \n",
              "            <tr style=\"background-color: hsl(120, 100.00%, 80.00%); border: none;\">\n",
              "    <td style=\"padding: 0 1em 0 0.5em; text-align: right; border: none;\">\n",
              "        +1.424\n",
              "    </td>\n",
              "    <td style=\"padding: 0 0.5em 0 0.5em; text-align: left; border: none;\">\n",
              "        Highlighted in text (sum)\n",
              "    </td>\n",
              "    \n",
              "</tr>\n",
              "        \n",
              "        \n",
              "\n",
              "        \n",
              "        \n",
              "            <tr style=\"background-color: hsl(0, 100.00%, 90.12%); border: none;\">\n",
              "    <td style=\"padding: 0 1em 0 0.5em; text-align: right; border: none;\">\n",
              "        -0.520\n",
              "    </td>\n",
              "    <td style=\"padding: 0 0.5em 0 0.5em; text-align: left; border: none;\">\n",
              "        &lt;BIAS&gt;\n",
              "    </td>\n",
              "    \n",
              "</tr>\n",
              "        \n",
              "\n",
              "        </tbody>\n",
              "    </table>\n",
              "\n",
              "    \n",
              "\n",
              "\n",
              "\n",
              "    <p style=\"margin-bottom: 2.5em; margin-top:-0.5em;\">\n",
              "        <span style=\"background-color: hsl(120, 100.00%, 70.23%); opacity: 0.93\" title=\"0.484\">i</span><span style=\"opacity: 0.80\"> </span><span style=\"background-color: hsl(120, 100.00%, 60.00%); opacity: 1.00\" title=\"0.737\">love</span><span style=\"opacity: 0.80\"> </span><span style=\"background-color: hsl(120, 100.00%, 74.78%); opacity: 0.90\" title=\"0.382\">team</span><span style=\"opacity: 0.80\"> </span><span style=\"background-color: hsl(120, 100.00%, 63.27%); opacity: 0.98\" title=\"0.653\">pineapples</span>\n",
              "    </p>\n",
              "\n",
              "\n",
              "    \n",
              "\n",
              "    \n",
              "\n",
              "    \n",
              "\n",
              "    \n",
              "\n",
              "\n",
              "    \n",
              "\n",
              "    \n",
              "\n",
              "    \n",
              "\n",
              "    \n",
              "\n",
              "    \n",
              "\n",
              "    \n",
              "\n",
              "\n",
              "    \n",
              "\n",
              "    \n",
              "\n",
              "    \n",
              "\n",
              "    \n",
              "\n",
              "    \n",
              "\n",
              "    \n",
              "\n",
              "\n",
              "\n"
            ],
            "text/plain": [
              "<IPython.core.display.HTML object>"
            ]
          },
          "execution_count": 63,
          "metadata": {},
          "output_type": "execute_result"
        }
      ]
    },
    {
      "cell_type": "code",
      "metadata": {
        "colab": {
          "base_uri": "https://localhost:8080/"
        },
        "id": "6SVOQQtd_Kyc",
        "outputId": "d0256420-b2c9-4380-aecd-5c2dbf9bd410"
      },
      "source": [
        "predictor.predict_proba('a terrible thing happened')"
      ],
      "execution_count": null,
      "outputs": [
        {
          "data": {
            "text/plain": [
              "array([0.5459754 , 0.3032034 , 0.15082122], dtype=float32)"
            ]
          },
          "execution_count": 20,
          "metadata": {},
          "output_type": "execute_result"
        }
      ]
    },
    {
      "cell_type": "code",
      "metadata": {
        "colab": {
          "base_uri": "https://localhost:8080/"
        },
        "id": "Da6Bln05MSlp",
        "outputId": "df769847-8a39-4257-ccff-b17ab04c27ab"
      },
      "source": [
        "# let's save the predictor for later use\n",
        "predictor.save(\"models/bert_model\")"
      ],
      "execution_count": null,
      "outputs": [
        {
          "name": "stderr",
          "output_type": "stream",
          "text": [
            "/usr/local/lib/python3.7/dist-packages/keras/utils/generic_utils.py:497: CustomMaskWarning: Custom mask layers require a config and must override get_config. When loading, the custom mask layer must be passed to the custom_objects argument.\n",
            "  category=CustomMaskWarning)\n"
          ]
        }
      ]
    },
    {
      "cell_type": "markdown",
      "metadata": {
        "id": "Fr4Ga6bst9Qr"
      },
      "source": [
        "# LSTM"
      ]
    },
    {
      "cell_type": "code",
      "metadata": {
        "colab": {
          "base_uri": "https://localhost:8080/"
        },
        "id": "LeLfqDx-5AuZ",
        "outputId": "84182cb5-1dc4-4bd4-e0de-da3e27b9e5cc"
      },
      "source": [
        "import nltk\n",
        "nltk.download(\"punkt\")\n",
        "from tensorflow.keras.preprocessing.text import Tokenizer\n",
        "\n",
        "# The maximum number of words to be used. (most frequent)\n",
        "MAX_NB_WORDS = 50000\n",
        "# Max number of words in each complaint.\n",
        "MAX_SEQUENCE_LENGTH = 250\n",
        "# This is fixed.\n",
        "EMBEDDING_DIM = 100\n",
        "tokenizer = Tokenizer(num_words=MAX_NB_WORDS, filters='!\"#$%&()*+,-./:;<=>?@[\\]^_`{|}~', lower=True)\n",
        "tokenizer.fit_on_texts(df['clean_text'].values)\n",
        "word_index = tokenizer.word_index\n",
        "print('Found %s unique tokens.' % len(word_index))"
      ],
      "execution_count": null,
      "outputs": [
        {
          "name": "stdout",
          "output_type": "stream",
          "text": [
            "[nltk_data] Downloading package punkt to /root/nltk_data...\n",
            "[nltk_data]   Package punkt is already up-to-date!\n",
            "Found 26402 unique tokens.\n"
          ]
        }
      ]
    },
    {
      "cell_type": "code",
      "metadata": {
        "colab": {
          "base_uri": "https://localhost:8080/"
        },
        "id": "g8GAKgMYzj8A",
        "outputId": "f81ee5c5-dc59-43d1-d2c7-6a6cf26c278c"
      },
      "source": [
        "from keras.preprocessing.sequence import pad_sequences\n",
        "\n",
        "X = tokenizer.texts_to_sequences(df['clean_text'].values)\n",
        "X = pad_sequences(X, maxlen=MAX_SEQUENCE_LENGTH)\n",
        "print('Shape of data tensor:', X.shape)"
      ],
      "execution_count": null,
      "outputs": [
        {
          "name": "stdout",
          "output_type": "stream",
          "text": [
            "Shape of data tensor: (39901, 250)\n"
          ]
        }
      ]
    },
    {
      "cell_type": "code",
      "metadata": {
        "colab": {
          "base_uri": "https://localhost:8080/"
        },
        "id": "8CrjCwPR20KM",
        "outputId": "2e4bc028-cd3e-4087-eb03-4c5ba05c5a22"
      },
      "source": [
        "Y = pd.get_dummies(df['sentiment']).values\n",
        "print('Shape of label tensor:', Y.shape)"
      ],
      "execution_count": null,
      "outputs": [
        {
          "name": "stdout",
          "output_type": "stream",
          "text": [
            "Shape of label tensor: (39901, 13)\n"
          ]
        }
      ]
    },
    {
      "cell_type": "code",
      "metadata": {
        "colab": {
          "base_uri": "https://localhost:8080/"
        },
        "id": "QLYiSTXw3Ew3",
        "outputId": "d6200936-6a27-4e48-e263-444cbc4fedf7"
      },
      "source": [
        "X_train, X_test, Y_train, Y_test = train_test_split(X,Y, test_size = 0.10, random_state = 42)\n",
        "print(X_train.shape,Y_train.shape)\n",
        "print(X_test.shape,Y_test.shape)"
      ],
      "execution_count": null,
      "outputs": [
        {
          "name": "stdout",
          "output_type": "stream",
          "text": [
            "(35910, 250) (35910, 13)\n",
            "(3991, 250) (3991, 13)\n"
          ]
        }
      ]
    },
    {
      "cell_type": "code",
      "metadata": {
        "colab": {
          "base_uri": "https://localhost:8080/"
        },
        "id": "jxk2MZyt693G",
        "outputId": "d9191550-9276-4259-a2a3-3d269884fed4"
      },
      "source": [
        "from keras.models import Sequential\n",
        "from keras.layers import Embedding, SpatialDropout1D, LSTM, Dense\n",
        "from keras.callbacks import ModelCheckpoint, EarlyStopping\n",
        "\n",
        "model = Sequential()\n",
        "model.add(Embedding(MAX_NB_WORDS, EMBEDDING_DIM, input_length=X.shape[1]))\n",
        "model.add(SpatialDropout1D(0.2))\n",
        "model.add(LSTM(100, dropout=0.2, recurrent_dropout=0.2))\n",
        "model.add(Dense(13, activation='softmax'))\n",
        "model.compile(loss='categorical_crossentropy', optimizer='adam', metrics=['accuracy'])\n",
        "\n",
        "epochs = 1\n",
        "batch_size = 6\n",
        "\n",
        "history = model.fit(X_train, Y_train,\n",
        "                    epochs=epochs, \n",
        "                    batch_size=batch_size,\n",
        "                    validation_split=0.1,\n",
        "                    callbacks=[EarlyStopping(monitor='val_loss', \n",
        "                                             patience=3, \n",
        "                                             min_delta=0.0001)])\n"
      ],
      "execution_count": null,
      "outputs": [
        {
          "name": "stdout",
          "output_type": "stream",
          "text": [
            "5387/5387 [==============================] - 2381s 441ms/step - loss: 1.9692 - accuracy: 0.3221 - val_loss: 1.8810 - val_accuracy: 0.3590\n"
          ]
        }
      ]
    },
    {
      "cell_type": "code",
      "metadata": {
        "colab": {
          "base_uri": "https://localhost:8080/"
        },
        "id": "Smgk-OcU-VJ8",
        "outputId": "6ecf8c5e-a568-4afd-a6c0-a4b56c3ee9fd"
      },
      "source": [
        "accr = model.evaluate(X_test,Y_test)\n",
        "print('Test set\\n  Loss: {:0.3f}\\n  Accuracy: {:0.3f}'.format(accr[0],accr[1]))"
      ],
      "execution_count": null,
      "outputs": [
        {
          "name": "stdout",
          "output_type": "stream",
          "text": [
            "125/125 [==============================] - 8s 68ms/step - loss: 1.8809 - accuracy: 0.3523\n",
            "Test set\n",
            "  Loss: 1.881\n",
            "  Accuracy: 0.352\n"
          ]
        }
      ]
    },
    {
      "cell_type": "code",
      "metadata": {
        "colab": {
          "base_uri": "https://localhost:8080/"
        },
        "id": "M0gUd8EO_Cul",
        "outputId": "9c3d41ee-a709-4c43-fd9e-98b876a86e55"
      },
      "source": [
        "from sklearn.metrics import classification_report\n",
        "\n",
        "\n",
        "y_pred = model.predict(X_test, batch_size=6, verbose=1)\n",
        "y_pred_bool = np.argmax(y_pred, axis=1)\n",
        "\n",
        "print(classification_report(Y_test, y_pred_bool))"
      ],
      "execution_count": null,
      "outputs": [
        {
          "name": "stdout",
          "output_type": "stream",
          "text": [
            "666/666 [==============================] - 25s 38ms/step\n",
            "              precision    recall  f1-score   support\n",
            "\n",
            "           0       0.00      0.00      0.00         6\n",
            "           1       0.00      0.00      0.00        17\n",
            "           2       0.00      0.00      0.00        94\n",
            "           3       0.00      0.00      0.00        71\n",
            "           4       0.00      0.00      0.00       169\n",
            "           5       0.31      0.52      0.39       484\n",
            "           6       0.54      0.05      0.10       132\n",
            "           7       0.57      0.33      0.42       415\n",
            "           8       0.37      0.54      0.44       852\n",
            "           9       0.00      0.00      0.00       169\n",
            "          10       0.32      0.32      0.32       495\n",
            "          11       0.00      0.00      0.00       249\n",
            "          12       0.33      0.47      0.38       838\n",
            "\n",
            "    accuracy                           0.35      3991\n",
            "   macro avg       0.19      0.17      0.16      3991\n",
            "weighted avg       0.30      0.35      0.31      3991\n",
            "\n"
          ]
        },
        {
          "name": "stderr",
          "output_type": "stream",
          "text": [
            "/usr/local/lib/python3.7/dist-packages/sklearn/metrics/_classification.py:1221: UndefinedMetricWarning: Precision and F-score are ill-defined and being set to 0.0 in labels with no predicted samples. Use `zero_division` parameter to control this behavior.\n",
            "  _warn_prf(average, modifier, msg_start, len(result))\n"
          ]
        }
      ]
    },
    {
      "cell_type": "code",
      "metadata": {
        "colab": {
          "base_uri": "https://localhost:8080/",
          "height": 281
        },
        "id": "ccbQXVnN_P9e",
        "outputId": "84cf6320-4e84-43de-e4ec-ff0c604990f6"
      },
      "source": [
        "plt.title('Loss')\n",
        "plt.plot(history.history['loss'], label='train')\n",
        "plt.plot(history.history['val_loss'], label='test')\n",
        "plt.legend()\n",
        "plt.show();"
      ],
      "execution_count": null,
      "outputs": [
        {
          "data": {
            "image/png": "[encoded data removed]",
            "text/plain": [
              "<Figure size 432x288 with 1 Axes>"
            ]
          },
          "metadata": {},
          "output_type": "display_data"
        }
      ]
    },
    {
      "cell_type": "code",
      "metadata": {
        "colab": {
          "base_uri": "https://localhost:8080/",
          "height": 500
        },
        "id": "LUGmfC8j_VNY",
        "outputId": "3c68d1c0-4d10-4361-bc2c-032304611fcf"
      },
      "source": [
        "plt.title('Accuracy')\n",
        "plt.plot(history.history['acc'], label='train')\n",
        "plt.plot(history.history['val_acc'], label='test')\n",
        "plt.legend()\n",
        "plt.show();"
      ],
      "execution_count": null,
      "outputs": [
        {
          "ename": "KeyError",
          "evalue": "ignored",
          "output_type": "error",
          "traceback": [
            "\u001b[0;31m---------------------------------------------------------------------------\u001b[0m",
            "\u001b[0;31mKeyError\u001b[0m                                  Traceback (most recent call last)",
            "\u001b[0;32m<ipython-input-85-652c9934bc45>\u001b[0m in \u001b[0;36m<module>\u001b[0;34m()\u001b[0m\n\u001b[1;32m      1\u001b[0m \u001b[0mplt\u001b[0m\u001b[0;34m.\u001b[0m\u001b[0mtitle\u001b[0m\u001b[0;34m(\u001b[0m\u001b[0;34m'Accuracy'\u001b[0m\u001b[0;34m)\u001b[0m\u001b[0;34m\u001b[0m\u001b[0;34m\u001b[0m\u001b[0m\n\u001b[0;32m----> 2\u001b[0;31m \u001b[0mplt\u001b[0m\u001b[0;34m.\u001b[0m\u001b[0mplot\u001b[0m\u001b[0;34m(\u001b[0m\u001b[0mhistory\u001b[0m\u001b[0;34m.\u001b[0m\u001b[0mhistory\u001b[0m\u001b[0;34m[\u001b[0m\u001b[0;34m'acc'\u001b[0m\u001b[0;34m]\u001b[0m\u001b[0;34m,\u001b[0m \u001b[0mlabel\u001b[0m\u001b[0;34m=\u001b[0m\u001b[0;34m'train'\u001b[0m\u001b[0;34m)\u001b[0m\u001b[0;34m\u001b[0m\u001b[0;34m\u001b[0m\u001b[0m\n\u001b[0m\u001b[1;32m      3\u001b[0m \u001b[0mplt\u001b[0m\u001b[0;34m.\u001b[0m\u001b[0mplot\u001b[0m\u001b[0;34m(\u001b[0m\u001b[0mhistory\u001b[0m\u001b[0;34m.\u001b[0m\u001b[0mhistory\u001b[0m\u001b[0;34m[\u001b[0m\u001b[0;34m'val_acc'\u001b[0m\u001b[0;34m]\u001b[0m\u001b[0;34m,\u001b[0m \u001b[0mlabel\u001b[0m\u001b[0;34m=\u001b[0m\u001b[0;34m'test'\u001b[0m\u001b[0;34m)\u001b[0m\u001b[0;34m\u001b[0m\u001b[0;34m\u001b[0m\u001b[0m\n\u001b[1;32m      4\u001b[0m \u001b[0mplt\u001b[0m\u001b[0;34m.\u001b[0m\u001b[0mlegend\u001b[0m\u001b[0;34m(\u001b[0m\u001b[0;34m)\u001b[0m\u001b[0;34m\u001b[0m\u001b[0;34m\u001b[0m\u001b[0m\n\u001b[1;32m      5\u001b[0m \u001b[0mplt\u001b[0m\u001b[0;34m.\u001b[0m\u001b[0mshow\u001b[0m\u001b[0;34m(\u001b[0m\u001b[0;34m)\u001b[0m\u001b[0;34m;\u001b[0m\u001b[0;34m\u001b[0m\u001b[0;34m\u001b[0m\u001b[0m\n",
            "\u001b[0;31mKeyError\u001b[0m: 'acc'"
          ]
        },
        {
          "data": {
            "image/png": "[encoded data removed]",
            "text/plain": [
              "<Figure size 432x288 with 1 Axes>"
            ]
          },
          "metadata": {},
          "output_type": "display_data"
        }
      ]
    },
    {
      "cell_type": "code",
      "metadata": {
        "colab": {
          "base_uri": "https://localhost:8080/"
        },
        "id": "4nuL7SXK_W7C",
        "outputId": "b4ef99f0-f14e-4acd-e8d7-f82d4556c775"
      },
      "source": [
        "new_complaint = ['I hate appearing for job interviews']\n",
        "seq = tokenizer.texts_to_sequences(new_complaint)\n",
        "padded = pad_sequences(seq, maxlen=MAX_SEQUENCE_LENGTH)\n",
        "pred = model.predict(padded)\n",
        "labels = class_names\n",
        "print(pred, labels[np.argmax(pred)])"
      ],
      "execution_count": null,
      "outputs": [
        {
          "name": "stdout",
          "output_type": "stream",
          "text": [
            "[[0.00254813 0.00900733 0.01146099 0.00243534 0.00220467 0.00499277\n",
            "  0.33564758 0.00898251 0.03467663 0.00616684 0.40779948 0.02253708\n",
            "  0.15154065]] enthusiasm\n"
          ]
        }
      ]
    },
    {
      "cell_type": "code",
      "metadata": {
        "id": "7VdpTnwa_erF"
      },
      "source": [
        ""
      ],
      "execution_count": null,
      "outputs": []
    },
    {
      "cell_type": "markdown",
      "metadata": {
        "id": "TOVzG5anpIdQ"
      },
      "source": [
        "# Fast text"
      ]
    },
    {
      "cell_type": "code",
      "metadata": {
        "colab": {
          "base_uri": "https://localhost:8080/"
        },
        "id": "ifdPrxfjpGmE",
        "outputId": "0d74594b-1ff4-4471-ccd8-5e457389b0e8"
      },
      "source": [
        "X_train = train.clean_text.tolist()\n",
        "X_test = test.clean_text.tolist()\n",
        "\n",
        "y_train = train.sentiment.tolist()\n",
        "y_test = test.sentiment.tolist()\n",
        "\n",
        "data = train.append(test, ignore_index=True)\n",
        "\n",
        "class_names=['neutral',\n",
        "'worry',       \n",
        "'happiness',    \n",
        "'sadness',\n",
        "'love', \n",
        "'surprise',\n",
        "'fun', \n",
        "'relief',\n",
        "'hate',  \n",
        "'empty',\n",
        "'enthusiasm', \n",
        "'boredom', \n",
        "'anger']\n",
        "\n",
        "encoding = {\n",
        "'neutral':0,\n",
        "'worry':1,       \n",
        "'happiness':2,    \n",
        "'sadness':3,\n",
        "'love':4, \n",
        "'surprise':5,\n",
        "'fun':6, \n",
        "'relief':7,\n",
        "'hate':8,  \n",
        "'empty':9,\n",
        "'enthusiasm':10, \n",
        "'boredom':11, \n",
        "'anger':12\n",
        "}\n",
        "\n",
        "# Integer values for each class\n",
        "y_train = [encoding[x] for x in y_train]\n",
        "y_test = [encoding[x] for x in y_test]\n",
        "\n",
        "import ktrain\n",
        "from ktrain import text\n",
        "\n",
        "(x_train,  y_train), (x_test, y_test), preproc = text.texts_from_array(x_train=X_train, y_train=y_train,\n",
        "                                                                       x_test=X_test, y_test=y_test,\n",
        "                                                                       class_names=class_names,\n",
        "                                                                       lang='en',\n",
        "                                                                       maxlen=350, \n",
        "                                                                       max_features=35000)"
      ],
      "execution_count": null,
      "outputs": [
        {
          "output_type": "stream",
          "name": "stdout",
          "text": [
            "language: en\n",
            "Word Counts: 22991\n",
            "Nrows: 31920\n",
            "31920 train sequences\n",
            "train sequence lengths:\n",
            "\tmean : 12\n",
            "\t95percentile : 24\n",
            "\t99percentile : 27\n",
            "x_train shape: (31920,350)\n",
            "y_train shape: (31920, 13)\n",
            "Is Multi-Label? False\n",
            "7981 test sequences\n",
            "test sequence lengths:\n",
            "\tmean : 12\n",
            "\t95percentile : 24\n",
            "\t99percentile : 27\n",
            "x_test shape: (7981,350)\n",
            "y_test shape: (7981, 13)\n",
            "task: text classification\n"
          ]
        }
      ]
    },
    {
      "cell_type": "code",
      "metadata": {
        "colab": {
          "base_uri": "https://localhost:8080/"
        },
        "id": "bZvFBMR3pN6O",
        "outputId": "31bb7de1-7d09-4f75-9e67-aa2a181e0e63"
      },
      "source": [
        "# define model a fastText-like architecture using ktrain\n",
        "model = text.text_classifier('fasttext', train_data=(x_train, y_train), preproc=preproc)"
      ],
      "execution_count": null,
      "outputs": [
        {
          "output_type": "stream",
          "name": "stdout",
          "text": [
            "Is Multi-Label? False\n",
            "compiling word ID features...\n",
            "maxlen is 350\n",
            "done.\n"
          ]
        }
      ]
    },
    {
      "cell_type": "code",
      "metadata": {
        "id": "YItfTcE0pdkL"
      },
      "source": [
        "# wrap model and data in Learner object\n",
        "learner = ktrain.get_learner(model, train_data=(x_train, y_train), \n",
        "                             val_data=(x_test, y_test),\n",
        "                             batch_size=6)"
      ],
      "execution_count": null,
      "outputs": []
    },
    {
      "cell_type": "code",
      "metadata": {
        "colab": {
          "base_uri": "https://localhost:8080/",
          "height": 404
        },
        "id": "CaRYYEbEpe-A",
        "outputId": "837b068a-1325-47c7-afc8-f01c153f1b73"
      },
      "source": [
        "learner.lr_find(show_plot=True)"
      ],
      "execution_count": null,
      "outputs": [
        {
          "name": "stdout",
          "output_type": "stream",
          "text": [
            "simulating training for different learning rates... this may take a few moments...\n",
            "Epoch 1/1024\n",
            "5320/5320 [==============================] - 56s 10ms/step - loss: 2.7956 - accuracy: 0.1414\n",
            "\n",
            "\n",
            "done.\n",
            "Visually inspect loss plot and select learning rate associated with falling loss\n"
          ]
        },
        {
          "data": {
            "image/png": "[encoded data removed]",
            "text/plain": [
              "<Figure size 432x288 with 1 Axes>"
            ]
          },
          "metadata": {},
          "output_type": "display_data"
        }
      ]
    },
    {
      "cell_type": "code",
      "metadata": {
        "colab": {
          "base_uri": "https://localhost:8080/"
        },
        "id": "UBJp8zMitXfh",
        "outputId": "debca68c-9a8e-4f71-f735-d6c275294c12"
      },
      "source": [
        "#learner.fit_onecycle(2e-5, 5)\n",
        "# learner.autofit(7e-3,monitor='val_accuracy') #0.35\n",
        "learner.autofit(7e-3,monitor='val_accuracy')"
      ],
      "execution_count": null,
      "outputs": [
        {
          "output_type": "stream",
          "name": "stdout",
          "text": [
            "early_stopping automatically enabled at patience=5\n",
            "reduce_on_plateau automatically enabled at patience=2\n",
            "\n",
            "\n",
            "begin training using triangular learning rate policy with max lr of 0.007...\n",
            "Epoch 1/1024\n",
            "5320/5320 [==============================] - 174s 33ms/step - loss: 2.1601 - accuracy: 0.2448 - val_loss: 1.9951 - val_accuracy: 0.3155\n",
            "Epoch 2/1024\n",
            "5320/5320 [==============================] - 176s 33ms/step - loss: 2.0534 - accuracy: 0.2827 - val_loss: 1.9772 - val_accuracy: 0.3231\n",
            "Epoch 3/1024\n",
            "5320/5320 [==============================] - 168s 32ms/step - loss: 2.0277 - accuracy: 0.2946 - val_loss: 1.9571 - val_accuracy: 0.3328\n",
            "Epoch 4/1024\n",
            "5320/5320 [==============================] - 170s 32ms/step - loss: 2.0072 - accuracy: 0.3008 - val_loss: 1.9473 - val_accuracy: 0.3350\n",
            "Epoch 5/1024\n",
            "5320/5320 [==============================] - 167s 31ms/step - loss: 1.9951 - accuracy: 0.3090 - val_loss: 1.9456 - val_accuracy: 0.3458\n",
            "Epoch 6/1024\n",
            "5320/5320 [==============================] - 171s 32ms/step - loss: 1.9808 - accuracy: 0.3123 - val_loss: 1.9418 - val_accuracy: 0.3368\n",
            "Epoch 7/1024\n",
            "5319/5320 [============================>.] - ETA: 0s - loss: 1.9681 - accuracy: 0.3201\n",
            "Epoch 00007: Reducing Max LR on Plateau: new max lr will be 0.0035 (if not early_stopping).\n",
            "5320/5320 [==============================] - 166s 31ms/step - loss: 1.9681 - accuracy: 0.3202 - val_loss: 1.9432 - val_accuracy: 0.3447\n",
            "Epoch 8/1024\n",
            "5320/5320 [==============================] - 163s 31ms/step - loss: 1.9259 - accuracy: 0.3367 - val_loss: 1.9362 - val_accuracy: 0.3492\n",
            "Epoch 9/1024\n",
            "5320/5320 [==============================] - 170s 32ms/step - loss: 1.9151 - accuracy: 0.3436 - val_loss: 1.9367 - val_accuracy: 0.3463\n",
            "Epoch 10/1024\n",
            "5320/5320 [==============================] - 167s 31ms/step - loss: 1.9034 - accuracy: 0.3467 - val_loss: 1.9369 - val_accuracy: 0.3503\n",
            "Epoch 11/1024\n",
            "5320/5320 [==============================] - 177s 33ms/step - loss: 1.8882 - accuracy: 0.3516 - val_loss: 1.9522 - val_accuracy: 0.3475\n",
            "Epoch 12/1024\n",
            "5319/5320 [============================>.] - ETA: 0s - loss: 1.8748 - accuracy: 0.3566\n",
            "Epoch 00012: Reducing Max LR on Plateau: new max lr will be 0.00175 (if not early_stopping).\n",
            "5320/5320 [==============================] - 170s 32ms/step - loss: 1.8746 - accuracy: 0.3567 - val_loss: 1.9544 - val_accuracy: 0.3492\n",
            "Epoch 13/1024\n",
            "5320/5320 [==============================] - 173s 33ms/step - loss: 1.8494 - accuracy: 0.3690 - val_loss: 1.9594 - val_accuracy: 0.3488\n",
            "Epoch 14/1024\n",
            "5320/5320 [==============================] - ETA: 0s - loss: 1.8359 - accuracy: 0.3746\n",
            "Epoch 00014: Reducing Max LR on Plateau: new max lr will be 0.000875 (if not early_stopping).\n",
            "5320/5320 [==============================] - 165s 31ms/step - loss: 1.8359 - accuracy: 0.3746 - val_loss: 1.9663 - val_accuracy: 0.3493\n",
            "Epoch 15/1024\n",
            "5320/5320 [==============================] - ETA: 0s - loss: 1.8180 - accuracy: 0.3833Restoring model weights from the end of the best epoch: 10.\n",
            "5320/5320 [==============================] - 171s 32ms/step - loss: 1.8180 - accuracy: 0.3833 - val_loss: 1.9644 - val_accuracy: 0.3468\n",
            "Epoch 00015: early stopping\n",
            "Weights from best epoch have been loaded into model.\n"
          ]
        },
        {
          "output_type": "execute_result",
          "data": {
            "text/plain": [
              "<keras.callbacks.History at 0x7f3f05517950>"
            ]
          },
          "metadata": {},
          "execution_count": 72
        }
      ]
    },
    {
      "cell_type": "code",
      "metadata": {
        "colab": {
          "base_uri": "https://localhost:8080/"
        },
        "id": "BKOGBfotphYu",
        "outputId": "e775255c-1b9f-4922-c256-c4aa7778686c"
      },
      "source": [
        "learner.validate(val_data=(x_test, y_test), class_names=class_names)"
      ],
      "execution_count": null,
      "outputs": [
        {
          "output_type": "stream",
          "name": "stdout",
          "text": [
            "              precision    recall  f1-score   support\n",
            "\n",
            "     neutral       0.38      0.48      0.42      1713\n",
            "       worry       0.31      0.68      0.42      1691\n",
            "   happiness       0.36      0.48      0.41      1042\n",
            "     sadness       0.48      0.04      0.08      1033\n",
            "        love       0.54      0.32      0.40       768\n",
            "    surprise       0.00      0.00      0.00       437\n",
            "         fun       0.00      0.00      0.00       355\n",
            "      relief       0.00      0.00      0.00       305\n",
            "        hate       0.45      0.13      0.20       265\n",
            "       empty       0.00      0.00      0.00       162\n",
            "  enthusiasm       0.00      0.00      0.00       152\n",
            "     boredom       0.00      0.00      0.00        36\n",
            "       anger       0.00      0.00      0.00        22\n",
            "\n",
            "    accuracy                           0.35      7981\n",
            "   macro avg       0.19      0.16      0.15      7981\n",
            "weighted avg       0.32      0.35      0.29      7981\n",
            "\n"
          ]
        },
        {
          "output_type": "stream",
          "name": "stderr",
          "text": [
            "/usr/local/lib/python3.7/dist-packages/sklearn/metrics/_classification.py:1221: UndefinedMetricWarning: Precision and F-score are ill-defined and being set to 0.0 in labels with no predicted samples. Use `zero_division` parameter to control this behavior.\n",
            "  _warn_prf(average, modifier, msg_start, len(result))\n"
          ]
        },
        {
          "output_type": "execute_result",
          "data": {
            "text/plain": [
              "array([[ 822,  637,  206,    4,   39,    0,    0,    0,    5,    0,    0,\n",
              "           0,    0],\n",
              "       [ 362, 1156,  100,   30,   27,    0,    0,    0,   16,    0,    0,\n",
              "           0,    0],\n",
              "       [ 236,  244,  497,    0,   65,    0,    0,    0,    0,    0,    0,\n",
              "           0,    0],\n",
              "       [ 159,  752,   42,   44,   21,    0,    0,    0,   15,    0,    0,\n",
              "           0,    0],\n",
              "       [ 131,  159,  227,    6,  242,    0,    0,    0,    3,    0,    0,\n",
              "           0,    0],\n",
              "       [ 124,  230,   67,    1,   13,    0,    0,    0,    2,    0,    0,\n",
              "           0,    0],\n",
              "       [ 100,  123,  112,    0,   20,    0,    0,    0,    0,    0,    0,\n",
              "           0,    0],\n",
              "       [  96,  114,   83,    0,   12,    0,    0,    0,    0,    0,    0,\n",
              "           0,    0],\n",
              "       [  35,  184,    4,    7,    0,    0,    0,    0,   35,    0,    0,\n",
              "           0,    0],\n",
              "       [  59,   86,   13,    0,    3,    0,    0,    0,    1,    0,    0,\n",
              "           0,    0],\n",
              "       [  51,   60,   36,    0,    5,    0,    0,    0,    0,    0,    0,\n",
              "           0,    0],\n",
              "       [   8,   26,    0,    0,    1,    0,    0,    0,    1,    0,    0,\n",
              "           0,    0],\n",
              "       [   5,   17,    0,    0,    0,    0,    0,    0,    0,    0,    0,\n",
              "           0,    0]])"
            ]
          },
          "metadata": {},
          "execution_count": 73
        }
      ]
    },
    {
      "cell_type": "code",
      "metadata": {
        "colab": {
          "base_uri": "https://localhost:8080/",
          "height": 294
        },
        "id": "p7TRVdLspjDM",
        "outputId": "ba0b34fa-87c1-4d72-d8b7-c4cf862f73ec"
      },
      "source": [
        "learner.plot()"
      ],
      "execution_count": null,
      "outputs": [
        {
          "output_type": "display_data",
          "data": {
            "image/png": "[encoded data removed]",
            "text/plain": [
              "<Figure size 432x288 with 1 Axes>"
            ]
          },
          "metadata": {
            "needs_background": "light"
          }
        }
      ]
    },
    {
      "cell_type": "markdown",
      "metadata": {
        "id": "vDFGibaLpmkU"
      },
      "source": [
        "#NBSVM"
      ]
    },
    {
      "cell_type": "code",
      "metadata": {
        "colab": {
          "base_uri": "https://localhost:8080/"
        },
        "id": "hb19LpxZpk1p",
        "outputId": "79dd6fc1-35d6-4959-b8ab-38abe7a88d31"
      },
      "source": [
        "import ktrain\n",
        "from ktrain import text\n",
        "\n",
        "(x_train,  y_train), (x_test, y_test), preproc = text.texts_from_array(x_train=X_train, y_train=y_train,\n",
        "                                                                       x_test=X_test, y_test=y_test,\n",
        "                                                                       class_names=class_names,\n",
        "                                                                       preprocess_mode='standard',\n",
        "                                                                       lang='en',\n",
        "                                                                       maxlen=350, \n",
        "                                                                       val_pct=0.1,\n",
        "                                                                       ngram_range=3,\n",
        "                                                                       max_features=35000)"
      ],
      "execution_count": 29,
      "outputs": [
        {
          "output_type": "stream",
          "name": "stdout",
          "text": [
            "language: en\n",
            "Word Counts: 22991\n",
            "Nrows: 31920\n",
            "31920 train sequences\n",
            "train sequence lengths:\n",
            "\tmean : 12\n",
            "\t95percentile : 24\n",
            "\t99percentile : 27\n",
            "Adding 3-gram features\n",
            "max_features changed to 436768 with addition of ngrams\n",
            "Average train sequence length with ngrams: 34\n",
            "train (w/ngrams) sequence lengths:\n",
            "\tmean : 34\n",
            "\t95percentile : 69\n",
            "\t99percentile : 78\n",
            "x_train shape: (31920,350)\n",
            "y_train shape: (31920, 13)\n",
            "Is Multi-Label? False\n",
            "7981 test sequences\n",
            "test sequence lengths:\n",
            "\tmean : 12\n",
            "\t95percentile : 24\n",
            "\t99percentile : 27\n",
            "Average test sequence length with ngrams: 23\n",
            "test (w/ngrams) sequence lengths:\n",
            "\tmean : 23\n",
            "\t95percentile : 50\n",
            "\t99percentile : 59\n",
            "x_test shape: (7981,350)\n",
            "y_test shape: (7981, 13)\n",
            "task: text classification\n"
          ]
        }
      ]
    },
    {
      "cell_type": "code",
      "metadata": {
        "colab": {
          "base_uri": "https://localhost:8080/"
        },
        "id": "qUKAz-37qDmw",
        "outputId": "63df11ff-77e0-4a08-dd28-3dc8a44e29f3"
      },
      "source": [
        "# define model a fastText-like architecture using ktrain\n",
        "model = text.text_classifier('nbsvm', train_data=(x_train, y_train) , preproc=preproc)\n",
        "\n",
        "learner = ktrain.get_learner(model, train_data=(x_train, y_train), \n",
        "                             val_data=(x_test, y_test),\n",
        "                             batch_size=6)"
      ],
      "execution_count": 30,
      "outputs": [
        {
          "output_type": "stream",
          "name": "stdout",
          "text": [
            "Is Multi-Label? False\n",
            "compiling word ID features...\n",
            "maxlen is 350\n",
            "building document-term matrix... this may take a few moments...\n",
            "rows: 1-10000\n",
            "rows: 10001-20000\n",
            "rows: 20001-30000\n",
            "rows: 30001-31920\n",
            "computing log-count ratios...\n",
            "done.\n"
          ]
        }
      ]
    },
    {
      "cell_type": "code",
      "metadata": {
        "colab": {
          "base_uri": "https://localhost:8080/",
          "height": 404
        },
        "id": "ECk8ilZ6qIGJ",
        "outputId": "5caa85ae-3f17-4ea6-8552-373cdcfcb738"
      },
      "source": [
        "learner.lr_find(show_plot=True)"
      ],
      "execution_count": 31,
      "outputs": [
        {
          "output_type": "stream",
          "name": "stdout",
          "text": [
            "simulating training for different learning rates... this may take a few moments...\n",
            "Epoch 1/1024\n",
            "5320/5320 [==============================] - 14s 3ms/step - loss: 13.7551 - accuracy: 0.1120\n",
            "\n",
            "\n",
            "done.\n",
            "Visually inspect loss plot and select learning rate associated with falling loss\n"
          ]
        },
        {
          "output_type": "display_data",
          "data": {
            "image/png": "[encoded data removed]",
            "text/plain": [
              "<Figure size 432x288 with 1 Axes>"
            ]
          },
          "metadata": {
            "needs_background": "light"
          }
        }
      ]
    },
    {
      "cell_type": "code",
      "metadata": {
        "colab": {
          "base_uri": "https://localhost:8080/"
        },
        "id": "YI4kS6l7qJhw",
        "outputId": "e6764b9c-b204-41ee-958e-378e1bcd707f"
      },
      "source": [
        "learner.autofit(3e-1, monitor='val_accuracy')"
      ],
      "execution_count": 46,
      "outputs": [
        {
          "output_type": "stream",
          "name": "stdout",
          "text": [
            "early_stopping automatically enabled at patience=5\n",
            "reduce_on_plateau automatically enabled at patience=2\n",
            "\n",
            "\n",
            "begin training using triangular learning rate policy with max lr of 0.3...\n",
            "Epoch 1/1024\n",
            "5320/5320 [==============================] - 42s 8ms/step - loss: 361.9616 - accuracy: 0.5565 - val_loss: 857.5176 - val_accuracy: 0.1951\n",
            "Epoch 2/1024\n",
            "5320/5320 [==============================] - 41s 8ms/step - loss: 322.1336 - accuracy: 0.5754 - val_loss: 853.4880 - val_accuracy: 0.1930\n",
            "Epoch 3/1024\n",
            "5320/5320 [==============================] - ETA: 0s - loss: 286.6204 - accuracy: 0.5912\n",
            "Epoch 00003: Reducing Max LR on Plateau: new max lr will be 0.15 (if not early_stopping).\n",
            "5320/5320 [==============================] - 41s 8ms/step - loss: 286.6204 - accuracy: 0.5912 - val_loss: 846.8199 - val_accuracy: 0.1907\n",
            "Epoch 4/1024\n",
            "5320/5320 [==============================] - 42s 8ms/step - loss: 254.6545 - accuracy: 0.6093 - val_loss: 844.3721 - val_accuracy: 0.1905\n",
            "Epoch 5/1024\n",
            "5319/5320 [============================>.] - ETA: 0s - loss: 239.0501 - accuracy: 0.6176\n",
            "Epoch 00005: Reducing Max LR on Plateau: new max lr will be 0.075 (if not early_stopping).\n",
            "5320/5320 [==============================] - 43s 8ms/step - loss: 239.0325 - accuracy: 0.6176 - val_loss: 841.8013 - val_accuracy: 0.1892\n",
            "Epoch 6/1024\n",
            "5320/5320 [==============================] - ETA: 0s - loss: 223.7273 - accuracy: 0.6290Restoring model weights from the end of the best epoch: 1.\n",
            "5320/5320 [==============================] - 42s 8ms/step - loss: 223.7273 - accuracy: 0.6290 - val_loss: 840.2615 - val_accuracy: 0.1894\n",
            "Epoch 00006: early stopping\n",
            "Weights from best epoch have been loaded into model.\n"
          ]
        },
        {
          "output_type": "execute_result",
          "data": {
            "text/plain": [
              "<keras.callbacks.History at 0x7f47dc40eb10>"
            ]
          },
          "metadata": {},
          "execution_count": 46
        }
      ]
    },
    {
      "cell_type": "code",
      "metadata": {
        "colab": {
          "base_uri": "https://localhost:8080/"
        },
        "id": "LYhyxoIQqK26",
        "outputId": "9734044e-0c54-4378-91a1-cb59f2ff6ad9"
      },
      "source": [
        "learner.validate(val_data=(x_test, y_test), class_names=class_names)"
      ],
      "execution_count": 47,
      "outputs": [
        {
          "output_type": "stream",
          "name": "stdout",
          "text": [
            "              precision    recall  f1-score   support\n",
            "\n",
            "     neutral       0.25      0.20      0.22      1713\n",
            "       worry       0.29      0.25      0.27      1691\n",
            "   happiness       0.19      0.18      0.18      1042\n",
            "     sadness       0.22      0.22      0.22      1033\n",
            "        love       0.18      0.33      0.24       768\n",
            "    surprise       0.10      0.07      0.08       437\n",
            "         fun       0.09      0.06      0.07       355\n",
            "      relief       0.08      0.08      0.08       305\n",
            "        hate       0.14      0.14      0.14       265\n",
            "       empty       0.01      0.01      0.01       162\n",
            "  enthusiasm       0.05      0.05      0.05       152\n",
            "     boredom       0.00      0.00      0.00        36\n",
            "       anger       0.00      0.00      0.00        22\n",
            "\n",
            "    accuracy                           0.20      7981\n",
            "   macro avg       0.12      0.12      0.12      7981\n",
            "weighted avg       0.20      0.20      0.20      7981\n",
            "\n"
          ]
        },
        {
          "output_type": "execute_result",
          "data": {
            "text/plain": [
              "array([[339, 303, 206, 212, 267,  66,  49,  71,  58,  41,  24,  28,  49],\n",
              "       [260, 420, 172, 273, 226,  67,  40,  47,  61,  29,  27,  30,  39],\n",
              "       [183, 138, 188,  97, 212,  40,  37,  48,  19,  17,  24,   9,  30],\n",
              "       [141, 226,  99, 230, 132,  43,  29,  24,  37,  18,  14,  16,  24],\n",
              "       [121,  82, 122,  64, 257,  23,  20,  29,  13,   7,   6,   7,  17],\n",
              "       [ 87,  72,  45,  49,  71,  31,  14,  16,  11,   9,  14,  10,   8],\n",
              "       [ 69,  45,  57,  32,  64,  13,  22,  10,  12,   5,  13,   6,   7],\n",
              "       [ 52,  45,  42,  30,  64,  11,   9,  24,   7,   5,   7,   4,   5],\n",
              "       [ 49,  37,  28,  30,  34,   6,   9,   8,  37,   9,   4,   7,   7],\n",
              "       [ 32,  23,  17,  26,  35,   5,   4,   6,   4,   2,   2,   5,   1],\n",
              "       [ 25,  24,  20,  13,  25,   6,  11,   6,   4,   5,   7,   4,   2],\n",
              "       [  5,   9,   4,   5,   5,   4,   2,   0,   0,   0,   0,   0,   2],\n",
              "       [  7,   7,   1,   2,   1,   0,   1,   1,   1,   0,   0,   1,   0]])"
            ]
          },
          "metadata": {},
          "execution_count": 47
        }
      ]
    },
    {
      "cell_type": "code",
      "metadata": {
        "id": "sdeKRuEzqMN9"
      },
      "source": [
        ""
      ],
      "execution_count": null,
      "outputs": []
    }
  ]
}