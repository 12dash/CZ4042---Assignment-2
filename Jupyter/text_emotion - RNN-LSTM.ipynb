{
 "cells": [
  {
   "cell_type": "code",
   "execution_count": 1,
   "metadata": {},
   "outputs": [],
   "source": [
    "import pandas as pd\n",
    "from tqdm import tqdm\n",
    "\n",
    "import emoji\n",
    "\n",
    "import numpy as np"
   ]
  },
  {
   "cell_type": "code",
   "execution_count": 2,
   "metadata": {},
   "outputs": [],
   "source": [
    "df = pd.read_csv('../Data/text_emotion.csv')"
   ]
  },
  {
   "cell_type": "markdown",
   "metadata": {},
   "source": [
    "## Classes"
   ]
  },
  {
   "cell_type": "code",
   "execution_count": 3,
   "metadata": {},
   "outputs": [],
   "source": [
    "classes = sorted(list(set(df['sentiment'])))\n",
    "no_classes = len(classes)"
   ]
  },
  {
   "cell_type": "markdown",
   "metadata": {},
   "source": [
    "## Pre-processing"
   ]
  },
  {
   "cell_type": "code",
   "execution_count": 4,
   "metadata": {},
   "outputs": [],
   "source": [
    "import os\n",
    "os.environ[\"CUDA_VISIBLE_DEVICES\"] = \"-1\"\n",
    "\n",
    "import tensorflow as tf"
   ]
  },
  {
   "cell_type": "code",
   "execution_count": 5,
   "metadata": {},
   "outputs": [],
   "source": [
    "from nltk.corpus import stopwords\n",
    "from nltk.tokenize import word_tokenize\n",
    "\n",
    "import re"
   ]
  },
  {
   "cell_type": "code",
   "execution_count": 6,
   "metadata": {},
   "outputs": [],
   "source": [
    "contraction_mapping = {\"ain't\": \"is not\", \"aren't\": \"are not\",\"can't\": \"cannot\", \n",
    "                   \"can't've\": \"cannot have\", \"'cause\": \"because\", \"could've\": \"could have\", \n",
    "                   \"couldn't\": \"could not\", \"couldn't've\": \"could not have\",\"didn't\": \"did not\", \n",
    "                   \"doesn't\": \"does not\", \"don't\": \"do not\", \"hadn't\": \"had not\", \n",
    "                   \"hadn't've\": \"had not have\", \"hasn't\": \"has not\", \"haven't\": \"have not\", \n",
    "                   \"he'd\": \"he would\", \"he'd've\": \"he would have\", \"he'll\": \"he will\", \n",
    "                   \"he'll've\": \"he will have\", \"he's\": \"he is\", \"how'd\": \"how did\", \n",
    "                   \"how'd'y\": \"how do you\", \"how'll\": \"how will\", \"how's\": \"how is\", \n",
    "                   \"I'd\": \"I would\", \"I'd've\": \"I would have\", \"I'll\": \"I will\", \n",
    "                   \"I'll've\": \"I will have\",\"I'm\": \"I am\", \"I've\": \"I have\", \n",
    "                   \"i'd\": \"i would\", \"i'd've\": \"i would have\", \"i'll\": \"i will\", \n",
    "                   \"i'll've\": \"i will have\",\"i'm\": \"i am\", \"i've\": \"i have\", \n",
    "                   \"isn't\": \"is not\", \"it'd\": \"it would\", \"it'd've\": \"it would have\", \n",
    "                   \"it'll\": \"it will\", \"it'll've\": \"it will have\",\"it's\": \"it is\", \n",
    "                   \"let's\": \"let us\", \"ma'am\": \"madam\", \"mayn't\": \"may not\", \n",
    "                   \"might've\": \"might have\",\"mightn't\": \"might not\",\"mightn't've\": \"might not have\", \n",
    "                   \"must've\": \"must have\", \"mustn't\": \"must not\", \"mustn't've\": \"must not have\", \n",
    "                   \"needn't\": \"need not\", \"needn't've\": \"need not have\",\"o'clock\": \"of the clock\", \n",
    "                   \"oughtn't\": \"ought not\", \"oughtn't've\": \"ought not have\", \"shan't\": \"shall not\",\n",
    "                   \"sha'n't\": \"shall not\", \"shan't've\": \"shall not have\", \"she'd\": \"she would\", \n",
    "                   \"she'd've\": \"she would have\", \"she'll\": \"she will\", \"she'll've\": \"she will have\", \n",
    "                   \"she's\": \"she is\", \"should've\": \"should have\", \"shouldn't\": \"should not\", \n",
    "                   \"shouldn't've\": \"should not have\", \"so've\": \"so have\",\"so's\": \"so as\", \n",
    "                   \"this's\": \"this is\",\n",
    "                   \"that'd\": \"that would\", \"that'd've\": \"that would have\",\"that's\": \"that is\", \n",
    "                   \"there'd\": \"there would\", \"there'd've\": \"there would have\",\"there's\": \"there is\", \n",
    "                   \"here's\": \"here is\",\n",
    "                   \"they'd\": \"they would\", \"they'd've\": \"they would have\", \"they'll\": \"they will\", \n",
    "                   \"they'll've\": \"they will have\", \"they're\": \"they are\", \"they've\": \"they have\", \n",
    "                   \"to've\": \"to have\", \"wasn't\": \"was not\", \"we'd\": \"we would\", \n",
    "                   \"we'd've\": \"we would have\", \"we'll\": \"we will\", \"we'll've\": \"we will have\", \n",
    "                   \"we're\": \"we are\", \"we've\": \"we have\", \"weren't\": \"were not\", \n",
    "                   \"what'll\": \"what will\", \"what'll've\": \"what will have\", \"what're\": \"what are\", \n",
    "                   \"what's\": \"what is\", \"what've\": \"what have\", \"when's\": \"when is\", \n",
    "                   \"when've\": \"when have\", \"where'd\": \"where did\", \"where's\": \"where is\", \n",
    "                   \"where've\": \"where have\", \"who'll\": \"who will\", \"who'll've\": \"who will have\", \n",
    "                   \"who's\": \"who is\", \"who've\": \"who have\", \"why's\": \"why is\", \n",
    "                   \"why've\": \"why have\", \"will've\": \"will have\", \"won't\": \"will not\", \n",
    "                   \"won't've\": \"will not have\", \"would've\": \"would have\", \"wouldn't\": \"would not\", \n",
    "                   \"wouldn't've\": \"would not have\", \"y'all\": \"you all\", \"y'all'd\": \"you all would\",\n",
    "                   \"y'all'd've\": \"you all would have\",\"y'all're\": \"you all are\",\"y'all've\": \"you all have\",\n",
    "                   \"you'd\": \"you would\", \"you'd've\": \"you would have\", \"you'll\": \"you will\", \n",
    "                   \"you'll've\": \"you will have\", \"you're\": \"you are\", \"you've\": \"you have\" } "
   ]
  },
  {
   "cell_type": "code",
   "execution_count": 7,
   "metadata": {},
   "outputs": [],
   "source": [
    "import codecs\n",
    "import unidecode\n",
    "import re\n",
    "import spacy\n",
    "nlp = spacy.load('en')\n",
    "\n",
    "def spacy_cleaner(text):\n",
    "    try:\n",
    "        decoded = unidecode.unidecode(codecs.decode(text, 'unicode_escape'))\n",
    "    except:\n",
    "        decoded = unidecode.unidecode(text)\n",
    "    apostrophe_handled = re.sub(\"’\", \"'\", decoded)\n",
    "    expanded = ' '.join([contraction_mapping[t] if t in contraction_mapping else t for t in apostrophe_handled.split(\" \")])\n",
    "    parsed = nlp(expanded)\n",
    "    final_tokens = []\n",
    "    for t in parsed:\n",
    "        if t.is_punct or t.is_space or t.like_num or t.like_url or str(t).startswith('@'):\n",
    "            pass\n",
    "        else:\n",
    "            if t.lemma_ == '-PRON-':\n",
    "                final_tokens.append(str(t))\n",
    "            else:\n",
    "                sc_removed = re.sub(\"[^a-zA-Z]\", '', str(t.lemma_))\n",
    "                if len(sc_removed) > 1:\n",
    "                    final_tokens.append(sc_removed)\n",
    "    joined = ' '.join(final_tokens)\n",
    "    spell_corrected = re.sub(r'(.)\\1+', r'\\1\\1', joined)\n",
    "    return spell_corrected"
   ]
  },
  {
   "cell_type": "code",
   "execution_count": 8,
   "metadata": {},
   "outputs": [],
   "source": [
    "def clean_text(data):\n",
    "    data = (re.sub(r\"(#[\\d\\w\\.]+)\", '', data)).lower()\n",
    "    data = emoji.demojize(data)\n",
    "    data = spacy_cleaner(data)\n",
    "    return data"
   ]
  },
  {
   "cell_type": "code",
   "execution_count": 9,
   "metadata": {},
   "outputs": [
    {
     "name": "stderr",
     "output_type": "stream",
     "text": [
      "<ipython-input-7-7d9fec89b443>:9: DeprecationWarning: invalid escape sequence '\\ '\n",
      "  decoded = unidecode.unidecode(codecs.decode(text, 'unicode_escape'))\n",
      "<ipython-input-7-7d9fec89b443>:9: DeprecationWarning: invalid escape sequence '\\l'\n",
      "  decoded = unidecode.unidecode(codecs.decode(text, 'unicode_escape'))\n",
      "<ipython-input-7-7d9fec89b443>:9: DeprecationWarning: invalid escape sequence '\\|'\n",
      "  decoded = unidecode.unidecode(codecs.decode(text, 'unicode_escape'))\n",
      "<ipython-input-7-7d9fec89b443>:9: DeprecationWarning: invalid escape sequence '\\m'\n",
      "  decoded = unidecode.unidecode(codecs.decode(text, 'unicode_escape'))\n",
      "<ipython-input-7-7d9fec89b443>:9: DeprecationWarning: invalid escape sequence '\\/'\n",
      "  decoded = unidecode.unidecode(codecs.decode(text, 'unicode_escape'))\n",
      "<ipython-input-7-7d9fec89b443>:9: DeprecationWarning: invalid escape sequence '\\o'\n",
      "  decoded = unidecode.unidecode(codecs.decode(text, 'unicode_escape'))\n",
      "<ipython-input-7-7d9fec89b443>:9: DeprecationWarning: invalid escape sequence '\\y'\n",
      "  decoded = unidecode.unidecode(codecs.decode(text, 'unicode_escape'))\n"
     ]
    }
   ],
   "source": [
    "df['text'] = df['content'].apply(clean_text)"
   ]
  },
  {
   "cell_type": "code",
   "execution_count": 10,
   "metadata": {},
   "outputs": [],
   "source": [
    "class_mapping = {}\n",
    "for idx, name in enumerate(classes):\n",
    "    class_mapping[name] = idx "
   ]
  },
  {
   "cell_type": "code",
   "execution_count": 11,
   "metadata": {},
   "outputs": [],
   "source": [
    "_ = df.pop('tweet_id')\n",
    "_ = df.pop('author')"
   ]
  },
  {
   "cell_type": "code",
   "execution_count": 12,
   "metadata": {},
   "outputs": [],
   "source": [
    "df['label'] = df['sentiment'].apply(lambda x : class_mapping[x])"
   ]
  },
  {
   "cell_type": "code",
   "execution_count": 13,
   "metadata": {},
   "outputs": [],
   "source": [
    "class_weight = {}\n",
    "for i in range(no_classes):\n",
    "    num = len(df[df['label'] == i])\n",
    "    class_weight[i] = num / len(df) "
   ]
  },
  {
   "cell_type": "markdown",
   "metadata": {},
   "source": [
    "### Train - Test Split"
   ]
  },
  {
   "cell_type": "code",
   "execution_count": 14,
   "metadata": {},
   "outputs": [],
   "source": [
    "from sklearn.model_selection import train_test_split"
   ]
  },
  {
   "cell_type": "code",
   "execution_count": 15,
   "metadata": {},
   "outputs": [],
   "source": [
    "def build_dataset(df, feature='text', target='label'):\n",
    "    dataset = (\n",
    "                tf.data.Dataset.from_tensor_slices(\n",
    "                    (\n",
    "                        tf.cast(df[feature].values, tf.string),\n",
    "                        tf.cast(df[target].values, tf.int32)\n",
    "                    )\n",
    "                )\n",
    "            )\n",
    "    return dataset"
   ]
  },
  {
   "cell_type": "code",
   "execution_count": 16,
   "metadata": {},
   "outputs": [],
   "source": [
    "df_train, df_test = train_test_split(df, test_size = 0.2)\n",
    "df_train, df_val = train_test_split(df_train, test_size = 0.2)\n",
    "\n",
    "train_dataset = build_dataset(df_train)\n",
    "val_dataset = build_dataset(df_val)\n",
    "test_dataset = build_dataset(df_test)"
   ]
  },
  {
   "cell_type": "code",
   "execution_count": 17,
   "metadata": {},
   "outputs": [],
   "source": [
    "BUFFER_SIZE = 10000\n",
    "BATCH_SIZE = 128"
   ]
  },
  {
   "cell_type": "code",
   "execution_count": 18,
   "metadata": {},
   "outputs": [],
   "source": [
    "train_dataset = train_dataset.shuffle(BUFFER_SIZE).batch(BATCH_SIZE).prefetch(tf.data.AUTOTUNE)\n",
    "val_dataset = val_dataset.shuffle(BUFFER_SIZE).batch(BATCH_SIZE).prefetch(tf.data.AUTOTUNE)\n",
    "test_dataset = test_dataset.batch(BATCH_SIZE).prefetch(tf.data.AUTOTUNE)"
   ]
  },
  {
   "cell_type": "code",
   "execution_count": 19,
   "metadata": {},
   "outputs": [],
   "source": [
    "VOCAB_SIZE = 1000\n",
    "encoder = tf.keras.layers.TextVectorization(max_tokens=VOCAB_SIZE)\n",
    "encoder.adapt(train_dataset.map(lambda text, label: text))"
   ]
  },
  {
   "cell_type": "code",
   "execution_count": 20,
   "metadata": {},
   "outputs": [],
   "source": [
    "model = tf.keras.Sequential([\n",
    "    encoder,\n",
    "    \n",
    "    tf.keras.layers.Embedding(input_dim=len(encoder.get_vocabulary()),\n",
    "                              output_dim=64, mask_zero=True),\n",
    "    \n",
    "    tf.keras.layers.Bidirectional(tf.keras.layers.LSTM(64, return_sequences = True)),\n",
    "    tf.keras.layers.Bidirectional(tf.keras.layers.LSTM(64)),\n",
    "    \n",
    "    tf.keras.layers.Dense(64, activation='relu'),\n",
    "    tf.keras.layers.Dropout(0.5), \n",
    "    tf.keras.layers.Dense(64, activation='relu'),\n",
    "    tf.keras.layers.Dense(64, activation='relu'),\n",
    "    tf.keras.layers.Dense(no_classes)\n",
    "])"
   ]
  },
  {
   "cell_type": "code",
   "execution_count": 21,
   "metadata": {},
   "outputs": [],
   "source": [
    "model.compile(loss=tf.keras.losses.SparseCategoricalCrossentropy(from_logits=True),\n",
    "              optimizer=tf.keras.optimizers.Adam(1e-4),\n",
    "              metrics=['accuracy'])"
   ]
  },
  {
   "cell_type": "code",
   "execution_count": 22,
   "metadata": {},
   "outputs": [],
   "source": [
    "early_stopping = tf.keras.callbacks.EarlyStopping(monitor='val_loss', \n",
    "                                                  verbose=1,patience=10,\n",
    "                                                  mode='max', restore_best_weights=True)"
   ]
  },
  {
   "cell_type": "code",
   "execution_count": 23,
   "metadata": {},
   "outputs": [],
   "source": [
    "model.compile(loss=tf.keras.losses.SparseCategoricalCrossentropy(from_logits=True),\n",
    "              optimizer=tf.keras.optimizers.Adam(1e-3),\n",
    "              metrics=['accuracy'])"
   ]
  },
  {
   "cell_type": "code",
   "execution_count": 24,
   "metadata": {
    "scrolled": false
   },
   "outputs": [
    {
     "name": "stdout",
     "output_type": "stream",
     "text": [
      "Epoch 1/20\n",
      "200/200 [==============================] - 43s 139ms/step - loss: 0.2522 - accuracy: 0.2343 - val_loss: 2.2634 - val_accuracy: 0.2419\n",
      "Epoch 2/20\n",
      "200/200 [==============================] - 24s 118ms/step - loss: 0.2191 - accuracy: 0.3024 - val_loss: 2.0953 - val_accuracy: 0.3417\n",
      "Epoch 3/20\n",
      "200/200 [==============================] - 25s 124ms/step - loss: 0.2094 - accuracy: 0.3349 - val_loss: 2.1137 - val_accuracy: 0.3305\n",
      "Epoch 4/20\n",
      "200/200 [==============================] - 27s 136ms/step - loss: 0.2055 - accuracy: 0.3511 - val_loss: 2.0932 - val_accuracy: 0.3479\n",
      "Epoch 5/20\n",
      "200/200 [==============================] - 27s 135ms/step - loss: 0.2025 - accuracy: 0.3615 - val_loss: 2.0335 - val_accuracy: 0.3560\n",
      "Epoch 6/20\n",
      "200/200 [==============================] - 29s 143ms/step - loss: 0.1998 - accuracy: 0.3698 - val_loss: 2.1217 - val_accuracy: 0.3490\n",
      "Epoch 7/20\n",
      "200/200 [==============================] - 29s 144ms/step - loss: 0.1971 - accuracy: 0.3783 - val_loss: 2.1241 - val_accuracy: 0.3461\n",
      "Epoch 8/20\n",
      "200/200 [==============================] - 30s 149ms/step - loss: 0.1940 - accuracy: 0.3863 - val_loss: 2.0582 - val_accuracy: 0.3539\n",
      "Epoch 9/20\n",
      "200/200 [==============================] - 27s 133ms/step - loss: 0.1904 - accuracy: 0.4015 - val_loss: 2.0975 - val_accuracy: 0.3458\n",
      "Epoch 10/20\n",
      "200/200 [==============================] - 28s 138ms/step - loss: 0.1874 - accuracy: 0.4089 - val_loss: 2.1443 - val_accuracy: 0.3401\n",
      "Epoch 11/20\n",
      "200/200 [==============================] - 27s 135ms/step - loss: 0.1842 - accuracy: 0.4159 - val_loss: 2.1888 - val_accuracy: 0.3469\n",
      "Epoch 12/20\n",
      "200/200 [==============================] - 28s 140ms/step - loss: 0.1810 - accuracy: 0.4292 - val_loss: 2.1727 - val_accuracy: 0.3451\n",
      "Epoch 13/20\n",
      "200/200 [==============================] - 27s 136ms/step - loss: 0.1775 - accuracy: 0.4366 - val_loss: 2.2224 - val_accuracy: 0.3370\n",
      "Epoch 14/20\n",
      "200/200 [==============================] - 27s 137ms/step - loss: 0.1750 - accuracy: 0.4473 - val_loss: 2.1711 - val_accuracy: 0.3313\n",
      "Epoch 15/20\n",
      "200/200 [==============================] - 28s 138ms/step - loss: 0.1716 - accuracy: 0.4552 - val_loss: 2.2439 - val_accuracy: 0.3268\n",
      "Epoch 16/20\n",
      "200/200 [==============================] - 27s 137ms/step - loss: 0.1686 - accuracy: 0.4619 - val_loss: 2.2328 - val_accuracy: 0.3341\n",
      "Epoch 17/20\n",
      "200/200 [==============================] - 28s 140ms/step - loss: 0.1663 - accuracy: 0.4672 - val_loss: 2.2081 - val_accuracy: 0.3328\n",
      "Epoch 18/20\n",
      "200/200 [==============================] - 29s 144ms/step - loss: 0.1633 - accuracy: 0.4750 - val_loss: 2.2928 - val_accuracy: 0.3250\n",
      "Epoch 19/20\n",
      "200/200 [==============================] - 27s 134ms/step - loss: 0.1609 - accuracy: 0.4842 - val_loss: 2.3352 - val_accuracy: 0.3206\n",
      "Epoch 20/20\n",
      "200/200 [==============================] - 29s 144ms/step - loss: 0.1579 - accuracy: 0.4911 - val_loss: 2.3861 - val_accuracy: 0.3187\n"
     ]
    }
   ],
   "source": [
    "history = model.fit(train_dataset, epochs = 20,\n",
    "                    validation_data=val_dataset,\n",
    "                    validation_steps=30,\n",
    "                    class_weight = class_weight)"
   ]
  },
  {
   "cell_type": "code",
   "execution_count": 25,
   "metadata": {},
   "outputs": [
    {
     "data": {
      "image/png": "[encoded data removed]",
      "text/plain": [
       "<Figure size 432x288 with 1 Axes>"
      ]
     },
     "metadata": {
      "needs_background": "light"
     },
     "output_type": "display_data"
    },
    {
     "data": {
      "image/png": "[encoded data removed]",
      "text/plain": [
       "<Figure size 432x288 with 1 Axes>"
      ]
     },
     "metadata": {
      "needs_background": "light"
     },
     "output_type": "display_data"
    }
   ],
   "source": [
    "import matplotlib.pyplot as plt\n",
    "\n",
    "plt.figure(1)\n",
    "plt.plot(history.history['loss'], label='train')\n",
    "plt.plot(history.history['val_loss'], label='val')\n",
    "plt.legend()\n",
    "plt.show()\n",
    "\n",
    "plt.figure(2)\n",
    "plt.plot(history.history['accuracy'], label='train')\n",
    "plt.plot(history.history['val_accuracy'], label='val')\n",
    "plt.legend()\n",
    "plt.show()"
   ]
  },
  {
   "cell_type": "markdown",
   "metadata": {},
   "source": [
    "## Evaluate it against test"
   ]
  },
  {
   "cell_type": "code",
   "execution_count": 26,
   "metadata": {},
   "outputs": [],
   "source": [
    "from sklearn.metrics import confusion_matrix\n",
    "from sklearn.metrics import classification_report"
   ]
  },
  {
   "cell_type": "code",
   "execution_count": 27,
   "metadata": {},
   "outputs": [
    {
     "name": "stdout",
     "output_type": "stream",
     "text": [
      "63/63 [==============================] - 3s 44ms/step - loss: 2.4043 - accuracy: 0.3156\n"
     ]
    },
    {
     "data": {
      "text/plain": [
       "[2.404327630996704, 0.31562501192092896]"
      ]
     },
     "execution_count": 27,
     "metadata": {},
     "output_type": "execute_result"
    }
   ],
   "source": [
    "model.evaluate(test_dataset)"
   ]
  },
  {
   "cell_type": "code",
   "execution_count": 28,
   "metadata": {},
   "outputs": [],
   "source": [
    "pred = model.predict(test_dataset)\n",
    "y_test = list(df_test.label)"
   ]
  },
  {
   "cell_type": "code",
   "execution_count": 29,
   "metadata": {},
   "outputs": [
    {
     "name": "stderr",
     "output_type": "stream",
     "text": [
      "100%|██████████████████████████████████████████████████████████████████████████| 8000/8000 [00:00<00:00, 181840.23it/s]\n"
     ]
    }
   ],
   "source": [
    "import numpy as np\n",
    "\n",
    "pred_idx = []\n",
    "target_idx = []\n",
    "\n",
    "for i in tqdm(range(len(pred))):\n",
    "    pred_idx.append(np.argmax(pred[i]))\n",
    "    target_idx.append(y_test[i])"
   ]
  },
  {
   "cell_type": "code",
   "execution_count": 30,
   "metadata": {},
   "outputs": [
    {
     "name": "stdout",
     "output_type": "stream",
     "text": [
      "              precision    recall  f1-score   support\n",
      "\n",
      "       anger       0.00      0.00      0.00        26\n",
      "     boredom       0.00      0.00      0.00        37\n",
      "       empty       0.00      0.00      0.00       160\n",
      "  enthusiasm       0.00      0.00      0.00       154\n",
      "         fun       0.00      0.00      0.00       356\n",
      "   happiness       0.28      0.40      0.33       989\n",
      "        hate       0.00      0.00      0.00       241\n",
      "        love       0.49      0.31      0.38       781\n",
      "     neutral       0.31      0.50      0.38      1738\n",
      "      relief       0.00      0.00      0.00       316\n",
      "     sadness       0.32      0.24      0.27      1033\n",
      "    surprise       0.00      0.00      0.00       441\n",
      "       worry       0.31      0.44      0.37      1728\n",
      "\n",
      "    accuracy                           0.32      8000\n",
      "   macro avg       0.13      0.15      0.13      8000\n",
      "weighted avg       0.26      0.32      0.27      8000\n",
      "\n"
     ]
    },
    {
     "name": "stderr",
     "output_type": "stream",
     "text": [
      "C:\\Users\\soham\\AppData\\Roaming\\Python\\Python38\\site-packages\\sklearn\\metrics\\_classification.py:1245: UndefinedMetricWarning: Precision and F-score are ill-defined and being set to 0.0 in labels with no predicted samples. Use `zero_division` parameter to control this behavior.\n",
      "  _warn_prf(average, modifier, msg_start, len(result))\n",
      "C:\\Users\\soham\\AppData\\Roaming\\Python\\Python38\\site-packages\\sklearn\\metrics\\_classification.py:1245: UndefinedMetricWarning: Precision and F-score are ill-defined and being set to 0.0 in labels with no predicted samples. Use `zero_division` parameter to control this behavior.\n",
      "  _warn_prf(average, modifier, msg_start, len(result))\n",
      "C:\\Users\\soham\\AppData\\Roaming\\Python\\Python38\\site-packages\\sklearn\\metrics\\_classification.py:1245: UndefinedMetricWarning: Precision and F-score are ill-defined and being set to 0.0 in labels with no predicted samples. Use `zero_division` parameter to control this behavior.\n",
      "  _warn_prf(average, modifier, msg_start, len(result))\n"
     ]
    }
   ],
   "source": [
    "print(classification_report(target_idx, pred_idx, target_names=classes))"
   ]
  },
  {
   "cell_type": "code",
   "execution_count": 31,
   "metadata": {},
   "outputs": [
    {
     "name": "stdout",
     "output_type": "stream",
     "text": [
      "[[  0   0   0   0   0   4   0   0   9   0   5   0   8]\n",
      " [  0   0   0   0   0   2   0   0  13   0   9   0  13]\n",
      " [  0   0   0   0   0  18   0   3  79   0   8   0  52]\n",
      " [  0   0   0   0   0  35   0   4  57   0  10   0  48]\n",
      " [  0   0   0   0   0 135   0   9 127   0  14   0  71]\n",
      " [  0   0   0   0   0 400   0  77 292   0  28   0 192]\n",
      " [  0   0   0   0   0  17   0   3  66   0  50   0 105]\n",
      " [  0   0   0   0   0 208   0 245 190   0  45   0  93]\n",
      " [  0   0   0   0   0 227   0  62 866   0  82   0 501]\n",
      " [  0   0   0   0   0  79   0  13 114   0  21   0  89]\n",
      " [  0   0   0   0   0  92   0  14 290   0 246   0 391]\n",
      " [  0   0   0   0   0  87   0  29 155   0  33   0 137]\n",
      " [  0   0   0   0   0 150   0  37 554   0 219   0 768]]\n"
     ]
    }
   ],
   "source": [
    "print(confusion_matrix(target_idx, pred_idx))"
   ]
  },
  {
   "cell_type": "code",
   "execution_count": null,
   "metadata": {},
   "outputs": [],
   "source": []
  }
 ],
 "metadata": {
  "kernelspec": {
   "display_name": "Python 3",
   "language": "python",
   "name": "python3"
  },
  "language_info": {
   "codemirror_mode": {
    "name": "ipython",
    "version": 3
   },
   "file_extension": ".py",
   "mimetype": "text/x-python",
   "name": "python",
   "nbconvert_exporter": "python",
   "pygments_lexer": "ipython3",
   "version": "3.8.3"
  }
 },
 "nbformat": 4,
 "nbformat_minor": 4
}
