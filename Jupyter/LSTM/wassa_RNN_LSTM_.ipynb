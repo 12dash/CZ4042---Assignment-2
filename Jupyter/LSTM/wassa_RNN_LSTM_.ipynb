{
  "nbformat": 4,
  "nbformat_minor": 0,
  "metadata": {
    "kernelspec": {
      "display_name": "Python 3",
      "language": "python",
      "name": "python3"
    },
    "language_info": {
      "codemirror_mode": {
        "name": "ipython",
        "version": 3
      },
      "file_extension": ".py",
      "mimetype": "text/x-python",
      "name": "python",
      "nbconvert_exporter": "python",
      "pygments_lexer": "ipython3",
      "version": "3.8.3"
    },
    "colab": {
      "name": "wassa - RNN-LSTM .ipynb",
      "provenance": []
    }
  },
  "cells": [
    {
      "cell_type": "code",
      "metadata": {
        "colab": {
          "base_uri": "https://localhost:8080/"
        },
        "id": "JhtUecg65Rik",
        "outputId": "8c1b74d2-4793-4f74-b9ef-c79ea45d7612"
      },
      "source": [
        "!pip install emoji"
      ],
      "execution_count": 2,
      "outputs": [
        {
          "output_type": "stream",
          "name": "stdout",
          "text": [
            "Requirement already satisfied: emoji in /usr/local/lib/python3.7/dist-packages (1.6.1)\n"
          ]
        }
      ]
    },
    {
      "cell_type": "code",
      "metadata": {
        "id": "sJU9Y86X2CSy"
      },
      "source": [
        "import pandas as pd\n",
        "from tqdm import tqdm\n",
        "\n",
        "import re\n",
        "\n",
        "from nltk.corpus import stopwords\n",
        "from nltk.tokenize import word_tokenize\n",
        "\n",
        "import numpy as np\n",
        "\n",
        "from sklearn.metrics import confusion_matrix\n",
        "from sklearn.metrics import classification_report\n",
        "\n",
        "import matplotlib.pyplot as plt\n",
        "import emoji"
      ],
      "execution_count": 3,
      "outputs": []
    },
    {
      "cell_type": "code",
      "metadata": {
        "id": "PSJGYXSt2CS0"
      },
      "source": [
        "import os\n",
        "os.environ[\"CUDA_VISIBLE_DEVICES\"] = \"-1\"\n",
        "\n",
        "import tensorflow as tf"
      ],
      "execution_count": 4,
      "outputs": []
    },
    {
      "cell_type": "code",
      "metadata": {
        "id": "XbTrjJXh2CS1"
      },
      "source": [
        "base_path = '/content/drive/My Drive/Data/wassa_data/'"
      ],
      "execution_count": 5,
      "outputs": []
    },
    {
      "cell_type": "code",
      "metadata": {
        "colab": {
          "base_uri": "https://localhost:8080/"
        },
        "id": "GCh6-9r16g7Z",
        "outputId": "2683d351-9e2d-4724-faf5-925e49373169"
      },
      "source": [
        "from google.colab import drive\n",
        "drive.mount('/content/drive')"
      ],
      "execution_count": 6,
      "outputs": [
        {
          "output_type": "stream",
          "name": "stdout",
          "text": [
            "Drive already mounted at /content/drive; to attempt to forcibly remount, call drive.mount(\"/content/drive\", force_remount=True).\n"
          ]
        }
      ]
    },
    {
      "cell_type": "code",
      "metadata": {
        "id": "RqJ_DbNd2CS1"
      },
      "source": [
        "classes = ['anger', 'joy', 'sadness', 'fear']\n",
        "\n",
        "class_mapping = {}\n",
        "for idx, name in enumerate(classes):\n",
        "    class_mapping[name] = idx \n",
        "no_classes = len(classes)"
      ],
      "execution_count": 7,
      "outputs": []
    },
    {
      "cell_type": "code",
      "metadata": {
        "id": "SQZVAyjI2CS1"
      },
      "source": [
        "cols = ['tweet', 'tweettype']"
      ],
      "execution_count": 8,
      "outputs": []
    },
    {
      "cell_type": "code",
      "metadata": {
        "colab": {
          "base_uri": "https://localhost:8080/"
        },
        "id": "nPR-CN0G7RH4",
        "outputId": "8f4b7194-ff2a-42ec-b0cd-f720bb053377"
      },
      "source": [
        "import nltk\n",
        "nltk.download('stopwords')"
      ],
      "execution_count": 9,
      "outputs": [
        {
          "output_type": "stream",
          "name": "stdout",
          "text": [
            "[nltk_data] Downloading package stopwords to /root/nltk_data...\n",
            "[nltk_data]   Package stopwords is already up-to-date!\n"
          ]
        },
        {
          "output_type": "execute_result",
          "data": {
            "text/plain": [
              "True"
            ]
          },
          "metadata": {},
          "execution_count": 9
        }
      ]
    },
    {
      "cell_type": "code",
      "metadata": {
        "id": "1Z-TGkQM2CS2"
      },
      "source": [
        "\n",
        "stop = stopwords.words('english')"
      ],
      "execution_count": 10,
      "outputs": []
    },
    {
      "cell_type": "code",
      "metadata": {
        "id": "YyIaIBwR2CS2"
      },
      "source": [
        "contraction_mapping = {\"ain't\": \"is not\", \"aren't\": \"are not\",\"can't\": \"cannot\", \n",
        "                   \"can't've\": \"cannot have\", \"'cause\": \"because\", \"could've\": \"could have\", \n",
        "                   \"couldn't\": \"could not\", \"couldn't've\": \"could not have\",\"didn't\": \"did not\", \n",
        "                   \"doesn't\": \"does not\", \"don't\": \"do not\", \"hadn't\": \"had not\", \n",
        "                   \"hadn't've\": \"had not have\", \"hasn't\": \"has not\", \"haven't\": \"have not\", \n",
        "                   \"he'd\": \"he would\", \"he'd've\": \"he would have\", \"he'll\": \"he will\", \n",
        "                   \"he'll've\": \"he will have\", \"he's\": \"he is\", \"how'd\": \"how did\", \n",
        "                   \"how'd'y\": \"how do you\", \"how'll\": \"how will\", \"how's\": \"how is\", \n",
        "                   \"I'd\": \"I would\", \"I'd've\": \"I would have\", \"I'll\": \"I will\", \n",
        "                   \"I'll've\": \"I will have\",\"I'm\": \"I am\", \"I've\": \"I have\", \n",
        "                   \"i'd\": \"i would\", \"i'd've\": \"i would have\", \"i'll\": \"i will\", \n",
        "                   \"i'll've\": \"i will have\",\"i'm\": \"i am\", \"i've\": \"i have\", \n",
        "                   \"isn't\": \"is not\", \"it'd\": \"it would\", \"it'd've\": \"it would have\", \n",
        "                   \"it'll\": \"it will\", \"it'll've\": \"it will have\",\"it's\": \"it is\", \n",
        "                   \"let's\": \"let us\", \"ma'am\": \"madam\", \"mayn't\": \"may not\", \n",
        "                   \"might've\": \"might have\",\"mightn't\": \"might not\",\"mightn't've\": \"might not have\", \n",
        "                   \"must've\": \"must have\", \"mustn't\": \"must not\", \"mustn't've\": \"must not have\", \n",
        "                   \"needn't\": \"need not\", \"needn't've\": \"need not have\",\"o'clock\": \"of the clock\", \n",
        "                   \"oughtn't\": \"ought not\", \"oughtn't've\": \"ought not have\", \"shan't\": \"shall not\",\n",
        "                   \"sha'n't\": \"shall not\", \"shan't've\": \"shall not have\", \"she'd\": \"she would\", \n",
        "                   \"she'd've\": \"she would have\", \"she'll\": \"she will\", \"she'll've\": \"she will have\", \n",
        "                   \"she's\": \"she is\", \"should've\": \"should have\", \"shouldn't\": \"should not\", \n",
        "                   \"shouldn't've\": \"should not have\", \"so've\": \"so have\",\"so's\": \"so as\", \n",
        "                   \"this's\": \"this is\",\n",
        "                   \"that'd\": \"that would\", \"that'd've\": \"that would have\",\"that's\": \"that is\", \n",
        "                   \"there'd\": \"there would\", \"there'd've\": \"there would have\",\"there's\": \"there is\", \n",
        "                       \"here's\": \"here is\",\n",
        "                   \"they'd\": \"they would\", \"they'd've\": \"they would have\", \"they'll\": \"they will\", \n",
        "                   \"they'll've\": \"they will have\", \"they're\": \"they are\", \"they've\": \"they have\", \n",
        "                   \"to've\": \"to have\", \"wasn't\": \"was not\", \"we'd\": \"we would\", \n",
        "                   \"we'd've\": \"we would have\", \"we'll\": \"we will\", \"we'll've\": \"we will have\", \n",
        "                   \"we're\": \"we are\", \"we've\": \"we have\", \"weren't\": \"were not\", \n",
        "                   \"what'll\": \"what will\", \"what'll've\": \"what will have\", \"what're\": \"what are\", \n",
        "                   \"what's\": \"what is\", \"what've\": \"what have\", \"when's\": \"when is\", \n",
        "                   \"when've\": \"when have\", \"where'd\": \"where did\", \"where's\": \"where is\", \n",
        "                   \"where've\": \"where have\", \"who'll\": \"who will\", \"who'll've\": \"who will have\", \n",
        "                   \"who's\": \"who is\", \"who've\": \"who have\", \"why's\": \"why is\", \n",
        "                   \"why've\": \"why have\", \"will've\": \"will have\", \"won't\": \"will not\", \n",
        "                   \"won't've\": \"will not have\", \"would've\": \"would have\", \"wouldn't\": \"would not\", \n",
        "                   \"wouldn't've\": \"would not have\", \"y'all\": \"you all\", \"y'all'd\": \"you all would\",\n",
        "                   \"y'all'd've\": \"you all would have\",\"y'all're\": \"you all are\",\"y'all've\": \"you all have\",\n",
        "                   \"you'd\": \"you would\", \"you'd've\": \"you would have\", \"you'll\": \"you will\", \n",
        "                   \"you'll've\": \"you will have\", \"you're\": \"you are\", \"you've\": \"you have\" } "
      ],
      "execution_count": 11,
      "outputs": []
    },
    {
      "cell_type": "code",
      "metadata": {
        "colab": {
          "base_uri": "https://localhost:8080/"
        },
        "id": "hdRrs4Ig7Z78",
        "outputId": "4f8c7e78-c17c-4ba6-c5e0-db15f9f52966"
      },
      "source": [
        "!pip install Unidecode"
      ],
      "execution_count": 12,
      "outputs": [
        {
          "output_type": "stream",
          "name": "stdout",
          "text": [
            "Requirement already satisfied: Unidecode in /usr/local/lib/python3.7/dist-packages (1.3.2)\n"
          ]
        }
      ]
    },
    {
      "cell_type": "code",
      "metadata": {
        "id": "ahBx8g6l2CS3"
      },
      "source": [
        "import codecs\n",
        "import unidecode\n",
        "import re\n",
        "import spacy\n",
        "nlp = spacy.load('en')\n",
        "\n",
        "def spacy_cleaner(text):\n",
        "    try:\n",
        "        decoded = unidecode.unidecode(codecs.decode(text, 'unicode_escape'))\n",
        "    except:\n",
        "        decoded = unidecode.unidecode(text)\n",
        "    apostrophe_handled = re.sub(\"’\", \"'\", decoded)\n",
        "    expanded = ' '.join([contraction_mapping[t] if t in contraction_mapping else t for t in apostrophe_handled.split(\" \")])\n",
        "    parsed = nlp(expanded)\n",
        "    final_tokens = []\n",
        "    for t in parsed:\n",
        "        if t.is_punct or t.is_space or t.like_num or t.like_url or str(t).startswith('@'):\n",
        "            pass\n",
        "        else:\n",
        "            if t.lemma_ == '-PRON-':\n",
        "                final_tokens.append(str(t))\n",
        "            else:\n",
        "                sc_removed = re.sub(\"[^a-zA-Z]\", '', str(t.lemma_))\n",
        "                if len(sc_removed) > 1:\n",
        "                    final_tokens.append(sc_removed)\n",
        "    joined = ' '.join(final_tokens)\n",
        "    spell_corrected = re.sub(r'(.)\\1+', r'\\1\\1', joined)\n",
        "    return spell_corrected"
      ],
      "execution_count": 13,
      "outputs": []
    },
    {
      "cell_type": "code",
      "metadata": {
        "id": "UPJfsf3S2CS4"
      },
      "source": [
        "def clean_text(data):\n",
        "    data = (re.sub(r\"(#[\\d\\w\\.]+)\", '', data)).lower()\n",
        "    data = emoji.demojize(data)\n",
        "    data = spacy_cleaner(data)\n",
        "    return data"
      ],
      "execution_count": 14,
      "outputs": []
    },
    {
      "cell_type": "code",
      "metadata": {
        "id": "L6R2JfnS2CS5"
      },
      "source": [
        "def build_dataset(df, feature='text', target='label'):\n",
        "    dataset = (\n",
        "                tf.data.Dataset.from_tensor_slices(\n",
        "                    (\n",
        "                        tf.cast(df[feature].values, tf.string),\n",
        "                        tf.cast(df[target].values, tf.int32)\n",
        "                    )\n",
        "                )\n",
        "            )\n",
        "    return dataset"
      ],
      "execution_count": 15,
      "outputs": []
    },
    {
      "cell_type": "code",
      "metadata": {
        "id": "oaDK2Mxd2CS5"
      },
      "source": [
        "def load_dataset(directory, ending, threshold = 0, testing = False):\n",
        "\n",
        "    df_list = []\n",
        "\n",
        "    for emotion in classes:\n",
        "        file_name = f'{base_path}{directory}/{emotion}{ending}'\n",
        "        df = pd.read_csv(file_name, delimiter='\\t')\n",
        "        \n",
        "        if not testing:\n",
        "            df = df[df['score'] > threshold]\n",
        "        \n",
        "        df = df[cols]\n",
        "        \n",
        "        df['tweet'] = df['tweet'].apply(lambda x: \" \".join(x for x in x.split() if x not in stop))\n",
        "        df['tweet'] = df['tweet'].apply(clean_text)        \n",
        "        df['tweettype'] = df['tweettype'].apply(lambda x : class_mapping[x])        \n",
        "\n",
        "        df_list.append(df)\n",
        "\n",
        "    df = pd.concat(df_list)\n",
        "    df = df.rename(columns = {'tweet' : 'text', 'tweettype' : 'label'})\n",
        "    print('Distribution of data: ')\n",
        "    print(df['label'].value_counts())\n",
        "    \n",
        "    labels = df['label'].values\n",
        "    \n",
        "    dataset = build_dataset(df)\n",
        "    \n",
        "    return dataset, labels"
      ],
      "execution_count": 16,
      "outputs": []
    },
    {
      "cell_type": "code",
      "metadata": {
        "colab": {
          "base_uri": "https://localhost:8080/"
        },
        "id": "pWh2LZtm2CS5",
        "outputId": "4b155682-522a-4f14-88e6-ca0c7ca54488"
      },
      "source": [
        "# Training\n",
        "threshold = 0\n",
        "\n",
        "directory = 'training'\n",
        "ending = '-ratings-0to1.train.txt'\n",
        "\n",
        "train_dataset,_ = load_dataset(directory, ending, threshold = threshold)"
      ],
      "execution_count": 17,
      "outputs": [
        {
          "output_type": "stream",
          "name": "stdout",
          "text": [
            "Distribution of data: \n",
            "3    1147\n",
            "0     857\n",
            "1     823\n",
            "2     786\n",
            "Name: label, dtype: int64\n"
          ]
        }
      ]
    },
    {
      "cell_type": "code",
      "metadata": {
        "colab": {
          "base_uri": "https://localhost:8080/"
        },
        "id": "S_NYiQZ-2CS6",
        "outputId": "942dc307-0a70-47f0-eb02-a48efddaf0d8"
      },
      "source": [
        "# Validation\n",
        "\n",
        "directory = 'validation'\n",
        "ending = '-ratings-0to1.dev.gold.txt'\n",
        "\n",
        "val_dataset,_ = load_dataset(directory, ending)"
      ],
      "execution_count": 18,
      "outputs": [
        {
          "output_type": "stream",
          "name": "stdout",
          "text": [
            "Distribution of data: \n",
            "3    110\n",
            "0     84\n",
            "1     79\n",
            "2     74\n",
            "Name: label, dtype: int64\n"
          ]
        }
      ]
    },
    {
      "cell_type": "code",
      "metadata": {
        "colab": {
          "base_uri": "https://localhost:8080/"
        },
        "id": "kTfamnR32CS7",
        "outputId": "9b16104e-d709-4f98-d507-e7148a4d9f76"
      },
      "source": [
        "# Testing\n",
        "\n",
        "directory = 'testing'\n",
        "ending = '-ratings-0to1.test.target.txt'\n",
        "\n",
        "test_dataset, y_test = load_dataset(directory, ending, testing = True)"
      ],
      "execution_count": 19,
      "outputs": [
        {
          "output_type": "stream",
          "name": "stdout",
          "text": [
            "Distribution of data: \n",
            "3    995\n",
            "0    760\n",
            "1    714\n",
            "2    673\n",
            "Name: label, dtype: int64\n"
          ]
        }
      ]
    },
    {
      "cell_type": "code",
      "metadata": {
        "id": "bGTJi2L62CS7"
      },
      "source": [
        "BUFFER_SIZE = 10000\n",
        "BATCH_SIZE = 128"
      ],
      "execution_count": 20,
      "outputs": []
    },
    {
      "cell_type": "code",
      "metadata": {
        "id": "RKd9ayw02CS7"
      },
      "source": [
        "train_dataset = train_dataset.shuffle(BUFFER_SIZE).batch(BATCH_SIZE).prefetch(tf.data.AUTOTUNE)\n",
        "val_dataset = val_dataset.shuffle(BUFFER_SIZE).batch(BATCH_SIZE).prefetch(tf.data.AUTOTUNE)\n",
        "test_dataset = test_dataset.batch(BATCH_SIZE).prefetch(tf.data.AUTOTUNE)"
      ],
      "execution_count": 21,
      "outputs": []
    },
    {
      "cell_type": "code",
      "metadata": {
        "id": "Htq512_P2CS8"
      },
      "source": [
        "VOCAB_SIZE = 1000\n",
        "encoder = tf.keras.layers.TextVectorization(max_tokens=VOCAB_SIZE)\n",
        "encoder.adapt(train_dataset.map(lambda text, label: text))"
      ],
      "execution_count": 22,
      "outputs": []
    },
    {
      "cell_type": "code",
      "metadata": {
        "id": "VJk1kG6L2CS8"
      },
      "source": [
        ""
      ],
      "execution_count": 22,
      "outputs": []
    },
    {
      "cell_type": "code",
      "metadata": {
        "id": "dfmqWLy-2wiQ"
      },
      "source": [
        "model = tf.keras.Sequential([\n",
        "    encoder,\n",
        "    \n",
        "    tf.keras.layers.Embedding(input_dim=len(encoder.get_vocabulary()),\n",
        "                              output_dim=64, mask_zero=True),\n",
        "    \n",
        "    tf.keras.layers.Bidirectional(tf.keras.layers.LSTM(64, return_sequences = True)),\n",
        "    tf.keras.layers.Bidirectional(tf.keras.layers.LSTM(64)),\n",
        "    \n",
        "    tf.keras.layers.Dense(64, activation='relu'),\n",
        "    tf.keras.layers.Dropout(0.5), \n",
        "    tf.keras.layers.Dense(64, activation='relu'),\n",
        "    tf.keras.layers.Dense(64, activation='relu'),\n",
        "    tf.keras.layers.Dense(no_classes)\n",
        "]) "
      ],
      "execution_count": 23,
      "outputs": []
    },
    {
      "cell_type": "code",
      "metadata": {
        "colab": {
          "base_uri": "https://localhost:8080/",
          "height": 1000
        },
        "id": "m698Nms68uiF",
        "outputId": "baf6e179-123a-46e3-9676-82be695908f4"
      },
      "source": [
        "from keras.utils.vis_utils import plot_model\n",
        "plot_model(model,show_shapes=True, show_layer_names=True, to_file='LSTM-only.png')"
      ],
      "execution_count": 24,
      "outputs": [
        {
          "output_type": "execute_result",
          "data": {
            "image/png": "[encoded data removed]",
            "text/plain": [
              "<IPython.core.display.Image object>"
            ]
          },
          "metadata": {},
          "execution_count": 24
        }
      ]
    },
    {
      "cell_type": "code",
      "metadata": {
        "id": "hO3g_QbN2CS8"
      },
      "source": [
        "model.compile(loss=tf.keras.losses.SparseCategoricalCrossentropy(from_logits=True),\n",
        "              optimizer=tf.keras.optimizers.Adam(1e-4),\n",
        "              metrics=['accuracy'])"
      ],
      "execution_count": 25,
      "outputs": []
    },
    {
      "cell_type": "code",
      "metadata": {
        "id": "z4W5wnjW2CS8"
      },
      "source": [
        "early_stopping = tf.keras.callbacks.EarlyStopping(monitor='val_accuracy', \n",
        "                                                  verbose=1, patience=10,\n",
        "                                                  restore_best_weights=True)"
      ],
      "execution_count": 26,
      "outputs": []
    },
    {
      "cell_type": "code",
      "metadata": {
        "scrolled": true,
        "colab": {
          "base_uri": "https://localhost:8080/"
        },
        "id": "aSSgNseY2CS9",
        "outputId": "48754523-068c-4407-bffd-22a8a51afaaa"
      },
      "source": [
        "history = model.fit(train_dataset, epochs = 50,\n",
        "                    validation_data=val_dataset)"
      ],
      "execution_count": 27,
      "outputs": [
        {
          "output_type": "stream",
          "name": "stdout",
          "text": [
            "Epoch 1/50\n",
            "29/29 [==============================] - 24s 307ms/step - loss: 1.3860 - accuracy: 0.2854 - val_loss: 1.3853 - val_accuracy: 0.3170\n",
            "Epoch 2/50\n",
            "29/29 [==============================] - 4s 125ms/step - loss: 1.3847 - accuracy: 0.3175 - val_loss: 1.3840 - val_accuracy: 0.3170\n",
            "Epoch 3/50\n",
            "29/29 [==============================] - 4s 126ms/step - loss: 1.3831 - accuracy: 0.3172 - val_loss: 1.3821 - val_accuracy: 0.3170\n",
            "Epoch 4/50\n",
            "29/29 [==============================] - 4s 127ms/step - loss: 1.3815 - accuracy: 0.3175 - val_loss: 1.3802 - val_accuracy: 0.3170\n",
            "Epoch 5/50\n",
            "29/29 [==============================] - 4s 131ms/step - loss: 1.3789 - accuracy: 0.3175 - val_loss: 1.3770 - val_accuracy: 0.3170\n",
            "Epoch 6/50\n",
            "29/29 [==============================] - 4s 129ms/step - loss: 1.3756 - accuracy: 0.3172 - val_loss: 1.3730 - val_accuracy: 0.3170\n",
            "Epoch 7/50\n",
            "29/29 [==============================] - 4s 131ms/step - loss: 1.3678 - accuracy: 0.3230 - val_loss: 1.3636 - val_accuracy: 0.3199\n",
            "Epoch 8/50\n",
            "29/29 [==============================] - 4s 128ms/step - loss: 1.3472 - accuracy: 0.3540 - val_loss: 1.3394 - val_accuracy: 0.3516\n",
            "Epoch 9/50\n",
            "29/29 [==============================] - 4s 133ms/step - loss: 1.2988 - accuracy: 0.3833 - val_loss: 1.2963 - val_accuracy: 0.3833\n",
            "Epoch 10/50\n",
            "29/29 [==============================] - 4s 127ms/step - loss: 1.2159 - accuracy: 0.4586 - val_loss: 1.2754 - val_accuracy: 0.4784\n",
            "Epoch 11/50\n",
            "29/29 [==============================] - 4s 123ms/step - loss: 1.1266 - accuracy: 0.5433 - val_loss: 1.2373 - val_accuracy: 0.4524\n",
            "Epoch 12/50\n",
            "29/29 [==============================] - 4s 129ms/step - loss: 1.0322 - accuracy: 0.5884 - val_loss: 1.2739 - val_accuracy: 0.4813\n",
            "Epoch 13/50\n",
            "29/29 [==============================] - 4s 124ms/step - loss: 0.9655 - accuracy: 0.6211 - val_loss: 1.3068 - val_accuracy: 0.4784\n",
            "Epoch 14/50\n",
            "29/29 [==============================] - 4s 129ms/step - loss: 0.8920 - accuracy: 0.6432 - val_loss: 1.3309 - val_accuracy: 0.4957\n",
            "Epoch 15/50\n",
            "29/29 [==============================] - 4s 126ms/step - loss: 0.8592 - accuracy: 0.6593 - val_loss: 1.4293 - val_accuracy: 0.5014\n",
            "Epoch 16/50\n",
            "29/29 [==============================] - 4s 124ms/step - loss: 0.8158 - accuracy: 0.6762 - val_loss: 1.4291 - val_accuracy: 0.4986\n",
            "Epoch 17/50\n",
            "29/29 [==============================] - 4s 129ms/step - loss: 0.7799 - accuracy: 0.6883 - val_loss: 1.4380 - val_accuracy: 0.4986\n",
            "Epoch 18/50\n",
            "29/29 [==============================] - 4s 127ms/step - loss: 0.7605 - accuracy: 0.6958 - val_loss: 1.4746 - val_accuracy: 0.5043\n",
            "Epoch 19/50\n",
            "29/29 [==============================] - 4s 125ms/step - loss: 0.7229 - accuracy: 0.7221 - val_loss: 1.5793 - val_accuracy: 0.5187\n",
            "Epoch 20/50\n",
            "29/29 [==============================] - 4s 129ms/step - loss: 0.7009 - accuracy: 0.7265 - val_loss: 1.5387 - val_accuracy: 0.5014\n",
            "Epoch 21/50\n",
            "29/29 [==============================] - 4s 124ms/step - loss: 0.6810 - accuracy: 0.7398 - val_loss: 1.6096 - val_accuracy: 0.5159\n",
            "Epoch 22/50\n",
            "29/29 [==============================] - 4s 131ms/step - loss: 0.6857 - accuracy: 0.7321 - val_loss: 1.6779 - val_accuracy: 0.5274\n",
            "Epoch 23/50\n",
            "29/29 [==============================] - 4s 130ms/step - loss: 0.6654 - accuracy: 0.7420 - val_loss: 1.6028 - val_accuracy: 0.5130\n",
            "Epoch 24/50\n",
            "29/29 [==============================] - 4s 125ms/step - loss: 0.6365 - accuracy: 0.7683 - val_loss: 1.6431 - val_accuracy: 0.5130\n",
            "Epoch 25/50\n",
            "29/29 [==============================] - 4s 135ms/step - loss: 0.6208 - accuracy: 0.7711 - val_loss: 1.7373 - val_accuracy: 0.5245\n",
            "Epoch 26/50\n",
            "29/29 [==============================] - 4s 128ms/step - loss: 0.6032 - accuracy: 0.7758 - val_loss: 1.7966 - val_accuracy: 0.5130\n",
            "Epoch 27/50\n",
            "29/29 [==============================] - 4s 131ms/step - loss: 0.5924 - accuracy: 0.7797 - val_loss: 1.8044 - val_accuracy: 0.5130\n",
            "Epoch 28/50\n",
            "29/29 [==============================] - 4s 130ms/step - loss: 0.5780 - accuracy: 0.7905 - val_loss: 1.8941 - val_accuracy: 0.5216\n",
            "Epoch 29/50\n",
            "29/29 [==============================] - 4s 131ms/step - loss: 0.5675 - accuracy: 0.7932 - val_loss: 1.9330 - val_accuracy: 0.5245\n",
            "Epoch 30/50\n",
            "29/29 [==============================] - 4s 132ms/step - loss: 0.5609 - accuracy: 0.7974 - val_loss: 1.9650 - val_accuracy: 0.5159\n",
            "Epoch 31/50\n",
            "29/29 [==============================] - 4s 127ms/step - loss: 0.5564 - accuracy: 0.7982 - val_loss: 1.9583 - val_accuracy: 0.5274\n",
            "Epoch 32/50\n",
            "29/29 [==============================] - 4s 127ms/step - loss: 0.5433 - accuracy: 0.7999 - val_loss: 2.0497 - val_accuracy: 0.5216\n",
            "Epoch 33/50\n",
            "29/29 [==============================] - 4s 129ms/step - loss: 0.5292 - accuracy: 0.8090 - val_loss: 2.0746 - val_accuracy: 0.5130\n",
            "Epoch 34/50\n",
            "29/29 [==============================] - 4s 127ms/step - loss: 0.5265 - accuracy: 0.8082 - val_loss: 2.1019 - val_accuracy: 0.5331\n",
            "Epoch 35/50\n",
            "29/29 [==============================] - 4s 130ms/step - loss: 0.5151 - accuracy: 0.8165 - val_loss: 2.1536 - val_accuracy: 0.5187\n",
            "Epoch 36/50\n",
            "29/29 [==============================] - 4s 130ms/step - loss: 0.5030 - accuracy: 0.8209 - val_loss: 2.2038 - val_accuracy: 0.5331\n",
            "Epoch 37/50\n",
            "29/29 [==============================] - 4s 127ms/step - loss: 0.4864 - accuracy: 0.8262 - val_loss: 2.4316 - val_accuracy: 0.5418\n",
            "Epoch 38/50\n",
            "29/29 [==============================] - 4s 130ms/step - loss: 0.4853 - accuracy: 0.8278 - val_loss: 2.4685 - val_accuracy: 0.5533\n",
            "Epoch 39/50\n",
            "29/29 [==============================] - 4s 131ms/step - loss: 0.4841 - accuracy: 0.8348 - val_loss: 2.4463 - val_accuracy: 0.5245\n",
            "Epoch 40/50\n",
            "29/29 [==============================] - 4s 131ms/step - loss: 0.4630 - accuracy: 0.8331 - val_loss: 2.4165 - val_accuracy: 0.5591\n",
            "Epoch 41/50\n",
            "29/29 [==============================] - 4s 127ms/step - loss: 0.4538 - accuracy: 0.8417 - val_loss: 2.4622 - val_accuracy: 0.5389\n",
            "Epoch 42/50\n",
            "29/29 [==============================] - 4s 129ms/step - loss: 0.4497 - accuracy: 0.8453 - val_loss: 2.5676 - val_accuracy: 0.5476\n",
            "Epoch 43/50\n",
            "29/29 [==============================] - 4s 130ms/step - loss: 0.4354 - accuracy: 0.8489 - val_loss: 2.6376 - val_accuracy: 0.5591\n",
            "Epoch 44/50\n",
            "29/29 [==============================] - 4s 130ms/step - loss: 0.4433 - accuracy: 0.8472 - val_loss: 2.6623 - val_accuracy: 0.5677\n",
            "Epoch 45/50\n",
            "29/29 [==============================] - 4s 130ms/step - loss: 0.4305 - accuracy: 0.8536 - val_loss: 2.4755 - val_accuracy: 0.5447\n",
            "Epoch 46/50\n",
            "29/29 [==============================] - 4s 130ms/step - loss: 0.4262 - accuracy: 0.8500 - val_loss: 2.7131 - val_accuracy: 0.5504\n",
            "Epoch 47/50\n",
            "29/29 [==============================] - 4s 129ms/step - loss: 0.4116 - accuracy: 0.8680 - val_loss: 2.7403 - val_accuracy: 0.5533\n",
            "Epoch 48/50\n",
            "29/29 [==============================] - 4s 129ms/step - loss: 0.4051 - accuracy: 0.8649 - val_loss: 2.6849 - val_accuracy: 0.5648\n",
            "Epoch 49/50\n",
            "29/29 [==============================] - 4s 131ms/step - loss: 0.3945 - accuracy: 0.8624 - val_loss: 2.9504 - val_accuracy: 0.5533\n",
            "Epoch 50/50\n",
            "29/29 [==============================] - 4s 132ms/step - loss: 0.3888 - accuracy: 0.8746 - val_loss: 3.0092 - val_accuracy: 0.5562\n"
          ]
        }
      ]
    },
    {
      "cell_type": "markdown",
      "metadata": {
        "id": "Jc7GnCqw2CS9"
      },
      "source": [
        "### Printing the history parameters"
      ]
    },
    {
      "cell_type": "code",
      "metadata": {
        "colab": {
          "base_uri": "https://localhost:8080/",
          "height": 516
        },
        "id": "4tRh4m102CS-",
        "outputId": "5fe6d6fe-fbc5-4468-9a08-a28f90350577"
      },
      "source": [
        "plt.figure(1)\n",
        "plt.plot(history.history['loss'], label='train')\n",
        "plt.plot(history.history['val_loss'], label='val')\n",
        "plt.legend()\n",
        "plt.show()\n",
        "\n",
        "plt.figure(2)\n",
        "plt.plot(history.history['accuracy'], label='train')\n",
        "plt.plot(history.history['val_accuracy'], label='val')\n",
        "plt.legend()\n",
        "plt.show()"
      ],
      "execution_count": 28,
      "outputs": [
        {
          "output_type": "display_data",
          "data": {
            "image/png": "[encoded data removed]",
            "text/plain": [
              "<Figure size 432x288 with 1 Axes>"
            ]
          },
          "metadata": {
            "needs_background": "light"
          }
        },
        {
          "output_type": "display_data",
          "data": {
            "image/png": "[encoded data removed]",
            "text/plain": [
              "<Figure size 432x288 with 1 Axes>"
            ]
          },
          "metadata": {
            "needs_background": "light"
          }
        }
      ]
    },
    {
      "cell_type": "markdown",
      "metadata": {
        "id": "I74yUkBj2CS_"
      },
      "source": [
        "## Evaluation against test"
      ]
    },
    {
      "cell_type": "code",
      "metadata": {
        "colab": {
          "base_uri": "https://localhost:8080/"
        },
        "id": "OeFKla_c2CS_",
        "outputId": "f7e8cb55-f5ef-44f3-d35a-430ec5586484"
      },
      "source": [
        "model.evaluate(test_dataset)"
      ],
      "execution_count": 29,
      "outputs": [
        {
          "output_type": "stream",
          "name": "stdout",
          "text": [
            "25/25 [==============================] - 1s 39ms/step - loss: 2.9949 - accuracy: 0.5315\n"
          ]
        },
        {
          "output_type": "execute_result",
          "data": {
            "text/plain": [
              "[2.994931936264038, 0.5315085649490356]"
            ]
          },
          "metadata": {},
          "execution_count": 29
        }
      ]
    },
    {
      "cell_type": "code",
      "metadata": {
        "id": "Az1yqew_2CS_"
      },
      "source": [
        "pred = model.predict(test_dataset)"
      ],
      "execution_count": 30,
      "outputs": []
    },
    {
      "cell_type": "code",
      "metadata": {
        "colab": {
          "base_uri": "https://localhost:8080/"
        },
        "id": "iy7zcbYW2CS_",
        "outputId": "ed2d2277-720a-4966-ce50-f9fffdeeb76f"
      },
      "source": [
        "pred_idx = []\n",
        "target_idx = []\n",
        "\n",
        "for i in tqdm(range(len(pred))):\n",
        "    pred_idx.append(np.argmax(pred[i]))\n",
        "    target_idx.append(y_test[i])"
      ],
      "execution_count": 31,
      "outputs": [
        {
          "output_type": "stream",
          "name": "stderr",
          "text": [
            "100%|██████████| 3142/3142 [00:00<00:00, 263955.44it/s]\n"
          ]
        }
      ]
    },
    {
      "cell_type": "code",
      "metadata": {
        "colab": {
          "base_uri": "https://localhost:8080/"
        },
        "id": "dYbM3fr02CTA",
        "outputId": "e5eff1c7-576a-476f-d17b-a84aebc611fd"
      },
      "source": [
        "print(classification_report(target_idx, pred_idx, target_names=classes))"
      ],
      "execution_count": 32,
      "outputs": [
        {
          "output_type": "stream",
          "name": "stdout",
          "text": [
            "              precision    recall  f1-score   support\n",
            "\n",
            "       anger       0.58      0.58      0.58       760\n",
            "         joy       0.68      0.64      0.66       714\n",
            "     sadness       0.35      0.28      0.31       673\n",
            "        fear       0.50      0.58      0.54       995\n",
            "\n",
            "    accuracy                           0.53      3142\n",
            "   macro avg       0.53      0.52      0.52      3142\n",
            "weighted avg       0.53      0.53      0.53      3142\n",
            "\n"
          ]
        }
      ]
    },
    {
      "cell_type": "code",
      "metadata": {
        "colab": {
          "base_uri": "https://localhost:8080/"
        },
        "id": "YSA7Cf3S2CTA",
        "outputId": "e7d222fe-d416-48a8-d87d-2e52b3bba8ee"
      },
      "source": [
        "print(confusion_matrix(target_idx, pred_idx))"
      ],
      "execution_count": 33,
      "outputs": [
        {
          "output_type": "stream",
          "name": "stdout",
          "text": [
            "[[442  35  91 192]\n",
            " [ 39 456  71 148]\n",
            " [186  53 190 244]\n",
            " [ 93 124 196 582]]\n"
          ]
        }
      ]
    },
    {
      "cell_type": "code",
      "metadata": {
        "id": "xsUfMIB-2CTA"
      },
      "source": [
        ""
      ],
      "execution_count": 33,
      "outputs": []
    },
    {
      "cell_type": "code",
      "metadata": {
        "id": "LwIaIo9-2CTA"
      },
      "source": [
        ""
      ],
      "execution_count": 33,
      "outputs": []
    }
  ]
}